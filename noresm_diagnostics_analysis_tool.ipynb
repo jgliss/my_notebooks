{
 "cells": [
  {
   "cell_type": "markdown",
   "metadata": {
    "extensions": {
     "jupyter_dashboards": {
      "version": 1,
      "views": {
       "grid_default": {
        "col": 0,
        "height": 4,
        "hidden": false,
        "row": 8,
        "width": 4
       },
       "report_default": {
        "hidden": false
       }
      }
     }
    }
   },
   "source": [
    "## Reading and analysis of NorESM CAM diagnostics files\n",
    "\n",
    "This notebook provides an interface to read, structure and analyse CAM diagnostics files (see e.g. [here](https://github.com/jgliss/my_notebooks/blob/master/data/from_ada/table_GLBL_ANN_obs.asc) in order to highlight performance of the model runs with respect to each other, relative to observation data (NEED LINK FOR OBS DATA).\n",
    "\n",
    "MAYBE SOME MORE TEXT HERE IN GENERAL WHAT THIS ALL IS ABOUT"
   ]
  },
  {
   "cell_type": "code",
   "execution_count": 1,
   "metadata": {
    "extensions": {
     "jupyter_dashboards": {
      "version": 1,
      "views": {
       "grid_default": {
        "hidden": true
       },
       "report_default": {
        "hidden": true
       }
      }
     }
    }
   },
   "outputs": [],
   "source": [
    "%matplotlib inline\n",
    "import pandas as pd\n",
    "from glob import glob\n",
    "import os\n",
    "import helper_funcs as helpers\n",
    "import ipywidgets as ipw"
   ]
  },
  {
   "cell_type": "markdown",
   "metadata": {
    "extensions": {
     "jupyter_dashboards": {
      "version": 1,
      "views": {
       "grid_default": {
        "col": 4,
        "height": 4,
        "hidden": false,
        "row": 0,
        "width": 4
       },
       "report_default": {
        "hidden": false
       }
      }
     }
    }
   },
   "source": [
    "### 1. Paths and global settings (GLOB)  \n",
    "\n",
    "Please change accordingly if you execute this notebook on your local machine."
   ]
  },
  {
   "cell_type": "markdown",
   "metadata": {
    "extensions": {
     "jupyter_dashboards": {
      "version": 1,
      "views": {
       "grid_default": {
        "col": 8,
        "height": 4,
        "hidden": false,
        "row": 0,
        "width": 4
       },
       "report_default": {
        "hidden": false
       }
      }
     }
    }
   },
   "source": [
    "#### 1.1. Paths (PATHS)\n",
    "\n",
    "Here you can specify your paths."
   ]
  },
  {
   "cell_type": "code",
   "execution_count": 2,
   "metadata": {
    "extensions": {
     "jupyter_dashboards": {
      "version": 1,
      "views": {
       "grid_default": {
        "hidden": true
       },
       "report_default": {
        "hidden": true
       }
      }
     }
    }
   },
   "outputs": [],
   "source": [
    "#folder with ascii files\n",
    "data_dir = \"./data/michael_ascii_read/\"\n",
    "file_type = \"webarchive\"\n",
    "\n",
    "# file containing additional information about variables (long names, can be interactively updated below)\n",
    "varinfo_csv = \"./data/var_info.csv\"\n",
    "\n",
    "# Config file for different groups\n",
    "vargroups_cfg = \"./data/varconfig.ini\"\n",
    "\n",
    "#directy to store results\n",
    "output_dir = \"./output/\""
   ]
  },
  {
   "cell_type": "markdown",
   "metadata": {
    "extensions": {
     "jupyter_dashboards": {
      "version": 1,
      "views": {
       "grid_default": {
        "col": 0,
        "height": 4,
        "hidden": false,
        "row": 12,
        "width": 4
       },
       "report_default": {
        "hidden": false
       }
      }
     }
    }
   },
   "source": [
    "#### 1.2 Global settings (SETUP)\n",
    "\n",
    "In the following cells you can specify global default settings."
   ]
  },
  {
   "cell_type": "markdown",
   "metadata": {
    "extensions": {
     "jupyter_dashboards": {
      "version": 1,
      "views": {
       "grid_default": {
        "col": 0,
        "height": 4,
        "hidden": false,
        "row": 16,
        "width": 12
       },
       "report_default": {
        "hidden": false
       }
      }
     }
    }
   },
   "source": [
    "##### 1.2.1 Define group of variables that you are interested in\n",
    "\n",
    "Default group of variables. Variable groups can be defined in [varconfig.ini](https://github.com/jgliss/my_notebooks/blob/master/data/varconfig.ini). Use ``[group_name]`` to define a new group and add below all variables that should belong to the group in the desired display order (should be self-explanatory when looking at the file, I hope)."
   ]
  },
  {
   "cell_type": "code",
   "execution_count": 3,
   "metadata": {
    "extensions": {
     "jupyter_dashboards": {
      "version": 1,
      "views": {
       "grid_default": {
        "hidden": true
       },
       "report_default": {
        "hidden": true
       }
      }
     }
    }
   },
   "outputs": [],
   "source": [
    "var_group = \"fluxes\" #group_name (AS STRING, e.g. \"test\") from varconfig.ini (use None, if you want to use all)"
   ]
  },
  {
   "cell_type": "markdown",
   "metadata": {
    "extensions": {
     "jupyter_dashboards": {
      "version": 1,
      "views": {
       "grid_default": {
        "col": 0,
        "height": 4,
        "hidden": false,
        "row": 20,
        "width": 12
       },
       "report_default": {
        "hidden": false
       }
      }
     }
    }
   },
   "source": [
    "##### 1.2.2 Add data columns to index\n",
    "\n",
    "Use the following list to specify table columns that should be added to the multiindex (Ada, here is where you can add \"Obs\")."
   ]
  },
  {
   "cell_type": "code",
   "execution_count": 4,
   "metadata": {
    "extensions": {
     "jupyter_dashboards": {
      "version": 1,
      "views": {
       "grid_default": {
        "hidden": true
       },
       "report_default": {
        "hidden": true
       }
      }
     }
    }
   },
   "outputs": [],
   "source": [
    "add_to_index = [] #NEEDS TO BE A LIST, EVEN FOR ONLY ONE ITEM"
   ]
  },
  {
   "cell_type": "markdown",
   "metadata": {
    "extensions": {
     "jupyter_dashboards": {
      "version": 1,
      "views": {
       "grid_default": {
        "col": 0,
        "height": 5,
        "hidden": false,
        "row": 24,
        "width": 12
       },
       "report_default": {
        "hidden": false
       }
      }
     }
    }
   },
   "source": [
    "##### 1.2.3 Define which parts of index should be unstacked\n",
    "\n",
    "The following list can be used to specify how the final lists are displayed. The items in the list need to be names of sub-indices in the the Multiindex of the originally loaded file (i.e. \"Run\", \"Years\", \"Variable\", \"Description\") or data columns that were added to index (previous option). \n",
    "\n",
    "All values specified here will be unstacked, i.e. put from the original row into a column index representation (makes table view wider)."
   ]
  },
  {
   "cell_type": "code",
   "execution_count": 5,
   "metadata": {
    "extensions": {
     "jupyter_dashboards": {
      "version": 1,
      "views": {
       "grid_default": {
        "hidden": true
       },
       "report_default": {
        "hidden": true
       }
      }
     }
    }
   },
   "outputs": [],
   "source": [
    "unstack_indices = [\"Run\", \"Years\"]"
   ]
  },
  {
   "cell_type": "markdown",
   "metadata": {},
   "source": [
    "##### 1.2.4 Define index levels used for computing statistics (i.e. RMSE relative error)\n",
    "\n",
    "Specify list of index level names of the original index that are used to compute the mean RMSE (e.g. if you specify\n",
    "\n",
    "    [\"Run\", \"Years\"]\n",
    "    \n",
    "than the average RMSE of all runs and years will be computed (for each variable individually)."
   ]
  },
  {
   "cell_type": "code",
   "execution_count": 6,
   "metadata": {},
   "outputs": [],
   "source": [
    "rmse_stats = [\"Run\", \"Years\"]"
   ]
  },
  {
   "cell_type": "markdown",
   "metadata": {
    "extensions": {
     "jupyter_dashboards": {
      "version": 1,
      "views": {
       "grid_default": {
        "col": 0,
        "height": 6,
        "hidden": false,
        "row": 29,
        "width": 12
       },
       "report_default": {
        "hidden": false
       }
      }
     }
    }
   },
   "source": [
    "### 2. Importing and editing supplementary information\n",
    "\n",
    "Let's begin with reading additional variable information from the file ``varinfo_csv``. Note that this is not strictly required but helps us below to display the results in a more intuitive manner, when analysing the data.\n",
    "\n",
    "Note that the following method makes sure the CSV file exists, i.e. if it has not been created before, the information is loaded from Michaels Excel table and then saved at ``varinfo_csv``."
   ]
  },
  {
   "cell_type": "code",
   "execution_count": 7,
   "metadata": {
    "extensions": {
     "jupyter_dashboards": {
      "version": 1,
      "views": {
       "grid_default": {
        "hidden": true
       },
       "report_default": {
        "hidden": true
       }
      }
     }
    }
   },
   "outputs": [],
   "source": [
    "var_info_dict = helpers.load_varinfo(varinfo_csv)"
   ]
  },
  {
   "cell_type": "markdown",
   "metadata": {
    "extensions": {
     "jupyter_dashboards": {
      "version": 1,
      "views": {
       "grid_default": {
        "col": 4,
        "height": 4,
        "hidden": false,
        "row": 4,
        "width": 4
       },
       "report_default": {
        "hidden": false
       }
      }
     }
    }
   },
   "source": [
    "The following cell opens an interactive widget that can be used to edit the information available for each variable (stored in file ``varinfo_csv``, see previous cell)."
   ]
  },
  {
   "cell_type": "code",
   "execution_count": 8,
   "metadata": {
    "extensions": {
     "jupyter_dashboards": {
      "version": 1,
      "views": {
       "grid_default": {
        "col": 0,
        "height": 5,
        "hidden": false,
        "row": 35,
        "width": 4
       },
       "report_default": {
        "hidden": false
       }
      }
     }
    }
   },
   "outputs": [
    {
     "data": {
      "application/vnd.jupyter.widget-view+json": {
       "model_id": "4e46181c226848b3b6e08dbbacdcd753",
       "version_major": 2,
       "version_minor": 0
      },
      "text/plain": [
       "HBox(children=(VBox(children=(HBox(children=(Label(value='RESTOM', layout=Layout(min_width='200px')), Text(val…"
      ]
     },
     "metadata": {},
     "output_type": "display_data"
    }
   ],
   "source": [
    "from my_widgets import EditDictCSV\n",
    "\n",
    "edit_config = EditDictCSV(varinfo_csv)\n",
    "#show\n",
    "edit_config()"
   ]
  },
  {
   "cell_type": "markdown",
   "metadata": {
    "extensions": {
     "jupyter_dashboards": {
      "version": 1,
      "views": {
       "grid_default": {
        "col": 8,
        "height": 4,
        "hidden": false,
        "row": 4,
        "width": 4
       },
       "report_default": {
        "hidden": false
       }
      }
     }
    }
   },
   "source": [
    "Now update to the current selection (run everything below if you change the previous cell)."
   ]
  },
  {
   "cell_type": "code",
   "execution_count": 9,
   "metadata": {
    "extensions": {
     "jupyter_dashboards": {
      "version": 1,
      "views": {
       "grid_default": {
        "hidden": true
       },
       "report_default": {
        "hidden": true
       }
      }
     }
    }
   },
   "outputs": [],
   "source": [
    "var_info_dict = edit_config.var_dict"
   ]
  },
  {
   "cell_type": "markdown",
   "metadata": {
    "extensions": {
     "jupyter_dashboards": {
      "version": 1,
      "views": {
       "grid_default": {
        "col": 0,
        "height": 4,
        "hidden": false,
        "row": 40,
        "width": 12
       },
       "report_default": {
        "hidden": false
       }
      }
     }
    }
   },
   "source": [
    "### 3. Search and load ASCII files, either using .asc or .webarchive file type (GET_FILES)\n",
    "\n",
    "The following cell finds all files in folder ``data_dir``."
   ]
  },
  {
   "cell_type": "code",
   "execution_count": 10,
   "metadata": {
    "extensions": {
     "jupyter_dashboards": {
      "version": 1,
      "views": {
       "grid_default": {
        "col": 0,
        "height": 8,
        "hidden": false,
        "row": 0,
        "width": 4
       },
       "report_default": {
        "hidden": false
       }
      }
     }
    }
   },
   "outputs": [
    {
     "name": "stdout",
     "output_type": "stream",
     "text": [
      "./data/michael_ascii_read/N1850C53CLM45L32_f09_tn11_191017 (yrs 71-100).webarchive\n",
      "./data/michael_ascii_read/N1850_f09_tn14_230218 (yrs 1-20).webarchive\n",
      "./data/michael_ascii_read/N1850_f19_tn14_r227_ctrl (yrs 185-215).webarchive\n",
      "./data/michael_ascii_read/N1850_f19_tn14_r227_ctrl (yrs 310-340).webarchive\n",
      "./data/michael_ascii_read/N1850_f19_tn14_r227_ctrl (yrs 80-110).webarchive\n",
      "./data/michael_ascii_read/N1850_f19_tn14_r265_ctrl_20180411 (yrs 90-120).webarchive\n"
     ]
    }
   ],
   "source": [
    "files = sorted(glob(data_dir + \"*.{}\".format(file_type)))\n",
    "for file in files:\n",
    "    print(file)    "
   ]
  },
  {
   "cell_type": "markdown",
   "metadata": {
    "extensions": {
     "jupyter_dashboards": {
      "version": 1,
      "views": {
       "grid_default": {
        "col": 0,
        "height": 4,
        "hidden": false,
        "row": 52,
        "width": 12
       },
       "report_default": {
        "hidden": false
       }
      }
     }
    }
   },
   "source": [
    "##### 3.1 Shortcuts for Run IDs (optional may also be changed interactively below)\n",
    "\n",
    "Define list of shortnames for model runs or define a prefix. If undefined (i.e. empty list and ``None``), the original names are used."
   ]
  },
  {
   "cell_type": "code",
   "execution_count": 11,
   "metadata": {
    "extensions": {
     "jupyter_dashboards": {
      "version": 1,
      "views": {
       "grid_default": {
        "hidden": true
       },
       "report_default": {
        "hidden": true
       }
      }
     }
    }
   },
   "outputs": [],
   "source": [
    "# either\n",
    "run_ids = list(\"ABCD\") #renames the first 4 runs\n",
    "# or\n",
    "run_id_prefix = None #\"Run\""
   ]
  },
  {
   "cell_type": "markdown",
   "metadata": {
    "extensions": {
     "jupyter_dashboards": {
      "version": 1,
      "views": {
       "grid_default": {
        "col": 0,
        "height": 5,
        "hidden": false,
        "row": 56,
        "width": 12
       },
       "report_default": {
        "hidden": false
       }
      }
     }
    }
   },
   "source": [
    "\n",
    "### 4. Importing multiple result files and concatenating them into one Dataframe (LOAD_FILES)\n",
    "\n",
    "In the following, we load all files into one `Dataframe`. \n",
    "\n",
    "To do this, a custom method `read_and_merge_all` was defined in [helper_funcs.py](https://github.com/jgliss/my_py3_scripts/blob/master/notebooks/helper_funcs.py). The method basically loops over all files and calls the method ``read_file_custom``, which you can also find in [helper_funcs.py](https://github.com/jgliss/my_py3_scripts/blob/master/notebooks/helper_funcs.py). "
   ]
  },
  {
   "cell_type": "code",
   "execution_count": 12,
   "metadata": {
    "extensions": {
     "jupyter_dashboards": {
      "version": 1,
      "views": {
       "grid_default": {
        "col": 0,
        "height": 12,
        "hidden": false,
        "row": 61,
        "width": 7
       },
       "report_default": {
        "hidden": false
       }
      }
     }
    }
   },
   "outputs": [
    {
     "data": {
      "text/html": [
       "<div>\n",
       "<style scoped>\n",
       "    .dataframe tbody tr th:only-of-type {\n",
       "        vertical-align: middle;\n",
       "    }\n",
       "\n",
       "    .dataframe tbody tr th {\n",
       "        vertical-align: top;\n",
       "    }\n",
       "\n",
       "    .dataframe thead th {\n",
       "        text-align: right;\n",
       "    }\n",
       "</style>\n",
       "<table border=\"1\" class=\"dataframe\">\n",
       "  <thead>\n",
       "    <tr style=\"text-align: right;\">\n",
       "      <th></th>\n",
       "      <th></th>\n",
       "      <th></th>\n",
       "      <th></th>\n",
       "      <th>Flag</th>\n",
       "      <th>Model</th>\n",
       "      <th>Obs</th>\n",
       "      <th>Bias</th>\n",
       "      <th>RMSE</th>\n",
       "    </tr>\n",
       "    <tr>\n",
       "      <th>Run</th>\n",
       "      <th>Years</th>\n",
       "      <th>Variable</th>\n",
       "      <th>Description</th>\n",
       "      <th></th>\n",
       "      <th></th>\n",
       "      <th></th>\n",
       "      <th></th>\n",
       "      <th></th>\n",
       "    </tr>\n",
       "  </thead>\n",
       "  <tbody>\n",
       "    <tr>\n",
       "      <th rowspan=\"30\" valign=\"top\">N1850C53CLM45L32_f09_tn11_191017</th>\n",
       "      <th rowspan=\"30\" valign=\"top\">71-100</th>\n",
       "      <th>RESTOM</th>\n",
       "      <th>Top model net flux</th>\n",
       "      <td>1.0</td>\n",
       "      <td>-0.489</td>\n",
       "      <td>0.000</td>\n",
       "      <td>-0.489</td>\n",
       "      <td>NaN</td>\n",
       "    </tr>\n",
       "    <tr>\n",
       "      <th>RESSURF</th>\n",
       "      <th>SRF net flux</th>\n",
       "      <td>1.0</td>\n",
       "      <td>-0.489</td>\n",
       "      <td>0.000</td>\n",
       "      <td>-0.489</td>\n",
       "      <td>NaN</td>\n",
       "    </tr>\n",
       "    <tr>\n",
       "      <th>RESTOA_CERES-EBAF</th>\n",
       "      <th>TOA  net flux</th>\n",
       "      <td>1.0</td>\n",
       "      <td>1.529</td>\n",
       "      <td>0.992</td>\n",
       "      <td>0.537</td>\n",
       "      <td>8.842</td>\n",
       "    </tr>\n",
       "    <tr>\n",
       "      <th>RESTOA_ERBE</th>\n",
       "      <th>TOA  net flux</th>\n",
       "      <td>1.0</td>\n",
       "      <td>1.529</td>\n",
       "      <td>0.059</td>\n",
       "      <td>1.470</td>\n",
       "      <td>8.992</td>\n",
       "    </tr>\n",
       "    <tr>\n",
       "      <th>SOLIN_CERES-EBAF</th>\n",
       "      <th>Insolation</th>\n",
       "      <td>1.0</td>\n",
       "      <td>340.206</td>\n",
       "      <td>340.054</td>\n",
       "      <td>0.152</td>\n",
       "      <td>0.167</td>\n",
       "    </tr>\n",
       "    <tr>\n",
       "      <th>SOLIN_CERES</th>\n",
       "      <th>Insolation</th>\n",
       "      <td>1.0</td>\n",
       "      <td>340.206</td>\n",
       "      <td>341.479</td>\n",
       "      <td>-1.273</td>\n",
       "      <td>1.226</td>\n",
       "    </tr>\n",
       "    <tr>\n",
       "      <th>CLDTOT_ISCCP</th>\n",
       "      <th>Total cloud cover</th>\n",
       "      <td>1.0</td>\n",
       "      <td>63.621</td>\n",
       "      <td>66.800</td>\n",
       "      <td>-3.179</td>\n",
       "      <td>11.323</td>\n",
       "    </tr>\n",
       "    <tr>\n",
       "      <th>CLDTOT_CLOUDSAT</th>\n",
       "      <th>Total cloud cover</th>\n",
       "      <td>1.0</td>\n",
       "      <td>63.621</td>\n",
       "      <td>66.824</td>\n",
       "      <td>-3.203</td>\n",
       "      <td>9.731</td>\n",
       "    </tr>\n",
       "    <tr>\n",
       "      <th>FLDS_ISCCP</th>\n",
       "      <th>LW down SRF</th>\n",
       "      <td>1.0</td>\n",
       "      <td>338.280</td>\n",
       "      <td>343.347</td>\n",
       "      <td>-5.066</td>\n",
       "      <td>14.450</td>\n",
       "    </tr>\n",
       "    <tr>\n",
       "      <th>FLNS_ISCCP</th>\n",
       "      <th>LW net SRF</th>\n",
       "      <td>1.0</td>\n",
       "      <td>55.819</td>\n",
       "      <td>49.425</td>\n",
       "      <td>6.394</td>\n",
       "      <td>11.967</td>\n",
       "    </tr>\n",
       "    <tr>\n",
       "      <th>FLUT_CERES-EBAF</th>\n",
       "      <th>LW up Top</th>\n",
       "      <td>1.0</td>\n",
       "      <td>238.148</td>\n",
       "      <td>239.574</td>\n",
       "      <td>-1.426</td>\n",
       "      <td>6.855</td>\n",
       "    </tr>\n",
       "    <tr>\n",
       "      <th>FLUT_CERES</th>\n",
       "      <th>LW up Top</th>\n",
       "      <td>1.0</td>\n",
       "      <td>238.148</td>\n",
       "      <td>238.963</td>\n",
       "      <td>-0.815</td>\n",
       "      <td>6.770</td>\n",
       "    </tr>\n",
       "    <tr>\n",
       "      <th>FLUT_ERBE</th>\n",
       "      <th>LW up Top</th>\n",
       "      <td>1.0</td>\n",
       "      <td>238.148</td>\n",
       "      <td>233.946</td>\n",
       "      <td>4.202</td>\n",
       "      <td>7.887</td>\n",
       "    </tr>\n",
       "    <tr>\n",
       "      <th>FLUTC_CERES-EBAF</th>\n",
       "      <th>LW up Top Clearsky</th>\n",
       "      <td>1.0</td>\n",
       "      <td>261.783</td>\n",
       "      <td>266.051</td>\n",
       "      <td>-4.268</td>\n",
       "      <td>6.042</td>\n",
       "    </tr>\n",
       "    <tr>\n",
       "      <th>FLUTC_CERES</th>\n",
       "      <th>LW up Top Clearsky</th>\n",
       "      <td>1.0</td>\n",
       "      <td>261.783</td>\n",
       "      <td>266.878</td>\n",
       "      <td>-5.096</td>\n",
       "      <td>8.384</td>\n",
       "    </tr>\n",
       "    <tr>\n",
       "      <th>FLUTC_ERBE</th>\n",
       "      <th>LW up Top Clearsky</th>\n",
       "      <td>1.0</td>\n",
       "      <td>261.783</td>\n",
       "      <td>264.429</td>\n",
       "      <td>-2.646</td>\n",
       "      <td>5.725</td>\n",
       "    </tr>\n",
       "    <tr>\n",
       "      <th>FLNT_CAM</th>\n",
       "      <th>LW net Top</th>\n",
       "      <td>1.0</td>\n",
       "      <td>236.838</td>\n",
       "      <td>NaN</td>\n",
       "      <td>NaN</td>\n",
       "      <td>NaN</td>\n",
       "    </tr>\n",
       "    <tr>\n",
       "      <th>FSDS_ISCCP</th>\n",
       "      <th>SW down SRF</th>\n",
       "      <td>1.0</td>\n",
       "      <td>187.801</td>\n",
       "      <td>189.390</td>\n",
       "      <td>-1.589</td>\n",
       "      <td>13.380</td>\n",
       "    </tr>\n",
       "    <tr>\n",
       "      <th>FSNS_ISCCP</th>\n",
       "      <th>SW net SRF</th>\n",
       "      <td>1.0</td>\n",
       "      <td>163.679</td>\n",
       "      <td>165.893</td>\n",
       "      <td>-2.214</td>\n",
       "      <td>12.711</td>\n",
       "    </tr>\n",
       "    <tr>\n",
       "      <th>FSNS_LARYEA</th>\n",
       "      <th>SW net SRF</th>\n",
       "      <td>1.0</td>\n",
       "      <td>163.679</td>\n",
       "      <td>154.089</td>\n",
       "      <td>9.590</td>\n",
       "      <td>36.124</td>\n",
       "    </tr>\n",
       "    <tr>\n",
       "      <th>FSNTOA_CERES-EBAF</th>\n",
       "      <th></th>\n",
       "      <td>0.0</td>\n",
       "      <td>239.677</td>\n",
       "      <td>240.566</td>\n",
       "      <td>-0.890</td>\n",
       "      <td>10.530</td>\n",
       "    </tr>\n",
       "    <tr>\n",
       "      <th>FSNTOA_CERES</th>\n",
       "      <th>SW net TOA</th>\n",
       "      <td>1.0</td>\n",
       "      <td>239.677</td>\n",
       "      <td>244.691</td>\n",
       "      <td>-5.015</td>\n",
       "      <td>12.307</td>\n",
       "    </tr>\n",
       "    <tr>\n",
       "      <th>FSNTOA_ERBE</th>\n",
       "      <th>SW net TOA</th>\n",
       "      <td>1.0</td>\n",
       "      <td>239.677</td>\n",
       "      <td>234.004</td>\n",
       "      <td>5.672</td>\n",
       "      <td>12.491</td>\n",
       "    </tr>\n",
       "    <tr>\n",
       "      <th>FSNTOAC_CERES-EBAF</th>\n",
       "      <th></th>\n",
       "      <td>0.0</td>\n",
       "      <td>287.999</td>\n",
       "      <td>287.638</td>\n",
       "      <td>0.362</td>\n",
       "      <td>7.845</td>\n",
       "    </tr>\n",
       "    <tr>\n",
       "      <th>FSNTOAC_CERES</th>\n",
       "      <th>SW net TOA clearsky</th>\n",
       "      <td>1.0</td>\n",
       "      <td>287.999</td>\n",
       "      <td>294.702</td>\n",
       "      <td>-6.703</td>\n",
       "      <td>18.458</td>\n",
       "    </tr>\n",
       "    <tr>\n",
       "      <th>FSNTOAC_ERBE</th>\n",
       "      <th>SW net TOA clearsky</th>\n",
       "      <td>1.0</td>\n",
       "      <td>287.999</td>\n",
       "      <td>289.329</td>\n",
       "      <td>-1.329</td>\n",
       "      <td>15.441</td>\n",
       "    </tr>\n",
       "    <tr>\n",
       "      <th>FSNT_CAM</th>\n",
       "      <th>SW net Top</th>\n",
       "      <td>1.0</td>\n",
       "      <td>236.348</td>\n",
       "      <td>NaN</td>\n",
       "      <td>NaN</td>\n",
       "      <td>NaN</td>\n",
       "    </tr>\n",
       "    <tr>\n",
       "      <th>LHFLX_JRA25</th>\n",
       "      <th>Lat Heat Flux</th>\n",
       "      <td>1.0</td>\n",
       "      <td>87.904</td>\n",
       "      <td>87.935</td>\n",
       "      <td>-0.031</td>\n",
       "      <td>17.176</td>\n",
       "    </tr>\n",
       "    <tr>\n",
       "      <th>LHFLX_ERA40</th>\n",
       "      <th>Lat Heat Flux</th>\n",
       "      <td>1.0</td>\n",
       "      <td>87.904</td>\n",
       "      <td>82.367</td>\n",
       "      <td>5.537</td>\n",
       "      <td>19.019</td>\n",
       "    </tr>\n",
       "    <tr>\n",
       "      <th>LHFLX_WHOI</th>\n",
       "      <th>Lat Heat Flux</th>\n",
       "      <td>1.0</td>\n",
       "      <td>87.904</td>\n",
       "      <td>89.083</td>\n",
       "      <td>-1.179</td>\n",
       "      <td>30.655</td>\n",
       "    </tr>\n",
       "    <tr>\n",
       "      <th>...</th>\n",
       "      <th>...</th>\n",
       "      <th>...</th>\n",
       "      <th>...</th>\n",
       "      <td>...</td>\n",
       "      <td>...</td>\n",
       "      <td>...</td>\n",
       "      <td>...</td>\n",
       "      <td>...</td>\n",
       "    </tr>\n",
       "    <tr>\n",
       "      <th rowspan=\"30\" valign=\"top\">N1850_f19_tn14_r265_ctrl_20180411</th>\n",
       "      <th rowspan=\"30\" valign=\"top\">90-120</th>\n",
       "      <th>PRECT_GPCP</th>\n",
       "      <th>Precipitation</th>\n",
       "      <td>1.0</td>\n",
       "      <td>2.918</td>\n",
       "      <td>2.674</td>\n",
       "      <td>0.244</td>\n",
       "      <td>0.975</td>\n",
       "    </tr>\n",
       "    <tr>\n",
       "      <th>PREH2O_NVAP</th>\n",
       "      <th>Precipitable water</th>\n",
       "      <td>1.0</td>\n",
       "      <td>25.733</td>\n",
       "      <td>24.597</td>\n",
       "      <td>1.136</td>\n",
       "      <td>2.867</td>\n",
       "    </tr>\n",
       "    <tr>\n",
       "      <th>PREH2O_AIRS</th>\n",
       "      <th>Precipitable water</th>\n",
       "      <td>1.0</td>\n",
       "      <td>25.733</td>\n",
       "      <td>20.425</td>\n",
       "      <td>5.308</td>\n",
       "      <td>6.216</td>\n",
       "    </tr>\n",
       "    <tr>\n",
       "      <th>PREH2O_JRA25</th>\n",
       "      <th>Precipitable water</th>\n",
       "      <td>1.0</td>\n",
       "      <td>25.733</td>\n",
       "      <td>20.425</td>\n",
       "      <td>5.308</td>\n",
       "      <td>6.216</td>\n",
       "    </tr>\n",
       "    <tr>\n",
       "      <th>PREH2O_ERAI</th>\n",
       "      <th>Precipitable water</th>\n",
       "      <td>1.0</td>\n",
       "      <td>25.733</td>\n",
       "      <td>24.247</td>\n",
       "      <td>1.486</td>\n",
       "      <td>2.674</td>\n",
       "    </tr>\n",
       "    <tr>\n",
       "      <th>PREH2O_ERA40</th>\n",
       "      <th>Precipitable water</th>\n",
       "      <td>1.0</td>\n",
       "      <td>25.733</td>\n",
       "      <td>24.948</td>\n",
       "      <td>0.785</td>\n",
       "      <td>2.373</td>\n",
       "    </tr>\n",
       "    <tr>\n",
       "      <th>PSL_JRA25</th>\n",
       "      <th>SeaLev pressure</th>\n",
       "      <td>1.0</td>\n",
       "      <td>1011.614</td>\n",
       "      <td>1011.280</td>\n",
       "      <td>0.335</td>\n",
       "      <td>1.695</td>\n",
       "    </tr>\n",
       "    <tr>\n",
       "      <th>PSL_ERAI</th>\n",
       "      <th>SeaLev pressure</th>\n",
       "      <td>1.0</td>\n",
       "      <td>1011.614</td>\n",
       "      <td>1011.362</td>\n",
       "      <td>0.252</td>\n",
       "      <td>1.669</td>\n",
       "    </tr>\n",
       "    <tr>\n",
       "      <th>SHFLX_JRA25</th>\n",
       "      <th>Sens Heat Flux</th>\n",
       "      <td>1.0</td>\n",
       "      <td>22.229</td>\n",
       "      <td>19.372</td>\n",
       "      <td>2.857</td>\n",
       "      <td>11.202</td>\n",
       "    </tr>\n",
       "    <tr>\n",
       "      <th>SHFLX_NCEP</th>\n",
       "      <th>Sens Heat Flux</th>\n",
       "      <td>1.0</td>\n",
       "      <td>22.229</td>\n",
       "      <td>15.795</td>\n",
       "      <td>6.434</td>\n",
       "      <td>14.963</td>\n",
       "    </tr>\n",
       "    <tr>\n",
       "      <th>SHFLX_LARYEA</th>\n",
       "      <th>Sens Heat Flux</th>\n",
       "      <td>1.0</td>\n",
       "      <td>22.229</td>\n",
       "      <td>13.236</td>\n",
       "      <td>8.993</td>\n",
       "      <td>12.064</td>\n",
       "    </tr>\n",
       "    <tr>\n",
       "      <th>STRESS_MAG_ERS</th>\n",
       "      <th></th>\n",
       "      <td>0.0</td>\n",
       "      <td>0.063</td>\n",
       "      <td>0.064</td>\n",
       "      <td>-0.001</td>\n",
       "      <td>0.018</td>\n",
       "    </tr>\n",
       "    <tr>\n",
       "      <th>STRESS_MAG_LARYEA</th>\n",
       "      <th></th>\n",
       "      <td>0.0</td>\n",
       "      <td>0.063</td>\n",
       "      <td>0.071</td>\n",
       "      <td>-0.008</td>\n",
       "      <td>0.019</td>\n",
       "    </tr>\n",
       "    <tr>\n",
       "      <th>STRESS_MAG_JRA25</th>\n",
       "      <th></th>\n",
       "      <td>0.0</td>\n",
       "      <td>0.063</td>\n",
       "      <td>0.080</td>\n",
       "      <td>-0.017</td>\n",
       "      <td>0.021</td>\n",
       "    </tr>\n",
       "    <tr>\n",
       "      <th>SWCF_CERES-EBAF</th>\n",
       "      <th>SW Cloud Forc</th>\n",
       "      <td>1.0</td>\n",
       "      <td>-48.959</td>\n",
       "      <td>-47.071</td>\n",
       "      <td>-1.888</td>\n",
       "      <td>9.973</td>\n",
       "    </tr>\n",
       "    <tr>\n",
       "      <th>SWCF_CERES</th>\n",
       "      <th>SW Cloud Forc</th>\n",
       "      <td>1.0</td>\n",
       "      <td>-48.959</td>\n",
       "      <td>-48.586</td>\n",
       "      <td>-0.373</td>\n",
       "      <td>15.210</td>\n",
       "    </tr>\n",
       "    <tr>\n",
       "      <th>SWCF_ERBE</th>\n",
       "      <th>SW Cloud Forc</th>\n",
       "      <td>1.0</td>\n",
       "      <td>-48.959</td>\n",
       "      <td>-54.163</td>\n",
       "      <td>5.204</td>\n",
       "      <td>14.753</td>\n",
       "    </tr>\n",
       "    <tr>\n",
       "      <th>AODVIS</th>\n",
       "      <th>aerosol optical depth</th>\n",
       "      <td>1.0</td>\n",
       "      <td>NaN</td>\n",
       "      <td>NaN</td>\n",
       "      <td>NaN</td>\n",
       "      <td>NaN</td>\n",
       "    </tr>\n",
       "    <tr>\n",
       "      <th>AODDUST</th>\n",
       "      <th>dust aerosol optical depth</th>\n",
       "      <td>1.0</td>\n",
       "      <td>NaN</td>\n",
       "      <td>NaN</td>\n",
       "      <td>NaN</td>\n",
       "      <td>NaN</td>\n",
       "    </tr>\n",
       "    <tr>\n",
       "      <th>SST_HADISST</th>\n",
       "      <th>Sea Srf Temp</th>\n",
       "      <td>1.0</td>\n",
       "      <td>21.405</td>\n",
       "      <td>20.393</td>\n",
       "      <td>1.012</td>\n",
       "      <td>1.430</td>\n",
       "    </tr>\n",
       "    <tr>\n",
       "      <th>SST_HADISST_PI</th>\n",
       "      <th>SST preindustrial</th>\n",
       "      <td>1.0</td>\n",
       "      <td>21.726</td>\n",
       "      <td>20.368</td>\n",
       "      <td>1.358</td>\n",
       "      <td>1.732</td>\n",
       "    </tr>\n",
       "    <tr>\n",
       "      <th>SST_HADISST_PD</th>\n",
       "      <th>SST present day</th>\n",
       "      <td>1.0</td>\n",
       "      <td>21.396</td>\n",
       "      <td>20.497</td>\n",
       "      <td>0.899</td>\n",
       "      <td>1.411</td>\n",
       "    </tr>\n",
       "    <tr>\n",
       "      <th>TREFHT_LEGATES</th>\n",
       "      <th>2m Temp</th>\n",
       "      <td>1.0</td>\n",
       "      <td>287.949</td>\n",
       "      <td>287.645</td>\n",
       "      <td>0.304</td>\n",
       "      <td>3.436</td>\n",
       "    </tr>\n",
       "    <tr>\n",
       "      <th>TREFHT_JRA25</th>\n",
       "      <th>2m Temp</th>\n",
       "      <td>1.0</td>\n",
       "      <td>287.949</td>\n",
       "      <td>287.605</td>\n",
       "      <td>0.344</td>\n",
       "      <td>2.147</td>\n",
       "    </tr>\n",
       "    <tr>\n",
       "      <th>TS_NCEP</th>\n",
       "      <th>2m Temp</th>\n",
       "      <td>1.0</td>\n",
       "      <td>289.201</td>\n",
       "      <td>287.683</td>\n",
       "      <td>1.518</td>\n",
       "      <td>2.663</td>\n",
       "    </tr>\n",
       "    <tr>\n",
       "      <th>TS_LAND_NCEP</th>\n",
       "      <th>2m Temp land</th>\n",
       "      <td>1.0</td>\n",
       "      <td>283.308</td>\n",
       "      <td>281.155</td>\n",
       "      <td>2.153</td>\n",
       "      <td>3.944</td>\n",
       "    </tr>\n",
       "    <tr>\n",
       "      <th>U_200_JRA25</th>\n",
       "      <th>Zonal Wind</th>\n",
       "      <td>1.0</td>\n",
       "      <td>17.869</td>\n",
       "      <td>15.565</td>\n",
       "      <td>2.304</td>\n",
       "      <td>3.342</td>\n",
       "    </tr>\n",
       "    <tr>\n",
       "      <th>U_200_NCEP</th>\n",
       "      <th>Zonal Wind</th>\n",
       "      <td>1.0</td>\n",
       "      <td>17.869</td>\n",
       "      <td>15.297</td>\n",
       "      <td>2.573</td>\n",
       "      <td>3.542</td>\n",
       "    </tr>\n",
       "    <tr>\n",
       "      <th>Z3_500_JRA25</th>\n",
       "      <th>Geop Height</th>\n",
       "      <td>1.0</td>\n",
       "      <td>56.586</td>\n",
       "      <td>56.601</td>\n",
       "      <td>-0.014</td>\n",
       "      <td>0.199</td>\n",
       "    </tr>\n",
       "    <tr>\n",
       "      <th>Z3_500_NCEP</th>\n",
       "      <th>Geop Height</th>\n",
       "      <td>1.0</td>\n",
       "      <td>56.586</td>\n",
       "      <td>56.581</td>\n",
       "      <td>0.005</td>\n",
       "      <td>0.187</td>\n",
       "    </tr>\n",
       "  </tbody>\n",
       "</table>\n",
       "<p>378 rows × 5 columns</p>\n",
       "</div>"
      ],
      "text/plain": [
       "                                                                                        Flag  \\\n",
       "Run                               Years  Variable           Description                        \n",
       "N1850C53CLM45L32_f09_tn11_191017  71-100 RESTOM             Top model net flux           1.0   \n",
       "                                         RESSURF            SRF net flux                 1.0   \n",
       "                                         RESTOA_CERES-EBAF  TOA  net flux                1.0   \n",
       "                                         RESTOA_ERBE        TOA  net flux                1.0   \n",
       "                                         SOLIN_CERES-EBAF   Insolation                   1.0   \n",
       "                                         SOLIN_CERES        Insolation                   1.0   \n",
       "                                         CLDTOT_ISCCP       Total cloud cover            1.0   \n",
       "                                         CLDTOT_CLOUDSAT    Total cloud cover            1.0   \n",
       "                                         FLDS_ISCCP         LW down SRF                  1.0   \n",
       "                                         FLNS_ISCCP         LW net SRF                   1.0   \n",
       "                                         FLUT_CERES-EBAF    LW up Top                    1.0   \n",
       "                                         FLUT_CERES         LW up Top                    1.0   \n",
       "                                         FLUT_ERBE          LW up Top                    1.0   \n",
       "                                         FLUTC_CERES-EBAF   LW up Top Clearsky           1.0   \n",
       "                                         FLUTC_CERES        LW up Top Clearsky           1.0   \n",
       "                                         FLUTC_ERBE         LW up Top Clearsky           1.0   \n",
       "                                         FLNT_CAM           LW net Top                   1.0   \n",
       "                                         FSDS_ISCCP         SW down SRF                  1.0   \n",
       "                                         FSNS_ISCCP         SW net SRF                   1.0   \n",
       "                                         FSNS_LARYEA        SW net SRF                   1.0   \n",
       "                                         FSNTOA_CERES-EBAF                               0.0   \n",
       "                                         FSNTOA_CERES       SW net TOA                   1.0   \n",
       "                                         FSNTOA_ERBE        SW net TOA                   1.0   \n",
       "                                         FSNTOAC_CERES-EBAF                              0.0   \n",
       "                                         FSNTOAC_CERES      SW net TOA clearsky          1.0   \n",
       "                                         FSNTOAC_ERBE       SW net TOA clearsky          1.0   \n",
       "                                         FSNT_CAM           SW net Top                   1.0   \n",
       "                                         LHFLX_JRA25        Lat Heat Flux                1.0   \n",
       "                                         LHFLX_ERA40        Lat Heat Flux                1.0   \n",
       "                                         LHFLX_WHOI         Lat Heat Flux                1.0   \n",
       "...                                                                                      ...   \n",
       "N1850_f19_tn14_r265_ctrl_20180411 90-120 PRECT_GPCP         Precipitation                1.0   \n",
       "                                         PREH2O_NVAP        Precipitable water           1.0   \n",
       "                                         PREH2O_AIRS        Precipitable water           1.0   \n",
       "                                         PREH2O_JRA25       Precipitable water           1.0   \n",
       "                                         PREH2O_ERAI        Precipitable water           1.0   \n",
       "                                         PREH2O_ERA40       Precipitable water           1.0   \n",
       "                                         PSL_JRA25          SeaLev pressure              1.0   \n",
       "                                         PSL_ERAI           SeaLev pressure              1.0   \n",
       "                                         SHFLX_JRA25        Sens Heat Flux               1.0   \n",
       "                                         SHFLX_NCEP         Sens Heat Flux               1.0   \n",
       "                                         SHFLX_LARYEA       Sens Heat Flux               1.0   \n",
       "                                         STRESS_MAG_ERS                                  0.0   \n",
       "                                         STRESS_MAG_LARYEA                               0.0   \n",
       "                                         STRESS_MAG_JRA25                                0.0   \n",
       "                                         SWCF_CERES-EBAF    SW Cloud Forc                1.0   \n",
       "                                         SWCF_CERES         SW Cloud Forc                1.0   \n",
       "                                         SWCF_ERBE          SW Cloud Forc                1.0   \n",
       "                                         AODVIS             aerosol optical depth        1.0   \n",
       "                                         AODDUST            dust aerosol optical depth   1.0   \n",
       "                                         SST_HADISST        Sea Srf Temp                 1.0   \n",
       "                                         SST_HADISST_PI     SST preindustrial            1.0   \n",
       "                                         SST_HADISST_PD     SST present day              1.0   \n",
       "                                         TREFHT_LEGATES     2m Temp                      1.0   \n",
       "                                         TREFHT_JRA25       2m Temp                      1.0   \n",
       "                                         TS_NCEP            2m Temp                      1.0   \n",
       "                                         TS_LAND_NCEP       2m Temp land                 1.0   \n",
       "                                         U_200_JRA25        Zonal Wind                   1.0   \n",
       "                                         U_200_NCEP         Zonal Wind                   1.0   \n",
       "                                         Z3_500_JRA25       Geop Height                  1.0   \n",
       "                                         Z3_500_NCEP        Geop Height                  1.0   \n",
       "\n",
       "                                                                                           Model  \\\n",
       "Run                               Years  Variable           Description                            \n",
       "N1850C53CLM45L32_f09_tn11_191017  71-100 RESTOM             Top model net flux            -0.489   \n",
       "                                         RESSURF            SRF net flux                  -0.489   \n",
       "                                         RESTOA_CERES-EBAF  TOA  net flux                  1.529   \n",
       "                                         RESTOA_ERBE        TOA  net flux                  1.529   \n",
       "                                         SOLIN_CERES-EBAF   Insolation                   340.206   \n",
       "                                         SOLIN_CERES        Insolation                   340.206   \n",
       "                                         CLDTOT_ISCCP       Total cloud cover             63.621   \n",
       "                                         CLDTOT_CLOUDSAT    Total cloud cover             63.621   \n",
       "                                         FLDS_ISCCP         LW down SRF                  338.280   \n",
       "                                         FLNS_ISCCP         LW net SRF                    55.819   \n",
       "                                         FLUT_CERES-EBAF    LW up Top                    238.148   \n",
       "                                         FLUT_CERES         LW up Top                    238.148   \n",
       "                                         FLUT_ERBE          LW up Top                    238.148   \n",
       "                                         FLUTC_CERES-EBAF   LW up Top Clearsky           261.783   \n",
       "                                         FLUTC_CERES        LW up Top Clearsky           261.783   \n",
       "                                         FLUTC_ERBE         LW up Top Clearsky           261.783   \n",
       "                                         FLNT_CAM           LW net Top                   236.838   \n",
       "                                         FSDS_ISCCP         SW down SRF                  187.801   \n",
       "                                         FSNS_ISCCP         SW net SRF                   163.679   \n",
       "                                         FSNS_LARYEA        SW net SRF                   163.679   \n",
       "                                         FSNTOA_CERES-EBAF                               239.677   \n",
       "                                         FSNTOA_CERES       SW net TOA                   239.677   \n",
       "                                         FSNTOA_ERBE        SW net TOA                   239.677   \n",
       "                                         FSNTOAC_CERES-EBAF                              287.999   \n",
       "                                         FSNTOAC_CERES      SW net TOA clearsky          287.999   \n",
       "                                         FSNTOAC_ERBE       SW net TOA clearsky          287.999   \n",
       "                                         FSNT_CAM           SW net Top                   236.348   \n",
       "                                         LHFLX_JRA25        Lat Heat Flux                 87.904   \n",
       "                                         LHFLX_ERA40        Lat Heat Flux                 87.904   \n",
       "                                         LHFLX_WHOI         Lat Heat Flux                 87.904   \n",
       "...                                                                                          ...   \n",
       "N1850_f19_tn14_r265_ctrl_20180411 90-120 PRECT_GPCP         Precipitation                  2.918   \n",
       "                                         PREH2O_NVAP        Precipitable water            25.733   \n",
       "                                         PREH2O_AIRS        Precipitable water            25.733   \n",
       "                                         PREH2O_JRA25       Precipitable water            25.733   \n",
       "                                         PREH2O_ERAI        Precipitable water            25.733   \n",
       "                                         PREH2O_ERA40       Precipitable water            25.733   \n",
       "                                         PSL_JRA25          SeaLev pressure             1011.614   \n",
       "                                         PSL_ERAI           SeaLev pressure             1011.614   \n",
       "                                         SHFLX_JRA25        Sens Heat Flux                22.229   \n",
       "                                         SHFLX_NCEP         Sens Heat Flux                22.229   \n",
       "                                         SHFLX_LARYEA       Sens Heat Flux                22.229   \n",
       "                                         STRESS_MAG_ERS                                    0.063   \n",
       "                                         STRESS_MAG_LARYEA                                 0.063   \n",
       "                                         STRESS_MAG_JRA25                                  0.063   \n",
       "                                         SWCF_CERES-EBAF    SW Cloud Forc                -48.959   \n",
       "                                         SWCF_CERES         SW Cloud Forc                -48.959   \n",
       "                                         SWCF_ERBE          SW Cloud Forc                -48.959   \n",
       "                                         AODVIS             aerosol optical depth            NaN   \n",
       "                                         AODDUST            dust aerosol optical depth       NaN   \n",
       "                                         SST_HADISST        Sea Srf Temp                  21.405   \n",
       "                                         SST_HADISST_PI     SST preindustrial             21.726   \n",
       "                                         SST_HADISST_PD     SST present day               21.396   \n",
       "                                         TREFHT_LEGATES     2m Temp                      287.949   \n",
       "                                         TREFHT_JRA25       2m Temp                      287.949   \n",
       "                                         TS_NCEP            2m Temp                      289.201   \n",
       "                                         TS_LAND_NCEP       2m Temp land                 283.308   \n",
       "                                         U_200_JRA25        Zonal Wind                    17.869   \n",
       "                                         U_200_NCEP         Zonal Wind                    17.869   \n",
       "                                         Z3_500_JRA25       Geop Height                   56.586   \n",
       "                                         Z3_500_NCEP        Geop Height                   56.586   \n",
       "\n",
       "                                                                                             Obs  \\\n",
       "Run                               Years  Variable           Description                            \n",
       "N1850C53CLM45L32_f09_tn11_191017  71-100 RESTOM             Top model net flux             0.000   \n",
       "                                         RESSURF            SRF net flux                   0.000   \n",
       "                                         RESTOA_CERES-EBAF  TOA  net flux                  0.992   \n",
       "                                         RESTOA_ERBE        TOA  net flux                  0.059   \n",
       "                                         SOLIN_CERES-EBAF   Insolation                   340.054   \n",
       "                                         SOLIN_CERES        Insolation                   341.479   \n",
       "                                         CLDTOT_ISCCP       Total cloud cover             66.800   \n",
       "                                         CLDTOT_CLOUDSAT    Total cloud cover             66.824   \n",
       "                                         FLDS_ISCCP         LW down SRF                  343.347   \n",
       "                                         FLNS_ISCCP         LW net SRF                    49.425   \n",
       "                                         FLUT_CERES-EBAF    LW up Top                    239.574   \n",
       "                                         FLUT_CERES         LW up Top                    238.963   \n",
       "                                         FLUT_ERBE          LW up Top                    233.946   \n",
       "                                         FLUTC_CERES-EBAF   LW up Top Clearsky           266.051   \n",
       "                                         FLUTC_CERES        LW up Top Clearsky           266.878   \n",
       "                                         FLUTC_ERBE         LW up Top Clearsky           264.429   \n",
       "                                         FLNT_CAM           LW net Top                       NaN   \n",
       "                                         FSDS_ISCCP         SW down SRF                  189.390   \n",
       "                                         FSNS_ISCCP         SW net SRF                   165.893   \n",
       "                                         FSNS_LARYEA        SW net SRF                   154.089   \n",
       "                                         FSNTOA_CERES-EBAF                               240.566   \n",
       "                                         FSNTOA_CERES       SW net TOA                   244.691   \n",
       "                                         FSNTOA_ERBE        SW net TOA                   234.004   \n",
       "                                         FSNTOAC_CERES-EBAF                              287.638   \n",
       "                                         FSNTOAC_CERES      SW net TOA clearsky          294.702   \n",
       "                                         FSNTOAC_ERBE       SW net TOA clearsky          289.329   \n",
       "                                         FSNT_CAM           SW net Top                       NaN   \n",
       "                                         LHFLX_JRA25        Lat Heat Flux                 87.935   \n",
       "                                         LHFLX_ERA40        Lat Heat Flux                 82.367   \n",
       "                                         LHFLX_WHOI         Lat Heat Flux                 89.083   \n",
       "...                                                                                          ...   \n",
       "N1850_f19_tn14_r265_ctrl_20180411 90-120 PRECT_GPCP         Precipitation                  2.674   \n",
       "                                         PREH2O_NVAP        Precipitable water            24.597   \n",
       "                                         PREH2O_AIRS        Precipitable water            20.425   \n",
       "                                         PREH2O_JRA25       Precipitable water            20.425   \n",
       "                                         PREH2O_ERAI        Precipitable water            24.247   \n",
       "                                         PREH2O_ERA40       Precipitable water            24.948   \n",
       "                                         PSL_JRA25          SeaLev pressure             1011.280   \n",
       "                                         PSL_ERAI           SeaLev pressure             1011.362   \n",
       "                                         SHFLX_JRA25        Sens Heat Flux                19.372   \n",
       "                                         SHFLX_NCEP         Sens Heat Flux                15.795   \n",
       "                                         SHFLX_LARYEA       Sens Heat Flux                13.236   \n",
       "                                         STRESS_MAG_ERS                                    0.064   \n",
       "                                         STRESS_MAG_LARYEA                                 0.071   \n",
       "                                         STRESS_MAG_JRA25                                  0.080   \n",
       "                                         SWCF_CERES-EBAF    SW Cloud Forc                -47.071   \n",
       "                                         SWCF_CERES         SW Cloud Forc                -48.586   \n",
       "                                         SWCF_ERBE          SW Cloud Forc                -54.163   \n",
       "                                         AODVIS             aerosol optical depth            NaN   \n",
       "                                         AODDUST            dust aerosol optical depth       NaN   \n",
       "                                         SST_HADISST        Sea Srf Temp                  20.393   \n",
       "                                         SST_HADISST_PI     SST preindustrial             20.368   \n",
       "                                         SST_HADISST_PD     SST present day               20.497   \n",
       "                                         TREFHT_LEGATES     2m Temp                      287.645   \n",
       "                                         TREFHT_JRA25       2m Temp                      287.605   \n",
       "                                         TS_NCEP            2m Temp                      287.683   \n",
       "                                         TS_LAND_NCEP       2m Temp land                 281.155   \n",
       "                                         U_200_JRA25        Zonal Wind                    15.565   \n",
       "                                         U_200_NCEP         Zonal Wind                    15.297   \n",
       "                                         Z3_500_JRA25       Geop Height                   56.601   \n",
       "                                         Z3_500_NCEP        Geop Height                   56.581   \n",
       "\n",
       "                                                                                         Bias  \\\n",
       "Run                               Years  Variable           Description                         \n",
       "N1850C53CLM45L32_f09_tn11_191017  71-100 RESTOM             Top model net flux         -0.489   \n",
       "                                         RESSURF            SRF net flux               -0.489   \n",
       "                                         RESTOA_CERES-EBAF  TOA  net flux               0.537   \n",
       "                                         RESTOA_ERBE        TOA  net flux               1.470   \n",
       "                                         SOLIN_CERES-EBAF   Insolation                  0.152   \n",
       "                                         SOLIN_CERES        Insolation                 -1.273   \n",
       "                                         CLDTOT_ISCCP       Total cloud cover          -3.179   \n",
       "                                         CLDTOT_CLOUDSAT    Total cloud cover          -3.203   \n",
       "                                         FLDS_ISCCP         LW down SRF                -5.066   \n",
       "                                         FLNS_ISCCP         LW net SRF                  6.394   \n",
       "                                         FLUT_CERES-EBAF    LW up Top                  -1.426   \n",
       "                                         FLUT_CERES         LW up Top                  -0.815   \n",
       "                                         FLUT_ERBE          LW up Top                   4.202   \n",
       "                                         FLUTC_CERES-EBAF   LW up Top Clearsky         -4.268   \n",
       "                                         FLUTC_CERES        LW up Top Clearsky         -5.096   \n",
       "                                         FLUTC_ERBE         LW up Top Clearsky         -2.646   \n",
       "                                         FLNT_CAM           LW net Top                    NaN   \n",
       "                                         FSDS_ISCCP         SW down SRF                -1.589   \n",
       "                                         FSNS_ISCCP         SW net SRF                 -2.214   \n",
       "                                         FSNS_LARYEA        SW net SRF                  9.590   \n",
       "                                         FSNTOA_CERES-EBAF                             -0.890   \n",
       "                                         FSNTOA_CERES       SW net TOA                 -5.015   \n",
       "                                         FSNTOA_ERBE        SW net TOA                  5.672   \n",
       "                                         FSNTOAC_CERES-EBAF                             0.362   \n",
       "                                         FSNTOAC_CERES      SW net TOA clearsky        -6.703   \n",
       "                                         FSNTOAC_ERBE       SW net TOA clearsky        -1.329   \n",
       "                                         FSNT_CAM           SW net Top                    NaN   \n",
       "                                         LHFLX_JRA25        Lat Heat Flux              -0.031   \n",
       "                                         LHFLX_ERA40        Lat Heat Flux               5.537   \n",
       "                                         LHFLX_WHOI         Lat Heat Flux              -1.179   \n",
       "...                                                                                       ...   \n",
       "N1850_f19_tn14_r265_ctrl_20180411 90-120 PRECT_GPCP         Precipitation               0.244   \n",
       "                                         PREH2O_NVAP        Precipitable water          1.136   \n",
       "                                         PREH2O_AIRS        Precipitable water          5.308   \n",
       "                                         PREH2O_JRA25       Precipitable water          5.308   \n",
       "                                         PREH2O_ERAI        Precipitable water          1.486   \n",
       "                                         PREH2O_ERA40       Precipitable water          0.785   \n",
       "                                         PSL_JRA25          SeaLev pressure             0.335   \n",
       "                                         PSL_ERAI           SeaLev pressure             0.252   \n",
       "                                         SHFLX_JRA25        Sens Heat Flux              2.857   \n",
       "                                         SHFLX_NCEP         Sens Heat Flux              6.434   \n",
       "                                         SHFLX_LARYEA       Sens Heat Flux              8.993   \n",
       "                                         STRESS_MAG_ERS                                -0.001   \n",
       "                                         STRESS_MAG_LARYEA                             -0.008   \n",
       "                                         STRESS_MAG_JRA25                              -0.017   \n",
       "                                         SWCF_CERES-EBAF    SW Cloud Forc              -1.888   \n",
       "                                         SWCF_CERES         SW Cloud Forc              -0.373   \n",
       "                                         SWCF_ERBE          SW Cloud Forc               5.204   \n",
       "                                         AODVIS             aerosol optical depth         NaN   \n",
       "                                         AODDUST            dust aerosol optical depth    NaN   \n",
       "                                         SST_HADISST        Sea Srf Temp                1.012   \n",
       "                                         SST_HADISST_PI     SST preindustrial           1.358   \n",
       "                                         SST_HADISST_PD     SST present day             0.899   \n",
       "                                         TREFHT_LEGATES     2m Temp                     0.304   \n",
       "                                         TREFHT_JRA25       2m Temp                     0.344   \n",
       "                                         TS_NCEP            2m Temp                     1.518   \n",
       "                                         TS_LAND_NCEP       2m Temp land                2.153   \n",
       "                                         U_200_JRA25        Zonal Wind                  2.304   \n",
       "                                         U_200_NCEP         Zonal Wind                  2.573   \n",
       "                                         Z3_500_JRA25       Geop Height                -0.014   \n",
       "                                         Z3_500_NCEP        Geop Height                 0.005   \n",
       "\n",
       "                                                                                          RMSE  \n",
       "Run                               Years  Variable           Description                         \n",
       "N1850C53CLM45L32_f09_tn11_191017  71-100 RESTOM             Top model net flux             NaN  \n",
       "                                         RESSURF            SRF net flux                   NaN  \n",
       "                                         RESTOA_CERES-EBAF  TOA  net flux                8.842  \n",
       "                                         RESTOA_ERBE        TOA  net flux                8.992  \n",
       "                                         SOLIN_CERES-EBAF   Insolation                   0.167  \n",
       "                                         SOLIN_CERES        Insolation                   1.226  \n",
       "                                         CLDTOT_ISCCP       Total cloud cover           11.323  \n",
       "                                         CLDTOT_CLOUDSAT    Total cloud cover            9.731  \n",
       "                                         FLDS_ISCCP         LW down SRF                 14.450  \n",
       "                                         FLNS_ISCCP         LW net SRF                  11.967  \n",
       "                                         FLUT_CERES-EBAF    LW up Top                    6.855  \n",
       "                                         FLUT_CERES         LW up Top                    6.770  \n",
       "                                         FLUT_ERBE          LW up Top                    7.887  \n",
       "                                         FLUTC_CERES-EBAF   LW up Top Clearsky           6.042  \n",
       "                                         FLUTC_CERES        LW up Top Clearsky           8.384  \n",
       "                                         FLUTC_ERBE         LW up Top Clearsky           5.725  \n",
       "                                         FLNT_CAM           LW net Top                     NaN  \n",
       "                                         FSDS_ISCCP         SW down SRF                 13.380  \n",
       "                                         FSNS_ISCCP         SW net SRF                  12.711  \n",
       "                                         FSNS_LARYEA        SW net SRF                  36.124  \n",
       "                                         FSNTOA_CERES-EBAF                              10.530  \n",
       "                                         FSNTOA_CERES       SW net TOA                  12.307  \n",
       "                                         FSNTOA_ERBE        SW net TOA                  12.491  \n",
       "                                         FSNTOAC_CERES-EBAF                              7.845  \n",
       "                                         FSNTOAC_CERES      SW net TOA clearsky         18.458  \n",
       "                                         FSNTOAC_ERBE       SW net TOA clearsky         15.441  \n",
       "                                         FSNT_CAM           SW net Top                     NaN  \n",
       "                                         LHFLX_JRA25        Lat Heat Flux               17.176  \n",
       "                                         LHFLX_ERA40        Lat Heat Flux               19.019  \n",
       "                                         LHFLX_WHOI         Lat Heat Flux               30.655  \n",
       "...                                                                                        ...  \n",
       "N1850_f19_tn14_r265_ctrl_20180411 90-120 PRECT_GPCP         Precipitation                0.975  \n",
       "                                         PREH2O_NVAP        Precipitable water           2.867  \n",
       "                                         PREH2O_AIRS        Precipitable water           6.216  \n",
       "                                         PREH2O_JRA25       Precipitable water           6.216  \n",
       "                                         PREH2O_ERAI        Precipitable water           2.674  \n",
       "                                         PREH2O_ERA40       Precipitable water           2.373  \n",
       "                                         PSL_JRA25          SeaLev pressure              1.695  \n",
       "                                         PSL_ERAI           SeaLev pressure              1.669  \n",
       "                                         SHFLX_JRA25        Sens Heat Flux              11.202  \n",
       "                                         SHFLX_NCEP         Sens Heat Flux              14.963  \n",
       "                                         SHFLX_LARYEA       Sens Heat Flux              12.064  \n",
       "                                         STRESS_MAG_ERS                                  0.018  \n",
       "                                         STRESS_MAG_LARYEA                               0.019  \n",
       "                                         STRESS_MAG_JRA25                                0.021  \n",
       "                                         SWCF_CERES-EBAF    SW Cloud Forc                9.973  \n",
       "                                         SWCF_CERES         SW Cloud Forc               15.210  \n",
       "                                         SWCF_ERBE          SW Cloud Forc               14.753  \n",
       "                                         AODVIS             aerosol optical depth          NaN  \n",
       "                                         AODDUST            dust aerosol optical depth     NaN  \n",
       "                                         SST_HADISST        Sea Srf Temp                 1.430  \n",
       "                                         SST_HADISST_PI     SST preindustrial            1.732  \n",
       "                                         SST_HADISST_PD     SST present day              1.411  \n",
       "                                         TREFHT_LEGATES     2m Temp                      3.436  \n",
       "                                         TREFHT_JRA25       2m Temp                      2.147  \n",
       "                                         TS_NCEP            2m Temp                      2.663  \n",
       "                                         TS_LAND_NCEP       2m Temp land                 3.944  \n",
       "                                         U_200_JRA25        Zonal Wind                   3.342  \n",
       "                                         U_200_NCEP         Zonal Wind                   3.542  \n",
       "                                         Z3_500_JRA25       Geop Height                  0.199  \n",
       "                                         Z3_500_NCEP        Geop Height                  0.187  \n",
       "\n",
       "[378 rows x 5 columns]"
      ]
     },
     "execution_count": 12,
     "metadata": {},
     "output_type": "execute_result"
    }
   ],
   "source": [
    "merged = helpers.read_and_merge_all(file_list=files, var_info_dict=var_info_dict, replace_runid_prefix=run_id_prefix)\n",
    "merged"
   ]
  },
  {
   "cell_type": "markdown",
   "metadata": {
    "extensions": {
     "jupyter_dashboards": {
      "version": 1,
      "views": {
       "grid_default": {
        "col": 0,
        "height": 4,
        "hidden": false,
        "row": 73,
        "width": 12
       },
       "report_default": {
        "hidden": false
       }
      }
     }
    }
   },
   "source": [
    "### 5. Rearranging and restructuring of the imported data (REARRANGE)"
   ]
  },
  {
   "cell_type": "markdown",
   "metadata": {
    "extensions": {
     "jupyter_dashboards": {
      "version": 1,
      "views": {
       "grid_default": {
        "col": 11,
        "height": 6,
        "hidden": false,
        "row": 61,
        "width": null
       },
       "report_default": {
        "hidden": false
       }
      }
     }
    }
   },
   "source": [
    "#### 5.1 Computing RMSE relative error (GET_RMSE_REL)\n",
    "\n",
    "In the following we extract the subset containing the *RSME* information of the flagged variables for all runs in order to compute the relative error for each run based on the average *RMSE* of all runs:\n",
    "\n",
    "$$\\frac{RMSE_{Run}\\,-\\,\\overline{RMSE_{All\\,Runs}}}{\\overline{RMSE_{All\\,Runs}}}$$\n"
   ]
  },
  {
   "cell_type": "code",
   "execution_count": 13,
   "metadata": {
    "extensions": {
     "jupyter_dashboards": {
      "version": 1,
      "views": {
       "grid_default": {
        "col": 0,
        "height": 12,
        "hidden": false,
        "row": 61,
        "width": 7
       },
       "report_default": {
        "hidden": false
       }
      }
     }
    }
   },
   "outputs": [
    {
     "data": {
      "text/html": [
       "<div>\n",
       "<style scoped>\n",
       "    .dataframe tbody tr th:only-of-type {\n",
       "        vertical-align: middle;\n",
       "    }\n",
       "\n",
       "    .dataframe tbody tr th {\n",
       "        vertical-align: top;\n",
       "    }\n",
       "\n",
       "    .dataframe thead th {\n",
       "        text-align: right;\n",
       "    }\n",
       "</style>\n",
       "<table border=\"1\" class=\"dataframe\">\n",
       "  <thead>\n",
       "    <tr style=\"text-align: right;\">\n",
       "      <th></th>\n",
       "      <th></th>\n",
       "      <th></th>\n",
       "      <th></th>\n",
       "      <th>Flag</th>\n",
       "      <th>Model</th>\n",
       "      <th>Obs</th>\n",
       "      <th>Bias</th>\n",
       "      <th>RMSE</th>\n",
       "      <th>RMSE_ERR</th>\n",
       "    </tr>\n",
       "    <tr>\n",
       "      <th>Run</th>\n",
       "      <th>Years</th>\n",
       "      <th>Variable</th>\n",
       "      <th>Description</th>\n",
       "      <th></th>\n",
       "      <th></th>\n",
       "      <th></th>\n",
       "      <th></th>\n",
       "      <th></th>\n",
       "      <th></th>\n",
       "    </tr>\n",
       "  </thead>\n",
       "  <tbody>\n",
       "    <tr>\n",
       "      <th rowspan=\"30\" valign=\"top\">N1850C53CLM45L32_f09_tn11_191017</th>\n",
       "      <th rowspan=\"30\" valign=\"top\">71-100</th>\n",
       "      <th>RESTOM</th>\n",
       "      <th>Top model net flux</th>\n",
       "      <td>1.0</td>\n",
       "      <td>-0.489</td>\n",
       "      <td>0.000</td>\n",
       "      <td>-0.489</td>\n",
       "      <td>NaN</td>\n",
       "      <td>NaN</td>\n",
       "    </tr>\n",
       "    <tr>\n",
       "      <th>RESSURF</th>\n",
       "      <th>SRF net flux</th>\n",
       "      <td>1.0</td>\n",
       "      <td>-0.489</td>\n",
       "      <td>0.000</td>\n",
       "      <td>-0.489</td>\n",
       "      <td>NaN</td>\n",
       "      <td>NaN</td>\n",
       "    </tr>\n",
       "    <tr>\n",
       "      <th>RESTOA_CERES-EBAF</th>\n",
       "      <th>TOA  net flux</th>\n",
       "      <td>1.0</td>\n",
       "      <td>1.529</td>\n",
       "      <td>0.992</td>\n",
       "      <td>0.537</td>\n",
       "      <td>8.842</td>\n",
       "      <td>-0.014764</td>\n",
       "    </tr>\n",
       "    <tr>\n",
       "      <th>RESTOA_ERBE</th>\n",
       "      <th>TOA  net flux</th>\n",
       "      <td>1.0</td>\n",
       "      <td>1.529</td>\n",
       "      <td>0.059</td>\n",
       "      <td>1.470</td>\n",
       "      <td>8.992</td>\n",
       "      <td>0.007827</td>\n",
       "    </tr>\n",
       "    <tr>\n",
       "      <th>SOLIN_CERES-EBAF</th>\n",
       "      <th>Insolation</th>\n",
       "      <td>1.0</td>\n",
       "      <td>340.206</td>\n",
       "      <td>340.054</td>\n",
       "      <td>0.152</td>\n",
       "      <td>0.167</td>\n",
       "      <td>-0.552279</td>\n",
       "    </tr>\n",
       "    <tr>\n",
       "      <th>SOLIN_CERES</th>\n",
       "      <th>Insolation</th>\n",
       "      <td>1.0</td>\n",
       "      <td>340.206</td>\n",
       "      <td>341.479</td>\n",
       "      <td>-1.273</td>\n",
       "      <td>1.226</td>\n",
       "      <td>-0.044551</td>\n",
       "    </tr>\n",
       "    <tr>\n",
       "      <th>CLDTOT_ISCCP</th>\n",
       "      <th>Total cloud cover</th>\n",
       "      <td>1.0</td>\n",
       "      <td>63.621</td>\n",
       "      <td>66.800</td>\n",
       "      <td>-3.179</td>\n",
       "      <td>11.323</td>\n",
       "      <td>-0.089645</td>\n",
       "    </tr>\n",
       "    <tr>\n",
       "      <th>CLDTOT_CLOUDSAT</th>\n",
       "      <th>Total cloud cover</th>\n",
       "      <td>1.0</td>\n",
       "      <td>63.621</td>\n",
       "      <td>66.824</td>\n",
       "      <td>-3.203</td>\n",
       "      <td>9.731</td>\n",
       "      <td>-0.079172</td>\n",
       "    </tr>\n",
       "    <tr>\n",
       "      <th>FLDS_ISCCP</th>\n",
       "      <th>LW down SRF</th>\n",
       "      <td>1.0</td>\n",
       "      <td>338.280</td>\n",
       "      <td>343.347</td>\n",
       "      <td>-5.066</td>\n",
       "      <td>14.450</td>\n",
       "      <td>-0.100193</td>\n",
       "    </tr>\n",
       "    <tr>\n",
       "      <th>FLNS_ISCCP</th>\n",
       "      <th>LW net SRF</th>\n",
       "      <td>1.0</td>\n",
       "      <td>55.819</td>\n",
       "      <td>49.425</td>\n",
       "      <td>6.394</td>\n",
       "      <td>11.967</td>\n",
       "      <td>-0.142110</td>\n",
       "    </tr>\n",
       "    <tr>\n",
       "      <th>FLUT_CERES-EBAF</th>\n",
       "      <th>LW up Top</th>\n",
       "      <td>1.0</td>\n",
       "      <td>238.148</td>\n",
       "      <td>239.574</td>\n",
       "      <td>-1.426</td>\n",
       "      <td>6.855</td>\n",
       "      <td>-0.015463</td>\n",
       "    </tr>\n",
       "    <tr>\n",
       "      <th>FLUT_CERES</th>\n",
       "      <th>LW up Top</th>\n",
       "      <td>1.0</td>\n",
       "      <td>238.148</td>\n",
       "      <td>238.963</td>\n",
       "      <td>-0.815</td>\n",
       "      <td>6.770</td>\n",
       "      <td>-0.040691</td>\n",
       "    </tr>\n",
       "    <tr>\n",
       "      <th>FLUT_ERBE</th>\n",
       "      <th>LW up Top</th>\n",
       "      <td>1.0</td>\n",
       "      <td>238.148</td>\n",
       "      <td>233.946</td>\n",
       "      <td>4.202</td>\n",
       "      <td>7.887</td>\n",
       "      <td>-0.165029</td>\n",
       "    </tr>\n",
       "    <tr>\n",
       "      <th>FLUTC_CERES-EBAF</th>\n",
       "      <th>LW up Top Clearsky</th>\n",
       "      <td>1.0</td>\n",
       "      <td>261.783</td>\n",
       "      <td>266.051</td>\n",
       "      <td>-4.268</td>\n",
       "      <td>6.042</td>\n",
       "      <td>0.182079</td>\n",
       "    </tr>\n",
       "    <tr>\n",
       "      <th>FLUTC_CERES</th>\n",
       "      <th>LW up Top Clearsky</th>\n",
       "      <td>1.0</td>\n",
       "      <td>261.783</td>\n",
       "      <td>266.878</td>\n",
       "      <td>-5.096</td>\n",
       "      <td>8.384</td>\n",
       "      <td>0.216483</td>\n",
       "    </tr>\n",
       "    <tr>\n",
       "      <th>FLUTC_ERBE</th>\n",
       "      <th>LW up Top Clearsky</th>\n",
       "      <td>1.0</td>\n",
       "      <td>261.783</td>\n",
       "      <td>264.429</td>\n",
       "      <td>-2.646</td>\n",
       "      <td>5.725</td>\n",
       "      <td>0.040090</td>\n",
       "    </tr>\n",
       "    <tr>\n",
       "      <th>FLNT_CAM</th>\n",
       "      <th>LW net Top</th>\n",
       "      <td>1.0</td>\n",
       "      <td>236.838</td>\n",
       "      <td>NaN</td>\n",
       "      <td>NaN</td>\n",
       "      <td>NaN</td>\n",
       "      <td>NaN</td>\n",
       "    </tr>\n",
       "    <tr>\n",
       "      <th>FSDS_ISCCP</th>\n",
       "      <th>SW down SRF</th>\n",
       "      <td>1.0</td>\n",
       "      <td>187.801</td>\n",
       "      <td>189.390</td>\n",
       "      <td>-1.589</td>\n",
       "      <td>13.380</td>\n",
       "      <td>-0.126774</td>\n",
       "    </tr>\n",
       "    <tr>\n",
       "      <th>FSNS_ISCCP</th>\n",
       "      <th>SW net SRF</th>\n",
       "      <td>1.0</td>\n",
       "      <td>163.679</td>\n",
       "      <td>165.893</td>\n",
       "      <td>-2.214</td>\n",
       "      <td>12.711</td>\n",
       "      <td>-0.039834</td>\n",
       "    </tr>\n",
       "    <tr>\n",
       "      <th>FSNS_LARYEA</th>\n",
       "      <th>SW net SRF</th>\n",
       "      <td>1.0</td>\n",
       "      <td>163.679</td>\n",
       "      <td>154.089</td>\n",
       "      <td>9.590</td>\n",
       "      <td>36.124</td>\n",
       "      <td>-0.068945</td>\n",
       "    </tr>\n",
       "    <tr>\n",
       "      <th>FSNTOA_CERES-EBAF</th>\n",
       "      <th></th>\n",
       "      <td>0.0</td>\n",
       "      <td>239.677</td>\n",
       "      <td>240.566</td>\n",
       "      <td>-0.890</td>\n",
       "      <td>10.530</td>\n",
       "      <td>-0.074394</td>\n",
       "    </tr>\n",
       "    <tr>\n",
       "      <th>FSNTOA_CERES</th>\n",
       "      <th>SW net TOA</th>\n",
       "      <td>1.0</td>\n",
       "      <td>239.677</td>\n",
       "      <td>244.691</td>\n",
       "      <td>-5.015</td>\n",
       "      <td>12.307</td>\n",
       "      <td>0.020650</td>\n",
       "    </tr>\n",
       "    <tr>\n",
       "      <th>FSNTOA_ERBE</th>\n",
       "      <th>SW net TOA</th>\n",
       "      <td>1.0</td>\n",
       "      <td>239.677</td>\n",
       "      <td>234.004</td>\n",
       "      <td>5.672</td>\n",
       "      <td>12.491</td>\n",
       "      <td>-0.136079</td>\n",
       "    </tr>\n",
       "    <tr>\n",
       "      <th>FSNTOAC_CERES-EBAF</th>\n",
       "      <th></th>\n",
       "      <td>0.0</td>\n",
       "      <td>287.999</td>\n",
       "      <td>287.638</td>\n",
       "      <td>0.362</td>\n",
       "      <td>7.845</td>\n",
       "      <td>0.031445</td>\n",
       "    </tr>\n",
       "    <tr>\n",
       "      <th>FSNTOAC_CERES</th>\n",
       "      <th>SW net TOA clearsky</th>\n",
       "      <td>1.0</td>\n",
       "      <td>287.999</td>\n",
       "      <td>294.702</td>\n",
       "      <td>-6.703</td>\n",
       "      <td>18.458</td>\n",
       "      <td>0.068048</td>\n",
       "    </tr>\n",
       "    <tr>\n",
       "      <th>FSNTOAC_ERBE</th>\n",
       "      <th>SW net TOA clearsky</th>\n",
       "      <td>1.0</td>\n",
       "      <td>287.999</td>\n",
       "      <td>289.329</td>\n",
       "      <td>-1.329</td>\n",
       "      <td>15.441</td>\n",
       "      <td>0.062296</td>\n",
       "    </tr>\n",
       "    <tr>\n",
       "      <th>FSNT_CAM</th>\n",
       "      <th>SW net Top</th>\n",
       "      <td>1.0</td>\n",
       "      <td>236.348</td>\n",
       "      <td>NaN</td>\n",
       "      <td>NaN</td>\n",
       "      <td>NaN</td>\n",
       "      <td>NaN</td>\n",
       "    </tr>\n",
       "    <tr>\n",
       "      <th>LHFLX_JRA25</th>\n",
       "      <th>Lat Heat Flux</th>\n",
       "      <td>1.0</td>\n",
       "      <td>87.904</td>\n",
       "      <td>87.935</td>\n",
       "      <td>-0.031</td>\n",
       "      <td>17.176</td>\n",
       "      <td>0.113433</td>\n",
       "    </tr>\n",
       "    <tr>\n",
       "      <th>LHFLX_ERA40</th>\n",
       "      <th>Lat Heat Flux</th>\n",
       "      <td>1.0</td>\n",
       "      <td>87.904</td>\n",
       "      <td>82.367</td>\n",
       "      <td>5.537</td>\n",
       "      <td>19.019</td>\n",
       "      <td>0.118863</td>\n",
       "    </tr>\n",
       "    <tr>\n",
       "      <th>LHFLX_WHOI</th>\n",
       "      <th>Lat Heat Flux</th>\n",
       "      <td>1.0</td>\n",
       "      <td>87.904</td>\n",
       "      <td>89.083</td>\n",
       "      <td>-1.179</td>\n",
       "      <td>30.655</td>\n",
       "      <td>0.112482</td>\n",
       "    </tr>\n",
       "    <tr>\n",
       "      <th>...</th>\n",
       "      <th>...</th>\n",
       "      <th>...</th>\n",
       "      <th>...</th>\n",
       "      <td>...</td>\n",
       "      <td>...</td>\n",
       "      <td>...</td>\n",
       "      <td>...</td>\n",
       "      <td>...</td>\n",
       "      <td>...</td>\n",
       "    </tr>\n",
       "    <tr>\n",
       "      <th rowspan=\"30\" valign=\"top\">N1850_f19_tn14_r265_ctrl_20180411</th>\n",
       "      <th rowspan=\"30\" valign=\"top\">90-120</th>\n",
       "      <th>PRECT_GPCP</th>\n",
       "      <th>Precipitation</th>\n",
       "      <td>1.0</td>\n",
       "      <td>2.918</td>\n",
       "      <td>2.674</td>\n",
       "      <td>0.244</td>\n",
       "      <td>0.975</td>\n",
       "      <td>-0.055690</td>\n",
       "    </tr>\n",
       "    <tr>\n",
       "      <th>PREH2O_NVAP</th>\n",
       "      <th>Precipitable water</th>\n",
       "      <td>1.0</td>\n",
       "      <td>25.733</td>\n",
       "      <td>24.597</td>\n",
       "      <td>1.136</td>\n",
       "      <td>2.867</td>\n",
       "      <td>-0.207938</td>\n",
       "    </tr>\n",
       "    <tr>\n",
       "      <th>PREH2O_AIRS</th>\n",
       "      <th>Precipitable water</th>\n",
       "      <td>1.0</td>\n",
       "      <td>25.733</td>\n",
       "      <td>20.425</td>\n",
       "      <td>5.308</td>\n",
       "      <td>6.216</td>\n",
       "      <td>-0.100673</td>\n",
       "    </tr>\n",
       "    <tr>\n",
       "      <th>PREH2O_JRA25</th>\n",
       "      <th>Precipitable water</th>\n",
       "      <td>1.0</td>\n",
       "      <td>25.733</td>\n",
       "      <td>20.425</td>\n",
       "      <td>5.308</td>\n",
       "      <td>6.216</td>\n",
       "      <td>-0.100673</td>\n",
       "    </tr>\n",
       "    <tr>\n",
       "      <th>PREH2O_ERAI</th>\n",
       "      <th>Precipitable water</th>\n",
       "      <td>1.0</td>\n",
       "      <td>25.733</td>\n",
       "      <td>24.247</td>\n",
       "      <td>1.486</td>\n",
       "      <td>2.674</td>\n",
       "      <td>-0.208173</td>\n",
       "    </tr>\n",
       "    <tr>\n",
       "      <th>PREH2O_ERA40</th>\n",
       "      <th>Precipitable water</th>\n",
       "      <td>1.0</td>\n",
       "      <td>25.733</td>\n",
       "      <td>24.948</td>\n",
       "      <td>0.785</td>\n",
       "      <td>2.373</td>\n",
       "      <td>-0.225101</td>\n",
       "    </tr>\n",
       "    <tr>\n",
       "      <th>PSL_JRA25</th>\n",
       "      <th>SeaLev pressure</th>\n",
       "      <td>1.0</td>\n",
       "      <td>1011.614</td>\n",
       "      <td>1011.280</td>\n",
       "      <td>0.335</td>\n",
       "      <td>1.695</td>\n",
       "      <td>-0.007224</td>\n",
       "    </tr>\n",
       "    <tr>\n",
       "      <th>PSL_ERAI</th>\n",
       "      <th>SeaLev pressure</th>\n",
       "      <td>1.0</td>\n",
       "      <td>1011.614</td>\n",
       "      <td>1011.362</td>\n",
       "      <td>0.252</td>\n",
       "      <td>1.669</td>\n",
       "      <td>-0.062711</td>\n",
       "    </tr>\n",
       "    <tr>\n",
       "      <th>SHFLX_JRA25</th>\n",
       "      <th>Sens Heat Flux</th>\n",
       "      <td>1.0</td>\n",
       "      <td>22.229</td>\n",
       "      <td>19.372</td>\n",
       "      <td>2.857</td>\n",
       "      <td>11.202</td>\n",
       "      <td>-0.020647</td>\n",
       "    </tr>\n",
       "    <tr>\n",
       "      <th>SHFLX_NCEP</th>\n",
       "      <th>Sens Heat Flux</th>\n",
       "      <td>1.0</td>\n",
       "      <td>22.229</td>\n",
       "      <td>15.795</td>\n",
       "      <td>6.434</td>\n",
       "      <td>14.963</td>\n",
       "      <td>-0.025836</td>\n",
       "    </tr>\n",
       "    <tr>\n",
       "      <th>SHFLX_LARYEA</th>\n",
       "      <th>Sens Heat Flux</th>\n",
       "      <td>1.0</td>\n",
       "      <td>22.229</td>\n",
       "      <td>13.236</td>\n",
       "      <td>8.993</td>\n",
       "      <td>12.064</td>\n",
       "      <td>-0.036640</td>\n",
       "    </tr>\n",
       "    <tr>\n",
       "      <th>STRESS_MAG_ERS</th>\n",
       "      <th></th>\n",
       "      <td>0.0</td>\n",
       "      <td>0.063</td>\n",
       "      <td>0.064</td>\n",
       "      <td>-0.001</td>\n",
       "      <td>0.018</td>\n",
       "      <td>-0.076923</td>\n",
       "    </tr>\n",
       "    <tr>\n",
       "      <th>STRESS_MAG_LARYEA</th>\n",
       "      <th></th>\n",
       "      <td>0.0</td>\n",
       "      <td>0.063</td>\n",
       "      <td>0.071</td>\n",
       "      <td>-0.008</td>\n",
       "      <td>0.019</td>\n",
       "      <td>-0.042017</td>\n",
       "    </tr>\n",
       "    <tr>\n",
       "      <th>STRESS_MAG_JRA25</th>\n",
       "      <th></th>\n",
       "      <td>0.0</td>\n",
       "      <td>0.063</td>\n",
       "      <td>0.080</td>\n",
       "      <td>-0.017</td>\n",
       "      <td>0.021</td>\n",
       "      <td>-0.015625</td>\n",
       "    </tr>\n",
       "    <tr>\n",
       "      <th>SWCF_CERES-EBAF</th>\n",
       "      <th>SW Cloud Forc</th>\n",
       "      <td>1.0</td>\n",
       "      <td>-48.959</td>\n",
       "      <td>-47.071</td>\n",
       "      <td>-1.888</td>\n",
       "      <td>9.973</td>\n",
       "      <td>-0.011824</td>\n",
       "    </tr>\n",
       "    <tr>\n",
       "      <th>SWCF_CERES</th>\n",
       "      <th>SW Cloud Forc</th>\n",
       "      <td>1.0</td>\n",
       "      <td>-48.959</td>\n",
       "      <td>-48.586</td>\n",
       "      <td>-0.373</td>\n",
       "      <td>15.210</td>\n",
       "      <td>0.034858</td>\n",
       "    </tr>\n",
       "    <tr>\n",
       "      <th>SWCF_ERBE</th>\n",
       "      <th>SW Cloud Forc</th>\n",
       "      <td>1.0</td>\n",
       "      <td>-48.959</td>\n",
       "      <td>-54.163</td>\n",
       "      <td>5.204</td>\n",
       "      <td>14.753</td>\n",
       "      <td>-0.061594</td>\n",
       "    </tr>\n",
       "    <tr>\n",
       "      <th>AODVIS</th>\n",
       "      <th>aerosol optical depth</th>\n",
       "      <td>1.0</td>\n",
       "      <td>NaN</td>\n",
       "      <td>NaN</td>\n",
       "      <td>NaN</td>\n",
       "      <td>NaN</td>\n",
       "      <td>NaN</td>\n",
       "    </tr>\n",
       "    <tr>\n",
       "      <th>AODDUST</th>\n",
       "      <th>dust aerosol optical depth</th>\n",
       "      <td>1.0</td>\n",
       "      <td>NaN</td>\n",
       "      <td>NaN</td>\n",
       "      <td>NaN</td>\n",
       "      <td>NaN</td>\n",
       "      <td>NaN</td>\n",
       "    </tr>\n",
       "    <tr>\n",
       "      <th>SST_HADISST</th>\n",
       "      <th>Sea Srf Temp</th>\n",
       "      <td>1.0</td>\n",
       "      <td>21.405</td>\n",
       "      <td>20.393</td>\n",
       "      <td>1.012</td>\n",
       "      <td>1.430</td>\n",
       "      <td>-0.110604</td>\n",
       "    </tr>\n",
       "    <tr>\n",
       "      <th>SST_HADISST_PI</th>\n",
       "      <th>SST preindustrial</th>\n",
       "      <td>1.0</td>\n",
       "      <td>21.726</td>\n",
       "      <td>20.368</td>\n",
       "      <td>1.358</td>\n",
       "      <td>1.732</td>\n",
       "      <td>-0.073219</td>\n",
       "    </tr>\n",
       "    <tr>\n",
       "      <th>SST_HADISST_PD</th>\n",
       "      <th>SST present day</th>\n",
       "      <td>1.0</td>\n",
       "      <td>21.396</td>\n",
       "      <td>20.497</td>\n",
       "      <td>0.899</td>\n",
       "      <td>1.411</td>\n",
       "      <td>-0.117941</td>\n",
       "    </tr>\n",
       "    <tr>\n",
       "      <th>TREFHT_LEGATES</th>\n",
       "      <th>2m Temp</th>\n",
       "      <td>1.0</td>\n",
       "      <td>287.949</td>\n",
       "      <td>287.645</td>\n",
       "      <td>0.304</td>\n",
       "      <td>3.436</td>\n",
       "      <td>-0.054572</td>\n",
       "    </tr>\n",
       "    <tr>\n",
       "      <th>TREFHT_JRA25</th>\n",
       "      <th>2m Temp</th>\n",
       "      <td>1.0</td>\n",
       "      <td>287.949</td>\n",
       "      <td>287.605</td>\n",
       "      <td>0.344</td>\n",
       "      <td>2.147</td>\n",
       "      <td>-0.096317</td>\n",
       "    </tr>\n",
       "    <tr>\n",
       "      <th>TS_NCEP</th>\n",
       "      <th>2m Temp</th>\n",
       "      <td>1.0</td>\n",
       "      <td>289.201</td>\n",
       "      <td>287.683</td>\n",
       "      <td>1.518</td>\n",
       "      <td>2.663</td>\n",
       "      <td>-0.053884</td>\n",
       "    </tr>\n",
       "    <tr>\n",
       "      <th>TS_LAND_NCEP</th>\n",
       "      <th>2m Temp land</th>\n",
       "      <td>1.0</td>\n",
       "      <td>283.308</td>\n",
       "      <td>281.155</td>\n",
       "      <td>2.153</td>\n",
       "      <td>3.944</td>\n",
       "      <td>-0.026333</td>\n",
       "    </tr>\n",
       "    <tr>\n",
       "      <th>U_200_JRA25</th>\n",
       "      <th>Zonal Wind</th>\n",
       "      <td>1.0</td>\n",
       "      <td>17.869</td>\n",
       "      <td>15.565</td>\n",
       "      <td>2.304</td>\n",
       "      <td>3.342</td>\n",
       "      <td>-0.074024</td>\n",
       "    </tr>\n",
       "    <tr>\n",
       "      <th>U_200_NCEP</th>\n",
       "      <th>Zonal Wind</th>\n",
       "      <td>1.0</td>\n",
       "      <td>17.869</td>\n",
       "      <td>15.297</td>\n",
       "      <td>2.573</td>\n",
       "      <td>3.542</td>\n",
       "      <td>-0.061888</td>\n",
       "    </tr>\n",
       "    <tr>\n",
       "      <th>Z3_500_JRA25</th>\n",
       "      <th>Geop Height</th>\n",
       "      <td>1.0</td>\n",
       "      <td>56.586</td>\n",
       "      <td>56.601</td>\n",
       "      <td>-0.014</td>\n",
       "      <td>0.199</td>\n",
       "      <td>-0.343956</td>\n",
       "    </tr>\n",
       "    <tr>\n",
       "      <th>Z3_500_NCEP</th>\n",
       "      <th>Geop Height</th>\n",
       "      <td>1.0</td>\n",
       "      <td>56.586</td>\n",
       "      <td>56.581</td>\n",
       "      <td>0.005</td>\n",
       "      <td>0.187</td>\n",
       "      <td>-0.363946</td>\n",
       "    </tr>\n",
       "  </tbody>\n",
       "</table>\n",
       "<p>378 rows × 6 columns</p>\n",
       "</div>"
      ],
      "text/plain": [
       "                                                                                        Flag  \\\n",
       "Run                               Years  Variable           Description                        \n",
       "N1850C53CLM45L32_f09_tn11_191017  71-100 RESTOM             Top model net flux           1.0   \n",
       "                                         RESSURF            SRF net flux                 1.0   \n",
       "                                         RESTOA_CERES-EBAF  TOA  net flux                1.0   \n",
       "                                         RESTOA_ERBE        TOA  net flux                1.0   \n",
       "                                         SOLIN_CERES-EBAF   Insolation                   1.0   \n",
       "                                         SOLIN_CERES        Insolation                   1.0   \n",
       "                                         CLDTOT_ISCCP       Total cloud cover            1.0   \n",
       "                                         CLDTOT_CLOUDSAT    Total cloud cover            1.0   \n",
       "                                         FLDS_ISCCP         LW down SRF                  1.0   \n",
       "                                         FLNS_ISCCP         LW net SRF                   1.0   \n",
       "                                         FLUT_CERES-EBAF    LW up Top                    1.0   \n",
       "                                         FLUT_CERES         LW up Top                    1.0   \n",
       "                                         FLUT_ERBE          LW up Top                    1.0   \n",
       "                                         FLUTC_CERES-EBAF   LW up Top Clearsky           1.0   \n",
       "                                         FLUTC_CERES        LW up Top Clearsky           1.0   \n",
       "                                         FLUTC_ERBE         LW up Top Clearsky           1.0   \n",
       "                                         FLNT_CAM           LW net Top                   1.0   \n",
       "                                         FSDS_ISCCP         SW down SRF                  1.0   \n",
       "                                         FSNS_ISCCP         SW net SRF                   1.0   \n",
       "                                         FSNS_LARYEA        SW net SRF                   1.0   \n",
       "                                         FSNTOA_CERES-EBAF                               0.0   \n",
       "                                         FSNTOA_CERES       SW net TOA                   1.0   \n",
       "                                         FSNTOA_ERBE        SW net TOA                   1.0   \n",
       "                                         FSNTOAC_CERES-EBAF                              0.0   \n",
       "                                         FSNTOAC_CERES      SW net TOA clearsky          1.0   \n",
       "                                         FSNTOAC_ERBE       SW net TOA clearsky          1.0   \n",
       "                                         FSNT_CAM           SW net Top                   1.0   \n",
       "                                         LHFLX_JRA25        Lat Heat Flux                1.0   \n",
       "                                         LHFLX_ERA40        Lat Heat Flux                1.0   \n",
       "                                         LHFLX_WHOI         Lat Heat Flux                1.0   \n",
       "...                                                                                      ...   \n",
       "N1850_f19_tn14_r265_ctrl_20180411 90-120 PRECT_GPCP         Precipitation                1.0   \n",
       "                                         PREH2O_NVAP        Precipitable water           1.0   \n",
       "                                         PREH2O_AIRS        Precipitable water           1.0   \n",
       "                                         PREH2O_JRA25       Precipitable water           1.0   \n",
       "                                         PREH2O_ERAI        Precipitable water           1.0   \n",
       "                                         PREH2O_ERA40       Precipitable water           1.0   \n",
       "                                         PSL_JRA25          SeaLev pressure              1.0   \n",
       "                                         PSL_ERAI           SeaLev pressure              1.0   \n",
       "                                         SHFLX_JRA25        Sens Heat Flux               1.0   \n",
       "                                         SHFLX_NCEP         Sens Heat Flux               1.0   \n",
       "                                         SHFLX_LARYEA       Sens Heat Flux               1.0   \n",
       "                                         STRESS_MAG_ERS                                  0.0   \n",
       "                                         STRESS_MAG_LARYEA                               0.0   \n",
       "                                         STRESS_MAG_JRA25                                0.0   \n",
       "                                         SWCF_CERES-EBAF    SW Cloud Forc                1.0   \n",
       "                                         SWCF_CERES         SW Cloud Forc                1.0   \n",
       "                                         SWCF_ERBE          SW Cloud Forc                1.0   \n",
       "                                         AODVIS             aerosol optical depth        1.0   \n",
       "                                         AODDUST            dust aerosol optical depth   1.0   \n",
       "                                         SST_HADISST        Sea Srf Temp                 1.0   \n",
       "                                         SST_HADISST_PI     SST preindustrial            1.0   \n",
       "                                         SST_HADISST_PD     SST present day              1.0   \n",
       "                                         TREFHT_LEGATES     2m Temp                      1.0   \n",
       "                                         TREFHT_JRA25       2m Temp                      1.0   \n",
       "                                         TS_NCEP            2m Temp                      1.0   \n",
       "                                         TS_LAND_NCEP       2m Temp land                 1.0   \n",
       "                                         U_200_JRA25        Zonal Wind                   1.0   \n",
       "                                         U_200_NCEP         Zonal Wind                   1.0   \n",
       "                                         Z3_500_JRA25       Geop Height                  1.0   \n",
       "                                         Z3_500_NCEP        Geop Height                  1.0   \n",
       "\n",
       "                                                                                           Model  \\\n",
       "Run                               Years  Variable           Description                            \n",
       "N1850C53CLM45L32_f09_tn11_191017  71-100 RESTOM             Top model net flux            -0.489   \n",
       "                                         RESSURF            SRF net flux                  -0.489   \n",
       "                                         RESTOA_CERES-EBAF  TOA  net flux                  1.529   \n",
       "                                         RESTOA_ERBE        TOA  net flux                  1.529   \n",
       "                                         SOLIN_CERES-EBAF   Insolation                   340.206   \n",
       "                                         SOLIN_CERES        Insolation                   340.206   \n",
       "                                         CLDTOT_ISCCP       Total cloud cover             63.621   \n",
       "                                         CLDTOT_CLOUDSAT    Total cloud cover             63.621   \n",
       "                                         FLDS_ISCCP         LW down SRF                  338.280   \n",
       "                                         FLNS_ISCCP         LW net SRF                    55.819   \n",
       "                                         FLUT_CERES-EBAF    LW up Top                    238.148   \n",
       "                                         FLUT_CERES         LW up Top                    238.148   \n",
       "                                         FLUT_ERBE          LW up Top                    238.148   \n",
       "                                         FLUTC_CERES-EBAF   LW up Top Clearsky           261.783   \n",
       "                                         FLUTC_CERES        LW up Top Clearsky           261.783   \n",
       "                                         FLUTC_ERBE         LW up Top Clearsky           261.783   \n",
       "                                         FLNT_CAM           LW net Top                   236.838   \n",
       "                                         FSDS_ISCCP         SW down SRF                  187.801   \n",
       "                                         FSNS_ISCCP         SW net SRF                   163.679   \n",
       "                                         FSNS_LARYEA        SW net SRF                   163.679   \n",
       "                                         FSNTOA_CERES-EBAF                               239.677   \n",
       "                                         FSNTOA_CERES       SW net TOA                   239.677   \n",
       "                                         FSNTOA_ERBE        SW net TOA                   239.677   \n",
       "                                         FSNTOAC_CERES-EBAF                              287.999   \n",
       "                                         FSNTOAC_CERES      SW net TOA clearsky          287.999   \n",
       "                                         FSNTOAC_ERBE       SW net TOA clearsky          287.999   \n",
       "                                         FSNT_CAM           SW net Top                   236.348   \n",
       "                                         LHFLX_JRA25        Lat Heat Flux                 87.904   \n",
       "                                         LHFLX_ERA40        Lat Heat Flux                 87.904   \n",
       "                                         LHFLX_WHOI         Lat Heat Flux                 87.904   \n",
       "...                                                                                          ...   \n",
       "N1850_f19_tn14_r265_ctrl_20180411 90-120 PRECT_GPCP         Precipitation                  2.918   \n",
       "                                         PREH2O_NVAP        Precipitable water            25.733   \n",
       "                                         PREH2O_AIRS        Precipitable water            25.733   \n",
       "                                         PREH2O_JRA25       Precipitable water            25.733   \n",
       "                                         PREH2O_ERAI        Precipitable water            25.733   \n",
       "                                         PREH2O_ERA40       Precipitable water            25.733   \n",
       "                                         PSL_JRA25          SeaLev pressure             1011.614   \n",
       "                                         PSL_ERAI           SeaLev pressure             1011.614   \n",
       "                                         SHFLX_JRA25        Sens Heat Flux                22.229   \n",
       "                                         SHFLX_NCEP         Sens Heat Flux                22.229   \n",
       "                                         SHFLX_LARYEA       Sens Heat Flux                22.229   \n",
       "                                         STRESS_MAG_ERS                                    0.063   \n",
       "                                         STRESS_MAG_LARYEA                                 0.063   \n",
       "                                         STRESS_MAG_JRA25                                  0.063   \n",
       "                                         SWCF_CERES-EBAF    SW Cloud Forc                -48.959   \n",
       "                                         SWCF_CERES         SW Cloud Forc                -48.959   \n",
       "                                         SWCF_ERBE          SW Cloud Forc                -48.959   \n",
       "                                         AODVIS             aerosol optical depth            NaN   \n",
       "                                         AODDUST            dust aerosol optical depth       NaN   \n",
       "                                         SST_HADISST        Sea Srf Temp                  21.405   \n",
       "                                         SST_HADISST_PI     SST preindustrial             21.726   \n",
       "                                         SST_HADISST_PD     SST present day               21.396   \n",
       "                                         TREFHT_LEGATES     2m Temp                      287.949   \n",
       "                                         TREFHT_JRA25       2m Temp                      287.949   \n",
       "                                         TS_NCEP            2m Temp                      289.201   \n",
       "                                         TS_LAND_NCEP       2m Temp land                 283.308   \n",
       "                                         U_200_JRA25        Zonal Wind                    17.869   \n",
       "                                         U_200_NCEP         Zonal Wind                    17.869   \n",
       "                                         Z3_500_JRA25       Geop Height                   56.586   \n",
       "                                         Z3_500_NCEP        Geop Height                   56.586   \n",
       "\n",
       "                                                                                             Obs  \\\n",
       "Run                               Years  Variable           Description                            \n",
       "N1850C53CLM45L32_f09_tn11_191017  71-100 RESTOM             Top model net flux             0.000   \n",
       "                                         RESSURF            SRF net flux                   0.000   \n",
       "                                         RESTOA_CERES-EBAF  TOA  net flux                  0.992   \n",
       "                                         RESTOA_ERBE        TOA  net flux                  0.059   \n",
       "                                         SOLIN_CERES-EBAF   Insolation                   340.054   \n",
       "                                         SOLIN_CERES        Insolation                   341.479   \n",
       "                                         CLDTOT_ISCCP       Total cloud cover             66.800   \n",
       "                                         CLDTOT_CLOUDSAT    Total cloud cover             66.824   \n",
       "                                         FLDS_ISCCP         LW down SRF                  343.347   \n",
       "                                         FLNS_ISCCP         LW net SRF                    49.425   \n",
       "                                         FLUT_CERES-EBAF    LW up Top                    239.574   \n",
       "                                         FLUT_CERES         LW up Top                    238.963   \n",
       "                                         FLUT_ERBE          LW up Top                    233.946   \n",
       "                                         FLUTC_CERES-EBAF   LW up Top Clearsky           266.051   \n",
       "                                         FLUTC_CERES        LW up Top Clearsky           266.878   \n",
       "                                         FLUTC_ERBE         LW up Top Clearsky           264.429   \n",
       "                                         FLNT_CAM           LW net Top                       NaN   \n",
       "                                         FSDS_ISCCP         SW down SRF                  189.390   \n",
       "                                         FSNS_ISCCP         SW net SRF                   165.893   \n",
       "                                         FSNS_LARYEA        SW net SRF                   154.089   \n",
       "                                         FSNTOA_CERES-EBAF                               240.566   \n",
       "                                         FSNTOA_CERES       SW net TOA                   244.691   \n",
       "                                         FSNTOA_ERBE        SW net TOA                   234.004   \n",
       "                                         FSNTOAC_CERES-EBAF                              287.638   \n",
       "                                         FSNTOAC_CERES      SW net TOA clearsky          294.702   \n",
       "                                         FSNTOAC_ERBE       SW net TOA clearsky          289.329   \n",
       "                                         FSNT_CAM           SW net Top                       NaN   \n",
       "                                         LHFLX_JRA25        Lat Heat Flux                 87.935   \n",
       "                                         LHFLX_ERA40        Lat Heat Flux                 82.367   \n",
       "                                         LHFLX_WHOI         Lat Heat Flux                 89.083   \n",
       "...                                                                                          ...   \n",
       "N1850_f19_tn14_r265_ctrl_20180411 90-120 PRECT_GPCP         Precipitation                  2.674   \n",
       "                                         PREH2O_NVAP        Precipitable water            24.597   \n",
       "                                         PREH2O_AIRS        Precipitable water            20.425   \n",
       "                                         PREH2O_JRA25       Precipitable water            20.425   \n",
       "                                         PREH2O_ERAI        Precipitable water            24.247   \n",
       "                                         PREH2O_ERA40       Precipitable water            24.948   \n",
       "                                         PSL_JRA25          SeaLev pressure             1011.280   \n",
       "                                         PSL_ERAI           SeaLev pressure             1011.362   \n",
       "                                         SHFLX_JRA25        Sens Heat Flux                19.372   \n",
       "                                         SHFLX_NCEP         Sens Heat Flux                15.795   \n",
       "                                         SHFLX_LARYEA       Sens Heat Flux                13.236   \n",
       "                                         STRESS_MAG_ERS                                    0.064   \n",
       "                                         STRESS_MAG_LARYEA                                 0.071   \n",
       "                                         STRESS_MAG_JRA25                                  0.080   \n",
       "                                         SWCF_CERES-EBAF    SW Cloud Forc                -47.071   \n",
       "                                         SWCF_CERES         SW Cloud Forc                -48.586   \n",
       "                                         SWCF_ERBE          SW Cloud Forc                -54.163   \n",
       "                                         AODVIS             aerosol optical depth            NaN   \n",
       "                                         AODDUST            dust aerosol optical depth       NaN   \n",
       "                                         SST_HADISST        Sea Srf Temp                  20.393   \n",
       "                                         SST_HADISST_PI     SST preindustrial             20.368   \n",
       "                                         SST_HADISST_PD     SST present day               20.497   \n",
       "                                         TREFHT_LEGATES     2m Temp                      287.645   \n",
       "                                         TREFHT_JRA25       2m Temp                      287.605   \n",
       "                                         TS_NCEP            2m Temp                      287.683   \n",
       "                                         TS_LAND_NCEP       2m Temp land                 281.155   \n",
       "                                         U_200_JRA25        Zonal Wind                    15.565   \n",
       "                                         U_200_NCEP         Zonal Wind                    15.297   \n",
       "                                         Z3_500_JRA25       Geop Height                   56.601   \n",
       "                                         Z3_500_NCEP        Geop Height                   56.581   \n",
       "\n",
       "                                                                                         Bias  \\\n",
       "Run                               Years  Variable           Description                         \n",
       "N1850C53CLM45L32_f09_tn11_191017  71-100 RESTOM             Top model net flux         -0.489   \n",
       "                                         RESSURF            SRF net flux               -0.489   \n",
       "                                         RESTOA_CERES-EBAF  TOA  net flux               0.537   \n",
       "                                         RESTOA_ERBE        TOA  net flux               1.470   \n",
       "                                         SOLIN_CERES-EBAF   Insolation                  0.152   \n",
       "                                         SOLIN_CERES        Insolation                 -1.273   \n",
       "                                         CLDTOT_ISCCP       Total cloud cover          -3.179   \n",
       "                                         CLDTOT_CLOUDSAT    Total cloud cover          -3.203   \n",
       "                                         FLDS_ISCCP         LW down SRF                -5.066   \n",
       "                                         FLNS_ISCCP         LW net SRF                  6.394   \n",
       "                                         FLUT_CERES-EBAF    LW up Top                  -1.426   \n",
       "                                         FLUT_CERES         LW up Top                  -0.815   \n",
       "                                         FLUT_ERBE          LW up Top                   4.202   \n",
       "                                         FLUTC_CERES-EBAF   LW up Top Clearsky         -4.268   \n",
       "                                         FLUTC_CERES        LW up Top Clearsky         -5.096   \n",
       "                                         FLUTC_ERBE         LW up Top Clearsky         -2.646   \n",
       "                                         FLNT_CAM           LW net Top                    NaN   \n",
       "                                         FSDS_ISCCP         SW down SRF                -1.589   \n",
       "                                         FSNS_ISCCP         SW net SRF                 -2.214   \n",
       "                                         FSNS_LARYEA        SW net SRF                  9.590   \n",
       "                                         FSNTOA_CERES-EBAF                             -0.890   \n",
       "                                         FSNTOA_CERES       SW net TOA                 -5.015   \n",
       "                                         FSNTOA_ERBE        SW net TOA                  5.672   \n",
       "                                         FSNTOAC_CERES-EBAF                             0.362   \n",
       "                                         FSNTOAC_CERES      SW net TOA clearsky        -6.703   \n",
       "                                         FSNTOAC_ERBE       SW net TOA clearsky        -1.329   \n",
       "                                         FSNT_CAM           SW net Top                    NaN   \n",
       "                                         LHFLX_JRA25        Lat Heat Flux              -0.031   \n",
       "                                         LHFLX_ERA40        Lat Heat Flux               5.537   \n",
       "                                         LHFLX_WHOI         Lat Heat Flux              -1.179   \n",
       "...                                                                                       ...   \n",
       "N1850_f19_tn14_r265_ctrl_20180411 90-120 PRECT_GPCP         Precipitation               0.244   \n",
       "                                         PREH2O_NVAP        Precipitable water          1.136   \n",
       "                                         PREH2O_AIRS        Precipitable water          5.308   \n",
       "                                         PREH2O_JRA25       Precipitable water          5.308   \n",
       "                                         PREH2O_ERAI        Precipitable water          1.486   \n",
       "                                         PREH2O_ERA40       Precipitable water          0.785   \n",
       "                                         PSL_JRA25          SeaLev pressure             0.335   \n",
       "                                         PSL_ERAI           SeaLev pressure             0.252   \n",
       "                                         SHFLX_JRA25        Sens Heat Flux              2.857   \n",
       "                                         SHFLX_NCEP         Sens Heat Flux              6.434   \n",
       "                                         SHFLX_LARYEA       Sens Heat Flux              8.993   \n",
       "                                         STRESS_MAG_ERS                                -0.001   \n",
       "                                         STRESS_MAG_LARYEA                             -0.008   \n",
       "                                         STRESS_MAG_JRA25                              -0.017   \n",
       "                                         SWCF_CERES-EBAF    SW Cloud Forc              -1.888   \n",
       "                                         SWCF_CERES         SW Cloud Forc              -0.373   \n",
       "                                         SWCF_ERBE          SW Cloud Forc               5.204   \n",
       "                                         AODVIS             aerosol optical depth         NaN   \n",
       "                                         AODDUST            dust aerosol optical depth    NaN   \n",
       "                                         SST_HADISST        Sea Srf Temp                1.012   \n",
       "                                         SST_HADISST_PI     SST preindustrial           1.358   \n",
       "                                         SST_HADISST_PD     SST present day             0.899   \n",
       "                                         TREFHT_LEGATES     2m Temp                     0.304   \n",
       "                                         TREFHT_JRA25       2m Temp                     0.344   \n",
       "                                         TS_NCEP            2m Temp                     1.518   \n",
       "                                         TS_LAND_NCEP       2m Temp land                2.153   \n",
       "                                         U_200_JRA25        Zonal Wind                  2.304   \n",
       "                                         U_200_NCEP         Zonal Wind                  2.573   \n",
       "                                         Z3_500_JRA25       Geop Height                -0.014   \n",
       "                                         Z3_500_NCEP        Geop Height                 0.005   \n",
       "\n",
       "                                                                                          RMSE  \\\n",
       "Run                               Years  Variable           Description                          \n",
       "N1850C53CLM45L32_f09_tn11_191017  71-100 RESTOM             Top model net flux             NaN   \n",
       "                                         RESSURF            SRF net flux                   NaN   \n",
       "                                         RESTOA_CERES-EBAF  TOA  net flux                8.842   \n",
       "                                         RESTOA_ERBE        TOA  net flux                8.992   \n",
       "                                         SOLIN_CERES-EBAF   Insolation                   0.167   \n",
       "                                         SOLIN_CERES        Insolation                   1.226   \n",
       "                                         CLDTOT_ISCCP       Total cloud cover           11.323   \n",
       "                                         CLDTOT_CLOUDSAT    Total cloud cover            9.731   \n",
       "                                         FLDS_ISCCP         LW down SRF                 14.450   \n",
       "                                         FLNS_ISCCP         LW net SRF                  11.967   \n",
       "                                         FLUT_CERES-EBAF    LW up Top                    6.855   \n",
       "                                         FLUT_CERES         LW up Top                    6.770   \n",
       "                                         FLUT_ERBE          LW up Top                    7.887   \n",
       "                                         FLUTC_CERES-EBAF   LW up Top Clearsky           6.042   \n",
       "                                         FLUTC_CERES        LW up Top Clearsky           8.384   \n",
       "                                         FLUTC_ERBE         LW up Top Clearsky           5.725   \n",
       "                                         FLNT_CAM           LW net Top                     NaN   \n",
       "                                         FSDS_ISCCP         SW down SRF                 13.380   \n",
       "                                         FSNS_ISCCP         SW net SRF                  12.711   \n",
       "                                         FSNS_LARYEA        SW net SRF                  36.124   \n",
       "                                         FSNTOA_CERES-EBAF                              10.530   \n",
       "                                         FSNTOA_CERES       SW net TOA                  12.307   \n",
       "                                         FSNTOA_ERBE        SW net TOA                  12.491   \n",
       "                                         FSNTOAC_CERES-EBAF                              7.845   \n",
       "                                         FSNTOAC_CERES      SW net TOA clearsky         18.458   \n",
       "                                         FSNTOAC_ERBE       SW net TOA clearsky         15.441   \n",
       "                                         FSNT_CAM           SW net Top                     NaN   \n",
       "                                         LHFLX_JRA25        Lat Heat Flux               17.176   \n",
       "                                         LHFLX_ERA40        Lat Heat Flux               19.019   \n",
       "                                         LHFLX_WHOI         Lat Heat Flux               30.655   \n",
       "...                                                                                        ...   \n",
       "N1850_f19_tn14_r265_ctrl_20180411 90-120 PRECT_GPCP         Precipitation                0.975   \n",
       "                                         PREH2O_NVAP        Precipitable water           2.867   \n",
       "                                         PREH2O_AIRS        Precipitable water           6.216   \n",
       "                                         PREH2O_JRA25       Precipitable water           6.216   \n",
       "                                         PREH2O_ERAI        Precipitable water           2.674   \n",
       "                                         PREH2O_ERA40       Precipitable water           2.373   \n",
       "                                         PSL_JRA25          SeaLev pressure              1.695   \n",
       "                                         PSL_ERAI           SeaLev pressure              1.669   \n",
       "                                         SHFLX_JRA25        Sens Heat Flux              11.202   \n",
       "                                         SHFLX_NCEP         Sens Heat Flux              14.963   \n",
       "                                         SHFLX_LARYEA       Sens Heat Flux              12.064   \n",
       "                                         STRESS_MAG_ERS                                  0.018   \n",
       "                                         STRESS_MAG_LARYEA                               0.019   \n",
       "                                         STRESS_MAG_JRA25                                0.021   \n",
       "                                         SWCF_CERES-EBAF    SW Cloud Forc                9.973   \n",
       "                                         SWCF_CERES         SW Cloud Forc               15.210   \n",
       "                                         SWCF_ERBE          SW Cloud Forc               14.753   \n",
       "                                         AODVIS             aerosol optical depth          NaN   \n",
       "                                         AODDUST            dust aerosol optical depth     NaN   \n",
       "                                         SST_HADISST        Sea Srf Temp                 1.430   \n",
       "                                         SST_HADISST_PI     SST preindustrial            1.732   \n",
       "                                         SST_HADISST_PD     SST present day              1.411   \n",
       "                                         TREFHT_LEGATES     2m Temp                      3.436   \n",
       "                                         TREFHT_JRA25       2m Temp                      2.147   \n",
       "                                         TS_NCEP            2m Temp                      2.663   \n",
       "                                         TS_LAND_NCEP       2m Temp land                 3.944   \n",
       "                                         U_200_JRA25        Zonal Wind                   3.342   \n",
       "                                         U_200_NCEP         Zonal Wind                   3.542   \n",
       "                                         Z3_500_JRA25       Geop Height                  0.199   \n",
       "                                         Z3_500_NCEP        Geop Height                  0.187   \n",
       "\n",
       "                                                                                        RMSE_ERR  \n",
       "Run                               Years  Variable           Description                           \n",
       "N1850C53CLM45L32_f09_tn11_191017  71-100 RESTOM             Top model net flux               NaN  \n",
       "                                         RESSURF            SRF net flux                     NaN  \n",
       "                                         RESTOA_CERES-EBAF  TOA  net flux              -0.014764  \n",
       "                                         RESTOA_ERBE        TOA  net flux               0.007827  \n",
       "                                         SOLIN_CERES-EBAF   Insolation                 -0.552279  \n",
       "                                         SOLIN_CERES        Insolation                 -0.044551  \n",
       "                                         CLDTOT_ISCCP       Total cloud cover          -0.089645  \n",
       "                                         CLDTOT_CLOUDSAT    Total cloud cover          -0.079172  \n",
       "                                         FLDS_ISCCP         LW down SRF                -0.100193  \n",
       "                                         FLNS_ISCCP         LW net SRF                 -0.142110  \n",
       "                                         FLUT_CERES-EBAF    LW up Top                  -0.015463  \n",
       "                                         FLUT_CERES         LW up Top                  -0.040691  \n",
       "                                         FLUT_ERBE          LW up Top                  -0.165029  \n",
       "                                         FLUTC_CERES-EBAF   LW up Top Clearsky          0.182079  \n",
       "                                         FLUTC_CERES        LW up Top Clearsky          0.216483  \n",
       "                                         FLUTC_ERBE         LW up Top Clearsky          0.040090  \n",
       "                                         FLNT_CAM           LW net Top                       NaN  \n",
       "                                         FSDS_ISCCP         SW down SRF                -0.126774  \n",
       "                                         FSNS_ISCCP         SW net SRF                 -0.039834  \n",
       "                                         FSNS_LARYEA        SW net SRF                 -0.068945  \n",
       "                                         FSNTOA_CERES-EBAF                             -0.074394  \n",
       "                                         FSNTOA_CERES       SW net TOA                  0.020650  \n",
       "                                         FSNTOA_ERBE        SW net TOA                 -0.136079  \n",
       "                                         FSNTOAC_CERES-EBAF                             0.031445  \n",
       "                                         FSNTOAC_CERES      SW net TOA clearsky         0.068048  \n",
       "                                         FSNTOAC_ERBE       SW net TOA clearsky         0.062296  \n",
       "                                         FSNT_CAM           SW net Top                       NaN  \n",
       "                                         LHFLX_JRA25        Lat Heat Flux               0.113433  \n",
       "                                         LHFLX_ERA40        Lat Heat Flux               0.118863  \n",
       "                                         LHFLX_WHOI         Lat Heat Flux               0.112482  \n",
       "...                                                                                          ...  \n",
       "N1850_f19_tn14_r265_ctrl_20180411 90-120 PRECT_GPCP         Precipitation              -0.055690  \n",
       "                                         PREH2O_NVAP        Precipitable water         -0.207938  \n",
       "                                         PREH2O_AIRS        Precipitable water         -0.100673  \n",
       "                                         PREH2O_JRA25       Precipitable water         -0.100673  \n",
       "                                         PREH2O_ERAI        Precipitable water         -0.208173  \n",
       "                                         PREH2O_ERA40       Precipitable water         -0.225101  \n",
       "                                         PSL_JRA25          SeaLev pressure            -0.007224  \n",
       "                                         PSL_ERAI           SeaLev pressure            -0.062711  \n",
       "                                         SHFLX_JRA25        Sens Heat Flux             -0.020647  \n",
       "                                         SHFLX_NCEP         Sens Heat Flux             -0.025836  \n",
       "                                         SHFLX_LARYEA       Sens Heat Flux             -0.036640  \n",
       "                                         STRESS_MAG_ERS                                -0.076923  \n",
       "                                         STRESS_MAG_LARYEA                             -0.042017  \n",
       "                                         STRESS_MAG_JRA25                              -0.015625  \n",
       "                                         SWCF_CERES-EBAF    SW Cloud Forc              -0.011824  \n",
       "                                         SWCF_CERES         SW Cloud Forc               0.034858  \n",
       "                                         SWCF_ERBE          SW Cloud Forc              -0.061594  \n",
       "                                         AODVIS             aerosol optical depth            NaN  \n",
       "                                         AODDUST            dust aerosol optical depth       NaN  \n",
       "                                         SST_HADISST        Sea Srf Temp               -0.110604  \n",
       "                                         SST_HADISST_PI     SST preindustrial          -0.073219  \n",
       "                                         SST_HADISST_PD     SST present day            -0.117941  \n",
       "                                         TREFHT_LEGATES     2m Temp                    -0.054572  \n",
       "                                         TREFHT_JRA25       2m Temp                    -0.096317  \n",
       "                                         TS_NCEP            2m Temp                    -0.053884  \n",
       "                                         TS_LAND_NCEP       2m Temp land               -0.026333  \n",
       "                                         U_200_JRA25        Zonal Wind                 -0.074024  \n",
       "                                         U_200_NCEP         Zonal Wind                 -0.061888  \n",
       "                                         Z3_500_JRA25       Geop Height                -0.343956  \n",
       "                                         Z3_500_NCEP        Geop Height                -0.363946  \n",
       "\n",
       "[378 rows x 6 columns]"
      ]
     },
     "execution_count": 13,
     "metadata": {},
     "output_type": "execute_result"
    }
   ],
   "source": [
    "merged = helpers.calc_and_add_relerror(merged, colname=\"RMSE\", unstack_indices=rmse_stats)\n",
    "merged"
   ]
  },
  {
   "cell_type": "markdown",
   "metadata": {
    "extensions": {
     "jupyter_dashboards": {
      "version": 1,
      "views": {
       "grid_default": {
        "col": 4,
        "height": 4,
        "hidden": false,
        "row": 35,
        "width": 4
       },
       "report_default": {
        "hidden": false
       }
      }
     }
    }
   },
   "source": [
    "#### 5.2 Interactive manipulation of Dataframe (DF_EDIT)\n",
    "\n",
    "The following table widget uses the loaded Dataframes and applies all settings that were defined above.  \n",
    "\n",
    "**NOTE**: the following interactive widget is a ***BETA*** version, please let me know if something does not work. It should prepare the dataframe according to your specified options above so that you can run the whole notebook and get your output even if parts of the interactivity do not work yet or if you do not wish to use interactivity."
   ]
  },
  {
   "cell_type": "code",
   "execution_count": 14,
   "metadata": {
    "extensions": {
     "jupyter_dashboards": {
      "version": 1,
      "views": {
       "grid_default": {
        "col": 8,
        "height": 5,
        "hidden": false,
        "row": 35,
        "width": 4
       },
       "report_default": {
        "hidden": false
       }
      }
     }
    }
   },
   "outputs": [
    {
     "data": {
      "application/vnd.jupyter.widget-view+json": {
       "model_id": "68a9e472b8fc4ef4b606b97349da0f40",
       "version_major": 2,
       "version_minor": 0
      },
      "text/plain": [
       "VBox(children=(Tab(children=(HBox(children=(VBox(children=(HBox(children=(Label(value='N1850C53CLM45L32_f09_tn…"
      ]
     },
     "metadata": {},
     "output_type": "display_data"
    }
   ],
   "source": [
    "from my_widgets import TableEditor\n",
    "EDITOR = TableEditor(df=merged, \n",
    "                     save_dir=output_dir, #defined above\n",
    "                     preconfig_file=vargroups_cfg, #defined above\n",
    "                     default_group=var_group, #defined above\n",
    "                     new_run_names=run_ids, #defined above\n",
    "                     add_to_index_vars=add_to_index, #defined above\n",
    "                     unstack_indices=unstack_indices) #defined above\n",
    "                   \n",
    "EDITOR()"
   ]
  },
  {
   "cell_type": "markdown",
   "metadata": {
    "extensions": {
     "jupyter_dashboards": {
      "version": 1,
      "views": {
       "grid_default": {
        "col": 4,
        "height": 4,
        "hidden": false,
        "row": 44,
        "width": 4
       },
       "report_default": {
        "hidden": false
       }
      }
     }
    }
   },
   "source": [
    "Now access the current selection and continue."
   ]
  },
  {
   "cell_type": "code",
   "execution_count": 15,
   "metadata": {
    "extensions": {
     "jupyter_dashboards": {
      "version": 1,
      "views": {
       "grid_default": {
        "col": 0,
        "height": 70,
        "hidden": false,
        "row": 77,
        "width": 7
       },
       "report_default": {
        "hidden": false
       }
      }
     }
    }
   },
   "outputs": [
    {
     "data": {
      "text/html": [
       "<div>\n",
       "<style scoped>\n",
       "    .dataframe tbody tr th:only-of-type {\n",
       "        vertical-align: middle;\n",
       "    }\n",
       "\n",
       "    .dataframe tbody tr th {\n",
       "        vertical-align: top;\n",
       "    }\n",
       "\n",
       "    .dataframe thead tr th {\n",
       "        text-align: left;\n",
       "    }\n",
       "\n",
       "    .dataframe thead tr:last-of-type th {\n",
       "        text-align: right;\n",
       "    }\n",
       "</style>\n",
       "<table border=\"1\" class=\"dataframe\">\n",
       "  <thead>\n",
       "    <tr>\n",
       "      <th></th>\n",
       "      <th></th>\n",
       "      <th colspan=\"6\" halign=\"left\">Flag</th>\n",
       "      <th colspan=\"4\" halign=\"left\">Model</th>\n",
       "      <th>...</th>\n",
       "      <th colspan=\"4\" halign=\"left\">RMSE</th>\n",
       "      <th colspan=\"6\" halign=\"left\">RMSE_ERR</th>\n",
       "    </tr>\n",
       "    <tr>\n",
       "      <th></th>\n",
       "      <th>Run</th>\n",
       "      <th>A</th>\n",
       "      <th>B</th>\n",
       "      <th colspan=\"3\" halign=\"left\">C</th>\n",
       "      <th>D</th>\n",
       "      <th>A</th>\n",
       "      <th>B</th>\n",
       "      <th colspan=\"2\" halign=\"left\">C</th>\n",
       "      <th>...</th>\n",
       "      <th colspan=\"3\" halign=\"left\">C</th>\n",
       "      <th>D</th>\n",
       "      <th>A</th>\n",
       "      <th>B</th>\n",
       "      <th colspan=\"3\" halign=\"left\">C</th>\n",
       "      <th>D</th>\n",
       "    </tr>\n",
       "    <tr>\n",
       "      <th></th>\n",
       "      <th>Years</th>\n",
       "      <th>71-100</th>\n",
       "      <th>1-20</th>\n",
       "      <th>185-215</th>\n",
       "      <th>310-340</th>\n",
       "      <th>80-110</th>\n",
       "      <th>90-120</th>\n",
       "      <th>71-100</th>\n",
       "      <th>1-20</th>\n",
       "      <th>185-215</th>\n",
       "      <th>310-340</th>\n",
       "      <th>...</th>\n",
       "      <th>185-215</th>\n",
       "      <th>310-340</th>\n",
       "      <th>80-110</th>\n",
       "      <th>90-120</th>\n",
       "      <th>71-100</th>\n",
       "      <th>1-20</th>\n",
       "      <th>185-215</th>\n",
       "      <th>310-340</th>\n",
       "      <th>80-110</th>\n",
       "      <th>90-120</th>\n",
       "    </tr>\n",
       "    <tr>\n",
       "      <th>Variable</th>\n",
       "      <th>Description</th>\n",
       "      <th></th>\n",
       "      <th></th>\n",
       "      <th></th>\n",
       "      <th></th>\n",
       "      <th></th>\n",
       "      <th></th>\n",
       "      <th></th>\n",
       "      <th></th>\n",
       "      <th></th>\n",
       "      <th></th>\n",
       "      <th></th>\n",
       "      <th></th>\n",
       "      <th></th>\n",
       "      <th></th>\n",
       "      <th></th>\n",
       "      <th></th>\n",
       "      <th></th>\n",
       "      <th></th>\n",
       "      <th></th>\n",
       "      <th></th>\n",
       "      <th></th>\n",
       "    </tr>\n",
       "  </thead>\n",
       "  <tbody>\n",
       "    <tr>\n",
       "      <th>RESTOM</th>\n",
       "      <th>Top model net flux</th>\n",
       "      <td>1.0</td>\n",
       "      <td>1.0</td>\n",
       "      <td>1.0</td>\n",
       "      <td>1.0</td>\n",
       "      <td>1.0</td>\n",
       "      <td>1.0</td>\n",
       "      <td>-0.489</td>\n",
       "      <td>0.987</td>\n",
       "      <td>0.468</td>\n",
       "      <td>0.327</td>\n",
       "      <td>...</td>\n",
       "      <td>NaN</td>\n",
       "      <td>NaN</td>\n",
       "      <td>NaN</td>\n",
       "      <td>NaN</td>\n",
       "      <td>NaN</td>\n",
       "      <td>NaN</td>\n",
       "      <td>NaN</td>\n",
       "      <td>NaN</td>\n",
       "      <td>NaN</td>\n",
       "      <td>NaN</td>\n",
       "    </tr>\n",
       "    <tr>\n",
       "      <th>RESSURF</th>\n",
       "      <th>SRF net flux</th>\n",
       "      <td>1.0</td>\n",
       "      <td>1.0</td>\n",
       "      <td>1.0</td>\n",
       "      <td>1.0</td>\n",
       "      <td>1.0</td>\n",
       "      <td>1.0</td>\n",
       "      <td>-0.489</td>\n",
       "      <td>0.974</td>\n",
       "      <td>0.474</td>\n",
       "      <td>0.337</td>\n",
       "      <td>...</td>\n",
       "      <td>NaN</td>\n",
       "      <td>NaN</td>\n",
       "      <td>NaN</td>\n",
       "      <td>NaN</td>\n",
       "      <td>NaN</td>\n",
       "      <td>NaN</td>\n",
       "      <td>NaN</td>\n",
       "      <td>NaN</td>\n",
       "      <td>NaN</td>\n",
       "      <td>NaN</td>\n",
       "    </tr>\n",
       "    <tr>\n",
       "      <th>RESTOA_CERES-EBAF</th>\n",
       "      <th>TOA  net flux</th>\n",
       "      <td>1.0</td>\n",
       "      <td>1.0</td>\n",
       "      <td>1.0</td>\n",
       "      <td>1.0</td>\n",
       "      <td>1.0</td>\n",
       "      <td>1.0</td>\n",
       "      <td>1.529</td>\n",
       "      <td>3.075</td>\n",
       "      <td>2.553</td>\n",
       "      <td>2.412</td>\n",
       "      <td>...</td>\n",
       "      <td>9.011</td>\n",
       "      <td>8.937</td>\n",
       "      <td>8.872</td>\n",
       "      <td>9.827</td>\n",
       "      <td>-0.014764</td>\n",
       "      <td>-0.068695</td>\n",
       "      <td>0.004067</td>\n",
       "      <td>-0.004179</td>\n",
       "      <td>-0.011421</td>\n",
       "      <td>0.094991</td>\n",
       "    </tr>\n",
       "    <tr>\n",
       "      <th>RESTOA_ERBE</th>\n",
       "      <th>TOA  net flux</th>\n",
       "      <td>1.0</td>\n",
       "      <td>1.0</td>\n",
       "      <td>1.0</td>\n",
       "      <td>1.0</td>\n",
       "      <td>1.0</td>\n",
       "      <td>1.0</td>\n",
       "      <td>1.529</td>\n",
       "      <td>3.075</td>\n",
       "      <td>2.553</td>\n",
       "      <td>2.412</td>\n",
       "      <td>...</td>\n",
       "      <td>8.977</td>\n",
       "      <td>8.906</td>\n",
       "      <td>8.772</td>\n",
       "      <td>9.180</td>\n",
       "      <td>0.007827</td>\n",
       "      <td>-0.024228</td>\n",
       "      <td>0.006146</td>\n",
       "      <td>-0.001812</td>\n",
       "      <td>-0.016831</td>\n",
       "      <td>0.028898</td>\n",
       "    </tr>\n",
       "  </tbody>\n",
       "</table>\n",
       "<p>4 rows × 36 columns</p>\n",
       "</div>"
      ],
      "text/plain": [
       "                                       Flag                              \\\n",
       "Run                                       A    B       C                  \n",
       "Years                                71-100 1-20 185-215 310-340 80-110   \n",
       "Variable          Description                                             \n",
       "RESTOM            Top model net flux    1.0  1.0     1.0     1.0    1.0   \n",
       "RESSURF           SRF net flux          1.0  1.0     1.0     1.0    1.0   \n",
       "RESTOA_CERES-EBAF TOA  net flux         1.0  1.0     1.0     1.0    1.0   \n",
       "RESTOA_ERBE       TOA  net flux         1.0  1.0     1.0     1.0    1.0   \n",
       "\n",
       "                                             Model                         \\\n",
       "Run                                       D      A      B       C           \n",
       "Years                                90-120 71-100   1-20 185-215 310-340   \n",
       "Variable          Description                                               \n",
       "RESTOM            Top model net flux    1.0 -0.489  0.987   0.468   0.327   \n",
       "RESSURF           SRF net flux          1.0 -0.489  0.974   0.474   0.337   \n",
       "RESTOA_CERES-EBAF TOA  net flux         1.0  1.529  3.075   2.553   2.412   \n",
       "RESTOA_ERBE       TOA  net flux         1.0  1.529  3.075   2.553   2.412   \n",
       "\n",
       "                                        ...       RMSE                        \\\n",
       "Run                                     ...          C                     D   \n",
       "Years                                   ...    185-215 310-340 80-110 90-120   \n",
       "Variable          Description           ...                                    \n",
       "RESTOM            Top model net flux    ...        NaN     NaN    NaN    NaN   \n",
       "RESSURF           SRF net flux          ...        NaN     NaN    NaN    NaN   \n",
       "RESTOA_CERES-EBAF TOA  net flux         ...      9.011   8.937  8.872  9.827   \n",
       "RESTOA_ERBE       TOA  net flux         ...      8.977   8.906  8.772  9.180   \n",
       "\n",
       "                                      RMSE_ERR                                \\\n",
       "Run                                          A         B         C             \n",
       "Years                                   71-100      1-20   185-215   310-340   \n",
       "Variable          Description                                                  \n",
       "RESTOM            Top model net flux       NaN       NaN       NaN       NaN   \n",
       "RESSURF           SRF net flux             NaN       NaN       NaN       NaN   \n",
       "RESTOA_CERES-EBAF TOA  net flux      -0.014764 -0.068695  0.004067 -0.004179   \n",
       "RESTOA_ERBE       TOA  net flux       0.007827 -0.024228  0.006146 -0.001812   \n",
       "\n",
       "                                                          \n",
       "Run                                                    D  \n",
       "Years                                   80-110    90-120  \n",
       "Variable          Description                             \n",
       "RESTOM            Top model net flux       NaN       NaN  \n",
       "RESSURF           SRF net flux             NaN       NaN  \n",
       "RESTOA_CERES-EBAF TOA  net flux      -0.011421  0.094991  \n",
       "RESTOA_ERBE       TOA  net flux      -0.016831  0.028898  \n",
       "\n",
       "[4 rows x 36 columns]"
      ]
     },
     "execution_count": 15,
     "metadata": {},
     "output_type": "execute_result"
    }
   ],
   "source": [
    "selection = EDITOR.df_edit\n",
    "selection"
   ]
  },
  {
   "cell_type": "markdown",
   "metadata": {
    "extensions": {
     "jupyter_dashboards": {
      "version": 1,
      "views": {
       "grid_default": {
        "col": 0,
        "height": 5,
        "hidden": false,
        "row": 169,
        "width": 12
       },
       "report_default": {
        "hidden": false
       }
      }
     }
    }
   },
   "source": [
    "#### 5.3 Extracting the Bias of each model run relative to the observations (GET_BIAS)\n",
    "\n",
    "Retrieving a table that illustrates the Bias of each run for each flagged variable is straight forward. We just extract the `Bias` column from our flagged frame:"
   ]
  },
  {
   "cell_type": "code",
   "execution_count": 16,
   "metadata": {
    "extensions": {
     "jupyter_dashboards": {
      "version": 1,
      "views": {
       "grid_default": {
        "col": 0,
        "height": 16,
        "hidden": false,
        "row": 174,
        "width": 7
       },
       "report_default": {
        "hidden": false
       }
      }
     }
    }
   },
   "outputs": [
    {
     "data": {
      "text/html": [
       "<div>\n",
       "<style scoped>\n",
       "    .dataframe tbody tr th:only-of-type {\n",
       "        vertical-align: middle;\n",
       "    }\n",
       "\n",
       "    .dataframe tbody tr th {\n",
       "        vertical-align: top;\n",
       "    }\n",
       "\n",
       "    .dataframe thead tr th {\n",
       "        text-align: left;\n",
       "    }\n",
       "\n",
       "    .dataframe thead tr:last-of-type th {\n",
       "        text-align: right;\n",
       "    }\n",
       "</style>\n",
       "<table border=\"1\" class=\"dataframe\">\n",
       "  <thead>\n",
       "    <tr>\n",
       "      <th></th>\n",
       "      <th>Run</th>\n",
       "      <th>A</th>\n",
       "      <th>B</th>\n",
       "      <th colspan=\"3\" halign=\"left\">C</th>\n",
       "      <th>D</th>\n",
       "    </tr>\n",
       "    <tr>\n",
       "      <th></th>\n",
       "      <th>Years</th>\n",
       "      <th>71-100</th>\n",
       "      <th>1-20</th>\n",
       "      <th>185-215</th>\n",
       "      <th>310-340</th>\n",
       "      <th>80-110</th>\n",
       "      <th>90-120</th>\n",
       "    </tr>\n",
       "    <tr>\n",
       "      <th>Variable</th>\n",
       "      <th>Description</th>\n",
       "      <th></th>\n",
       "      <th></th>\n",
       "      <th></th>\n",
       "      <th></th>\n",
       "      <th></th>\n",
       "      <th></th>\n",
       "    </tr>\n",
       "  </thead>\n",
       "  <tbody>\n",
       "    <tr>\n",
       "      <th>RESTOM</th>\n",
       "      <th>Top model net flux</th>\n",
       "      <td>-0.489</td>\n",
       "      <td>0.987</td>\n",
       "      <td>0.468</td>\n",
       "      <td>0.327</td>\n",
       "      <td>0.647</td>\n",
       "      <td>-0.075</td>\n",
       "    </tr>\n",
       "    <tr>\n",
       "      <th>RESSURF</th>\n",
       "      <th>SRF net flux</th>\n",
       "      <td>-0.489</td>\n",
       "      <td>0.974</td>\n",
       "      <td>0.474</td>\n",
       "      <td>0.337</td>\n",
       "      <td>0.643</td>\n",
       "      <td>-0.075</td>\n",
       "    </tr>\n",
       "    <tr>\n",
       "      <th>RESTOA_CERES-EBAF</th>\n",
       "      <th>TOA  net flux</th>\n",
       "      <td>0.537</td>\n",
       "      <td>2.083</td>\n",
       "      <td>1.561</td>\n",
       "      <td>1.420</td>\n",
       "      <td>1.741</td>\n",
       "      <td>1.021</td>\n",
       "    </tr>\n",
       "    <tr>\n",
       "      <th>RESTOA_ERBE</th>\n",
       "      <th>TOA  net flux</th>\n",
       "      <td>1.470</td>\n",
       "      <td>3.017</td>\n",
       "      <td>2.494</td>\n",
       "      <td>2.353</td>\n",
       "      <td>2.674</td>\n",
       "      <td>1.954</td>\n",
       "    </tr>\n",
       "  </tbody>\n",
       "</table>\n",
       "</div>"
      ],
      "text/plain": [
       "Run                                       A      B       C                 \\\n",
       "Years                                71-100   1-20 185-215 310-340 80-110   \n",
       "Variable          Description                                               \n",
       "RESTOM            Top model net flux -0.489  0.987   0.468   0.327  0.647   \n",
       "RESSURF           SRF net flux       -0.489  0.974   0.474   0.337  0.643   \n",
       "RESTOA_CERES-EBAF TOA  net flux       0.537  2.083   1.561   1.420  1.741   \n",
       "RESTOA_ERBE       TOA  net flux       1.470  3.017   2.494   2.353  2.674   \n",
       "\n",
       "Run                                       D  \n",
       "Years                                90-120  \n",
       "Variable          Description                \n",
       "RESTOM            Top model net flux -0.075  \n",
       "RESSURF           SRF net flux       -0.075  \n",
       "RESTOA_CERES-EBAF TOA  net flux       1.021  \n",
       "RESTOA_ERBE       TOA  net flux       1.954  "
      ]
     },
     "execution_count": 16,
     "metadata": {},
     "output_type": "execute_result"
    }
   ],
   "source": [
    "bias = selection[\"Bias\"]\n",
    "bias"
   ]
  },
  {
   "cell_type": "markdown",
   "metadata": {},
   "source": [
    "#### 5.4 Extracting the RMSE error of each model run relative to the observations (GET_RMSE_ERR)\n",
    "\n",
    "In section 5.1 we computed and added the relative RMSE error as a new column to the original table. These data can now be accessed as simply as the ``Bias`` table:"
   ]
  },
  {
   "cell_type": "code",
   "execution_count": 17,
   "metadata": {
    "extensions": {
     "jupyter_dashboards": {
      "version": 1,
      "views": {
       "grid_default": {
        "col": 0,
        "height": 16,
        "hidden": false,
        "row": 214,
        "width": 8
       },
       "report_default": {
        "hidden": false
       }
      }
     }
    }
   },
   "outputs": [
    {
     "data": {
      "text/html": [
       "<div>\n",
       "<style scoped>\n",
       "    .dataframe tbody tr th:only-of-type {\n",
       "        vertical-align: middle;\n",
       "    }\n",
       "\n",
       "    .dataframe tbody tr th {\n",
       "        vertical-align: top;\n",
       "    }\n",
       "\n",
       "    .dataframe thead tr th {\n",
       "        text-align: left;\n",
       "    }\n",
       "\n",
       "    .dataframe thead tr:last-of-type th {\n",
       "        text-align: right;\n",
       "    }\n",
       "</style>\n",
       "<table border=\"1\" class=\"dataframe\">\n",
       "  <thead>\n",
       "    <tr>\n",
       "      <th></th>\n",
       "      <th>Run</th>\n",
       "      <th>A</th>\n",
       "      <th>B</th>\n",
       "      <th colspan=\"3\" halign=\"left\">C</th>\n",
       "      <th>D</th>\n",
       "    </tr>\n",
       "    <tr>\n",
       "      <th></th>\n",
       "      <th>Years</th>\n",
       "      <th>71-100</th>\n",
       "      <th>1-20</th>\n",
       "      <th>185-215</th>\n",
       "      <th>310-340</th>\n",
       "      <th>80-110</th>\n",
       "      <th>90-120</th>\n",
       "    </tr>\n",
       "    <tr>\n",
       "      <th>Variable</th>\n",
       "      <th>Description</th>\n",
       "      <th></th>\n",
       "      <th></th>\n",
       "      <th></th>\n",
       "      <th></th>\n",
       "      <th></th>\n",
       "      <th></th>\n",
       "    </tr>\n",
       "  </thead>\n",
       "  <tbody>\n",
       "    <tr>\n",
       "      <th>RESTOM</th>\n",
       "      <th>Top model net flux</th>\n",
       "      <td>NaN</td>\n",
       "      <td>NaN</td>\n",
       "      <td>NaN</td>\n",
       "      <td>NaN</td>\n",
       "      <td>NaN</td>\n",
       "      <td>NaN</td>\n",
       "    </tr>\n",
       "    <tr>\n",
       "      <th>RESSURF</th>\n",
       "      <th>SRF net flux</th>\n",
       "      <td>NaN</td>\n",
       "      <td>NaN</td>\n",
       "      <td>NaN</td>\n",
       "      <td>NaN</td>\n",
       "      <td>NaN</td>\n",
       "      <td>NaN</td>\n",
       "    </tr>\n",
       "    <tr>\n",
       "      <th>RESTOA_CERES-EBAF</th>\n",
       "      <th>TOA  net flux</th>\n",
       "      <td>-0.014764</td>\n",
       "      <td>-0.068695</td>\n",
       "      <td>0.004067</td>\n",
       "      <td>-0.004179</td>\n",
       "      <td>-0.011421</td>\n",
       "      <td>0.094991</td>\n",
       "    </tr>\n",
       "    <tr>\n",
       "      <th>RESTOA_ERBE</th>\n",
       "      <th>TOA  net flux</th>\n",
       "      <td>0.007827</td>\n",
       "      <td>-0.024228</td>\n",
       "      <td>0.006146</td>\n",
       "      <td>-0.001812</td>\n",
       "      <td>-0.016831</td>\n",
       "      <td>0.028898</td>\n",
       "    </tr>\n",
       "  </tbody>\n",
       "</table>\n",
       "</div>"
      ],
      "text/plain": [
       "Run                                          A         B         C            \\\n",
       "Years                                   71-100      1-20   185-215   310-340   \n",
       "Variable          Description                                                  \n",
       "RESTOM            Top model net flux       NaN       NaN       NaN       NaN   \n",
       "RESSURF           SRF net flux             NaN       NaN       NaN       NaN   \n",
       "RESTOA_CERES-EBAF TOA  net flux      -0.014764 -0.068695  0.004067 -0.004179   \n",
       "RESTOA_ERBE       TOA  net flux       0.007827 -0.024228  0.006146 -0.001812   \n",
       "\n",
       "Run                                                    D  \n",
       "Years                                   80-110    90-120  \n",
       "Variable          Description                             \n",
       "RESTOM            Top model net flux       NaN       NaN  \n",
       "RESSURF           SRF net flux             NaN       NaN  \n",
       "RESTOA_CERES-EBAF TOA  net flux      -0.011421  0.094991  \n",
       "RESTOA_ERBE       TOA  net flux      -0.016831  0.028898  "
      ]
     },
     "execution_count": 17,
     "metadata": {},
     "output_type": "execute_result"
    }
   ],
   "source": [
    "rmse_err_rel = selection[\"RMSE_ERR\"]\n",
    "rmse_err_rel"
   ]
  },
  {
   "cell_type": "markdown",
   "metadata": {
    "extensions": {
     "jupyter_dashboards": {
      "version": 1,
      "views": {
       "grid_default": {
        "col": 0,
        "height": 8,
        "hidden": false,
        "row": 306,
        "width": 12
       },
       "report_default": {
        "hidden": false
       }
      }
     }
    }
   },
   "source": [
    "### 6. Conditional formatting of tables (Dataframes) (VISUALISE)\n",
    "\n",
    "This section illustrates, how we can perform conditional formatting of the color tables. This can either be performed in the browser (rendering of HTML representation of Dataframe) or by plotting them as a heatmap using the [seaborn library](https://seaborn.pydata.org/generated/seaborn.heatmap.html)."
   ]
  },
  {
   "cell_type": "markdown",
   "metadata": {},
   "source": [
    "#### 6.1 HTML preview using pandas styling options (DISP_HTML_NOSAVE)\n",
    "\n",
    "Use [pandas styling options](https://pandas.pydata.org/pandas-docs/stable/style.html) to render color formatted table preview. Gets us a nice preview, problem is, however, that it cannot be exported as png, pdf, etc. out of the box.\n",
    "\n",
    "In the following, we use a custom display method `my_table_display` (that is defined in [helper_funcs.py](https://github.com/jgliss/my_py3_scripts/blob/master/notebooks/helper_funcs.py)) in order to perform colour formatting considering all rows and columns at the same time and furthermore, using a diverging colour map that is dynamically shifted such that value 0 corresponds to the colour white (method `shifted_color_map`) also if `-vmin != vmax` (like usually)."
   ]
  },
  {
   "cell_type": "code",
   "execution_count": 18,
   "metadata": {
    "extensions": {
     "jupyter_dashboards": {
      "version": 1,
      "views": {
       "grid_default": {
        "col": 0,
        "height": 16,
        "hidden": false,
        "row": 368,
        "width": 7
       },
       "report_default": {
        "hidden": false
       }
      }
     }
    }
   },
   "outputs": [
    {
     "data": {
      "text/html": [
       "<style  type=\"text/css\" >\n",
       "    #T_970573a6_745e_11e8_b1c5_80ce6220aa9erow0_col0 {\n",
       "            background-color:  #c9c9ff;\n",
       "            : ;\n",
       "        }    #T_970573a6_745e_11e8_b1c5_80ce6220aa9erow0_col1 {\n",
       "            background-color:  #ffcaca;\n",
       "            : ;\n",
       "        }    #T_970573a6_745e_11e8_b1c5_80ce6220aa9erow0_col2 {\n",
       "            background-color:  #ffe6e6;\n",
       "            : ;\n",
       "        }    #T_970573a6_745e_11e8_b1c5_80ce6220aa9erow0_col3 {\n",
       "            background-color:  #ffeded;\n",
       "            : ;\n",
       "        }    #T_970573a6_745e_11e8_b1c5_80ce6220aa9erow0_col4 {\n",
       "            background-color:  #ffdbdb;\n",
       "            : ;\n",
       "        }    #T_970573a6_745e_11e8_b1c5_80ce6220aa9erow0_col5 {\n",
       "            background-color:  #f8f8ff;\n",
       "            : ;\n",
       "        }    #T_970573a6_745e_11e8_b1c5_80ce6220aa9erow1_col0 {\n",
       "            background-color:  #c9c9ff;\n",
       "            : ;\n",
       "        }    #T_970573a6_745e_11e8_b1c5_80ce6220aa9erow1_col1 {\n",
       "            background-color:  #ffcaca;\n",
       "            : ;\n",
       "        }    #T_970573a6_745e_11e8_b1c5_80ce6220aa9erow1_col2 {\n",
       "            background-color:  #ffe4e4;\n",
       "            : ;\n",
       "        }    #T_970573a6_745e_11e8_b1c5_80ce6220aa9erow1_col3 {\n",
       "            background-color:  #ffecec;\n",
       "            : ;\n",
       "        }    #T_970573a6_745e_11e8_b1c5_80ce6220aa9erow1_col4 {\n",
       "            background-color:  #ffdbdb;\n",
       "            : ;\n",
       "        }    #T_970573a6_745e_11e8_b1c5_80ce6220aa9erow1_col5 {\n",
       "            background-color:  #f8f8ff;\n",
       "            : ;\n",
       "        }    #T_970573a6_745e_11e8_b1c5_80ce6220aa9erow2_col0 {\n",
       "            background-color:  #ffe1e1;\n",
       "            : ;\n",
       "        }    #T_970573a6_745e_11e8_b1c5_80ce6220aa9erow2_col1 {\n",
       "            background-color:  #ff8f8f;\n",
       "            : ;\n",
       "        }    #T_970573a6_745e_11e8_b1c5_80ce6220aa9erow2_col2 {\n",
       "            background-color:  #ffabab;\n",
       "            : ;\n",
       "        }    #T_970573a6_745e_11e8_b1c5_80ce6220aa9erow2_col3 {\n",
       "            background-color:  #ffb2b2;\n",
       "            : ;\n",
       "        }    #T_970573a6_745e_11e8_b1c5_80ce6220aa9erow2_col4 {\n",
       "            background-color:  #ffa0a0;\n",
       "            : ;\n",
       "        }    #T_970573a6_745e_11e8_b1c5_80ce6220aa9erow2_col5 {\n",
       "            background-color:  #ffc7c7;\n",
       "            : ;\n",
       "        }    #T_970573a6_745e_11e8_b1c5_80ce6220aa9erow3_col0 {\n",
       "            background-color:  #ffafaf;\n",
       "            : ;\n",
       "        }    #T_970573a6_745e_11e8_b1c5_80ce6220aa9erow3_col1 {\n",
       "            background-color:  #ff5b5b;\n",
       "            : ;\n",
       "        }    #T_970573a6_745e_11e8_b1c5_80ce6220aa9erow3_col2 {\n",
       "            background-color:  #ff7878;\n",
       "            : ;\n",
       "        }    #T_970573a6_745e_11e8_b1c5_80ce6220aa9erow3_col3 {\n",
       "            background-color:  #ff8080;\n",
       "            : ;\n",
       "        }    #T_970573a6_745e_11e8_b1c5_80ce6220aa9erow3_col4 {\n",
       "            background-color:  #ff6e6e;\n",
       "            : ;\n",
       "        }    #T_970573a6_745e_11e8_b1c5_80ce6220aa9erow3_col5 {\n",
       "            background-color:  #ff9595;\n",
       "            : ;\n",
       "        }</style>  \n",
       "<table id=\"T_970573a6_745e_11e8_b1c5_80ce6220aa9e\" > \n",
       "<thead>    <tr> \n",
       "        <th class=\"blank\" ></th> \n",
       "        <th class=\"index_name level0\" >Run</th> \n",
       "        <th class=\"col_heading level0 col0\" >A</th> \n",
       "        <th class=\"col_heading level0 col1\" >B</th> \n",
       "        <th class=\"col_heading level0 col2\" colspan=3>C</th> \n",
       "        <th class=\"col_heading level0 col5\" >D</th> \n",
       "    </tr>    <tr> \n",
       "        <th class=\"blank\" ></th> \n",
       "        <th class=\"index_name level1\" >Years</th> \n",
       "        <th class=\"col_heading level1 col0\" >71-100</th> \n",
       "        <th class=\"col_heading level1 col1\" >1-20</th> \n",
       "        <th class=\"col_heading level1 col2\" >185-215</th> \n",
       "        <th class=\"col_heading level1 col3\" >310-340</th> \n",
       "        <th class=\"col_heading level1 col4\" >80-110</th> \n",
       "        <th class=\"col_heading level1 col5\" >90-120</th> \n",
       "    </tr>    <tr> \n",
       "        <th class=\"index_name level0\" >Variable</th> \n",
       "        <th class=\"index_name level1\" >Description</th> \n",
       "        <th class=\"blank\" ></th> \n",
       "        <th class=\"blank\" ></th> \n",
       "        <th class=\"blank\" ></th> \n",
       "        <th class=\"blank\" ></th> \n",
       "        <th class=\"blank\" ></th> \n",
       "        <th class=\"blank\" ></th> \n",
       "    </tr></thead> \n",
       "<tbody>    <tr> \n",
       "        <th id=\"T_970573a6_745e_11e8_b1c5_80ce6220aa9elevel0_row0\" class=\"row_heading level0 row0\" >RESTOM</th> \n",
       "        <th id=\"T_970573a6_745e_11e8_b1c5_80ce6220aa9elevel1_row0\" class=\"row_heading level1 row0\" >Top model net flux</th> \n",
       "        <td id=\"T_970573a6_745e_11e8_b1c5_80ce6220aa9erow0_col0\" class=\"data row0 col0\" >-0.49</td> \n",
       "        <td id=\"T_970573a6_745e_11e8_b1c5_80ce6220aa9erow0_col1\" class=\"data row0 col1\" >0.99</td> \n",
       "        <td id=\"T_970573a6_745e_11e8_b1c5_80ce6220aa9erow0_col2\" class=\"data row0 col2\" >0.47</td> \n",
       "        <td id=\"T_970573a6_745e_11e8_b1c5_80ce6220aa9erow0_col3\" class=\"data row0 col3\" >0.33</td> \n",
       "        <td id=\"T_970573a6_745e_11e8_b1c5_80ce6220aa9erow0_col4\" class=\"data row0 col4\" >0.65</td> \n",
       "        <td id=\"T_970573a6_745e_11e8_b1c5_80ce6220aa9erow0_col5\" class=\"data row0 col5\" >-0.07</td> \n",
       "    </tr>    <tr> \n",
       "        <th id=\"T_970573a6_745e_11e8_b1c5_80ce6220aa9elevel0_row1\" class=\"row_heading level0 row1\" >RESSURF</th> \n",
       "        <th id=\"T_970573a6_745e_11e8_b1c5_80ce6220aa9elevel1_row1\" class=\"row_heading level1 row1\" >SRF net flux</th> \n",
       "        <td id=\"T_970573a6_745e_11e8_b1c5_80ce6220aa9erow1_col0\" class=\"data row1 col0\" >-0.49</td> \n",
       "        <td id=\"T_970573a6_745e_11e8_b1c5_80ce6220aa9erow1_col1\" class=\"data row1 col1\" >0.97</td> \n",
       "        <td id=\"T_970573a6_745e_11e8_b1c5_80ce6220aa9erow1_col2\" class=\"data row1 col2\" >0.47</td> \n",
       "        <td id=\"T_970573a6_745e_11e8_b1c5_80ce6220aa9erow1_col3\" class=\"data row1 col3\" >0.34</td> \n",
       "        <td id=\"T_970573a6_745e_11e8_b1c5_80ce6220aa9erow1_col4\" class=\"data row1 col4\" >0.64</td> \n",
       "        <td id=\"T_970573a6_745e_11e8_b1c5_80ce6220aa9erow1_col5\" class=\"data row1 col5\" >-0.07</td> \n",
       "    </tr>    <tr> \n",
       "        <th id=\"T_970573a6_745e_11e8_b1c5_80ce6220aa9elevel0_row2\" class=\"row_heading level0 row2\" >RESTOA_CERES-EBAF</th> \n",
       "        <th id=\"T_970573a6_745e_11e8_b1c5_80ce6220aa9elevel1_row2\" class=\"row_heading level1 row2\" >TOA  net flux</th> \n",
       "        <td id=\"T_970573a6_745e_11e8_b1c5_80ce6220aa9erow2_col0\" class=\"data row2 col0\" >0.54</td> \n",
       "        <td id=\"T_970573a6_745e_11e8_b1c5_80ce6220aa9erow2_col1\" class=\"data row2 col1\" >2.08</td> \n",
       "        <td id=\"T_970573a6_745e_11e8_b1c5_80ce6220aa9erow2_col2\" class=\"data row2 col2\" >1.56</td> \n",
       "        <td id=\"T_970573a6_745e_11e8_b1c5_80ce6220aa9erow2_col3\" class=\"data row2 col3\" >1.42</td> \n",
       "        <td id=\"T_970573a6_745e_11e8_b1c5_80ce6220aa9erow2_col4\" class=\"data row2 col4\" >1.74</td> \n",
       "        <td id=\"T_970573a6_745e_11e8_b1c5_80ce6220aa9erow2_col5\" class=\"data row2 col5\" >1.02</td> \n",
       "    </tr>    <tr> \n",
       "        <th id=\"T_970573a6_745e_11e8_b1c5_80ce6220aa9elevel0_row3\" class=\"row_heading level0 row3\" >RESTOA_ERBE</th> \n",
       "        <th id=\"T_970573a6_745e_11e8_b1c5_80ce6220aa9elevel1_row3\" class=\"row_heading level1 row3\" >TOA  net flux</th> \n",
       "        <td id=\"T_970573a6_745e_11e8_b1c5_80ce6220aa9erow3_col0\" class=\"data row3 col0\" >1.47</td> \n",
       "        <td id=\"T_970573a6_745e_11e8_b1c5_80ce6220aa9erow3_col1\" class=\"data row3 col1\" >3.02</td> \n",
       "        <td id=\"T_970573a6_745e_11e8_b1c5_80ce6220aa9erow3_col2\" class=\"data row3 col2\" >2.49</td> \n",
       "        <td id=\"T_970573a6_745e_11e8_b1c5_80ce6220aa9erow3_col3\" class=\"data row3 col3\" >2.35</td> \n",
       "        <td id=\"T_970573a6_745e_11e8_b1c5_80ce6220aa9erow3_col4\" class=\"data row3 col4\" >2.67</td> \n",
       "        <td id=\"T_970573a6_745e_11e8_b1c5_80ce6220aa9erow3_col5\" class=\"data row3 col5\" >1.95</td> \n",
       "    </tr></tbody> \n",
       "</table> "
      ],
      "text/plain": [
       "<pandas.io.formats.style.Styler at 0x7fdcd06825f8>"
      ]
     },
     "execution_count": 18,
     "metadata": {},
     "output_type": "execute_result"
    }
   ],
   "source": [
    "from helper_funcs import my_table_display\n",
    "my_table_display(bias)"
   ]
  },
  {
   "cell_type": "code",
   "execution_count": 19,
   "metadata": {},
   "outputs": [
    {
     "data": {
      "text/html": [
       "<style  type=\"text/css\" >\n",
       "    #T_9722eaa8_745e_11e8_b1c5_80ce6220aa9erow0_col0 {\n",
       "            background-color:  #0000ff;\n",
       "            background-color:  white;\n",
       "        }    #T_9722eaa8_745e_11e8_b1c5_80ce6220aa9erow0_col1 {\n",
       "            background-color:  #0000ff;\n",
       "            background-color:  white;\n",
       "        }    #T_9722eaa8_745e_11e8_b1c5_80ce6220aa9erow0_col2 {\n",
       "            background-color:  #0000ff;\n",
       "            background-color:  white;\n",
       "        }    #T_9722eaa8_745e_11e8_b1c5_80ce6220aa9erow0_col3 {\n",
       "            background-color:  #0000ff;\n",
       "            background-color:  white;\n",
       "        }    #T_9722eaa8_745e_11e8_b1c5_80ce6220aa9erow0_col4 {\n",
       "            background-color:  #0000ff;\n",
       "            background-color:  white;\n",
       "        }    #T_9722eaa8_745e_11e8_b1c5_80ce6220aa9erow0_col5 {\n",
       "            background-color:  #0000ff;\n",
       "            background-color:  white;\n",
       "        }    #T_9722eaa8_745e_11e8_b1c5_80ce6220aa9erow1_col0 {\n",
       "            background-color:  #0000ff;\n",
       "            background-color:  white;\n",
       "        }    #T_9722eaa8_745e_11e8_b1c5_80ce6220aa9erow1_col1 {\n",
       "            background-color:  #0000ff;\n",
       "            background-color:  white;\n",
       "        }    #T_9722eaa8_745e_11e8_b1c5_80ce6220aa9erow1_col2 {\n",
       "            background-color:  #0000ff;\n",
       "            background-color:  white;\n",
       "        }    #T_9722eaa8_745e_11e8_b1c5_80ce6220aa9erow1_col3 {\n",
       "            background-color:  #0000ff;\n",
       "            background-color:  white;\n",
       "        }    #T_9722eaa8_745e_11e8_b1c5_80ce6220aa9erow1_col4 {\n",
       "            background-color:  #0000ff;\n",
       "            background-color:  white;\n",
       "        }    #T_9722eaa8_745e_11e8_b1c5_80ce6220aa9erow1_col5 {\n",
       "            background-color:  #0000ff;\n",
       "            background-color:  white;\n",
       "        }    #T_9722eaa8_745e_11e8_b1c5_80ce6220aa9erow2_col0 {\n",
       "            background-color:  #e7e7ff;\n",
       "            : ;\n",
       "        }    #T_9722eaa8_745e_11e8_b1c5_80ce6220aa9erow2_col1 {\n",
       "            background-color:  #8c8cff;\n",
       "            : ;\n",
       "        }    #T_9722eaa8_745e_11e8_b1c5_80ce6220aa9erow2_col2 {\n",
       "            background-color:  #fff9f9;\n",
       "            : ;\n",
       "        }    #T_9722eaa8_745e_11e8_b1c5_80ce6220aa9erow2_col3 {\n",
       "            background-color:  #f9f9ff;\n",
       "            : ;\n",
       "        }    #T_9722eaa8_745e_11e8_b1c5_80ce6220aa9erow2_col4 {\n",
       "            background-color:  #ececff;\n",
       "            : ;\n",
       "        }    #T_9722eaa8_745e_11e8_b1c5_80ce6220aa9erow2_col5 {\n",
       "            background-color:  #ff7373;\n",
       "            : ;\n",
       "        }    #T_9722eaa8_745e_11e8_b1c5_80ce6220aa9erow3_col0 {\n",
       "            background-color:  #fff3f3;\n",
       "            : ;\n",
       "        }    #T_9722eaa8_745e_11e8_b1c5_80ce6220aa9erow3_col1 {\n",
       "            background-color:  #d6d6ff;\n",
       "            : ;\n",
       "        }    #T_9722eaa8_745e_11e8_b1c5_80ce6220aa9erow3_col2 {\n",
       "            background-color:  #fff5f5;\n",
       "            : ;\n",
       "        }    #T_9722eaa8_745e_11e8_b1c5_80ce6220aa9erow3_col3 {\n",
       "            background-color:  #fdfdff;\n",
       "            : ;\n",
       "        }    #T_9722eaa8_745e_11e8_b1c5_80ce6220aa9erow3_col4 {\n",
       "            background-color:  #e3e3ff;\n",
       "            : ;\n",
       "        }    #T_9722eaa8_745e_11e8_b1c5_80ce6220aa9erow3_col5 {\n",
       "            background-color:  #ffd4d4;\n",
       "            : ;\n",
       "        }</style>  \n",
       "<table id=\"T_9722eaa8_745e_11e8_b1c5_80ce6220aa9e\" > \n",
       "<thead>    <tr> \n",
       "        <th class=\"blank\" ></th> \n",
       "        <th class=\"index_name level0\" >Run</th> \n",
       "        <th class=\"col_heading level0 col0\" >A</th> \n",
       "        <th class=\"col_heading level0 col1\" >B</th> \n",
       "        <th class=\"col_heading level0 col2\" colspan=3>C</th> \n",
       "        <th class=\"col_heading level0 col5\" >D</th> \n",
       "    </tr>    <tr> \n",
       "        <th class=\"blank\" ></th> \n",
       "        <th class=\"index_name level1\" >Years</th> \n",
       "        <th class=\"col_heading level1 col0\" >71-100</th> \n",
       "        <th class=\"col_heading level1 col1\" >1-20</th> \n",
       "        <th class=\"col_heading level1 col2\" >185-215</th> \n",
       "        <th class=\"col_heading level1 col3\" >310-340</th> \n",
       "        <th class=\"col_heading level1 col4\" >80-110</th> \n",
       "        <th class=\"col_heading level1 col5\" >90-120</th> \n",
       "    </tr>    <tr> \n",
       "        <th class=\"index_name level0\" >Variable</th> \n",
       "        <th class=\"index_name level1\" >Description</th> \n",
       "        <th class=\"blank\" ></th> \n",
       "        <th class=\"blank\" ></th> \n",
       "        <th class=\"blank\" ></th> \n",
       "        <th class=\"blank\" ></th> \n",
       "        <th class=\"blank\" ></th> \n",
       "        <th class=\"blank\" ></th> \n",
       "    </tr></thead> \n",
       "<tbody>    <tr> \n",
       "        <th id=\"T_9722eaa8_745e_11e8_b1c5_80ce6220aa9elevel0_row0\" class=\"row_heading level0 row0\" >RESTOM</th> \n",
       "        <th id=\"T_9722eaa8_745e_11e8_b1c5_80ce6220aa9elevel1_row0\" class=\"row_heading level1 row0\" >Top model net flux</th> \n",
       "        <td id=\"T_9722eaa8_745e_11e8_b1c5_80ce6220aa9erow0_col0\" class=\"data row0 col0\" >nan</td> \n",
       "        <td id=\"T_9722eaa8_745e_11e8_b1c5_80ce6220aa9erow0_col1\" class=\"data row0 col1\" >nan</td> \n",
       "        <td id=\"T_9722eaa8_745e_11e8_b1c5_80ce6220aa9erow0_col2\" class=\"data row0 col2\" >nan</td> \n",
       "        <td id=\"T_9722eaa8_745e_11e8_b1c5_80ce6220aa9erow0_col3\" class=\"data row0 col3\" >nan</td> \n",
       "        <td id=\"T_9722eaa8_745e_11e8_b1c5_80ce6220aa9erow0_col4\" class=\"data row0 col4\" >nan</td> \n",
       "        <td id=\"T_9722eaa8_745e_11e8_b1c5_80ce6220aa9erow0_col5\" class=\"data row0 col5\" >nan</td> \n",
       "    </tr>    <tr> \n",
       "        <th id=\"T_9722eaa8_745e_11e8_b1c5_80ce6220aa9elevel0_row1\" class=\"row_heading level0 row1\" >RESSURF</th> \n",
       "        <th id=\"T_9722eaa8_745e_11e8_b1c5_80ce6220aa9elevel1_row1\" class=\"row_heading level1 row1\" >SRF net flux</th> \n",
       "        <td id=\"T_9722eaa8_745e_11e8_b1c5_80ce6220aa9erow1_col0\" class=\"data row1 col0\" >nan</td> \n",
       "        <td id=\"T_9722eaa8_745e_11e8_b1c5_80ce6220aa9erow1_col1\" class=\"data row1 col1\" >nan</td> \n",
       "        <td id=\"T_9722eaa8_745e_11e8_b1c5_80ce6220aa9erow1_col2\" class=\"data row1 col2\" >nan</td> \n",
       "        <td id=\"T_9722eaa8_745e_11e8_b1c5_80ce6220aa9erow1_col3\" class=\"data row1 col3\" >nan</td> \n",
       "        <td id=\"T_9722eaa8_745e_11e8_b1c5_80ce6220aa9erow1_col4\" class=\"data row1 col4\" >nan</td> \n",
       "        <td id=\"T_9722eaa8_745e_11e8_b1c5_80ce6220aa9erow1_col5\" class=\"data row1 col5\" >nan</td> \n",
       "    </tr>    <tr> \n",
       "        <th id=\"T_9722eaa8_745e_11e8_b1c5_80ce6220aa9elevel0_row2\" class=\"row_heading level0 row2\" >RESTOA_CERES-EBAF</th> \n",
       "        <th id=\"T_9722eaa8_745e_11e8_b1c5_80ce6220aa9elevel1_row2\" class=\"row_heading level1 row2\" >TOA  net flux</th> \n",
       "        <td id=\"T_9722eaa8_745e_11e8_b1c5_80ce6220aa9erow2_col0\" class=\"data row2 col0\" >-0.01</td> \n",
       "        <td id=\"T_9722eaa8_745e_11e8_b1c5_80ce6220aa9erow2_col1\" class=\"data row2 col1\" >-0.07</td> \n",
       "        <td id=\"T_9722eaa8_745e_11e8_b1c5_80ce6220aa9erow2_col2\" class=\"data row2 col2\" >0.00</td> \n",
       "        <td id=\"T_9722eaa8_745e_11e8_b1c5_80ce6220aa9erow2_col3\" class=\"data row2 col3\" >-0.00</td> \n",
       "        <td id=\"T_9722eaa8_745e_11e8_b1c5_80ce6220aa9erow2_col4\" class=\"data row2 col4\" >-0.01</td> \n",
       "        <td id=\"T_9722eaa8_745e_11e8_b1c5_80ce6220aa9erow2_col5\" class=\"data row2 col5\" >0.09</td> \n",
       "    </tr>    <tr> \n",
       "        <th id=\"T_9722eaa8_745e_11e8_b1c5_80ce6220aa9elevel0_row3\" class=\"row_heading level0 row3\" >RESTOA_ERBE</th> \n",
       "        <th id=\"T_9722eaa8_745e_11e8_b1c5_80ce6220aa9elevel1_row3\" class=\"row_heading level1 row3\" >TOA  net flux</th> \n",
       "        <td id=\"T_9722eaa8_745e_11e8_b1c5_80ce6220aa9erow3_col0\" class=\"data row3 col0\" >0.01</td> \n",
       "        <td id=\"T_9722eaa8_745e_11e8_b1c5_80ce6220aa9erow3_col1\" class=\"data row3 col1\" >-0.02</td> \n",
       "        <td id=\"T_9722eaa8_745e_11e8_b1c5_80ce6220aa9erow3_col2\" class=\"data row3 col2\" >0.01</td> \n",
       "        <td id=\"T_9722eaa8_745e_11e8_b1c5_80ce6220aa9erow3_col3\" class=\"data row3 col3\" >-0.00</td> \n",
       "        <td id=\"T_9722eaa8_745e_11e8_b1c5_80ce6220aa9erow3_col4\" class=\"data row3 col4\" >-0.02</td> \n",
       "        <td id=\"T_9722eaa8_745e_11e8_b1c5_80ce6220aa9erow3_col5\" class=\"data row3 col5\" >0.03</td> \n",
       "    </tr></tbody> \n",
       "</table> "
      ],
      "text/plain": [
       "<pandas.io.formats.style.Styler at 0x7fdcd79ea0f0>"
      ]
     },
     "execution_count": 19,
     "metadata": {},
     "output_type": "execute_result"
    }
   ],
   "source": [
    "my_table_display(rmse_err_rel)"
   ]
  },
  {
   "cell_type": "markdown",
   "metadata": {},
   "source": [
    "#### 6.2 Rendered preview using seaborn (DISP_AS_PLOT)\n",
    "\n",
    "Render table preview in browser directly using [seaborn.heatmap](https://seaborn.pydata.org/generated/seaborn.heatmap.html). Gets us a nice preview and the possibility to edit display and save figure as png, etc in a very flexible manner.\n",
    "\n",
    "The following cell plots the Bias table as is. The subsequent 2 cells produce normalised heatmaps based on rowwise mean value or based on the values in a specified column."
   ]
  },
  {
   "cell_type": "code",
   "execution_count": 20,
   "metadata": {
    "extensions": {
     "jupyter_dashboards": {
      "version": 1,
      "views": {
       "grid_default": {
        "col": 0,
        "height": 16,
        "hidden": false,
        "row": 368,
        "width": 7
       },
       "report_default": {
        "hidden": false
       }
      }
     }
    }
   },
   "outputs": [
    {
     "data": {
      "image/png": "[encoded data removed]",
      "text/plain": [
       "<Figure size 864x432 with 1 Axes>"
      ]
     },
     "metadata": {},
     "output_type": "display_data"
    }
   ],
   "source": [
    "from helper_funcs import df_to_heatmap\n",
    "ax = df_to_heatmap(bias, \n",
    "                   center=0, # table value that is mapped to the center of the colormap\n",
    "                   color_rowwise=1, #apply color mapping rowwise\n",
    "                   normalise_rows=0, # see next cell for an example\n",
    "                   table_name=\"Bias\",\n",
    "                   figsize=(12,6))\n",
    "ax.set_xlabel(\"Variable\", weight=\"bold\")\n",
    "ax.set_ylabel(\"Run\", weight=\"bold\")\n",
    "ax.figure.tight_layout()\n",
    "ax.figure.savefig(os.path.join(output_dir, \"bias_heatmap.png\"))"
   ]
  },
  {
   "cell_type": "markdown",
   "metadata": {},
   "source": [
    "Now the same but including a rowwise normalisation based on the mean bias in each row."
   ]
  },
  {
   "cell_type": "code",
   "execution_count": 21,
   "metadata": {
    "extensions": {
     "jupyter_dashboards": {
      "version": 1,
      "views": {
       "grid_default": {
        "col": 0,
        "height": 16,
        "hidden": false,
        "row": 368,
        "width": 7
       },
       "report_default": {
        "hidden": false
       }
      }
     }
    }
   },
   "outputs": [
    {
     "data": {
      "image/png": "[encoded data removed]",
      "text/plain": [
       "<Figure size 864x432 with 1 Axes>"
      ]
     },
     "metadata": {},
     "output_type": "display_data"
    }
   ],
   "source": [
    "ax = df_to_heatmap(bias, \n",
    "                   center=0, # table value that is mapped to the center of the colormap\n",
    "                   normalise_rows=1, # perform rowwise normalisation and plot percentage deviation from row mean\n",
    "                   table_name=\"Bias\",\n",
    "                   figsize=(12,6))\n",
    "ax.set_xlabel(\"Variable\", weight=\"bold\")\n",
    "ax.set_ylabel(\"Run\", weight=\"bold\")\n",
    "ax.figure.tight_layout()\n",
    "ax.figure.savefig(os.path.join(output_dir, \"bias_heatmap_deviation_rowmean.png\"))"
   ]
  },
  {
   "cell_type": "markdown",
   "metadata": {},
   "source": [
    "Now the same but including a rowwise normalisation based on the values in the 4th column."
   ]
  },
  {
   "cell_type": "code",
   "execution_count": 22,
   "metadata": {
    "extensions": {
     "jupyter_dashboards": {
      "version": 1,
      "views": {
       "grid_default": {
        "col": 0,
        "height": 16,
        "hidden": false,
        "row": 368,
        "width": 7
       },
       "report_default": {
        "hidden": false
       }
      }
     }
    }
   },
   "outputs": [
    {
     "data": {
      "image/png": "[encoded data removed]",
      "text/plain": [
       "<Figure size 864x432 with 1 Axes>"
      ]
     },
     "metadata": {},
     "output_type": "display_data"
    }
   ],
   "source": [
    "ax = df_to_heatmap(bias, \n",
    "                   center=0, # table value that is mapped to the center of the colormap\n",
    "                   normalise_rows=1, # perform rowwise normalisation and plot percentage deviation from row mean\n",
    "                   normalise_rows_col=4,\n",
    "                   table_name=\"Bias\",\n",
    "                   figsize=(12,6))\n",
    "ax.set_xlabel(\"Variable\", weight=\"bold\")\n",
    "ax.set_ylabel(\"Run\", weight=\"bold\")\n",
    "ax.figure.tight_layout()\n",
    "ax.figure.savefig(os.path.join(output_dir, \"bias_heatmap_deviation_rowmean.png\"))"
   ]
  },
  {
   "cell_type": "markdown",
   "metadata": {},
   "source": [
    "RMSE table"
   ]
  },
  {
   "cell_type": "code",
   "execution_count": 23,
   "metadata": {},
   "outputs": [
    {
     "data": {
      "image/png": "[encoded data removed]",
      "text/plain": [
       "<Figure size 864x432 with 1 Axes>"
      ]
     },
     "metadata": {},
     "output_type": "display_data"
    }
   ],
   "source": [
    "ax = df_to_heatmap(selection[\"RMSE\"], \n",
    "                   table_name=\"RMSE\",\n",
    "                   figsize=(12,6))\n",
    "ax.set_xlabel(\"Variable\", weight=\"bold\")\n",
    "ax.set_ylabel(\"Run\", weight=\"bold\")\n",
    "ax.figure.tight_layout()\n",
    "ax.figure.savefig(os.path.join(output_dir, \"rmse_heatmap.png\"))"
   ]
  },
  {
   "cell_type": "markdown",
   "metadata": {
    "extensions": {
     "jupyter_dashboards": {
      "version": 1,
      "views": {
       "grid_default": {
        "col": 7,
        "height": 4,
        "hidden": false,
        "row": 94,
        "width": 4
       },
       "report_default": {
        "hidden": false
       }
      }
     }
    }
   },
   "source": [
    "Now for the typical RMSE error"
   ]
  },
  {
   "cell_type": "code",
   "execution_count": 24,
   "metadata": {
    "extensions": {
     "jupyter_dashboards": {
      "version": 1,
      "views": {
       "grid_default": {
        "col": 0,
        "height": 16,
        "hidden": false,
        "row": 384,
        "width": 7
       },
       "report_default": {
        "hidden": false
       }
      }
     }
    }
   },
   "outputs": [
    {
     "data": {
      "image/png": "[encoded data removed]",
      "text/plain": [
       "<Figure size 864x432 with 1 Axes>"
      ]
     },
     "metadata": {},
     "output_type": "display_data"
    }
   ],
   "source": [
    "ax = df_to_heatmap(rmse_err_rel, \n",
    "                   table_name=\"RMSE (Relative Error)\",\n",
    "                   figsize=(12,6))\n",
    "ax.set_xlabel(\"Variable\", weight=\"bold\")\n",
    "ax.set_ylabel(\"Run\", weight=\"bold\")\n",
    "ax.figure.tight_layout()\n",
    "ax.figure.savefig(os.path.join(output_dir, \"rmse_err_heatmap.png\"))"
   ]
  },
  {
   "cell_type": "markdown",
   "metadata": {
    "extensions": {
     "jupyter_dashboards": {
      "version": 1,
      "views": {
       "grid_default": {
        "col": 0,
        "height": 4,
        "hidden": false,
        "row": 400,
        "width": 12
       },
       "report_default": {
        "hidden": false
       }
      }
     }
    }
   },
   "source": [
    "### 7. Concatenate and save results (Bias and typical RMSE) as table (EXPORT)\n",
    "\n",
    "In the following, the two result tables ``bias_table`` and ``typical_rmse`` are merged into one result table and then saved both as excel table and as csv file."
   ]
  },
  {
   "cell_type": "code",
   "execution_count": 25,
   "metadata": {
    "extensions": {
     "jupyter_dashboards": {
      "version": 1,
      "views": {
       "grid_default": {
        "col": 0,
        "height": 17,
        "hidden": false,
        "row": 404,
        "width": 11
       },
       "report_default": {
        "hidden": false
       }
      }
     }
    }
   },
   "outputs": [
    {
     "data": {
      "text/html": [
       "<div>\n",
       "<style scoped>\n",
       "    .dataframe tbody tr th:only-of-type {\n",
       "        vertical-align: middle;\n",
       "    }\n",
       "\n",
       "    .dataframe tbody tr th {\n",
       "        vertical-align: top;\n",
       "    }\n",
       "\n",
       "    .dataframe thead tr th {\n",
       "        text-align: left;\n",
       "    }\n",
       "\n",
       "    .dataframe thead tr:last-of-type th {\n",
       "        text-align: right;\n",
       "    }\n",
       "</style>\n",
       "<table border=\"1\" class=\"dataframe\">\n",
       "  <thead>\n",
       "    <tr>\n",
       "      <th></th>\n",
       "      <th></th>\n",
       "      <th colspan=\"6\" halign=\"left\">Bias</th>\n",
       "      <th colspan=\"6\" halign=\"left\">RMSE relative Error</th>\n",
       "    </tr>\n",
       "    <tr>\n",
       "      <th></th>\n",
       "      <th>Run</th>\n",
       "      <th>A</th>\n",
       "      <th>B</th>\n",
       "      <th colspan=\"3\" halign=\"left\">C</th>\n",
       "      <th>D</th>\n",
       "      <th>A</th>\n",
       "      <th>B</th>\n",
       "      <th colspan=\"3\" halign=\"left\">C</th>\n",
       "      <th>D</th>\n",
       "    </tr>\n",
       "    <tr>\n",
       "      <th></th>\n",
       "      <th>Years</th>\n",
       "      <th>71-100</th>\n",
       "      <th>1-20</th>\n",
       "      <th>185-215</th>\n",
       "      <th>310-340</th>\n",
       "      <th>80-110</th>\n",
       "      <th>90-120</th>\n",
       "      <th>71-100</th>\n",
       "      <th>1-20</th>\n",
       "      <th>185-215</th>\n",
       "      <th>310-340</th>\n",
       "      <th>80-110</th>\n",
       "      <th>90-120</th>\n",
       "    </tr>\n",
       "    <tr>\n",
       "      <th>Variable</th>\n",
       "      <th>Description</th>\n",
       "      <th></th>\n",
       "      <th></th>\n",
       "      <th></th>\n",
       "      <th></th>\n",
       "      <th></th>\n",
       "      <th></th>\n",
       "      <th></th>\n",
       "      <th></th>\n",
       "      <th></th>\n",
       "      <th></th>\n",
       "      <th></th>\n",
       "      <th></th>\n",
       "    </tr>\n",
       "  </thead>\n",
       "  <tbody>\n",
       "    <tr>\n",
       "      <th>RESTOM</th>\n",
       "      <th>Top model net flux</th>\n",
       "      <td>-0.489</td>\n",
       "      <td>0.987</td>\n",
       "      <td>0.468</td>\n",
       "      <td>0.327</td>\n",
       "      <td>0.647</td>\n",
       "      <td>-0.075</td>\n",
       "      <td>NaN</td>\n",
       "      <td>NaN</td>\n",
       "      <td>NaN</td>\n",
       "      <td>NaN</td>\n",
       "      <td>NaN</td>\n",
       "      <td>NaN</td>\n",
       "    </tr>\n",
       "    <tr>\n",
       "      <th>RESSURF</th>\n",
       "      <th>SRF net flux</th>\n",
       "      <td>-0.489</td>\n",
       "      <td>0.974</td>\n",
       "      <td>0.474</td>\n",
       "      <td>0.337</td>\n",
       "      <td>0.643</td>\n",
       "      <td>-0.075</td>\n",
       "      <td>NaN</td>\n",
       "      <td>NaN</td>\n",
       "      <td>NaN</td>\n",
       "      <td>NaN</td>\n",
       "      <td>NaN</td>\n",
       "      <td>NaN</td>\n",
       "    </tr>\n",
       "    <tr>\n",
       "      <th>RESTOA_CERES-EBAF</th>\n",
       "      <th>TOA  net flux</th>\n",
       "      <td>0.537</td>\n",
       "      <td>2.083</td>\n",
       "      <td>1.561</td>\n",
       "      <td>1.420</td>\n",
       "      <td>1.741</td>\n",
       "      <td>1.021</td>\n",
       "      <td>-0.014764</td>\n",
       "      <td>-0.068695</td>\n",
       "      <td>0.004067</td>\n",
       "      <td>-0.004179</td>\n",
       "      <td>-0.011421</td>\n",
       "      <td>0.094991</td>\n",
       "    </tr>\n",
       "    <tr>\n",
       "      <th>RESTOA_ERBE</th>\n",
       "      <th>TOA  net flux</th>\n",
       "      <td>1.470</td>\n",
       "      <td>3.017</td>\n",
       "      <td>2.494</td>\n",
       "      <td>2.353</td>\n",
       "      <td>2.674</td>\n",
       "      <td>1.954</td>\n",
       "      <td>0.007827</td>\n",
       "      <td>-0.024228</td>\n",
       "      <td>0.006146</td>\n",
       "      <td>-0.001812</td>\n",
       "      <td>-0.016831</td>\n",
       "      <td>0.028898</td>\n",
       "    </tr>\n",
       "  </tbody>\n",
       "</table>\n",
       "</div>"
      ],
      "text/plain": [
       "                                       Bias                                \\\n",
       "Run                                       A      B       C                  \n",
       "Years                                71-100   1-20 185-215 310-340 80-110   \n",
       "Variable          Description                                               \n",
       "RESTOM            Top model net flux -0.489  0.987   0.468   0.327  0.647   \n",
       "RESSURF           SRF net flux       -0.489  0.974   0.474   0.337  0.643   \n",
       "RESTOA_CERES-EBAF TOA  net flux       0.537  2.083   1.561   1.420  1.741   \n",
       "RESTOA_ERBE       TOA  net flux       1.470  3.017   2.494   2.353  2.674   \n",
       "\n",
       "                                            RMSE relative Error            \\\n",
       "Run                                       D                   A         B   \n",
       "Years                                90-120              71-100      1-20   \n",
       "Variable          Description                                               \n",
       "RESTOM            Top model net flux -0.075                 NaN       NaN   \n",
       "RESSURF           SRF net flux       -0.075                 NaN       NaN   \n",
       "RESTOA_CERES-EBAF TOA  net flux       1.021           -0.014764 -0.068695   \n",
       "RESTOA_ERBE       TOA  net flux       1.954            0.007827 -0.024228   \n",
       "\n",
       "                                                                              \n",
       "Run                                          C                             D  \n",
       "Years                                  185-215   310-340    80-110    90-120  \n",
       "Variable          Description                                                 \n",
       "RESTOM            Top model net flux       NaN       NaN       NaN       NaN  \n",
       "RESSURF           SRF net flux             NaN       NaN       NaN       NaN  \n",
       "RESTOA_CERES-EBAF TOA  net flux       0.004067 -0.004179 -0.011421  0.094991  \n",
       "RESTOA_ERBE       TOA  net flux       0.006146 -0.001812 -0.016831  0.028898  "
      ]
     },
     "execution_count": 25,
     "metadata": {},
     "output_type": "execute_result"
    }
   ],
   "source": [
    "result = pd.concat([bias, rmse_err_rel],axis=1, keys=[\"Bias\", \"RMSE relative Error\"])\n",
    "result"
   ]
  },
  {
   "cell_type": "markdown",
   "metadata": {
    "extensions": {
     "jupyter_dashboards": {
      "version": 1,
      "views": {
       "grid_default": {
        "col": 7,
        "height": 4,
        "hidden": false,
        "row": 98,
        "width": 4
       },
       "report_default": {
        "hidden": false
       }
      }
     }
    }
   },
   "source": [
    "Now save the table as excel file."
   ]
  },
  {
   "cell_type": "code",
   "execution_count": 26,
   "metadata": {
    "extensions": {
     "jupyter_dashboards": {
      "version": 1,
      "views": {
       "grid_default": {
        "hidden": true
       },
       "report_default": {
        "hidden": true
       }
      }
     }
    }
   },
   "outputs": [],
   "source": [
    "writer = pd.ExcelWriter('{}/result.xlsx'.format(output_dir))\n",
    "result.to_excel(writer)\n",
    "writer.save()\n",
    "writer.close()"
   ]
  }
 ],
 "metadata": {
  "extensions": {
   "jupyter_dashboards": {
    "activeView": "grid_default",
    "version": 1,
    "views": {
     "grid_default": {
      "cellMargin": 10,
      "defaultCellHeight": 20,
      "maxColumns": 12,
      "name": "grid",
      "type": "grid"
     },
     "report_default": {
      "name": "report",
      "type": "report"
     }
    }
   }
  },
  "kernelspec": {
   "display_name": "Python 3",
   "language": "python",
   "name": "python3"
  },
  "language_info": {
   "codemirror_mode": {
    "name": "ipython",
    "version": 3
   },
   "file_extension": ".py",
   "mimetype": "text/x-python",
   "name": "python",
   "nbconvert_exporter": "python",
   "pygments_lexer": "ipython3",
   "version": "3.6.4"
  }
 },
 "nbformat": 4,
 "nbformat_minor": 2
}
