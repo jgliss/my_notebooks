{
 "cells": [
  {
   "cell_type": "markdown",
   "metadata": {
    "extensions": {
     "jupyter_dashboards": {
      "version": 1,
      "views": {
       "grid_default": {
        "col": 0,
        "height": 4,
        "hidden": false,
        "row": 8,
        "width": 4
       },
       "report_default": {
        "hidden": false
       }
      }
     }
    }
   },
   "source": [
    "## Reading of ASCII files created for cam diagnostics tool"
   ]
  },
  {
   "cell_type": "code",
   "execution_count": 1,
   "metadata": {
    "extensions": {
     "jupyter_dashboards": {
      "version": 1,
      "views": {
       "grid_default": {
        "hidden": true
       },
       "report_default": {
        "hidden": true
       }
      }
     }
    }
   },
   "outputs": [],
   "source": [
    "%matplotlib inline\n",
    "%load_ext autoreload\n",
    "%autoreload 2\n",
    "import pandas as pd\n",
    "from glob import glob\n",
    "import os\n",
    "import helper_funcs as helpers\n",
    "import ipywidgets as ipw"
   ]
  },
  {
   "cell_type": "markdown",
   "metadata": {
    "extensions": {
     "jupyter_dashboards": {
      "version": 1,
      "views": {
       "grid_default": {
        "col": 4,
        "height": 4,
        "hidden": false,
        "row": 0,
        "width": 4
       },
       "report_default": {
        "hidden": false
       }
      }
     }
    }
   },
   "source": [
    "### 1. Paths and global settings (GLOB)  \n",
    "\n",
    "Please change accordingly if you execute this notebook on your local machine."
   ]
  },
  {
   "cell_type": "markdown",
   "metadata": {
    "extensions": {
     "jupyter_dashboards": {
      "version": 1,
      "views": {
       "grid_default": {
        "col": 8,
        "height": 4,
        "hidden": false,
        "row": 0,
        "width": 4
       },
       "report_default": {
        "hidden": false
       }
      }
     }
    }
   },
   "source": [
    "#### 1.1. Paths (PATHS)\n",
    "\n",
    "Here you can specify your paths."
   ]
  },
  {
   "cell_type": "code",
   "execution_count": 2,
   "metadata": {
    "extensions": {
     "jupyter_dashboards": {
      "version": 1,
      "views": {
       "grid_default": {
        "hidden": true
       },
       "report_default": {
        "hidden": true
       }
      }
     }
    }
   },
   "outputs": [],
   "source": [
    "#folder with ascii files\n",
    "data_dir = \"./data/michael_ascii_read/\"\n",
    "file_type = \"webarchive\"\n",
    "\n",
    "# file containing additional information about variables (long names, can be interactively updated below)\n",
    "varinfo_csv = \"./data/var_info.csv\"\n",
    "\n",
    "# Config file for different groups\n",
    "vargroups_cfg = \"./data/varconfig.ini\"\n",
    "\n",
    "#directy to store results\n",
    "output_dir = \"./output/\""
   ]
  },
  {
   "cell_type": "markdown",
   "metadata": {
    "extensions": {
     "jupyter_dashboards": {
      "version": 1,
      "views": {
       "grid_default": {
        "col": 0,
        "height": 4,
        "hidden": false,
        "row": 12,
        "width": 4
       },
       "report_default": {
        "hidden": false
       }
      }
     }
    }
   },
   "source": [
    "#### Global settings (SETUP)\n",
    "\n",
    "In the following cells you can specify global default settings."
   ]
  },
  {
   "cell_type": "markdown",
   "metadata": {
    "extensions": {
     "jupyter_dashboards": {
      "version": 1,
      "views": {
       "grid_default": {
        "col": 0,
        "height": 4,
        "hidden": false,
        "row": 16,
        "width": 12
       },
       "report_default": {
        "hidden": false
       }
      }
     }
    }
   },
   "source": [
    "##### Define group of variables that you are interested in\n",
    "\n",
    "Default group of variables. Variable groups can be defined in [varconfig.ini](https://github.com/jgliss/my_notebooks/blob/master/data/varconfig.ini). Use ``[group_name]`` to define a new group and add below all variables that should belong to the group in the desired display order (should be self-explanatory when looking at the file, I hope)."
   ]
  },
  {
   "cell_type": "code",
   "execution_count": 3,
   "metadata": {
    "extensions": {
     "jupyter_dashboards": {
      "version": 1,
      "views": {
       "grid_default": {
        "hidden": true
       },
       "report_default": {
        "hidden": true
       }
      }
     }
    }
   },
   "outputs": [],
   "source": [
    "var_group = \"test\" #group_name (AS STRING, e.g. \"test\") from varconfig.ini (use None, if you want to use all)"
   ]
  },
  {
   "cell_type": "markdown",
   "metadata": {
    "extensions": {
     "jupyter_dashboards": {
      "version": 1,
      "views": {
       "grid_default": {
        "col": 0,
        "height": 4,
        "hidden": false,
        "row": 20,
        "width": 12
       },
       "report_default": {
        "hidden": false
       }
      }
     }
    }
   },
   "source": [
    "##### Add data columns to index\n",
    "\n",
    "Use the following list to specify table columns that should be added to the multiindex (Ada, here is where you can add \"Obs\")."
   ]
  },
  {
   "cell_type": "code",
   "execution_count": 4,
   "metadata": {
    "extensions": {
     "jupyter_dashboards": {
      "version": 1,
      "views": {
       "grid_default": {
        "hidden": true
       },
       "report_default": {
        "hidden": true
       }
      }
     }
    }
   },
   "outputs": [],
   "source": [
    "add_to_index = [\"Obs\"] #NEEDS TO BE A LIST, EVEN FOR ONLY ONE ITEM"
   ]
  },
  {
   "cell_type": "markdown",
   "metadata": {
    "extensions": {
     "jupyter_dashboards": {
      "version": 1,
      "views": {
       "grid_default": {
        "col": 0,
        "height": 5,
        "hidden": false,
        "row": 24,
        "width": 12
       },
       "report_default": {
        "hidden": false
       }
      }
     }
    }
   },
   "source": [
    "##### Define which parts of index should be unstacked\n",
    "\n",
    "The following list can be used to specify how the final lists are displayed. The items in the list need to be names of sub-indices in the the Multiindex of the originally loaded file (i.e. \"Run\", \"Years\", \"Variable\", \"Description\") or data columns that were added to index (previous option). \n",
    "\n",
    "All values specified here will be unstacked, i.e. put from the original row into a column index representation (makes table view wider)."
   ]
  },
  {
   "cell_type": "code",
   "execution_count": 5,
   "metadata": {
    "extensions": {
     "jupyter_dashboards": {
      "version": 1,
      "views": {
       "grid_default": {
        "hidden": true
       },
       "report_default": {
        "hidden": true
       }
      }
     }
    }
   },
   "outputs": [],
   "source": [
    "unstack_indices = [\"Run\", \"Years\"]"
   ]
  },
  {
   "cell_type": "markdown",
   "metadata": {
    "extensions": {
     "jupyter_dashboards": {
      "version": 1,
      "views": {
       "grid_default": {
        "col": 0,
        "height": 6,
        "hidden": false,
        "row": 29,
        "width": 12
       },
       "report_default": {
        "hidden": false
       }
      }
     }
    }
   },
   "source": [
    "### 2. Importing and editing supplementary information\n",
    "\n",
    "Let's begin with reading the variable information from the excel table. Note that this is not strictly required but helps us below to display the results in a more intuitive manner, when analysing the data.\n",
    "\n",
    "Note that the following method makes sure the CSV file exists, i.e. if it has not been created before, the information is loaded from Michaels Excel table and then saved at ``varinfo_csv``."
   ]
  },
  {
   "cell_type": "code",
   "execution_count": 6,
   "metadata": {
    "extensions": {
     "jupyter_dashboards": {
      "version": 1,
      "views": {
       "grid_default": {
        "hidden": true
       },
       "report_default": {
        "hidden": true
       }
      }
     }
    }
   },
   "outputs": [],
   "source": [
    "var_info_dict = helpers.load_varinfo(varinfo_csv)"
   ]
  },
  {
   "cell_type": "markdown",
   "metadata": {
    "extensions": {
     "jupyter_dashboards": {
      "version": 1,
      "views": {
       "grid_default": {
        "col": 4,
        "height": 4,
        "hidden": false,
        "row": 4,
        "width": 4
       },
       "report_default": {
        "hidden": false
       }
      }
     }
    }
   },
   "source": [
    "The following cell opens an interactive widget that can be used to edit the information available for each variable (stored in file ``varinfo_csv``, see previous cell)."
   ]
  },
  {
   "cell_type": "code",
   "execution_count": 7,
   "metadata": {
    "extensions": {
     "jupyter_dashboards": {
      "version": 1,
      "views": {
       "grid_default": {
        "col": 0,
        "height": 5,
        "hidden": false,
        "row": 35,
        "width": 4
       },
       "report_default": {
        "hidden": false
       }
      }
     }
    }
   },
   "outputs": [
    {
     "data": {
      "application/vnd.jupyter.widget-view+json": {
       "model_id": "dd708d054e5a4352945280f9422b6b39",
       "version_major": 2,
       "version_minor": 0
      },
      "text/plain": [
       "HBox(children=(VBox(children=(HBox(children=(Label(value='RESTOM'), Text(value='TOmodel net flux', placeholder…"
      ]
     },
     "metadata": {},
     "output_type": "display_data"
    }
   ],
   "source": [
    "from my_widgets import EditDictCSV\n",
    "\n",
    "edit_config = EditDictCSV(varinfo_csv)\n",
    "#show\n",
    "edit_config()"
   ]
  },
  {
   "cell_type": "markdown",
   "metadata": {
    "extensions": {
     "jupyter_dashboards": {
      "version": 1,
      "views": {
       "grid_default": {
        "col": 8,
        "height": 4,
        "hidden": false,
        "row": 4,
        "width": 4
       },
       "report_default": {
        "hidden": false
       }
      }
     }
    }
   },
   "source": [
    "Now update to the current selection (run everything below if you change the previous cell)."
   ]
  },
  {
   "cell_type": "code",
   "execution_count": 8,
   "metadata": {
    "extensions": {
     "jupyter_dashboards": {
      "version": 1,
      "views": {
       "grid_default": {
        "hidden": true
       },
       "report_default": {
        "hidden": true
       }
      }
     }
    }
   },
   "outputs": [],
   "source": [
    "var_info_dict = edit_config.var_dict"
   ]
  },
  {
   "cell_type": "markdown",
   "metadata": {
    "extensions": {
     "jupyter_dashboards": {
      "version": 1,
      "views": {
       "grid_default": {
        "col": 0,
        "height": 4,
        "hidden": false,
        "row": 40,
        "width": 12
       },
       "report_default": {
        "hidden": false
       }
      }
     }
    }
   },
   "source": [
    "### 3. Search and load ASCII files, either using .asc or .webarchive file type (LOAD_FILE)\n",
    "\n",
    "The following cell finds all files in folder ``data_dir``."
   ]
  },
  {
   "cell_type": "code",
   "execution_count": 9,
   "metadata": {
    "extensions": {
     "jupyter_dashboards": {
      "version": 1,
      "views": {
       "grid_default": {
        "col": 0,
        "height": 8,
        "hidden": false,
        "row": 0,
        "width": 4
       },
       "report_default": {
        "hidden": false
       }
      }
     }
    }
   },
   "outputs": [
    {
     "name": "stdout",
     "output_type": "stream",
     "text": [
      "./data/michael_ascii_read/N1850C53CLM45L32_f09_tn11_191017 (yrs 71-100).webarchive\n",
      "./data/michael_ascii_read/N1850_f09_tn14_230218 (yrs 1-20).webarchive\n",
      "./data/michael_ascii_read/N1850_f19_tn14_r227_ctrl (yrs 185-215).webarchive\n",
      "./data/michael_ascii_read/N1850_f19_tn14_r227_ctrl (yrs 310-340).webarchive\n",
      "./data/michael_ascii_read/N1850_f19_tn14_r227_ctrl (yrs 80-110).webarchive\n",
      "./data/michael_ascii_read/N1850_f19_tn14_r265_ctrl_20180411 (yrs 90-120).webarchive\n"
     ]
    }
   ],
   "source": [
    "files = sorted(glob(data_dir + \"*.{}\".format(file_type)))\n",
    "for file in files:\n",
    "    print(file)    "
   ]
  },
  {
   "cell_type": "markdown",
   "metadata": {
    "extensions": {
     "jupyter_dashboards": {
      "version": 1,
      "views": {
       "grid_default": {
        "col": 0,
        "height": 4,
        "hidden": false,
        "row": 52,
        "width": 12
       },
       "report_default": {
        "hidden": false
       }
      }
     }
    }
   },
   "source": [
    "##### 3.1 Shortcuts for Run IDs\n",
    "\n",
    "Define list of shortnames for model runs or define a prefix. If undefined (i.e. empty list and ``None``), the original names are used."
   ]
  },
  {
   "cell_type": "code",
   "execution_count": 10,
   "metadata": {
    "extensions": {
     "jupyter_dashboards": {
      "version": 1,
      "views": {
       "grid_default": {
        "hidden": true
       },
       "report_default": {
        "hidden": true
       }
      }
     }
    }
   },
   "outputs": [],
   "source": [
    "#either\n",
    "run_ids = None #list(\"ABCD\") #renames the first 4 runs\n",
    "#or\n",
    "run_id_prefix = \"Run\""
   ]
  },
  {
   "cell_type": "markdown",
   "metadata": {
    "extensions": {
     "jupyter_dashboards": {
      "version": 1,
      "views": {
       "grid_default": {
        "col": 0,
        "height": 5,
        "hidden": false,
        "row": 56,
        "width": 12
       },
       "report_default": {
        "hidden": false
       }
      }
     }
    }
   },
   "source": [
    "### 4. Importing multiple result files and concatenating them into one Dataframe (LOAD_FILES)\n",
    "\n",
    "In the following, we load all files into one `Dataframe`. \n",
    "\n",
    "To do this, a custom method `read_and_merge_all` was defined in [helper_funcs.py](https://github.com/jgliss/my_py3_scripts/blob/master/notebooks/helper_funcs.py). The method basically loops over all files and calls the method ``read_file_custom``, which you can also find in [helper_funcs.py](https://github.com/jgliss/my_py3_scripts/blob/master/notebooks/helper_funcs.py). "
   ]
  },
  {
   "cell_type": "code",
   "execution_count": 11,
   "metadata": {
    "extensions": {
     "jupyter_dashboards": {
      "version": 1,
      "views": {
       "grid_default": {
        "col": 0,
        "height": 12,
        "hidden": false,
        "row": 61,
        "width": 7
       },
       "report_default": {
        "hidden": false
       }
      }
     }
    }
   },
   "outputs": [
    {
     "name": "stderr",
     "output_type": "stream",
     "text": [
      "/home/jonasg/github/my_notebooks/helper_funcs.py:117: UserWarning: Pandas doesn't allow columns to be created via a new attribute name - see https://pandas.pydata.org/pandas-docs/stable/indexing.html#attribute-access\n",
      "  df.test_case = pd.Series(mapping)\n"
     ]
    },
    {
     "data": {
      "text/html": [
       "<div>\n",
       "<style scoped>\n",
       "    .dataframe tbody tr th:only-of-type {\n",
       "        vertical-align: middle;\n",
       "    }\n",
       "\n",
       "    .dataframe tbody tr th {\n",
       "        vertical-align: top;\n",
       "    }\n",
       "\n",
       "    .dataframe thead th {\n",
       "        text-align: right;\n",
       "    }\n",
       "</style>\n",
       "<table border=\"1\" class=\"dataframe\">\n",
       "  <thead>\n",
       "    <tr style=\"text-align: right;\">\n",
       "      <th></th>\n",
       "      <th></th>\n",
       "      <th></th>\n",
       "      <th></th>\n",
       "      <th></th>\n",
       "      <th>Flag</th>\n",
       "      <th>Model</th>\n",
       "      <th>Bias</th>\n",
       "      <th>RMSE</th>\n",
       "    </tr>\n",
       "    <tr>\n",
       "      <th>Run</th>\n",
       "      <th>Years</th>\n",
       "      <th>Variable</th>\n",
       "      <th>Description</th>\n",
       "      <th>Obs</th>\n",
       "      <th></th>\n",
       "      <th></th>\n",
       "      <th></th>\n",
       "      <th></th>\n",
       "    </tr>\n",
       "  </thead>\n",
       "  <tbody>\n",
       "    <tr>\n",
       "      <th rowspan=\"30\" valign=\"top\">Run1</th>\n",
       "      <th rowspan=\"30\" valign=\"top\">71-100</th>\n",
       "      <th>RESTOM</th>\n",
       "      <th>TOmodel net flux</th>\n",
       "      <th>0.000</th>\n",
       "      <td>True</td>\n",
       "      <td>-0.489</td>\n",
       "      <td>-0.489</td>\n",
       "      <td>NaN</td>\n",
       "    </tr>\n",
       "    <tr>\n",
       "      <th>RESSURF</th>\n",
       "      <th>SRF net flux</th>\n",
       "      <th>0.000</th>\n",
       "      <td>True</td>\n",
       "      <td>-0.489</td>\n",
       "      <td>-0.489</td>\n",
       "      <td>NaN</td>\n",
       "    </tr>\n",
       "    <tr>\n",
       "      <th>RESTOA_CERES-EBAF</th>\n",
       "      <th>TOA  net flux</th>\n",
       "      <th>0.992</th>\n",
       "      <td>True</td>\n",
       "      <td>1.529</td>\n",
       "      <td>0.537</td>\n",
       "      <td>8.842</td>\n",
       "    </tr>\n",
       "    <tr>\n",
       "      <th>RESTOA_ERBE</th>\n",
       "      <th></th>\n",
       "      <th>0.059</th>\n",
       "      <td>False</td>\n",
       "      <td>1.529</td>\n",
       "      <td>1.470</td>\n",
       "      <td>8.992</td>\n",
       "    </tr>\n",
       "    <tr>\n",
       "      <th>SOLIN_CERES-EBAF</th>\n",
       "      <th></th>\n",
       "      <th>340.054</th>\n",
       "      <td>False</td>\n",
       "      <td>340.206</td>\n",
       "      <td>0.152</td>\n",
       "      <td>0.167</td>\n",
       "    </tr>\n",
       "    <tr>\n",
       "      <th>SOLIN_CERES</th>\n",
       "      <th></th>\n",
       "      <th>341.479</th>\n",
       "      <td>False</td>\n",
       "      <td>340.206</td>\n",
       "      <td>-1.273</td>\n",
       "      <td>1.226</td>\n",
       "    </tr>\n",
       "    <tr>\n",
       "      <th>CLDTOT_ISCCP</th>\n",
       "      <th>Total cloud cover</th>\n",
       "      <th>66.800</th>\n",
       "      <td>True</td>\n",
       "      <td>63.621</td>\n",
       "      <td>-3.179</td>\n",
       "      <td>11.323</td>\n",
       "    </tr>\n",
       "    <tr>\n",
       "      <th>CLDTOT_CLOUDSAT</th>\n",
       "      <th></th>\n",
       "      <th>66.824</th>\n",
       "      <td>False</td>\n",
       "      <td>63.621</td>\n",
       "      <td>-3.203</td>\n",
       "      <td>9.731</td>\n",
       "    </tr>\n",
       "    <tr>\n",
       "      <th>FLDS_ISCCP</th>\n",
       "      <th>LW down SRF</th>\n",
       "      <th>343.347</th>\n",
       "      <td>True</td>\n",
       "      <td>338.280</td>\n",
       "      <td>-5.066</td>\n",
       "      <td>14.450</td>\n",
       "    </tr>\n",
       "    <tr>\n",
       "      <th>FLNS_ISCCP</th>\n",
       "      <th>LW net SRF</th>\n",
       "      <th>49.425</th>\n",
       "      <td>True</td>\n",
       "      <td>55.819</td>\n",
       "      <td>6.394</td>\n",
       "      <td>11.967</td>\n",
       "    </tr>\n",
       "    <tr>\n",
       "      <th>FLUT_CERES-EBAF</th>\n",
       "      <th>LW up Top</th>\n",
       "      <th>239.574</th>\n",
       "      <td>True</td>\n",
       "      <td>238.148</td>\n",
       "      <td>-1.426</td>\n",
       "      <td>6.855</td>\n",
       "    </tr>\n",
       "    <tr>\n",
       "      <th>FLUT_CERES</th>\n",
       "      <th></th>\n",
       "      <th>238.963</th>\n",
       "      <td>False</td>\n",
       "      <td>238.148</td>\n",
       "      <td>-0.815</td>\n",
       "      <td>6.770</td>\n",
       "    </tr>\n",
       "    <tr>\n",
       "      <th>FLUT_ERBE</th>\n",
       "      <th></th>\n",
       "      <th>233.946</th>\n",
       "      <td>False</td>\n",
       "      <td>238.148</td>\n",
       "      <td>4.202</td>\n",
       "      <td>7.887</td>\n",
       "    </tr>\n",
       "    <tr>\n",
       "      <th>FLUTC_CERES-EBAF</th>\n",
       "      <th>LW up Top Clearsky</th>\n",
       "      <th>266.051</th>\n",
       "      <td>True</td>\n",
       "      <td>261.783</td>\n",
       "      <td>-4.268</td>\n",
       "      <td>6.042</td>\n",
       "    </tr>\n",
       "    <tr>\n",
       "      <th>FLUTC_CERES</th>\n",
       "      <th></th>\n",
       "      <th>266.878</th>\n",
       "      <td>False</td>\n",
       "      <td>261.783</td>\n",
       "      <td>-5.096</td>\n",
       "      <td>8.384</td>\n",
       "    </tr>\n",
       "    <tr>\n",
       "      <th>FLUTC_ERBE</th>\n",
       "      <th></th>\n",
       "      <th>264.429</th>\n",
       "      <td>False</td>\n",
       "      <td>261.783</td>\n",
       "      <td>-2.646</td>\n",
       "      <td>5.725</td>\n",
       "    </tr>\n",
       "    <tr>\n",
       "      <th>FLNT_CAM</th>\n",
       "      <th></th>\n",
       "      <th>NaN</th>\n",
       "      <td>False</td>\n",
       "      <td>236.838</td>\n",
       "      <td>NaN</td>\n",
       "      <td>NaN</td>\n",
       "    </tr>\n",
       "    <tr>\n",
       "      <th>FSDS_ISCCP</th>\n",
       "      <th>SW down SRF</th>\n",
       "      <th>189.390</th>\n",
       "      <td>True</td>\n",
       "      <td>187.801</td>\n",
       "      <td>-1.589</td>\n",
       "      <td>13.380</td>\n",
       "    </tr>\n",
       "    <tr>\n",
       "      <th>FSNS_ISCCP</th>\n",
       "      <th>SW net SRF</th>\n",
       "      <th>165.893</th>\n",
       "      <td>True</td>\n",
       "      <td>163.679</td>\n",
       "      <td>-2.214</td>\n",
       "      <td>12.711</td>\n",
       "    </tr>\n",
       "    <tr>\n",
       "      <th>FSNS_LARYEA</th>\n",
       "      <th></th>\n",
       "      <th>154.089</th>\n",
       "      <td>False</td>\n",
       "      <td>163.679</td>\n",
       "      <td>9.590</td>\n",
       "      <td>36.124</td>\n",
       "    </tr>\n",
       "    <tr>\n",
       "      <th>FSNTOA_CERES-EBAF</th>\n",
       "      <th></th>\n",
       "      <th>240.566</th>\n",
       "      <td>False</td>\n",
       "      <td>239.677</td>\n",
       "      <td>-0.890</td>\n",
       "      <td>10.530</td>\n",
       "    </tr>\n",
       "    <tr>\n",
       "      <th>FSNTOA_CERES</th>\n",
       "      <th>SW net TOA</th>\n",
       "      <th>244.691</th>\n",
       "      <td>True</td>\n",
       "      <td>239.677</td>\n",
       "      <td>-5.015</td>\n",
       "      <td>12.307</td>\n",
       "    </tr>\n",
       "    <tr>\n",
       "      <th>FSNTOA_ERBE</th>\n",
       "      <th></th>\n",
       "      <th>234.004</th>\n",
       "      <td>False</td>\n",
       "      <td>239.677</td>\n",
       "      <td>5.672</td>\n",
       "      <td>12.491</td>\n",
       "    </tr>\n",
       "    <tr>\n",
       "      <th>FSNTOAC_CERES-EBAF</th>\n",
       "      <th></th>\n",
       "      <th>287.638</th>\n",
       "      <td>False</td>\n",
       "      <td>287.999</td>\n",
       "      <td>0.362</td>\n",
       "      <td>7.845</td>\n",
       "    </tr>\n",
       "    <tr>\n",
       "      <th>FSNTOAC_CERES</th>\n",
       "      <th>SW net TOA clearsky</th>\n",
       "      <th>294.702</th>\n",
       "      <td>True</td>\n",
       "      <td>287.999</td>\n",
       "      <td>-6.703</td>\n",
       "      <td>18.458</td>\n",
       "    </tr>\n",
       "    <tr>\n",
       "      <th>FSNTOAC_ERBE</th>\n",
       "      <th></th>\n",
       "      <th>289.329</th>\n",
       "      <td>False</td>\n",
       "      <td>287.999</td>\n",
       "      <td>-1.329</td>\n",
       "      <td>15.441</td>\n",
       "    </tr>\n",
       "    <tr>\n",
       "      <th>FSNT_CAM</th>\n",
       "      <th></th>\n",
       "      <th>NaN</th>\n",
       "      <td>False</td>\n",
       "      <td>236.348</td>\n",
       "      <td>NaN</td>\n",
       "      <td>NaN</td>\n",
       "    </tr>\n",
       "    <tr>\n",
       "      <th>LHFLX_JRA25</th>\n",
       "      <th>Lat Heat Flux</th>\n",
       "      <th>87.935</th>\n",
       "      <td>True</td>\n",
       "      <td>87.904</td>\n",
       "      <td>-0.031</td>\n",
       "      <td>17.176</td>\n",
       "    </tr>\n",
       "    <tr>\n",
       "      <th>LHFLX_ERA40</th>\n",
       "      <th></th>\n",
       "      <th>82.367</th>\n",
       "      <td>False</td>\n",
       "      <td>87.904</td>\n",
       "      <td>5.537</td>\n",
       "      <td>19.019</td>\n",
       "    </tr>\n",
       "    <tr>\n",
       "      <th>LHFLX_WHOI</th>\n",
       "      <th></th>\n",
       "      <th>89.083</th>\n",
       "      <td>False</td>\n",
       "      <td>87.904</td>\n",
       "      <td>-1.179</td>\n",
       "      <td>30.655</td>\n",
       "    </tr>\n",
       "    <tr>\n",
       "      <th>...</th>\n",
       "      <th>...</th>\n",
       "      <th>...</th>\n",
       "      <th>...</th>\n",
       "      <th>...</th>\n",
       "      <td>...</td>\n",
       "      <td>...</td>\n",
       "      <td>...</td>\n",
       "      <td>...</td>\n",
       "    </tr>\n",
       "    <tr>\n",
       "      <th rowspan=\"30\" valign=\"top\">Run4</th>\n",
       "      <th rowspan=\"30\" valign=\"top\">90-120</th>\n",
       "      <th>PRECT_GPCP</th>\n",
       "      <th>Precipitation</th>\n",
       "      <th>2.674</th>\n",
       "      <td>True</td>\n",
       "      <td>2.918</td>\n",
       "      <td>0.244</td>\n",
       "      <td>0.975</td>\n",
       "    </tr>\n",
       "    <tr>\n",
       "      <th>PREH2O_NVAP</th>\n",
       "      <th></th>\n",
       "      <th>24.597</th>\n",
       "      <td>False</td>\n",
       "      <td>25.733</td>\n",
       "      <td>1.136</td>\n",
       "      <td>2.867</td>\n",
       "    </tr>\n",
       "    <tr>\n",
       "      <th>PREH2O_AIRS</th>\n",
       "      <th></th>\n",
       "      <th>20.425</th>\n",
       "      <td>False</td>\n",
       "      <td>25.733</td>\n",
       "      <td>5.308</td>\n",
       "      <td>6.216</td>\n",
       "    </tr>\n",
       "    <tr>\n",
       "      <th>PREH2O_JRA25</th>\n",
       "      <th></th>\n",
       "      <th>20.425</th>\n",
       "      <td>False</td>\n",
       "      <td>25.733</td>\n",
       "      <td>5.308</td>\n",
       "      <td>6.216</td>\n",
       "    </tr>\n",
       "    <tr>\n",
       "      <th>PREH2O_ERAI</th>\n",
       "      <th></th>\n",
       "      <th>24.247</th>\n",
       "      <td>False</td>\n",
       "      <td>25.733</td>\n",
       "      <td>1.486</td>\n",
       "      <td>2.674</td>\n",
       "    </tr>\n",
       "    <tr>\n",
       "      <th>PREH2O_ERA40</th>\n",
       "      <th>Precipitable water</th>\n",
       "      <th>24.948</th>\n",
       "      <td>True</td>\n",
       "      <td>25.733</td>\n",
       "      <td>0.785</td>\n",
       "      <td>2.373</td>\n",
       "    </tr>\n",
       "    <tr>\n",
       "      <th>PSL_JRA25</th>\n",
       "      <th>SeaLev pressure</th>\n",
       "      <th>1011.280</th>\n",
       "      <td>True</td>\n",
       "      <td>1011.614</td>\n",
       "      <td>0.335</td>\n",
       "      <td>1.695</td>\n",
       "    </tr>\n",
       "    <tr>\n",
       "      <th>PSL_ERAI</th>\n",
       "      <th></th>\n",
       "      <th>1011.362</th>\n",
       "      <td>False</td>\n",
       "      <td>1011.614</td>\n",
       "      <td>0.252</td>\n",
       "      <td>1.669</td>\n",
       "    </tr>\n",
       "    <tr>\n",
       "      <th>SHFLX_JRA25</th>\n",
       "      <th>Sens Heat Flux</th>\n",
       "      <th>19.372</th>\n",
       "      <td>True</td>\n",
       "      <td>22.229</td>\n",
       "      <td>2.857</td>\n",
       "      <td>11.202</td>\n",
       "    </tr>\n",
       "    <tr>\n",
       "      <th>SHFLX_NCEP</th>\n",
       "      <th></th>\n",
       "      <th>15.795</th>\n",
       "      <td>False</td>\n",
       "      <td>22.229</td>\n",
       "      <td>6.434</td>\n",
       "      <td>14.963</td>\n",
       "    </tr>\n",
       "    <tr>\n",
       "      <th>SHFLX_LARYEA</th>\n",
       "      <th></th>\n",
       "      <th>13.236</th>\n",
       "      <td>False</td>\n",
       "      <td>22.229</td>\n",
       "      <td>8.993</td>\n",
       "      <td>12.064</td>\n",
       "    </tr>\n",
       "    <tr>\n",
       "      <th>STRESS_MAG_ERS</th>\n",
       "      <th></th>\n",
       "      <th>0.064</th>\n",
       "      <td>False</td>\n",
       "      <td>0.063</td>\n",
       "      <td>-0.001</td>\n",
       "      <td>0.018</td>\n",
       "    </tr>\n",
       "    <tr>\n",
       "      <th>STRESS_MAG_LARYEA</th>\n",
       "      <th></th>\n",
       "      <th>0.071</th>\n",
       "      <td>False</td>\n",
       "      <td>0.063</td>\n",
       "      <td>-0.008</td>\n",
       "      <td>0.019</td>\n",
       "    </tr>\n",
       "    <tr>\n",
       "      <th>STRESS_MAG_JRA25</th>\n",
       "      <th></th>\n",
       "      <th>0.080</th>\n",
       "      <td>False</td>\n",
       "      <td>0.063</td>\n",
       "      <td>-0.017</td>\n",
       "      <td>0.021</td>\n",
       "    </tr>\n",
       "    <tr>\n",
       "      <th>SWCF_CERES-EBAF</th>\n",
       "      <th>SW Cloud Forc</th>\n",
       "      <th>-47.071</th>\n",
       "      <td>True</td>\n",
       "      <td>-48.959</td>\n",
       "      <td>-1.888</td>\n",
       "      <td>9.973</td>\n",
       "    </tr>\n",
       "    <tr>\n",
       "      <th>SWCF_CERES</th>\n",
       "      <th></th>\n",
       "      <th>-48.586</th>\n",
       "      <td>False</td>\n",
       "      <td>-48.959</td>\n",
       "      <td>-0.373</td>\n",
       "      <td>15.210</td>\n",
       "    </tr>\n",
       "    <tr>\n",
       "      <th>SWCF_ERBE</th>\n",
       "      <th></th>\n",
       "      <th>-54.163</th>\n",
       "      <td>False</td>\n",
       "      <td>-48.959</td>\n",
       "      <td>5.204</td>\n",
       "      <td>14.753</td>\n",
       "    </tr>\n",
       "    <tr>\n",
       "      <th>AODVIS</th>\n",
       "      <th></th>\n",
       "      <th>NaN</th>\n",
       "      <td>False</td>\n",
       "      <td>NaN</td>\n",
       "      <td>NaN</td>\n",
       "      <td>NaN</td>\n",
       "    </tr>\n",
       "    <tr>\n",
       "      <th>AODDUST</th>\n",
       "      <th></th>\n",
       "      <th>NaN</th>\n",
       "      <td>False</td>\n",
       "      <td>NaN</td>\n",
       "      <td>NaN</td>\n",
       "      <td>NaN</td>\n",
       "    </tr>\n",
       "    <tr>\n",
       "      <th>SST_HADISST</th>\n",
       "      <th></th>\n",
       "      <th>20.393</th>\n",
       "      <td>False</td>\n",
       "      <td>21.405</td>\n",
       "      <td>1.012</td>\n",
       "      <td>1.430</td>\n",
       "    </tr>\n",
       "    <tr>\n",
       "      <th>SST_HADISST_PI</th>\n",
       "      <th>SST preindustrial</th>\n",
       "      <th>20.368</th>\n",
       "      <td>True</td>\n",
       "      <td>21.726</td>\n",
       "      <td>1.358</td>\n",
       "      <td>1.732</td>\n",
       "    </tr>\n",
       "    <tr>\n",
       "      <th>SST_HADISST_PD</th>\n",
       "      <th></th>\n",
       "      <th>20.497</th>\n",
       "      <td>False</td>\n",
       "      <td>21.396</td>\n",
       "      <td>0.899</td>\n",
       "      <td>1.411</td>\n",
       "    </tr>\n",
       "    <tr>\n",
       "      <th>TREFHT_LEGATES</th>\n",
       "      <th></th>\n",
       "      <th>287.645</th>\n",
       "      <td>False</td>\n",
       "      <td>287.949</td>\n",
       "      <td>0.304</td>\n",
       "      <td>3.436</td>\n",
       "    </tr>\n",
       "    <tr>\n",
       "      <th>TREFHT_JRA25</th>\n",
       "      <th>2m Temp</th>\n",
       "      <th>287.605</th>\n",
       "      <td>True</td>\n",
       "      <td>287.949</td>\n",
       "      <td>0.344</td>\n",
       "      <td>2.147</td>\n",
       "    </tr>\n",
       "    <tr>\n",
       "      <th>TS_NCEP</th>\n",
       "      <th>2m Temp</th>\n",
       "      <th>287.683</th>\n",
       "      <td>True</td>\n",
       "      <td>289.201</td>\n",
       "      <td>1.518</td>\n",
       "      <td>2.663</td>\n",
       "    </tr>\n",
       "    <tr>\n",
       "      <th>TS_LAND_NCEP</th>\n",
       "      <th>2m Temp land</th>\n",
       "      <th>281.155</th>\n",
       "      <td>True</td>\n",
       "      <td>283.308</td>\n",
       "      <td>2.153</td>\n",
       "      <td>3.944</td>\n",
       "    </tr>\n",
       "    <tr>\n",
       "      <th>U_200_JRA25</th>\n",
       "      <th>Zonal Wind JRA25</th>\n",
       "      <th>15.565</th>\n",
       "      <td>True</td>\n",
       "      <td>17.869</td>\n",
       "      <td>2.304</td>\n",
       "      <td>3.342</td>\n",
       "    </tr>\n",
       "    <tr>\n",
       "      <th>U_200_NCEP</th>\n",
       "      <th></th>\n",
       "      <th>15.297</th>\n",
       "      <td>False</td>\n",
       "      <td>17.869</td>\n",
       "      <td>2.573</td>\n",
       "      <td>3.542</td>\n",
       "    </tr>\n",
       "    <tr>\n",
       "      <th>Z3_500_JRA25</th>\n",
       "      <th>Geop Height  JRA25</th>\n",
       "      <th>56.601</th>\n",
       "      <td>True</td>\n",
       "      <td>56.586</td>\n",
       "      <td>-0.014</td>\n",
       "      <td>0.199</td>\n",
       "    </tr>\n",
       "    <tr>\n",
       "      <th>Z3_500_NCEP</th>\n",
       "      <th></th>\n",
       "      <th>56.581</th>\n",
       "      <td>False</td>\n",
       "      <td>56.586</td>\n",
       "      <td>0.005</td>\n",
       "      <td>0.187</td>\n",
       "    </tr>\n",
       "  </tbody>\n",
       "</table>\n",
       "<p>378 rows × 4 columns</p>\n",
       "</div>"
      ],
      "text/plain": [
       "                                                               Flag     Model  \\\n",
       "Run  Years  Variable           Description         Obs                          \n",
       "Run1 71-100 RESTOM             TOmodel net flux     0.000      True    -0.489   \n",
       "            RESSURF            SRF net flux         0.000      True    -0.489   \n",
       "            RESTOA_CERES-EBAF  TOA  net flux        0.992      True     1.529   \n",
       "            RESTOA_ERBE                             0.059     False     1.529   \n",
       "            SOLIN_CERES-EBAF                        340.054   False   340.206   \n",
       "            SOLIN_CERES                             341.479   False   340.206   \n",
       "            CLDTOT_ISCCP       Total cloud cover    66.800     True    63.621   \n",
       "            CLDTOT_CLOUDSAT                         66.824    False    63.621   \n",
       "            FLDS_ISCCP         LW down SRF          343.347    True   338.280   \n",
       "            FLNS_ISCCP         LW net SRF           49.425     True    55.819   \n",
       "            FLUT_CERES-EBAF    LW up Top            239.574    True   238.148   \n",
       "            FLUT_CERES                              238.963   False   238.148   \n",
       "            FLUT_ERBE                               233.946   False   238.148   \n",
       "            FLUTC_CERES-EBAF   LW up Top Clearsky   266.051    True   261.783   \n",
       "            FLUTC_CERES                             266.878   False   261.783   \n",
       "            FLUTC_ERBE                              264.429   False   261.783   \n",
       "            FLNT_CAM                               NaN        False   236.838   \n",
       "            FSDS_ISCCP         SW down SRF          189.390    True   187.801   \n",
       "            FSNS_ISCCP         SW net SRF           165.893    True   163.679   \n",
       "            FSNS_LARYEA                             154.089   False   163.679   \n",
       "            FSNTOA_CERES-EBAF                       240.566   False   239.677   \n",
       "            FSNTOA_CERES       SW net TOA           244.691    True   239.677   \n",
       "            FSNTOA_ERBE                             234.004   False   239.677   \n",
       "            FSNTOAC_CERES-EBAF                      287.638   False   287.999   \n",
       "            FSNTOAC_CERES      SW net TOA clearsky  294.702    True   287.999   \n",
       "            FSNTOAC_ERBE                            289.329   False   287.999   \n",
       "            FSNT_CAM                               NaN        False   236.348   \n",
       "            LHFLX_JRA25        Lat Heat Flux        87.935     True    87.904   \n",
       "            LHFLX_ERA40                             82.367    False    87.904   \n",
       "            LHFLX_WHOI                              89.083    False    87.904   \n",
       "...                                                             ...       ...   \n",
       "Run4 90-120 PRECT_GPCP         Precipitation        2.674      True     2.918   \n",
       "            PREH2O_NVAP                             24.597    False    25.733   \n",
       "            PREH2O_AIRS                             20.425    False    25.733   \n",
       "            PREH2O_JRA25                            20.425    False    25.733   \n",
       "            PREH2O_ERAI                             24.247    False    25.733   \n",
       "            PREH2O_ERA40       Precipitable water   24.948     True    25.733   \n",
       "            PSL_JRA25          SeaLev pressure      1011.280   True  1011.614   \n",
       "            PSL_ERAI                                1011.362  False  1011.614   \n",
       "            SHFLX_JRA25        Sens Heat Flux       19.372     True    22.229   \n",
       "            SHFLX_NCEP                              15.795    False    22.229   \n",
       "            SHFLX_LARYEA                            13.236    False    22.229   \n",
       "            STRESS_MAG_ERS                          0.064     False     0.063   \n",
       "            STRESS_MAG_LARYEA                       0.071     False     0.063   \n",
       "            STRESS_MAG_JRA25                        0.080     False     0.063   \n",
       "            SWCF_CERES-EBAF    SW Cloud Forc       -47.071     True   -48.959   \n",
       "            SWCF_CERES                             -48.586    False   -48.959   \n",
       "            SWCF_ERBE                              -54.163    False   -48.959   \n",
       "            AODVIS                                 NaN        False       NaN   \n",
       "            AODDUST                                NaN        False       NaN   \n",
       "            SST_HADISST                             20.393    False    21.405   \n",
       "            SST_HADISST_PI     SST preindustrial    20.368     True    21.726   \n",
       "            SST_HADISST_PD                          20.497    False    21.396   \n",
       "            TREFHT_LEGATES                          287.645   False   287.949   \n",
       "            TREFHT_JRA25       2m Temp              287.605    True   287.949   \n",
       "            TS_NCEP            2m Temp              287.683    True   289.201   \n",
       "            TS_LAND_NCEP       2m Temp land         281.155    True   283.308   \n",
       "            U_200_JRA25        Zonal Wind JRA25     15.565     True    17.869   \n",
       "            U_200_NCEP                              15.297    False    17.869   \n",
       "            Z3_500_JRA25       Geop Height  JRA25   56.601     True    56.586   \n",
       "            Z3_500_NCEP                             56.581    False    56.586   \n",
       "\n",
       "                                                               Bias    RMSE  \n",
       "Run  Years  Variable           Description         Obs                       \n",
       "Run1 71-100 RESTOM             TOmodel net flux     0.000    -0.489     NaN  \n",
       "            RESSURF            SRF net flux         0.000    -0.489     NaN  \n",
       "            RESTOA_CERES-EBAF  TOA  net flux        0.992     0.537   8.842  \n",
       "            RESTOA_ERBE                             0.059     1.470   8.992  \n",
       "            SOLIN_CERES-EBAF                        340.054   0.152   0.167  \n",
       "            SOLIN_CERES                             341.479  -1.273   1.226  \n",
       "            CLDTOT_ISCCP       Total cloud cover    66.800   -3.179  11.323  \n",
       "            CLDTOT_CLOUDSAT                         66.824   -3.203   9.731  \n",
       "            FLDS_ISCCP         LW down SRF          343.347  -5.066  14.450  \n",
       "            FLNS_ISCCP         LW net SRF           49.425    6.394  11.967  \n",
       "            FLUT_CERES-EBAF    LW up Top            239.574  -1.426   6.855  \n",
       "            FLUT_CERES                              238.963  -0.815   6.770  \n",
       "            FLUT_ERBE                               233.946   4.202   7.887  \n",
       "            FLUTC_CERES-EBAF   LW up Top Clearsky   266.051  -4.268   6.042  \n",
       "            FLUTC_CERES                             266.878  -5.096   8.384  \n",
       "            FLUTC_ERBE                              264.429  -2.646   5.725  \n",
       "            FLNT_CAM                               NaN          NaN     NaN  \n",
       "            FSDS_ISCCP         SW down SRF          189.390  -1.589  13.380  \n",
       "            FSNS_ISCCP         SW net SRF           165.893  -2.214  12.711  \n",
       "            FSNS_LARYEA                             154.089   9.590  36.124  \n",
       "            FSNTOA_CERES-EBAF                       240.566  -0.890  10.530  \n",
       "            FSNTOA_CERES       SW net TOA           244.691  -5.015  12.307  \n",
       "            FSNTOA_ERBE                             234.004   5.672  12.491  \n",
       "            FSNTOAC_CERES-EBAF                      287.638   0.362   7.845  \n",
       "            FSNTOAC_CERES      SW net TOA clearsky  294.702  -6.703  18.458  \n",
       "            FSNTOAC_ERBE                            289.329  -1.329  15.441  \n",
       "            FSNT_CAM                               NaN          NaN     NaN  \n",
       "            LHFLX_JRA25        Lat Heat Flux        87.935   -0.031  17.176  \n",
       "            LHFLX_ERA40                             82.367    5.537  19.019  \n",
       "            LHFLX_WHOI                              89.083   -1.179  30.655  \n",
       "...                                                             ...     ...  \n",
       "Run4 90-120 PRECT_GPCP         Precipitation        2.674     0.244   0.975  \n",
       "            PREH2O_NVAP                             24.597    1.136   2.867  \n",
       "            PREH2O_AIRS                             20.425    5.308   6.216  \n",
       "            PREH2O_JRA25                            20.425    5.308   6.216  \n",
       "            PREH2O_ERAI                             24.247    1.486   2.674  \n",
       "            PREH2O_ERA40       Precipitable water   24.948    0.785   2.373  \n",
       "            PSL_JRA25          SeaLev pressure      1011.280  0.335   1.695  \n",
       "            PSL_ERAI                                1011.362  0.252   1.669  \n",
       "            SHFLX_JRA25        Sens Heat Flux       19.372    2.857  11.202  \n",
       "            SHFLX_NCEP                              15.795    6.434  14.963  \n",
       "            SHFLX_LARYEA                            13.236    8.993  12.064  \n",
       "            STRESS_MAG_ERS                          0.064    -0.001   0.018  \n",
       "            STRESS_MAG_LARYEA                       0.071    -0.008   0.019  \n",
       "            STRESS_MAG_JRA25                        0.080    -0.017   0.021  \n",
       "            SWCF_CERES-EBAF    SW Cloud Forc       -47.071   -1.888   9.973  \n",
       "            SWCF_CERES                             -48.586   -0.373  15.210  \n",
       "            SWCF_ERBE                              -54.163    5.204  14.753  \n",
       "            AODVIS                                 NaN          NaN     NaN  \n",
       "            AODDUST                                NaN          NaN     NaN  \n",
       "            SST_HADISST                             20.393    1.012   1.430  \n",
       "            SST_HADISST_PI     SST preindustrial    20.368    1.358   1.732  \n",
       "            SST_HADISST_PD                          20.497    0.899   1.411  \n",
       "            TREFHT_LEGATES                          287.645   0.304   3.436  \n",
       "            TREFHT_JRA25       2m Temp              287.605   0.344   2.147  \n",
       "            TS_NCEP            2m Temp              287.683   1.518   2.663  \n",
       "            TS_LAND_NCEP       2m Temp land         281.155   2.153   3.944  \n",
       "            U_200_JRA25        Zonal Wind JRA25     15.565    2.304   3.342  \n",
       "            U_200_NCEP                              15.297    2.573   3.542  \n",
       "            Z3_500_JRA25       Geop Height  JRA25   56.601   -0.014   0.199  \n",
       "            Z3_500_NCEP                             56.581    0.005   0.187  \n",
       "\n",
       "[378 rows x 4 columns]"
      ]
     },
     "execution_count": 11,
     "metadata": {},
     "output_type": "execute_result"
    }
   ],
   "source": [
    "merged = helpers.read_and_merge_all(file_list=files, var_info_dict=var_info_dict, replace_runid_prefix=run_id_prefix)\n",
    "if add_to_index:\n",
    "    for item in add_to_index:\n",
    "        merged = merged.set_index([merged.index, item])\n",
    "#remember original order of index hierarchy\n",
    "idx_order_init = merged.index.names\n",
    "merged"
   ]
  },
  {
   "cell_type": "markdown",
   "metadata": {
    "extensions": {
     "jupyter_dashboards": {
      "version": 1,
      "views": {
       "grid_default": {
        "col": 0,
        "height": 4,
        "hidden": false,
        "row": 73,
        "width": 12
       },
       "report_default": {
        "hidden": false
       }
      }
     }
    }
   },
   "source": [
    "### 5. Rearranging and restructuring of the imported data (REARRANGE)\n",
    "\n",
    "In the following cell, you can interacively select which Variables you wish to keep for further analysis. Preselected are the variables that are flagged."
   ]
  },
  {
   "cell_type": "markdown",
   "metadata": {
    "extensions": {
     "jupyter_dashboards": {
      "version": 1,
      "views": {
       "grid_default": {
        "col": 4,
        "height": 4,
        "hidden": false,
        "row": 35,
        "width": 4
       },
       "report_default": {
        "hidden": false
       }
      }
     }
    }
   },
   "source": [
    "#### 5.1 Interactive selection of variables (IA_VAR)"
   ]
  },
  {
   "cell_type": "code",
   "execution_count": 12,
   "metadata": {
    "extensions": {
     "jupyter_dashboards": {
      "version": 1,
      "views": {
       "grid_default": {
        "col": 8,
        "height": 5,
        "hidden": false,
        "row": 35,
        "width": 4
       },
       "report_default": {
        "hidden": false
       }
      }
     }
    }
   },
   "outputs": [
    {
     "data": {
      "application/vnd.jupyter.widget-view+json": {
       "model_id": "71c63a5a81eb436dacb65a1b2029c7d9",
       "version_major": 2,
       "version_minor": 0
      },
      "text/plain": [
       "VBox(children=(HBox(children=(VBox(children=(Label(value='Predefined'), Dropdown(index=1, options=OrderedDict(…"
      ]
     },
     "metadata": {},
     "output_type": "display_data"
    }
   ],
   "source": [
    "from my_widgets import SelectVariable    \n",
    "selector = SelectVariable(df=merged, level=\"Variable\", preconfig_file=vargroups_cfg,\n",
    "                         default_group=var_group)\n",
    "#show\n",
    "selector()"
   ]
  },
  {
   "cell_type": "markdown",
   "metadata": {
    "extensions": {
     "jupyter_dashboards": {
      "version": 1,
      "views": {
       "grid_default": {
        "col": 4,
        "height": 4,
        "hidden": false,
        "row": 44,
        "width": 4
       },
       "report_default": {
        "hidden": false
       }
      }
     }
    }
   },
   "source": [
    "Now access the current selection and continue."
   ]
  },
  {
   "cell_type": "code",
   "execution_count": 13,
   "metadata": {
    "extensions": {
     "jupyter_dashboards": {
      "version": 1,
      "views": {
       "grid_default": {
        "col": 0,
        "height": 70,
        "hidden": false,
        "row": 77,
        "width": 7
       },
       "report_default": {
        "hidden": false
       }
      }
     }
    }
   },
   "outputs": [
    {
     "data": {
      "text/html": [
       "<div>\n",
       "<style scoped>\n",
       "    .dataframe tbody tr th:only-of-type {\n",
       "        vertical-align: middle;\n",
       "    }\n",
       "\n",
       "    .dataframe tbody tr th {\n",
       "        vertical-align: top;\n",
       "    }\n",
       "\n",
       "    .dataframe thead th {\n",
       "        text-align: right;\n",
       "    }\n",
       "</style>\n",
       "<table border=\"1\" class=\"dataframe\">\n",
       "  <thead>\n",
       "    <tr style=\"text-align: right;\">\n",
       "      <th></th>\n",
       "      <th></th>\n",
       "      <th></th>\n",
       "      <th></th>\n",
       "      <th></th>\n",
       "      <th>Flag</th>\n",
       "      <th>Model</th>\n",
       "      <th>Bias</th>\n",
       "      <th>RMSE</th>\n",
       "    </tr>\n",
       "    <tr>\n",
       "      <th>Run</th>\n",
       "      <th>Years</th>\n",
       "      <th>Variable</th>\n",
       "      <th>Description</th>\n",
       "      <th>Obs</th>\n",
       "      <th></th>\n",
       "      <th></th>\n",
       "      <th></th>\n",
       "      <th></th>\n",
       "    </tr>\n",
       "  </thead>\n",
       "  <tbody>\n",
       "    <tr>\n",
       "      <th rowspan=\"8\" valign=\"top\">Run1</th>\n",
       "      <th rowspan=\"8\" valign=\"top\">71-100</th>\n",
       "      <th>RESTOM</th>\n",
       "      <th>TOmodel net flux</th>\n",
       "      <th>0.000</th>\n",
       "      <td>True</td>\n",
       "      <td>-0.489</td>\n",
       "      <td>-0.489</td>\n",
       "      <td>NaN</td>\n",
       "    </tr>\n",
       "    <tr>\n",
       "      <th>CLDTOT_ISCCP</th>\n",
       "      <th>Total cloud cover</th>\n",
       "      <th>66.800</th>\n",
       "      <td>True</td>\n",
       "      <td>63.621</td>\n",
       "      <td>-3.179</td>\n",
       "      <td>11.323</td>\n",
       "    </tr>\n",
       "    <tr>\n",
       "      <th>CLDTOT_CLOUDSAT</th>\n",
       "      <th></th>\n",
       "      <th>66.824</th>\n",
       "      <td>False</td>\n",
       "      <td>63.621</td>\n",
       "      <td>-3.203</td>\n",
       "      <td>9.731</td>\n",
       "    </tr>\n",
       "    <tr>\n",
       "      <th>FLDS_ISCCP</th>\n",
       "      <th>LW down SRF</th>\n",
       "      <th>343.347</th>\n",
       "      <td>True</td>\n",
       "      <td>338.280</td>\n",
       "      <td>-5.066</td>\n",
       "      <td>14.450</td>\n",
       "    </tr>\n",
       "    <tr>\n",
       "      <th>PREH2O_ERAI</th>\n",
       "      <th></th>\n",
       "      <th>24.247</th>\n",
       "      <td>False</td>\n",
       "      <td>23.974</td>\n",
       "      <td>-0.273</td>\n",
       "      <td>1.887</td>\n",
       "    </tr>\n",
       "    <tr>\n",
       "      <th>SWCF_CERES-EBAF</th>\n",
       "      <th>SW Cloud Forc</th>\n",
       "      <th>-47.071</th>\n",
       "      <td>True</td>\n",
       "      <td>-48.323</td>\n",
       "      <td>-1.252</td>\n",
       "      <td>10.324</td>\n",
       "    </tr>\n",
       "    <tr>\n",
       "      <th>U_200_JRA25</th>\n",
       "      <th>Zonal Wind JRA25</th>\n",
       "      <th>15.565</th>\n",
       "      <td>True</td>\n",
       "      <td>16.571</td>\n",
       "      <td>1.006</td>\n",
       "      <td>2.444</td>\n",
       "    </tr>\n",
       "    <tr>\n",
       "      <th>Z3_500_NCEP</th>\n",
       "      <th></th>\n",
       "      <th>56.581</th>\n",
       "      <td>False</td>\n",
       "      <td>56.347</td>\n",
       "      <td>-0.234</td>\n",
       "      <td>0.263</td>\n",
       "    </tr>\n",
       "    <tr>\n",
       "      <th rowspan=\"8\" valign=\"top\">Run2</th>\n",
       "      <th rowspan=\"8\" valign=\"top\">1-20</th>\n",
       "      <th>RESTOM</th>\n",
       "      <th>TOmodel net flux</th>\n",
       "      <th>0.000</th>\n",
       "      <td>True</td>\n",
       "      <td>0.987</td>\n",
       "      <td>0.987</td>\n",
       "      <td>NaN</td>\n",
       "    </tr>\n",
       "    <tr>\n",
       "      <th>CLDTOT_ISCCP</th>\n",
       "      <th>Total cloud cover</th>\n",
       "      <th>66.800</th>\n",
       "      <td>True</td>\n",
       "      <td>68.586</td>\n",
       "      <td>1.786</td>\n",
       "      <td>11.881</td>\n",
       "    </tr>\n",
       "    <tr>\n",
       "      <th>CLDTOT_CLOUDSAT</th>\n",
       "      <th></th>\n",
       "      <th>66.824</th>\n",
       "      <td>False</td>\n",
       "      <td>68.586</td>\n",
       "      <td>1.762</td>\n",
       "      <td>10.382</td>\n",
       "    </tr>\n",
       "    <tr>\n",
       "      <th>FLDS_ISCCP</th>\n",
       "      <th>LW down SRF</th>\n",
       "      <th>343.347</th>\n",
       "      <td>True</td>\n",
       "      <td>341.547</td>\n",
       "      <td>-1.799</td>\n",
       "      <td>15.351</td>\n",
       "    </tr>\n",
       "    <tr>\n",
       "      <th>PREH2O_ERAI</th>\n",
       "      <th></th>\n",
       "      <th>24.247</th>\n",
       "      <td>False</td>\n",
       "      <td>24.437</td>\n",
       "      <td>0.191</td>\n",
       "      <td>1.838</td>\n",
       "    </tr>\n",
       "    <tr>\n",
       "      <th>SWCF_CERES-EBAF</th>\n",
       "      <th>SW Cloud Forc</th>\n",
       "      <th>-47.071</th>\n",
       "      <td>True</td>\n",
       "      <td>-45.297</td>\n",
       "      <td>1.774</td>\n",
       "      <td>8.854</td>\n",
       "    </tr>\n",
       "    <tr>\n",
       "      <th>U_200_JRA25</th>\n",
       "      <th>Zonal Wind JRA25</th>\n",
       "      <th>15.565</th>\n",
       "      <td>True</td>\n",
       "      <td>17.390</td>\n",
       "      <td>1.825</td>\n",
       "      <td>2.852</td>\n",
       "    </tr>\n",
       "    <tr>\n",
       "      <th>Z3_500_NCEP</th>\n",
       "      <th></th>\n",
       "      <th>56.581</th>\n",
       "      <td>False</td>\n",
       "      <td>56.511</td>\n",
       "      <td>-0.070</td>\n",
       "      <td>0.172</td>\n",
       "    </tr>\n",
       "    <tr>\n",
       "      <th rowspan=\"24\" valign=\"top\">Run3</th>\n",
       "      <th rowspan=\"8\" valign=\"top\">185-215</th>\n",
       "      <th>RESTOM</th>\n",
       "      <th>TOmodel net flux</th>\n",
       "      <th>0.000</th>\n",
       "      <td>True</td>\n",
       "      <td>0.468</td>\n",
       "      <td>0.468</td>\n",
       "      <td>NaN</td>\n",
       "    </tr>\n",
       "    <tr>\n",
       "      <th>CLDTOT_ISCCP</th>\n",
       "      <th>Total cloud cover</th>\n",
       "      <th>66.800</th>\n",
       "      <td>True</td>\n",
       "      <td>68.543</td>\n",
       "      <td>1.744</td>\n",
       "      <td>12.992</td>\n",
       "    </tr>\n",
       "    <tr>\n",
       "      <th>CLDTOT_CLOUDSAT</th>\n",
       "      <th></th>\n",
       "      <th>66.824</th>\n",
       "      <td>False</td>\n",
       "      <td>68.543</td>\n",
       "      <td>1.720</td>\n",
       "      <td>10.886</td>\n",
       "    </tr>\n",
       "    <tr>\n",
       "      <th>FLDS_ISCCP</th>\n",
       "      <th>LW down SRF</th>\n",
       "      <th>343.347</th>\n",
       "      <td>True</td>\n",
       "      <td>353.861</td>\n",
       "      <td>10.514</td>\n",
       "      <td>16.891</td>\n",
       "    </tr>\n",
       "    <tr>\n",
       "      <th>PREH2O_ERAI</th>\n",
       "      <th></th>\n",
       "      <th>24.247</th>\n",
       "      <td>False</td>\n",
       "      <td>28.091</td>\n",
       "      <td>3.844</td>\n",
       "      <td>4.836</td>\n",
       "    </tr>\n",
       "    <tr>\n",
       "      <th>SWCF_CERES-EBAF</th>\n",
       "      <th>SW Cloud Forc</th>\n",
       "      <th>-47.071</th>\n",
       "      <td>True</td>\n",
       "      <td>-45.805</td>\n",
       "      <td>1.266</td>\n",
       "      <td>10.447</td>\n",
       "    </tr>\n",
       "    <tr>\n",
       "      <th>U_200_JRA25</th>\n",
       "      <th>Zonal Wind JRA25</th>\n",
       "      <th>15.565</th>\n",
       "      <td>True</td>\n",
       "      <td>18.774</td>\n",
       "      <td>3.209</td>\n",
       "      <td>4.334</td>\n",
       "    </tr>\n",
       "    <tr>\n",
       "      <th>Z3_500_NCEP</th>\n",
       "      <th></th>\n",
       "      <th>56.581</th>\n",
       "      <td>False</td>\n",
       "      <td>56.879</td>\n",
       "      <td>0.298</td>\n",
       "      <td>0.391</td>\n",
       "    </tr>\n",
       "    <tr>\n",
       "      <th rowspan=\"8\" valign=\"top\">310-340</th>\n",
       "      <th>RESTOM</th>\n",
       "      <th>TOmodel net flux</th>\n",
       "      <th>0.000</th>\n",
       "      <td>True</td>\n",
       "      <td>0.327</td>\n",
       "      <td>0.327</td>\n",
       "      <td>NaN</td>\n",
       "    </tr>\n",
       "    <tr>\n",
       "      <th>CLDTOT_ISCCP</th>\n",
       "      <th>Total cloud cover</th>\n",
       "      <th>66.800</th>\n",
       "      <td>True</td>\n",
       "      <td>68.234</td>\n",
       "      <td>1.435</td>\n",
       "      <td>13.078</td>\n",
       "    </tr>\n",
       "    <tr>\n",
       "      <th>CLDTOT_CLOUDSAT</th>\n",
       "      <th></th>\n",
       "      <th>66.824</th>\n",
       "      <td>False</td>\n",
       "      <td>68.234</td>\n",
       "      <td>1.411</td>\n",
       "      <td>10.952</td>\n",
       "    </tr>\n",
       "    <tr>\n",
       "      <th>FLDS_ISCCP</th>\n",
       "      <th>LW down SRF</th>\n",
       "      <th>343.347</th>\n",
       "      <td>True</td>\n",
       "      <td>354.846</td>\n",
       "      <td>11.499</td>\n",
       "      <td>17.664</td>\n",
       "    </tr>\n",
       "    <tr>\n",
       "      <th>PREH2O_ERAI</th>\n",
       "      <th></th>\n",
       "      <th>24.247</th>\n",
       "      <td>False</td>\n",
       "      <td>28.385</td>\n",
       "      <td>4.138</td>\n",
       "      <td>5.118</td>\n",
       "    </tr>\n",
       "    <tr>\n",
       "      <th>SWCF_CERES-EBAF</th>\n",
       "      <th>SW Cloud Forc</th>\n",
       "      <th>-47.071</th>\n",
       "      <td>True</td>\n",
       "      <td>-45.605</td>\n",
       "      <td>1.466</td>\n",
       "      <td>10.563</td>\n",
       "    </tr>\n",
       "    <tr>\n",
       "      <th>U_200_JRA25</th>\n",
       "      <th>Zonal Wind JRA25</th>\n",
       "      <th>15.565</th>\n",
       "      <td>True</td>\n",
       "      <td>18.783</td>\n",
       "      <td>3.218</td>\n",
       "      <td>4.348</td>\n",
       "    </tr>\n",
       "    <tr>\n",
       "      <th>Z3_500_NCEP</th>\n",
       "      <th></th>\n",
       "      <th>56.581</th>\n",
       "      <td>False</td>\n",
       "      <td>56.917</td>\n",
       "      <td>0.336</td>\n",
       "      <td>0.424</td>\n",
       "    </tr>\n",
       "    <tr>\n",
       "      <th rowspan=\"8\" valign=\"top\">80-110</th>\n",
       "      <th>RESTOM</th>\n",
       "      <th>TOmodel net flux</th>\n",
       "      <th>0.000</th>\n",
       "      <td>True</td>\n",
       "      <td>0.647</td>\n",
       "      <td>0.647</td>\n",
       "      <td>NaN</td>\n",
       "    </tr>\n",
       "    <tr>\n",
       "      <th>CLDTOT_ISCCP</th>\n",
       "      <th>Total cloud cover</th>\n",
       "      <th>66.800</th>\n",
       "      <td>True</td>\n",
       "      <td>68.956</td>\n",
       "      <td>2.157</td>\n",
       "      <td>12.869</td>\n",
       "    </tr>\n",
       "    <tr>\n",
       "      <th>CLDTOT_CLOUDSAT</th>\n",
       "      <th></th>\n",
       "      <th>66.824</th>\n",
       "      <td>False</td>\n",
       "      <td>68.956</td>\n",
       "      <td>2.133</td>\n",
       "      <td>10.894</td>\n",
       "    </tr>\n",
       "    <tr>\n",
       "      <th>FLDS_ISCCP</th>\n",
       "      <th>LW down SRF</th>\n",
       "      <th>343.347</th>\n",
       "      <td>True</td>\n",
       "      <td>348.508</td>\n",
       "      <td>5.162</td>\n",
       "      <td>16.720</td>\n",
       "    </tr>\n",
       "    <tr>\n",
       "      <th>PREH2O_ERAI</th>\n",
       "      <th></th>\n",
       "      <th>24.247</th>\n",
       "      <td>False</td>\n",
       "      <td>26.871</td>\n",
       "      <td>2.624</td>\n",
       "      <td>3.909</td>\n",
       "    </tr>\n",
       "    <tr>\n",
       "      <th>SWCF_CERES-EBAF</th>\n",
       "      <th>SW Cloud Forc</th>\n",
       "      <th>-47.071</th>\n",
       "      <td>True</td>\n",
       "      <td>-45.988</td>\n",
       "      <td>1.083</td>\n",
       "      <td>10.393</td>\n",
       "    </tr>\n",
       "    <tr>\n",
       "      <th>U_200_JRA25</th>\n",
       "      <th>Zonal Wind JRA25</th>\n",
       "      <th>15.565</th>\n",
       "      <td>True</td>\n",
       "      <td>18.905</td>\n",
       "      <td>3.340</td>\n",
       "      <td>4.335</td>\n",
       "    </tr>\n",
       "    <tr>\n",
       "      <th>Z3_500_NCEP</th>\n",
       "      <th></th>\n",
       "      <th>56.581</th>\n",
       "      <td>False</td>\n",
       "      <td>56.714</td>\n",
       "      <td>0.133</td>\n",
       "      <td>0.327</td>\n",
       "    </tr>\n",
       "    <tr>\n",
       "      <th rowspan=\"8\" valign=\"top\">Run4</th>\n",
       "      <th rowspan=\"8\" valign=\"top\">90-120</th>\n",
       "      <th>RESTOM</th>\n",
       "      <th>TOmodel net flux</th>\n",
       "      <th>0.000</th>\n",
       "      <td>True</td>\n",
       "      <td>-0.075</td>\n",
       "      <td>-0.075</td>\n",
       "      <td>NaN</td>\n",
       "    </tr>\n",
       "    <tr>\n",
       "      <th>CLDTOT_ISCCP</th>\n",
       "      <th>Total cloud cover</th>\n",
       "      <th>66.800</th>\n",
       "      <td>True</td>\n",
       "      <td>70.747</td>\n",
       "      <td>3.947</td>\n",
       "      <td>12.485</td>\n",
       "    </tr>\n",
       "    <tr>\n",
       "      <th>CLDTOT_CLOUDSAT</th>\n",
       "      <th></th>\n",
       "      <th>66.824</th>\n",
       "      <td>False</td>\n",
       "      <td>70.747</td>\n",
       "      <td>3.923</td>\n",
       "      <td>10.561</td>\n",
       "    </tr>\n",
       "    <tr>\n",
       "      <th>FLDS_ISCCP</th>\n",
       "      <th>LW down SRF</th>\n",
       "      <th>343.347</th>\n",
       "      <td>True</td>\n",
       "      <td>347.854</td>\n",
       "      <td>4.507</td>\n",
       "      <td>15.278</td>\n",
       "    </tr>\n",
       "    <tr>\n",
       "      <th>PREH2O_ERAI</th>\n",
       "      <th></th>\n",
       "      <th>24.247</th>\n",
       "      <td>False</td>\n",
       "      <td>25.733</td>\n",
       "      <td>1.486</td>\n",
       "      <td>2.674</td>\n",
       "    </tr>\n",
       "    <tr>\n",
       "      <th>SWCF_CERES-EBAF</th>\n",
       "      <th>SW Cloud Forc</th>\n",
       "      <th>-47.071</th>\n",
       "      <td>True</td>\n",
       "      <td>-48.959</td>\n",
       "      <td>-1.888</td>\n",
       "      <td>9.973</td>\n",
       "    </tr>\n",
       "    <tr>\n",
       "      <th>U_200_JRA25</th>\n",
       "      <th>Zonal Wind JRA25</th>\n",
       "      <th>15.565</th>\n",
       "      <td>True</td>\n",
       "      <td>17.869</td>\n",
       "      <td>2.304</td>\n",
       "      <td>3.342</td>\n",
       "    </tr>\n",
       "    <tr>\n",
       "      <th>Z3_500_NCEP</th>\n",
       "      <th></th>\n",
       "      <th>56.581</th>\n",
       "      <td>False</td>\n",
       "      <td>56.586</td>\n",
       "      <td>0.005</td>\n",
       "      <td>0.187</td>\n",
       "    </tr>\n",
       "  </tbody>\n",
       "</table>\n",
       "</div>"
      ],
      "text/plain": [
       "                                                          Flag    Model  \\\n",
       "Run  Years   Variable        Description       Obs                        \n",
       "Run1 71-100  RESTOM          TOmodel net flux   0.000     True   -0.489   \n",
       "             CLDTOT_ISCCP    Total cloud cover  66.800    True   63.621   \n",
       "             CLDTOT_CLOUDSAT                    66.824   False   63.621   \n",
       "             FLDS_ISCCP      LW down SRF        343.347   True  338.280   \n",
       "             PREH2O_ERAI                        24.247   False   23.974   \n",
       "             SWCF_CERES-EBAF SW Cloud Forc     -47.071    True  -48.323   \n",
       "             U_200_JRA25     Zonal Wind JRA25   15.565    True   16.571   \n",
       "             Z3_500_NCEP                        56.581   False   56.347   \n",
       "Run2 1-20    RESTOM          TOmodel net flux   0.000     True    0.987   \n",
       "             CLDTOT_ISCCP    Total cloud cover  66.800    True   68.586   \n",
       "             CLDTOT_CLOUDSAT                    66.824   False   68.586   \n",
       "             FLDS_ISCCP      LW down SRF        343.347   True  341.547   \n",
       "             PREH2O_ERAI                        24.247   False   24.437   \n",
       "             SWCF_CERES-EBAF SW Cloud Forc     -47.071    True  -45.297   \n",
       "             U_200_JRA25     Zonal Wind JRA25   15.565    True   17.390   \n",
       "             Z3_500_NCEP                        56.581   False   56.511   \n",
       "Run3 185-215 RESTOM          TOmodel net flux   0.000     True    0.468   \n",
       "             CLDTOT_ISCCP    Total cloud cover  66.800    True   68.543   \n",
       "             CLDTOT_CLOUDSAT                    66.824   False   68.543   \n",
       "             FLDS_ISCCP      LW down SRF        343.347   True  353.861   \n",
       "             PREH2O_ERAI                        24.247   False   28.091   \n",
       "             SWCF_CERES-EBAF SW Cloud Forc     -47.071    True  -45.805   \n",
       "             U_200_JRA25     Zonal Wind JRA25   15.565    True   18.774   \n",
       "             Z3_500_NCEP                        56.581   False   56.879   \n",
       "     310-340 RESTOM          TOmodel net flux   0.000     True    0.327   \n",
       "             CLDTOT_ISCCP    Total cloud cover  66.800    True   68.234   \n",
       "             CLDTOT_CLOUDSAT                    66.824   False   68.234   \n",
       "             FLDS_ISCCP      LW down SRF        343.347   True  354.846   \n",
       "             PREH2O_ERAI                        24.247   False   28.385   \n",
       "             SWCF_CERES-EBAF SW Cloud Forc     -47.071    True  -45.605   \n",
       "             U_200_JRA25     Zonal Wind JRA25   15.565    True   18.783   \n",
       "             Z3_500_NCEP                        56.581   False   56.917   \n",
       "     80-110  RESTOM          TOmodel net flux   0.000     True    0.647   \n",
       "             CLDTOT_ISCCP    Total cloud cover  66.800    True   68.956   \n",
       "             CLDTOT_CLOUDSAT                    66.824   False   68.956   \n",
       "             FLDS_ISCCP      LW down SRF        343.347   True  348.508   \n",
       "             PREH2O_ERAI                        24.247   False   26.871   \n",
       "             SWCF_CERES-EBAF SW Cloud Forc     -47.071    True  -45.988   \n",
       "             U_200_JRA25     Zonal Wind JRA25   15.565    True   18.905   \n",
       "             Z3_500_NCEP                        56.581   False   56.714   \n",
       "Run4 90-120  RESTOM          TOmodel net flux   0.000     True   -0.075   \n",
       "             CLDTOT_ISCCP    Total cloud cover  66.800    True   70.747   \n",
       "             CLDTOT_CLOUDSAT                    66.824   False   70.747   \n",
       "             FLDS_ISCCP      LW down SRF        343.347   True  347.854   \n",
       "             PREH2O_ERAI                        24.247   False   25.733   \n",
       "             SWCF_CERES-EBAF SW Cloud Forc     -47.071    True  -48.959   \n",
       "             U_200_JRA25     Zonal Wind JRA25   15.565    True   17.869   \n",
       "             Z3_500_NCEP                        56.581   False   56.586   \n",
       "\n",
       "                                                           Bias    RMSE  \n",
       "Run  Years   Variable        Description       Obs                       \n",
       "Run1 71-100  RESTOM          TOmodel net flux   0.000    -0.489     NaN  \n",
       "             CLDTOT_ISCCP    Total cloud cover  66.800   -3.179  11.323  \n",
       "             CLDTOT_CLOUDSAT                    66.824   -3.203   9.731  \n",
       "             FLDS_ISCCP      LW down SRF        343.347  -5.066  14.450  \n",
       "             PREH2O_ERAI                        24.247   -0.273   1.887  \n",
       "             SWCF_CERES-EBAF SW Cloud Forc     -47.071   -1.252  10.324  \n",
       "             U_200_JRA25     Zonal Wind JRA25   15.565    1.006   2.444  \n",
       "             Z3_500_NCEP                        56.581   -0.234   0.263  \n",
       "Run2 1-20    RESTOM          TOmodel net flux   0.000     0.987     NaN  \n",
       "             CLDTOT_ISCCP    Total cloud cover  66.800    1.786  11.881  \n",
       "             CLDTOT_CLOUDSAT                    66.824    1.762  10.382  \n",
       "             FLDS_ISCCP      LW down SRF        343.347  -1.799  15.351  \n",
       "             PREH2O_ERAI                        24.247    0.191   1.838  \n",
       "             SWCF_CERES-EBAF SW Cloud Forc     -47.071    1.774   8.854  \n",
       "             U_200_JRA25     Zonal Wind JRA25   15.565    1.825   2.852  \n",
       "             Z3_500_NCEP                        56.581   -0.070   0.172  \n",
       "Run3 185-215 RESTOM          TOmodel net flux   0.000     0.468     NaN  \n",
       "             CLDTOT_ISCCP    Total cloud cover  66.800    1.744  12.992  \n",
       "             CLDTOT_CLOUDSAT                    66.824    1.720  10.886  \n",
       "             FLDS_ISCCP      LW down SRF        343.347  10.514  16.891  \n",
       "             PREH2O_ERAI                        24.247    3.844   4.836  \n",
       "             SWCF_CERES-EBAF SW Cloud Forc     -47.071    1.266  10.447  \n",
       "             U_200_JRA25     Zonal Wind JRA25   15.565    3.209   4.334  \n",
       "             Z3_500_NCEP                        56.581    0.298   0.391  \n",
       "     310-340 RESTOM          TOmodel net flux   0.000     0.327     NaN  \n",
       "             CLDTOT_ISCCP    Total cloud cover  66.800    1.435  13.078  \n",
       "             CLDTOT_CLOUDSAT                    66.824    1.411  10.952  \n",
       "             FLDS_ISCCP      LW down SRF        343.347  11.499  17.664  \n",
       "             PREH2O_ERAI                        24.247    4.138   5.118  \n",
       "             SWCF_CERES-EBAF SW Cloud Forc     -47.071    1.466  10.563  \n",
       "             U_200_JRA25     Zonal Wind JRA25   15.565    3.218   4.348  \n",
       "             Z3_500_NCEP                        56.581    0.336   0.424  \n",
       "     80-110  RESTOM          TOmodel net flux   0.000     0.647     NaN  \n",
       "             CLDTOT_ISCCP    Total cloud cover  66.800    2.157  12.869  \n",
       "             CLDTOT_CLOUDSAT                    66.824    2.133  10.894  \n",
       "             FLDS_ISCCP      LW down SRF        343.347   5.162  16.720  \n",
       "             PREH2O_ERAI                        24.247    2.624   3.909  \n",
       "             SWCF_CERES-EBAF SW Cloud Forc     -47.071    1.083  10.393  \n",
       "             U_200_JRA25     Zonal Wind JRA25   15.565    3.340   4.335  \n",
       "             Z3_500_NCEP                        56.581    0.133   0.327  \n",
       "Run4 90-120  RESTOM          TOmodel net flux   0.000    -0.075     NaN  \n",
       "             CLDTOT_ISCCP    Total cloud cover  66.800    3.947  12.485  \n",
       "             CLDTOT_CLOUDSAT                    66.824    3.923  10.561  \n",
       "             FLDS_ISCCP      LW down SRF        343.347   4.507  15.278  \n",
       "             PREH2O_ERAI                        24.247    1.486   2.674  \n",
       "             SWCF_CERES-EBAF SW Cloud Forc     -47.071   -1.888   9.973  \n",
       "             U_200_JRA25     Zonal Wind JRA25   15.565    2.304   3.342  \n",
       "             Z3_500_NCEP                        56.581    0.005   0.187  "
      ]
     },
     "execution_count": 13,
     "metadata": {},
     "output_type": "execute_result"
    }
   ],
   "source": [
    "selection = selector.df_edit\n",
    "selection"
   ]
  },
  {
   "cell_type": "markdown",
   "metadata": {
    "extensions": {
     "jupyter_dashboards": {
      "version": 1,
      "views": {
       "grid_default": {
        "col": 8,
        "height": 4,
        "hidden": false,
        "row": 44,
        "width": 4
       },
       "report_default": {
        "hidden": false
       }
      }
     }
    }
   },
   "source": [
    "#### 5.2 Interactive index renaming tool (IA_RENAME)\n",
    "\n",
    "In the following, an interactive widget is defined, that allows for renaming of the runs."
   ]
  },
  {
   "cell_type": "code",
   "execution_count": 14,
   "metadata": {
    "extensions": {
     "jupyter_dashboards": {
      "version": 1,
      "views": {
       "grid_default": {
        "col": 7,
        "height": 5,
        "hidden": false,
        "row": 61,
        "width": 4
       },
       "report_default": {
        "hidden": false
       }
      }
     }
    }
   },
   "outputs": [
    {
     "data": {
      "application/vnd.jupyter.widget-view+json": {
       "model_id": "cff861f2c0a64c8c8b95f77bcc543d5a",
       "version_major": 2,
       "version_minor": 0
      },
      "text/plain": [
       "VBox(children=(HBox(children=(VBox(children=(HBox(children=(Label(value='Run1', layout=Layout(width='300px')),…"
      ]
     },
     "metadata": {},
     "output_type": "display_data"
    }
   ],
   "source": [
    "from my_widgets import IndexRenamer\n",
    "\n",
    "renamer = IndexRenamer(selection, suggestions=run_ids)\n",
    "renamer()"
   ]
  },
  {
   "cell_type": "markdown",
   "metadata": {
    "extensions": {
     "jupyter_dashboards": {
      "version": 1,
      "views": {
       "grid_default": {
        "col": 4,
        "height": 4,
        "hidden": false,
        "row": 48,
        "width": 4
       },
       "report_default": {
        "hidden": false
       }
      }
     }
    }
   },
   "source": [
    "Now, update the current dataframe for further usage."
   ]
  },
  {
   "cell_type": "code",
   "execution_count": 15,
   "metadata": {
    "extensions": {
     "jupyter_dashboards": {
      "version": 1,
      "views": {
       "grid_default": {
        "hidden": true
       },
       "report_default": {
        "hidden": true
       }
      }
     }
    }
   },
   "outputs": [],
   "source": [
    "selection = renamer.df_edit"
   ]
  },
  {
   "cell_type": "markdown",
   "metadata": {
    "extensions": {
     "jupyter_dashboards": {
      "version": 1,
      "views": {
       "grid_default": {
        "col": 0,
        "height": 4,
        "hidden": false,
        "row": 147,
        "width": 12
       },
       "report_default": {
        "hidden": false
       }
      }
     }
    }
   },
   "source": [
    "#### 5.3 Reshaping of table (make it wider for readibility) (RESHAPE)\n",
    " \n",
    "For visualisation this display requires a lot of scrolling. We can make the table `wider` by unstacking certain indices, e.g. the two outermost indices `Run` and `Years`."
   ]
  },
  {
   "cell_type": "code",
   "execution_count": 16,
   "metadata": {
    "extensions": {
     "jupyter_dashboards": {
      "version": 1,
      "views": {
       "grid_default": {
        "col": 0,
        "height": 18,
        "hidden": false,
        "row": 151,
        "width": 12
       },
       "report_default": {
        "hidden": false
       }
      }
     }
    }
   },
   "outputs": [
    {
     "data": {
      "text/html": [
       "<div>\n",
       "<style scoped>\n",
       "    .dataframe tbody tr th:only-of-type {\n",
       "        vertical-align: middle;\n",
       "    }\n",
       "\n",
       "    .dataframe tbody tr th {\n",
       "        vertical-align: top;\n",
       "    }\n",
       "\n",
       "    .dataframe thead tr th {\n",
       "        text-align: left;\n",
       "    }\n",
       "\n",
       "    .dataframe thead tr:last-of-type th {\n",
       "        text-align: right;\n",
       "    }\n",
       "</style>\n",
       "<table border=\"1\" class=\"dataframe\">\n",
       "  <thead>\n",
       "    <tr>\n",
       "      <th></th>\n",
       "      <th></th>\n",
       "      <th></th>\n",
       "      <th colspan=\"6\" halign=\"left\">Flag</th>\n",
       "      <th colspan=\"4\" halign=\"left\">Model</th>\n",
       "      <th>...</th>\n",
       "      <th colspan=\"4\" halign=\"left\">Bias</th>\n",
       "      <th colspan=\"6\" halign=\"left\">RMSE</th>\n",
       "    </tr>\n",
       "    <tr>\n",
       "      <th></th>\n",
       "      <th></th>\n",
       "      <th>Run</th>\n",
       "      <th>Run1</th>\n",
       "      <th>Run2</th>\n",
       "      <th colspan=\"3\" halign=\"left\">Run3</th>\n",
       "      <th>Run4</th>\n",
       "      <th>Run1</th>\n",
       "      <th>Run2</th>\n",
       "      <th colspan=\"2\" halign=\"left\">Run3</th>\n",
       "      <th>...</th>\n",
       "      <th colspan=\"3\" halign=\"left\">Run3</th>\n",
       "      <th>Run4</th>\n",
       "      <th>Run1</th>\n",
       "      <th>Run2</th>\n",
       "      <th colspan=\"3\" halign=\"left\">Run3</th>\n",
       "      <th>Run4</th>\n",
       "    </tr>\n",
       "    <tr>\n",
       "      <th></th>\n",
       "      <th></th>\n",
       "      <th>Years</th>\n",
       "      <th>71-100</th>\n",
       "      <th>1-20</th>\n",
       "      <th>185-215</th>\n",
       "      <th>310-340</th>\n",
       "      <th>80-110</th>\n",
       "      <th>90-120</th>\n",
       "      <th>71-100</th>\n",
       "      <th>1-20</th>\n",
       "      <th>185-215</th>\n",
       "      <th>310-340</th>\n",
       "      <th>...</th>\n",
       "      <th>185-215</th>\n",
       "      <th>310-340</th>\n",
       "      <th>80-110</th>\n",
       "      <th>90-120</th>\n",
       "      <th>71-100</th>\n",
       "      <th>1-20</th>\n",
       "      <th>185-215</th>\n",
       "      <th>310-340</th>\n",
       "      <th>80-110</th>\n",
       "      <th>90-120</th>\n",
       "    </tr>\n",
       "    <tr>\n",
       "      <th>Variable</th>\n",
       "      <th>Description</th>\n",
       "      <th>Obs</th>\n",
       "      <th></th>\n",
       "      <th></th>\n",
       "      <th></th>\n",
       "      <th></th>\n",
       "      <th></th>\n",
       "      <th></th>\n",
       "      <th></th>\n",
       "      <th></th>\n",
       "      <th></th>\n",
       "      <th></th>\n",
       "      <th></th>\n",
       "      <th></th>\n",
       "      <th></th>\n",
       "      <th></th>\n",
       "      <th></th>\n",
       "      <th></th>\n",
       "      <th></th>\n",
       "      <th></th>\n",
       "      <th></th>\n",
       "      <th></th>\n",
       "      <th></th>\n",
       "    </tr>\n",
       "  </thead>\n",
       "  <tbody>\n",
       "    <tr>\n",
       "      <th>CLDTOT_CLOUDSAT</th>\n",
       "      <th></th>\n",
       "      <th>66.824</th>\n",
       "      <td>False</td>\n",
       "      <td>False</td>\n",
       "      <td>False</td>\n",
       "      <td>False</td>\n",
       "      <td>False</td>\n",
       "      <td>False</td>\n",
       "      <td>63.621</td>\n",
       "      <td>68.586</td>\n",
       "      <td>68.543</td>\n",
       "      <td>68.234</td>\n",
       "      <td>...</td>\n",
       "      <td>1.720</td>\n",
       "      <td>1.411</td>\n",
       "      <td>2.133</td>\n",
       "      <td>3.923</td>\n",
       "      <td>9.731</td>\n",
       "      <td>10.382</td>\n",
       "      <td>10.886</td>\n",
       "      <td>10.952</td>\n",
       "      <td>10.894</td>\n",
       "      <td>10.561</td>\n",
       "    </tr>\n",
       "    <tr>\n",
       "      <th>CLDTOT_ISCCP</th>\n",
       "      <th>Total cloud cover</th>\n",
       "      <th>66.800</th>\n",
       "      <td>True</td>\n",
       "      <td>True</td>\n",
       "      <td>True</td>\n",
       "      <td>True</td>\n",
       "      <td>True</td>\n",
       "      <td>True</td>\n",
       "      <td>63.621</td>\n",
       "      <td>68.586</td>\n",
       "      <td>68.543</td>\n",
       "      <td>68.234</td>\n",
       "      <td>...</td>\n",
       "      <td>1.744</td>\n",
       "      <td>1.435</td>\n",
       "      <td>2.157</td>\n",
       "      <td>3.947</td>\n",
       "      <td>11.323</td>\n",
       "      <td>11.881</td>\n",
       "      <td>12.992</td>\n",
       "      <td>13.078</td>\n",
       "      <td>12.869</td>\n",
       "      <td>12.485</td>\n",
       "    </tr>\n",
       "    <tr>\n",
       "      <th>FLDS_ISCCP</th>\n",
       "      <th>LW down SRF</th>\n",
       "      <th>343.347</th>\n",
       "      <td>True</td>\n",
       "      <td>True</td>\n",
       "      <td>True</td>\n",
       "      <td>True</td>\n",
       "      <td>True</td>\n",
       "      <td>True</td>\n",
       "      <td>338.280</td>\n",
       "      <td>341.547</td>\n",
       "      <td>353.861</td>\n",
       "      <td>354.846</td>\n",
       "      <td>...</td>\n",
       "      <td>10.514</td>\n",
       "      <td>11.499</td>\n",
       "      <td>5.162</td>\n",
       "      <td>4.507</td>\n",
       "      <td>14.450</td>\n",
       "      <td>15.351</td>\n",
       "      <td>16.891</td>\n",
       "      <td>17.664</td>\n",
       "      <td>16.720</td>\n",
       "      <td>15.278</td>\n",
       "    </tr>\n",
       "    <tr>\n",
       "      <th>PREH2O_ERAI</th>\n",
       "      <th></th>\n",
       "      <th>24.247</th>\n",
       "      <td>False</td>\n",
       "      <td>False</td>\n",
       "      <td>False</td>\n",
       "      <td>False</td>\n",
       "      <td>False</td>\n",
       "      <td>False</td>\n",
       "      <td>23.974</td>\n",
       "      <td>24.437</td>\n",
       "      <td>28.091</td>\n",
       "      <td>28.385</td>\n",
       "      <td>...</td>\n",
       "      <td>3.844</td>\n",
       "      <td>4.138</td>\n",
       "      <td>2.624</td>\n",
       "      <td>1.486</td>\n",
       "      <td>1.887</td>\n",
       "      <td>1.838</td>\n",
       "      <td>4.836</td>\n",
       "      <td>5.118</td>\n",
       "      <td>3.909</td>\n",
       "      <td>2.674</td>\n",
       "    </tr>\n",
       "    <tr>\n",
       "      <th>RESTOM</th>\n",
       "      <th>TOmodel net flux</th>\n",
       "      <th>0.000</th>\n",
       "      <td>True</td>\n",
       "      <td>True</td>\n",
       "      <td>True</td>\n",
       "      <td>True</td>\n",
       "      <td>True</td>\n",
       "      <td>True</td>\n",
       "      <td>-0.489</td>\n",
       "      <td>0.987</td>\n",
       "      <td>0.468</td>\n",
       "      <td>0.327</td>\n",
       "      <td>...</td>\n",
       "      <td>0.468</td>\n",
       "      <td>0.327</td>\n",
       "      <td>0.647</td>\n",
       "      <td>-0.075</td>\n",
       "      <td>NaN</td>\n",
       "      <td>NaN</td>\n",
       "      <td>NaN</td>\n",
       "      <td>NaN</td>\n",
       "      <td>NaN</td>\n",
       "      <td>NaN</td>\n",
       "    </tr>\n",
       "    <tr>\n",
       "      <th>SWCF_CERES-EBAF</th>\n",
       "      <th>SW Cloud Forc</th>\n",
       "      <th>-47.071</th>\n",
       "      <td>True</td>\n",
       "      <td>True</td>\n",
       "      <td>True</td>\n",
       "      <td>True</td>\n",
       "      <td>True</td>\n",
       "      <td>True</td>\n",
       "      <td>-48.323</td>\n",
       "      <td>-45.297</td>\n",
       "      <td>-45.805</td>\n",
       "      <td>-45.605</td>\n",
       "      <td>...</td>\n",
       "      <td>1.266</td>\n",
       "      <td>1.466</td>\n",
       "      <td>1.083</td>\n",
       "      <td>-1.888</td>\n",
       "      <td>10.324</td>\n",
       "      <td>8.854</td>\n",
       "      <td>10.447</td>\n",
       "      <td>10.563</td>\n",
       "      <td>10.393</td>\n",
       "      <td>9.973</td>\n",
       "    </tr>\n",
       "    <tr>\n",
       "      <th>U_200_JRA25</th>\n",
       "      <th>Zonal Wind JRA25</th>\n",
       "      <th>15.565</th>\n",
       "      <td>True</td>\n",
       "      <td>True</td>\n",
       "      <td>True</td>\n",
       "      <td>True</td>\n",
       "      <td>True</td>\n",
       "      <td>True</td>\n",
       "      <td>16.571</td>\n",
       "      <td>17.390</td>\n",
       "      <td>18.774</td>\n",
       "      <td>18.783</td>\n",
       "      <td>...</td>\n",
       "      <td>3.209</td>\n",
       "      <td>3.218</td>\n",
       "      <td>3.340</td>\n",
       "      <td>2.304</td>\n",
       "      <td>2.444</td>\n",
       "      <td>2.852</td>\n",
       "      <td>4.334</td>\n",
       "      <td>4.348</td>\n",
       "      <td>4.335</td>\n",
       "      <td>3.342</td>\n",
       "    </tr>\n",
       "    <tr>\n",
       "      <th>Z3_500_NCEP</th>\n",
       "      <th></th>\n",
       "      <th>56.581</th>\n",
       "      <td>False</td>\n",
       "      <td>False</td>\n",
       "      <td>False</td>\n",
       "      <td>False</td>\n",
       "      <td>False</td>\n",
       "      <td>False</td>\n",
       "      <td>56.347</td>\n",
       "      <td>56.511</td>\n",
       "      <td>56.879</td>\n",
       "      <td>56.917</td>\n",
       "      <td>...</td>\n",
       "      <td>0.298</td>\n",
       "      <td>0.336</td>\n",
       "      <td>0.133</td>\n",
       "      <td>0.005</td>\n",
       "      <td>0.263</td>\n",
       "      <td>0.172</td>\n",
       "      <td>0.391</td>\n",
       "      <td>0.424</td>\n",
       "      <td>0.327</td>\n",
       "      <td>0.187</td>\n",
       "    </tr>\n",
       "  </tbody>\n",
       "</table>\n",
       "<p>8 rows × 24 columns</p>\n",
       "</div>"
      ],
      "text/plain": [
       "                                             Flag                         \\\n",
       "Run                                          Run1   Run2    Run3           \n",
       "Years                                      71-100   1-20 185-215 310-340   \n",
       "Variable        Description       Obs                                      \n",
       "CLDTOT_CLOUDSAT                    66.824   False  False   False   False   \n",
       "CLDTOT_ISCCP    Total cloud cover  66.800    True   True    True    True   \n",
       "FLDS_ISCCP      LW down SRF        343.347   True   True    True    True   \n",
       "PREH2O_ERAI                        24.247   False  False   False   False   \n",
       "RESTOM          TOmodel net flux   0.000     True   True    True    True   \n",
       "SWCF_CERES-EBAF SW Cloud Forc     -47.071    True   True    True    True   \n",
       "U_200_JRA25     Zonal Wind JRA25   15.565    True   True    True    True   \n",
       "Z3_500_NCEP                        56.581   False  False   False   False   \n",
       "\n",
       "                                                            Model           \\\n",
       "Run                                                 Run4     Run1     Run2   \n",
       "Years                                      80-110 90-120   71-100     1-20   \n",
       "Variable        Description       Obs                                        \n",
       "CLDTOT_CLOUDSAT                    66.824   False  False   63.621   68.586   \n",
       "CLDTOT_ISCCP    Total cloud cover  66.800    True   True   63.621   68.586   \n",
       "FLDS_ISCCP      LW down SRF        343.347   True   True  338.280  341.547   \n",
       "PREH2O_ERAI                        24.247   False  False   23.974   24.437   \n",
       "RESTOM          TOmodel net flux   0.000     True   True   -0.489    0.987   \n",
       "SWCF_CERES-EBAF SW Cloud Forc     -47.071    True   True  -48.323  -45.297   \n",
       "U_200_JRA25     Zonal Wind JRA25   15.565    True   True   16.571   17.390   \n",
       "Z3_500_NCEP                        56.581   False  False   56.347   56.511   \n",
       "\n",
       "                                                               ...      Bias  \\\n",
       "Run                                            Run3            ...      Run3   \n",
       "Years                                       185-215  310-340   ...   185-215   \n",
       "Variable        Description       Obs                          ...             \n",
       "CLDTOT_CLOUDSAT                    66.824    68.543   68.234   ...     1.720   \n",
       "CLDTOT_ISCCP    Total cloud cover  66.800    68.543   68.234   ...     1.744   \n",
       "FLDS_ISCCP      LW down SRF        343.347  353.861  354.846   ...    10.514   \n",
       "PREH2O_ERAI                        24.247    28.091   28.385   ...     3.844   \n",
       "RESTOM          TOmodel net flux   0.000      0.468    0.327   ...     0.468   \n",
       "SWCF_CERES-EBAF SW Cloud Forc     -47.071   -45.805  -45.605   ...     1.266   \n",
       "U_200_JRA25     Zonal Wind JRA25   15.565    18.774   18.783   ...     3.209   \n",
       "Z3_500_NCEP                        56.581    56.879   56.917   ...     0.298   \n",
       "\n",
       "                                                                    RMSE  \\\n",
       "Run                                                         Run4    Run1   \n",
       "Years                                      310-340 80-110 90-120  71-100   \n",
       "Variable        Description       Obs                                      \n",
       "CLDTOT_CLOUDSAT                    66.824    1.411  2.133  3.923   9.731   \n",
       "CLDTOT_ISCCP    Total cloud cover  66.800    1.435  2.157  3.947  11.323   \n",
       "FLDS_ISCCP      LW down SRF        343.347  11.499  5.162  4.507  14.450   \n",
       "PREH2O_ERAI                        24.247    4.138  2.624  1.486   1.887   \n",
       "RESTOM          TOmodel net flux   0.000     0.327  0.647 -0.075     NaN   \n",
       "SWCF_CERES-EBAF SW Cloud Forc     -47.071    1.466  1.083 -1.888  10.324   \n",
       "U_200_JRA25     Zonal Wind JRA25   15.565    3.218  3.340  2.304   2.444   \n",
       "Z3_500_NCEP                        56.581    0.336  0.133  0.005   0.263   \n",
       "\n",
       "                                                                            \\\n",
       "Run                                           Run2    Run3                   \n",
       "Years                                         1-20 185-215 310-340  80-110   \n",
       "Variable        Description       Obs                                        \n",
       "CLDTOT_CLOUDSAT                    66.824   10.382  10.886  10.952  10.894   \n",
       "CLDTOT_ISCCP    Total cloud cover  66.800   11.881  12.992  13.078  12.869   \n",
       "FLDS_ISCCP      LW down SRF        343.347  15.351  16.891  17.664  16.720   \n",
       "PREH2O_ERAI                        24.247    1.838   4.836   5.118   3.909   \n",
       "RESTOM          TOmodel net flux   0.000       NaN     NaN     NaN     NaN   \n",
       "SWCF_CERES-EBAF SW Cloud Forc     -47.071    8.854  10.447  10.563  10.393   \n",
       "U_200_JRA25     Zonal Wind JRA25   15.565    2.852   4.334   4.348   4.335   \n",
       "Z3_500_NCEP                        56.581    0.172   0.391   0.424   0.327   \n",
       "\n",
       "                                                    \n",
       "Run                                           Run4  \n",
       "Years                                       90-120  \n",
       "Variable        Description       Obs               \n",
       "CLDTOT_CLOUDSAT                    66.824   10.561  \n",
       "CLDTOT_ISCCP    Total cloud cover  66.800   12.485  \n",
       "FLDS_ISCCP      LW down SRF        343.347  15.278  \n",
       "PREH2O_ERAI                        24.247    2.674  \n",
       "RESTOM          TOmodel net flux   0.000       NaN  \n",
       "SWCF_CERES-EBAF SW Cloud Forc     -47.071    9.973  \n",
       "U_200_JRA25     Zonal Wind JRA25   15.565    3.342  \n",
       "Z3_500_NCEP                        56.581    0.187  \n",
       "\n",
       "[8 rows x 24 columns]"
      ]
     },
     "execution_count": 16,
     "metadata": {},
     "output_type": "execute_result"
    }
   ],
   "source": [
    "selection_unstacked = selection.unstack(unstack_indices)\n",
    "selection_unstacked"
   ]
  },
  {
   "cell_type": "code",
   "execution_count": 17,
   "metadata": {
    "extensions": {
     "jupyter_dashboards": {
      "version": 1,
      "views": {
       "grid_default": {
        "col": 7,
        "height": 5,
        "hidden": false,
        "row": 66,
        "width": 4
       },
       "report_default": {
        "hidden": false
       }
      }
     }
    }
   },
   "outputs": [
    {
     "data": {
      "application/vnd.jupyter.widget-view+json": {
       "model_id": "f22aebeac2534326a22f51d427858ea5",
       "version_major": 2,
       "version_minor": 0
      },
      "text/plain": [
       "VBox(children=(HBox(children=(VBox(children=(Label(value='Column to index'), Label(value='Add selected columns…"
      ]
     },
     "metadata": {},
     "output_type": "display_data"
    }
   ],
   "source": [
    "from my_widgets import TableView\n",
    "view = TableView(selection_unstacked, output_dir)\n",
    "view()"
   ]
  },
  {
   "cell_type": "markdown",
   "metadata": {
    "extensions": {
     "jupyter_dashboards": {
      "version": 1,
      "views": {
       "grid_default": {
        "col": 0,
        "height": 5,
        "hidden": false,
        "row": 169,
        "width": 12
       },
       "report_default": {
        "hidden": false
       }
      }
     }
    }
   },
   "source": [
    "Well, this is better but also not extremely illustrative / intuitive. It becomes more intuitive if we just look at one parameter that we are interested in (e.g. RMSE). \n",
    "\n",
    "#### 5.4 Extracting the Bias of each model run relative to the observations (GET_BIAS)\n",
    "\n",
    "Retrieving a table that illustrates the Bias of each run for each flagged variable is straight forward. We just extract the `Bias` column from our flagged frame:"
   ]
  },
  {
   "cell_type": "code",
   "execution_count": 18,
   "metadata": {
    "extensions": {
     "jupyter_dashboards": {
      "version": 1,
      "views": {
       "grid_default": {
        "col": 0,
        "height": 16,
        "hidden": false,
        "row": 174,
        "width": 7
       },
       "report_default": {
        "hidden": false
       }
      }
     }
    }
   },
   "outputs": [
    {
     "data": {
      "text/html": [
       "<div>\n",
       "<style scoped>\n",
       "    .dataframe tbody tr th:only-of-type {\n",
       "        vertical-align: middle;\n",
       "    }\n",
       "\n",
       "    .dataframe tbody tr th {\n",
       "        vertical-align: top;\n",
       "    }\n",
       "\n",
       "    .dataframe thead tr th {\n",
       "        text-align: left;\n",
       "    }\n",
       "\n",
       "    .dataframe thead tr:last-of-type th {\n",
       "        text-align: right;\n",
       "    }\n",
       "</style>\n",
       "<table border=\"1\" class=\"dataframe\">\n",
       "  <thead>\n",
       "    <tr>\n",
       "      <th></th>\n",
       "      <th></th>\n",
       "      <th>Run</th>\n",
       "      <th>Run1</th>\n",
       "      <th>Run2</th>\n",
       "      <th colspan=\"3\" halign=\"left\">Run3</th>\n",
       "      <th>Run4</th>\n",
       "    </tr>\n",
       "    <tr>\n",
       "      <th></th>\n",
       "      <th></th>\n",
       "      <th>Years</th>\n",
       "      <th>71-100</th>\n",
       "      <th>1-20</th>\n",
       "      <th>185-215</th>\n",
       "      <th>310-340</th>\n",
       "      <th>80-110</th>\n",
       "      <th>90-120</th>\n",
       "    </tr>\n",
       "    <tr>\n",
       "      <th>Variable</th>\n",
       "      <th>Description</th>\n",
       "      <th>Obs</th>\n",
       "      <th></th>\n",
       "      <th></th>\n",
       "      <th></th>\n",
       "      <th></th>\n",
       "      <th></th>\n",
       "      <th></th>\n",
       "    </tr>\n",
       "  </thead>\n",
       "  <tbody>\n",
       "    <tr>\n",
       "      <th>CLDTOT_CLOUDSAT</th>\n",
       "      <th></th>\n",
       "      <th>66.824</th>\n",
       "      <td>-3.203</td>\n",
       "      <td>1.762</td>\n",
       "      <td>1.720</td>\n",
       "      <td>1.411</td>\n",
       "      <td>2.133</td>\n",
       "      <td>3.923</td>\n",
       "    </tr>\n",
       "    <tr>\n",
       "      <th>CLDTOT_ISCCP</th>\n",
       "      <th>Total cloud cover</th>\n",
       "      <th>66.800</th>\n",
       "      <td>-3.179</td>\n",
       "      <td>1.786</td>\n",
       "      <td>1.744</td>\n",
       "      <td>1.435</td>\n",
       "      <td>2.157</td>\n",
       "      <td>3.947</td>\n",
       "    </tr>\n",
       "    <tr>\n",
       "      <th>FLDS_ISCCP</th>\n",
       "      <th>LW down SRF</th>\n",
       "      <th>343.347</th>\n",
       "      <td>-5.066</td>\n",
       "      <td>-1.799</td>\n",
       "      <td>10.514</td>\n",
       "      <td>11.499</td>\n",
       "      <td>5.162</td>\n",
       "      <td>4.507</td>\n",
       "    </tr>\n",
       "    <tr>\n",
       "      <th>PREH2O_ERAI</th>\n",
       "      <th></th>\n",
       "      <th>24.247</th>\n",
       "      <td>-0.273</td>\n",
       "      <td>0.191</td>\n",
       "      <td>3.844</td>\n",
       "      <td>4.138</td>\n",
       "      <td>2.624</td>\n",
       "      <td>1.486</td>\n",
       "    </tr>\n",
       "    <tr>\n",
       "      <th>RESTOM</th>\n",
       "      <th>TOmodel net flux</th>\n",
       "      <th>0.000</th>\n",
       "      <td>-0.489</td>\n",
       "      <td>0.987</td>\n",
       "      <td>0.468</td>\n",
       "      <td>0.327</td>\n",
       "      <td>0.647</td>\n",
       "      <td>-0.075</td>\n",
       "    </tr>\n",
       "    <tr>\n",
       "      <th>SWCF_CERES-EBAF</th>\n",
       "      <th>SW Cloud Forc</th>\n",
       "      <th>-47.071</th>\n",
       "      <td>-1.252</td>\n",
       "      <td>1.774</td>\n",
       "      <td>1.266</td>\n",
       "      <td>1.466</td>\n",
       "      <td>1.083</td>\n",
       "      <td>-1.888</td>\n",
       "    </tr>\n",
       "    <tr>\n",
       "      <th>U_200_JRA25</th>\n",
       "      <th>Zonal Wind JRA25</th>\n",
       "      <th>15.565</th>\n",
       "      <td>1.006</td>\n",
       "      <td>1.825</td>\n",
       "      <td>3.209</td>\n",
       "      <td>3.218</td>\n",
       "      <td>3.340</td>\n",
       "      <td>2.304</td>\n",
       "    </tr>\n",
       "    <tr>\n",
       "      <th>Z3_500_NCEP</th>\n",
       "      <th></th>\n",
       "      <th>56.581</th>\n",
       "      <td>-0.234</td>\n",
       "      <td>-0.070</td>\n",
       "      <td>0.298</td>\n",
       "      <td>0.336</td>\n",
       "      <td>0.133</td>\n",
       "      <td>0.005</td>\n",
       "    </tr>\n",
       "  </tbody>\n",
       "</table>\n",
       "</div>"
      ],
      "text/plain": [
       "Run                                          Run1   Run2    Run3          \\\n",
       "Years                                      71-100   1-20 185-215 310-340   \n",
       "Variable        Description       Obs                                      \n",
       "CLDTOT_CLOUDSAT                    66.824  -3.203  1.762   1.720   1.411   \n",
       "CLDTOT_ISCCP    Total cloud cover  66.800  -3.179  1.786   1.744   1.435   \n",
       "FLDS_ISCCP      LW down SRF        343.347 -5.066 -1.799  10.514  11.499   \n",
       "PREH2O_ERAI                        24.247  -0.273  0.191   3.844   4.138   \n",
       "RESTOM          TOmodel net flux   0.000   -0.489  0.987   0.468   0.327   \n",
       "SWCF_CERES-EBAF SW Cloud Forc     -47.071  -1.252  1.774   1.266   1.466   \n",
       "U_200_JRA25     Zonal Wind JRA25   15.565   1.006  1.825   3.209   3.218   \n",
       "Z3_500_NCEP                        56.581  -0.234 -0.070   0.298   0.336   \n",
       "\n",
       "Run                                                 Run4  \n",
       "Years                                      80-110 90-120  \n",
       "Variable        Description       Obs                     \n",
       "CLDTOT_CLOUDSAT                    66.824   2.133  3.923  \n",
       "CLDTOT_ISCCP    Total cloud cover  66.800   2.157  3.947  \n",
       "FLDS_ISCCP      LW down SRF        343.347  5.162  4.507  \n",
       "PREH2O_ERAI                        24.247   2.624  1.486  \n",
       "RESTOM          TOmodel net flux   0.000    0.647 -0.075  \n",
       "SWCF_CERES-EBAF SW Cloud Forc     -47.071   1.083 -1.888  \n",
       "U_200_JRA25     Zonal Wind JRA25   15.565   3.340  2.304  \n",
       "Z3_500_NCEP                        56.581   0.133  0.005  "
      ]
     },
     "execution_count": 18,
     "metadata": {},
     "output_type": "execute_result"
    }
   ],
   "source": [
    "bias = selection_unstacked[\"Bias\"]\n",
    "bias"
   ]
  },
  {
   "cell_type": "markdown",
   "metadata": {
    "extensions": {
     "jupyter_dashboards": {
      "version": 1,
      "views": {
       "grid_default": {
        "col": 11,
        "height": 6,
        "hidden": false,
        "row": 61,
        "width": null
       },
       "report_default": {
        "hidden": false
       }
      }
     }
    }
   },
   "source": [
    "#### 5.5 Computing RMSE relative error (GET_RMSE_REL)\n",
    "\n",
    "In the following we extract the subset containing the *RSME* information of the flagged variables for all runs in order to compute the relative error for each run based on the average *RMSE* of all runs:\n",
    "\n",
    "$$\\frac{RMSE_{Run}\\,-\\,\\overline{RMSE_{All\\,Runs}}}{\\overline{RMSE_{All\\,Runs}}}$$\n"
   ]
  },
  {
   "cell_type": "code",
   "execution_count": 19,
   "metadata": {
    "extensions": {
     "jupyter_dashboards": {
      "version": 1,
      "views": {
       "grid_default": {
        "col": 0,
        "height": 16,
        "hidden": false,
        "row": 190,
        "width": 7
       },
       "report_default": {
        "hidden": false
       }
      }
     }
    }
   },
   "outputs": [
    {
     "data": {
      "text/html": [
       "<div>\n",
       "<style scoped>\n",
       "    .dataframe tbody tr th:only-of-type {\n",
       "        vertical-align: middle;\n",
       "    }\n",
       "\n",
       "    .dataframe tbody tr th {\n",
       "        vertical-align: top;\n",
       "    }\n",
       "\n",
       "    .dataframe thead tr th {\n",
       "        text-align: left;\n",
       "    }\n",
       "\n",
       "    .dataframe thead tr:last-of-type th {\n",
       "        text-align: right;\n",
       "    }\n",
       "</style>\n",
       "<table border=\"1\" class=\"dataframe\">\n",
       "  <thead>\n",
       "    <tr>\n",
       "      <th></th>\n",
       "      <th></th>\n",
       "      <th>Run</th>\n",
       "      <th>Run1</th>\n",
       "      <th>Run2</th>\n",
       "      <th colspan=\"3\" halign=\"left\">Run3</th>\n",
       "      <th>Run4</th>\n",
       "    </tr>\n",
       "    <tr>\n",
       "      <th></th>\n",
       "      <th></th>\n",
       "      <th>Years</th>\n",
       "      <th>71-100</th>\n",
       "      <th>1-20</th>\n",
       "      <th>185-215</th>\n",
       "      <th>310-340</th>\n",
       "      <th>80-110</th>\n",
       "      <th>90-120</th>\n",
       "    </tr>\n",
       "    <tr>\n",
       "      <th>Variable</th>\n",
       "      <th>Description</th>\n",
       "      <th>Obs</th>\n",
       "      <th></th>\n",
       "      <th></th>\n",
       "      <th></th>\n",
       "      <th></th>\n",
       "      <th></th>\n",
       "      <th></th>\n",
       "    </tr>\n",
       "  </thead>\n",
       "  <tbody>\n",
       "    <tr>\n",
       "      <th>CLDTOT_CLOUDSAT</th>\n",
       "      <th></th>\n",
       "      <th>66.824</th>\n",
       "      <td>9.731</td>\n",
       "      <td>10.382</td>\n",
       "      <td>10.886</td>\n",
       "      <td>10.952</td>\n",
       "      <td>10.894</td>\n",
       "      <td>10.561</td>\n",
       "    </tr>\n",
       "    <tr>\n",
       "      <th>CLDTOT_ISCCP</th>\n",
       "      <th>Total cloud cover</th>\n",
       "      <th>66.800</th>\n",
       "      <td>11.323</td>\n",
       "      <td>11.881</td>\n",
       "      <td>12.992</td>\n",
       "      <td>13.078</td>\n",
       "      <td>12.869</td>\n",
       "      <td>12.485</td>\n",
       "    </tr>\n",
       "    <tr>\n",
       "      <th>FLDS_ISCCP</th>\n",
       "      <th>LW down SRF</th>\n",
       "      <th>343.347</th>\n",
       "      <td>14.450</td>\n",
       "      <td>15.351</td>\n",
       "      <td>16.891</td>\n",
       "      <td>17.664</td>\n",
       "      <td>16.720</td>\n",
       "      <td>15.278</td>\n",
       "    </tr>\n",
       "    <tr>\n",
       "      <th>PREH2O_ERAI</th>\n",
       "      <th></th>\n",
       "      <th>24.247</th>\n",
       "      <td>1.887</td>\n",
       "      <td>1.838</td>\n",
       "      <td>4.836</td>\n",
       "      <td>5.118</td>\n",
       "      <td>3.909</td>\n",
       "      <td>2.674</td>\n",
       "    </tr>\n",
       "    <tr>\n",
       "      <th>RESTOM</th>\n",
       "      <th>TOmodel net flux</th>\n",
       "      <th>0.000</th>\n",
       "      <td>NaN</td>\n",
       "      <td>NaN</td>\n",
       "      <td>NaN</td>\n",
       "      <td>NaN</td>\n",
       "      <td>NaN</td>\n",
       "      <td>NaN</td>\n",
       "    </tr>\n",
       "    <tr>\n",
       "      <th>SWCF_CERES-EBAF</th>\n",
       "      <th>SW Cloud Forc</th>\n",
       "      <th>-47.071</th>\n",
       "      <td>10.324</td>\n",
       "      <td>8.854</td>\n",
       "      <td>10.447</td>\n",
       "      <td>10.563</td>\n",
       "      <td>10.393</td>\n",
       "      <td>9.973</td>\n",
       "    </tr>\n",
       "    <tr>\n",
       "      <th>U_200_JRA25</th>\n",
       "      <th>Zonal Wind JRA25</th>\n",
       "      <th>15.565</th>\n",
       "      <td>2.444</td>\n",
       "      <td>2.852</td>\n",
       "      <td>4.334</td>\n",
       "      <td>4.348</td>\n",
       "      <td>4.335</td>\n",
       "      <td>3.342</td>\n",
       "    </tr>\n",
       "    <tr>\n",
       "      <th>Z3_500_NCEP</th>\n",
       "      <th></th>\n",
       "      <th>56.581</th>\n",
       "      <td>0.263</td>\n",
       "      <td>0.172</td>\n",
       "      <td>0.391</td>\n",
       "      <td>0.424</td>\n",
       "      <td>0.327</td>\n",
       "      <td>0.187</td>\n",
       "    </tr>\n",
       "  </tbody>\n",
       "</table>\n",
       "</div>"
      ],
      "text/plain": [
       "Run                                           Run1    Run2    Run3          \\\n",
       "Years                                       71-100    1-20 185-215 310-340   \n",
       "Variable        Description       Obs                                        \n",
       "CLDTOT_CLOUDSAT                    66.824    9.731  10.382  10.886  10.952   \n",
       "CLDTOT_ISCCP    Total cloud cover  66.800   11.323  11.881  12.992  13.078   \n",
       "FLDS_ISCCP      LW down SRF        343.347  14.450  15.351  16.891  17.664   \n",
       "PREH2O_ERAI                        24.247    1.887   1.838   4.836   5.118   \n",
       "RESTOM          TOmodel net flux   0.000       NaN     NaN     NaN     NaN   \n",
       "SWCF_CERES-EBAF SW Cloud Forc     -47.071   10.324   8.854  10.447  10.563   \n",
       "U_200_JRA25     Zonal Wind JRA25   15.565    2.444   2.852   4.334   4.348   \n",
       "Z3_500_NCEP                        56.581    0.263   0.172   0.391   0.424   \n",
       "\n",
       "Run                                                   Run4  \n",
       "Years                                       80-110  90-120  \n",
       "Variable        Description       Obs                       \n",
       "CLDTOT_CLOUDSAT                    66.824   10.894  10.561  \n",
       "CLDTOT_ISCCP    Total cloud cover  66.800   12.869  12.485  \n",
       "FLDS_ISCCP      LW down SRF        343.347  16.720  15.278  \n",
       "PREH2O_ERAI                        24.247    3.909   2.674  \n",
       "RESTOM          TOmodel net flux   0.000       NaN     NaN  \n",
       "SWCF_CERES-EBAF SW Cloud Forc     -47.071   10.393   9.973  \n",
       "U_200_JRA25     Zonal Wind JRA25   15.565    4.335   3.342  \n",
       "Z3_500_NCEP                        56.581    0.327   0.187  "
      ]
     },
     "execution_count": 19,
     "metadata": {},
     "output_type": "execute_result"
    }
   ],
   "source": [
    "rmse = selection_unstacked[\"RMSE\"]\n",
    "rmse"
   ]
  },
  {
   "cell_type": "markdown",
   "metadata": {
    "extensions": {
     "jupyter_dashboards": {
      "version": 1,
      "views": {
       "grid_default": {
        "col": 0,
        "height": 4,
        "hidden": false,
        "row": 206,
        "width": 12
       },
       "report_default": {
        "hidden": false
       }
      }
     }
    }
   },
   "source": [
    "##### Side comment: Series vs. unstacked Multiindex Dataframes\n",
    "\n",
    "As you can see in the previous output, we have extracted ***ONE*** variable from the ***UNSTACKED*** dataframe. Now, this is still a pandas ``Dataframe`` since it is *tabular* data. "
   ]
  },
  {
   "cell_type": "code",
   "execution_count": 20,
   "metadata": {
    "extensions": {
     "jupyter_dashboards": {
      "version": 1,
      "views": {
       "grid_default": {
        "col": 8,
        "height": 4,
        "hidden": false,
        "row": 48,
        "width": 4
       },
       "report_default": {
        "hidden": false
       }
      }
     }
    }
   },
   "outputs": [
    {
     "name": "stdout",
     "output_type": "stream",
     "text": [
      "Extracted table is Dataframe since it is a wide table: True\n"
     ]
    }
   ],
   "source": [
    "print(\"Extracted table is Dataframe since it is a wide table: {}\".format(isinstance(rmse, pd.DataFrame)))"
   ]
  },
  {
   "cell_type": "code",
   "execution_count": 21,
   "metadata": {
    "extensions": {
     "jupyter_dashboards": {
      "version": 1,
      "views": {
       "grid_default": {
        "col": 7,
        "height": 8,
        "hidden": false,
        "row": 77,
        "width": 4
       },
       "report_default": {
        "hidden": false
       }
      }
     }
    },
    "scrolled": true
   },
   "outputs": [
    {
     "data": {
      "text/plain": [
       "Variable         Description        Obs    \n",
       "CLDTOT_CLOUDSAT                     66.824     10.567667\n",
       "CLDTOT_ISCCP     Total cloud cover  66.800     12.438000\n",
       "FLDS_ISCCP       LW down SRF        343.347    16.059000\n",
       "PREH2O_ERAI                         24.247      3.377000\n",
       "RESTOM           TOmodel net flux   0.000            NaN\n",
       "dtype: float64"
      ]
     },
     "execution_count": 21,
     "metadata": {},
     "output_type": "execute_result"
    }
   ],
   "source": [
    "rmse_mean = rmse.mean(axis=1, skipna=True)\n",
    "#Note that the created object is a Series and not a Dataframe\n",
    "rmse_mean.head()"
   ]
  },
  {
   "cell_type": "markdown",
   "metadata": {
    "extensions": {
     "jupyter_dashboards": {
      "version": 1,
      "views": {
       "grid_default": {
        "col": 0,
        "height": 4,
        "hidden": false,
        "row": 210,
        "width": 12
       },
       "report_default": {
        "hidden": false
       }
      }
     }
    }
   },
   "source": [
    "The next step is (semi) straight forward (we have to use the `div` and `subtract` methods of the Dataframe rather than `/` and `-` operators in order to specify that we want to apply them in the horizontal and not in the vertical direction."
   ]
  },
  {
   "cell_type": "code",
   "execution_count": 22,
   "metadata": {
    "extensions": {
     "jupyter_dashboards": {
      "version": 1,
      "views": {
       "grid_default": {
        "col": 0,
        "height": 16,
        "hidden": false,
        "row": 214,
        "width": 8
       },
       "report_default": {
        "hidden": false
       }
      }
     }
    }
   },
   "outputs": [
    {
     "data": {
      "text/html": [
       "<div>\n",
       "<style scoped>\n",
       "    .dataframe tbody tr th:only-of-type {\n",
       "        vertical-align: middle;\n",
       "    }\n",
       "\n",
       "    .dataframe tbody tr th {\n",
       "        vertical-align: top;\n",
       "    }\n",
       "\n",
       "    .dataframe thead tr th {\n",
       "        text-align: left;\n",
       "    }\n",
       "\n",
       "    .dataframe thead tr:last-of-type th {\n",
       "        text-align: right;\n",
       "    }\n",
       "</style>\n",
       "<table border=\"1\" class=\"dataframe\">\n",
       "  <thead>\n",
       "    <tr>\n",
       "      <th></th>\n",
       "      <th></th>\n",
       "      <th>Run</th>\n",
       "      <th>Run1</th>\n",
       "      <th>Run2</th>\n",
       "      <th colspan=\"3\" halign=\"left\">Run3</th>\n",
       "      <th>Run4</th>\n",
       "    </tr>\n",
       "    <tr>\n",
       "      <th></th>\n",
       "      <th></th>\n",
       "      <th>Years</th>\n",
       "      <th>71-100</th>\n",
       "      <th>1-20</th>\n",
       "      <th>185-215</th>\n",
       "      <th>310-340</th>\n",
       "      <th>80-110</th>\n",
       "      <th>90-120</th>\n",
       "    </tr>\n",
       "    <tr>\n",
       "      <th>Variable</th>\n",
       "      <th>Description</th>\n",
       "      <th>Obs</th>\n",
       "      <th></th>\n",
       "      <th></th>\n",
       "      <th></th>\n",
       "      <th></th>\n",
       "      <th></th>\n",
       "      <th></th>\n",
       "    </tr>\n",
       "  </thead>\n",
       "  <tbody>\n",
       "    <tr>\n",
       "      <th>CLDTOT_CLOUDSAT</th>\n",
       "      <th></th>\n",
       "      <th>66.824</th>\n",
       "      <td>-0.079172</td>\n",
       "      <td>-0.017569</td>\n",
       "      <td>0.030123</td>\n",
       "      <td>0.036369</td>\n",
       "      <td>0.030880</td>\n",
       "      <td>-0.000631</td>\n",
       "    </tr>\n",
       "    <tr>\n",
       "      <th>CLDTOT_ISCCP</th>\n",
       "      <th>Total cloud cover</th>\n",
       "      <th>66.800</th>\n",
       "      <td>-0.089645</td>\n",
       "      <td>-0.044782</td>\n",
       "      <td>0.044541</td>\n",
       "      <td>0.051455</td>\n",
       "      <td>0.034652</td>\n",
       "      <td>0.003779</td>\n",
       "    </tr>\n",
       "    <tr>\n",
       "      <th>FLDS_ISCCP</th>\n",
       "      <th>LW down SRF</th>\n",
       "      <th>343.347</th>\n",
       "      <td>-0.100193</td>\n",
       "      <td>-0.044087</td>\n",
       "      <td>0.051809</td>\n",
       "      <td>0.099944</td>\n",
       "      <td>0.041161</td>\n",
       "      <td>-0.048633</td>\n",
       "    </tr>\n",
       "    <tr>\n",
       "      <th>PREH2O_ERAI</th>\n",
       "      <th></th>\n",
       "      <th>24.247</th>\n",
       "      <td>-0.441220</td>\n",
       "      <td>-0.455730</td>\n",
       "      <td>0.432040</td>\n",
       "      <td>0.515546</td>\n",
       "      <td>0.157536</td>\n",
       "      <td>-0.208173</td>\n",
       "    </tr>\n",
       "    <tr>\n",
       "      <th>RESTOM</th>\n",
       "      <th>TOmodel net flux</th>\n",
       "      <th>0.000</th>\n",
       "      <td>NaN</td>\n",
       "      <td>NaN</td>\n",
       "      <td>NaN</td>\n",
       "      <td>NaN</td>\n",
       "      <td>NaN</td>\n",
       "      <td>NaN</td>\n",
       "    </tr>\n",
       "    <tr>\n",
       "      <th>SWCF_CERES-EBAF</th>\n",
       "      <th>SW Cloud Forc</th>\n",
       "      <th>-47.071</th>\n",
       "      <td>0.022955</td>\n",
       "      <td>-0.122700</td>\n",
       "      <td>0.035142</td>\n",
       "      <td>0.046636</td>\n",
       "      <td>0.029792</td>\n",
       "      <td>-0.011824</td>\n",
       "    </tr>\n",
       "    <tr>\n",
       "      <th>U_200_JRA25</th>\n",
       "      <th>Zonal Wind JRA25</th>\n",
       "      <th>15.565</th>\n",
       "      <td>-0.322835</td>\n",
       "      <td>-0.209790</td>\n",
       "      <td>0.200831</td>\n",
       "      <td>0.204710</td>\n",
       "      <td>0.201108</td>\n",
       "      <td>-0.074024</td>\n",
       "    </tr>\n",
       "    <tr>\n",
       "      <th>Z3_500_NCEP</th>\n",
       "      <th></th>\n",
       "      <th>56.581</th>\n",
       "      <td>-0.105442</td>\n",
       "      <td>-0.414966</td>\n",
       "      <td>0.329932</td>\n",
       "      <td>0.442177</td>\n",
       "      <td>0.112245</td>\n",
       "      <td>-0.363946</td>\n",
       "    </tr>\n",
       "  </tbody>\n",
       "</table>\n",
       "</div>"
      ],
      "text/plain": [
       "Run                                             Run1      Run2      Run3  \\\n",
       "Years                                         71-100      1-20   185-215   \n",
       "Variable        Description       Obs                                      \n",
       "CLDTOT_CLOUDSAT                    66.824  -0.079172 -0.017569  0.030123   \n",
       "CLDTOT_ISCCP    Total cloud cover  66.800  -0.089645 -0.044782  0.044541   \n",
       "FLDS_ISCCP      LW down SRF        343.347 -0.100193 -0.044087  0.051809   \n",
       "PREH2O_ERAI                        24.247  -0.441220 -0.455730  0.432040   \n",
       "RESTOM          TOmodel net flux   0.000         NaN       NaN       NaN   \n",
       "SWCF_CERES-EBAF SW Cloud Forc     -47.071   0.022955 -0.122700  0.035142   \n",
       "U_200_JRA25     Zonal Wind JRA25   15.565  -0.322835 -0.209790  0.200831   \n",
       "Z3_500_NCEP                        56.581  -0.105442 -0.414966  0.329932   \n",
       "\n",
       "Run                                                                 Run4  \n",
       "Years                                        310-340    80-110    90-120  \n",
       "Variable        Description       Obs                                     \n",
       "CLDTOT_CLOUDSAT                    66.824   0.036369  0.030880 -0.000631  \n",
       "CLDTOT_ISCCP    Total cloud cover  66.800   0.051455  0.034652  0.003779  \n",
       "FLDS_ISCCP      LW down SRF        343.347  0.099944  0.041161 -0.048633  \n",
       "PREH2O_ERAI                        24.247   0.515546  0.157536 -0.208173  \n",
       "RESTOM          TOmodel net flux   0.000         NaN       NaN       NaN  \n",
       "SWCF_CERES-EBAF SW Cloud Forc     -47.071   0.046636  0.029792 -0.011824  \n",
       "U_200_JRA25     Zonal Wind JRA25   15.565   0.204710  0.201108 -0.074024  \n",
       "Z3_500_NCEP                        56.581   0.442177  0.112245 -0.363946  "
      ]
     },
     "execution_count": 22,
     "metadata": {},
     "output_type": "execute_result"
    }
   ],
   "source": [
    "rmse_err_rel = rmse.subtract(rmse_mean, axis=0).div(rmse_mean, axis=0)\n",
    "rmse_err_rel"
   ]
  },
  {
   "cell_type": "markdown",
   "metadata": {
    "extensions": {
     "jupyter_dashboards": {
      "version": 1,
      "views": {
       "grid_default": {
        "col": 0,
        "height": 6,
        "hidden": false,
        "row": 230,
        "width": 12
       },
       "report_default": {
        "hidden": false
       }
      }
     }
    }
   },
   "source": [
    "### 5.6 Inserting column of RMSE relative error into original table (INSERT_RMSE_REL_ORIG)\n",
    "\n",
    "If we want, we can now add the typical RMSE to our original dataframe (containing the only flagged data, since it was computed from this). \n",
    "\n",
    "**Note: this is just illustrative and not used in the following section**\n",
    "\n",
    "First we have to stack it:"
   ]
  },
  {
   "cell_type": "code",
   "execution_count": 23,
   "metadata": {
    "extensions": {
     "jupyter_dashboards": {
      "version": 1,
      "views": {
       "grid_default": {
        "col": 7,
        "height": 9,
        "hidden": false,
        "row": 85,
        "width": 4
       },
       "report_default": {
        "hidden": false
       }
      }
     }
    }
   },
   "outputs": [
    {
     "data": {
      "text/plain": [
       "Run   Years    Variable         Description  Obs   \n",
       "Run1  71-100   CLDTOT_CLOUDSAT               66.824   -0.079172\n",
       "Run2  1-20     CLDTOT_CLOUDSAT               66.824   -0.017569\n",
       "Run3  185-215  CLDTOT_CLOUDSAT               66.824    0.030123\n",
       "      310-340  CLDTOT_CLOUDSAT               66.824    0.036369\n",
       "      80-110   CLDTOT_CLOUDSAT               66.824    0.030880\n",
       "dtype: float64"
      ]
     },
     "execution_count": 23,
     "metadata": {},
     "output_type": "execute_result"
    }
   ],
   "source": [
    "stacked = rmse_err_rel.stack(level=unstack_indices).reorder_levels(order=idx_order_init)\n",
    "stacked.head()"
   ]
  },
  {
   "cell_type": "code",
   "execution_count": 24,
   "metadata": {
    "extensions": {
     "jupyter_dashboards": {
      "version": 1,
      "views": {
       "grid_default": {
        "col": 0,
        "height": 70,
        "hidden": false,
        "row": 236,
        "width": 7
       },
       "report_default": {
        "hidden": false
       }
      }
     }
    }
   },
   "outputs": [
    {
     "data": {
      "text/html": [
       "<div>\n",
       "<style scoped>\n",
       "    .dataframe tbody tr th:only-of-type {\n",
       "        vertical-align: middle;\n",
       "    }\n",
       "\n",
       "    .dataframe tbody tr th {\n",
       "        vertical-align: top;\n",
       "    }\n",
       "\n",
       "    .dataframe thead th {\n",
       "        text-align: right;\n",
       "    }\n",
       "</style>\n",
       "<table border=\"1\" class=\"dataframe\">\n",
       "  <thead>\n",
       "    <tr style=\"text-align: right;\">\n",
       "      <th></th>\n",
       "      <th></th>\n",
       "      <th></th>\n",
       "      <th></th>\n",
       "      <th></th>\n",
       "      <th>Flag</th>\n",
       "      <th>Model</th>\n",
       "      <th>Bias</th>\n",
       "      <th>RMSE</th>\n",
       "      <th>RMSE_ERR</th>\n",
       "    </tr>\n",
       "    <tr>\n",
       "      <th>Run</th>\n",
       "      <th>Years</th>\n",
       "      <th>Variable</th>\n",
       "      <th>Description</th>\n",
       "      <th>Obs</th>\n",
       "      <th></th>\n",
       "      <th></th>\n",
       "      <th></th>\n",
       "      <th></th>\n",
       "      <th></th>\n",
       "    </tr>\n",
       "  </thead>\n",
       "  <tbody>\n",
       "    <tr>\n",
       "      <th rowspan=\"8\" valign=\"top\">Run1</th>\n",
       "      <th rowspan=\"8\" valign=\"top\">71-100</th>\n",
       "      <th>RESTOM</th>\n",
       "      <th>TOmodel net flux</th>\n",
       "      <th>0.000</th>\n",
       "      <td>True</td>\n",
       "      <td>-0.489</td>\n",
       "      <td>-0.489</td>\n",
       "      <td>NaN</td>\n",
       "      <td>NaN</td>\n",
       "    </tr>\n",
       "    <tr>\n",
       "      <th>CLDTOT_ISCCP</th>\n",
       "      <th>Total cloud cover</th>\n",
       "      <th>66.800</th>\n",
       "      <td>True</td>\n",
       "      <td>63.621</td>\n",
       "      <td>-3.179</td>\n",
       "      <td>11.323</td>\n",
       "      <td>-0.089645</td>\n",
       "    </tr>\n",
       "    <tr>\n",
       "      <th>CLDTOT_CLOUDSAT</th>\n",
       "      <th></th>\n",
       "      <th>66.824</th>\n",
       "      <td>False</td>\n",
       "      <td>63.621</td>\n",
       "      <td>-3.203</td>\n",
       "      <td>9.731</td>\n",
       "      <td>-0.079172</td>\n",
       "    </tr>\n",
       "    <tr>\n",
       "      <th>FLDS_ISCCP</th>\n",
       "      <th>LW down SRF</th>\n",
       "      <th>343.347</th>\n",
       "      <td>True</td>\n",
       "      <td>338.280</td>\n",
       "      <td>-5.066</td>\n",
       "      <td>14.450</td>\n",
       "      <td>-0.100193</td>\n",
       "    </tr>\n",
       "    <tr>\n",
       "      <th>PREH2O_ERAI</th>\n",
       "      <th></th>\n",
       "      <th>24.247</th>\n",
       "      <td>False</td>\n",
       "      <td>23.974</td>\n",
       "      <td>-0.273</td>\n",
       "      <td>1.887</td>\n",
       "      <td>-0.441220</td>\n",
       "    </tr>\n",
       "    <tr>\n",
       "      <th>SWCF_CERES-EBAF</th>\n",
       "      <th>SW Cloud Forc</th>\n",
       "      <th>-47.071</th>\n",
       "      <td>True</td>\n",
       "      <td>-48.323</td>\n",
       "      <td>-1.252</td>\n",
       "      <td>10.324</td>\n",
       "      <td>0.022955</td>\n",
       "    </tr>\n",
       "    <tr>\n",
       "      <th>U_200_JRA25</th>\n",
       "      <th>Zonal Wind JRA25</th>\n",
       "      <th>15.565</th>\n",
       "      <td>True</td>\n",
       "      <td>16.571</td>\n",
       "      <td>1.006</td>\n",
       "      <td>2.444</td>\n",
       "      <td>-0.322835</td>\n",
       "    </tr>\n",
       "    <tr>\n",
       "      <th>Z3_500_NCEP</th>\n",
       "      <th></th>\n",
       "      <th>56.581</th>\n",
       "      <td>False</td>\n",
       "      <td>56.347</td>\n",
       "      <td>-0.234</td>\n",
       "      <td>0.263</td>\n",
       "      <td>-0.105442</td>\n",
       "    </tr>\n",
       "    <tr>\n",
       "      <th rowspan=\"8\" valign=\"top\">Run2</th>\n",
       "      <th rowspan=\"8\" valign=\"top\">1-20</th>\n",
       "      <th>RESTOM</th>\n",
       "      <th>TOmodel net flux</th>\n",
       "      <th>0.000</th>\n",
       "      <td>True</td>\n",
       "      <td>0.987</td>\n",
       "      <td>0.987</td>\n",
       "      <td>NaN</td>\n",
       "      <td>NaN</td>\n",
       "    </tr>\n",
       "    <tr>\n",
       "      <th>CLDTOT_ISCCP</th>\n",
       "      <th>Total cloud cover</th>\n",
       "      <th>66.800</th>\n",
       "      <td>True</td>\n",
       "      <td>68.586</td>\n",
       "      <td>1.786</td>\n",
       "      <td>11.881</td>\n",
       "      <td>-0.044782</td>\n",
       "    </tr>\n",
       "    <tr>\n",
       "      <th>CLDTOT_CLOUDSAT</th>\n",
       "      <th></th>\n",
       "      <th>66.824</th>\n",
       "      <td>False</td>\n",
       "      <td>68.586</td>\n",
       "      <td>1.762</td>\n",
       "      <td>10.382</td>\n",
       "      <td>-0.017569</td>\n",
       "    </tr>\n",
       "    <tr>\n",
       "      <th>FLDS_ISCCP</th>\n",
       "      <th>LW down SRF</th>\n",
       "      <th>343.347</th>\n",
       "      <td>True</td>\n",
       "      <td>341.547</td>\n",
       "      <td>-1.799</td>\n",
       "      <td>15.351</td>\n",
       "      <td>-0.044087</td>\n",
       "    </tr>\n",
       "    <tr>\n",
       "      <th>PREH2O_ERAI</th>\n",
       "      <th></th>\n",
       "      <th>24.247</th>\n",
       "      <td>False</td>\n",
       "      <td>24.437</td>\n",
       "      <td>0.191</td>\n",
       "      <td>1.838</td>\n",
       "      <td>-0.455730</td>\n",
       "    </tr>\n",
       "    <tr>\n",
       "      <th>SWCF_CERES-EBAF</th>\n",
       "      <th>SW Cloud Forc</th>\n",
       "      <th>-47.071</th>\n",
       "      <td>True</td>\n",
       "      <td>-45.297</td>\n",
       "      <td>1.774</td>\n",
       "      <td>8.854</td>\n",
       "      <td>-0.122700</td>\n",
       "    </tr>\n",
       "    <tr>\n",
       "      <th>U_200_JRA25</th>\n",
       "      <th>Zonal Wind JRA25</th>\n",
       "      <th>15.565</th>\n",
       "      <td>True</td>\n",
       "      <td>17.390</td>\n",
       "      <td>1.825</td>\n",
       "      <td>2.852</td>\n",
       "      <td>-0.209790</td>\n",
       "    </tr>\n",
       "    <tr>\n",
       "      <th>Z3_500_NCEP</th>\n",
       "      <th></th>\n",
       "      <th>56.581</th>\n",
       "      <td>False</td>\n",
       "      <td>56.511</td>\n",
       "      <td>-0.070</td>\n",
       "      <td>0.172</td>\n",
       "      <td>-0.414966</td>\n",
       "    </tr>\n",
       "    <tr>\n",
       "      <th rowspan=\"24\" valign=\"top\">Run3</th>\n",
       "      <th rowspan=\"8\" valign=\"top\">185-215</th>\n",
       "      <th>RESTOM</th>\n",
       "      <th>TOmodel net flux</th>\n",
       "      <th>0.000</th>\n",
       "      <td>True</td>\n",
       "      <td>0.468</td>\n",
       "      <td>0.468</td>\n",
       "      <td>NaN</td>\n",
       "      <td>NaN</td>\n",
       "    </tr>\n",
       "    <tr>\n",
       "      <th>CLDTOT_ISCCP</th>\n",
       "      <th>Total cloud cover</th>\n",
       "      <th>66.800</th>\n",
       "      <td>True</td>\n",
       "      <td>68.543</td>\n",
       "      <td>1.744</td>\n",
       "      <td>12.992</td>\n",
       "      <td>0.044541</td>\n",
       "    </tr>\n",
       "    <tr>\n",
       "      <th>CLDTOT_CLOUDSAT</th>\n",
       "      <th></th>\n",
       "      <th>66.824</th>\n",
       "      <td>False</td>\n",
       "      <td>68.543</td>\n",
       "      <td>1.720</td>\n",
       "      <td>10.886</td>\n",
       "      <td>0.030123</td>\n",
       "    </tr>\n",
       "    <tr>\n",
       "      <th>FLDS_ISCCP</th>\n",
       "      <th>LW down SRF</th>\n",
       "      <th>343.347</th>\n",
       "      <td>True</td>\n",
       "      <td>353.861</td>\n",
       "      <td>10.514</td>\n",
       "      <td>16.891</td>\n",
       "      <td>0.051809</td>\n",
       "    </tr>\n",
       "    <tr>\n",
       "      <th>PREH2O_ERAI</th>\n",
       "      <th></th>\n",
       "      <th>24.247</th>\n",
       "      <td>False</td>\n",
       "      <td>28.091</td>\n",
       "      <td>3.844</td>\n",
       "      <td>4.836</td>\n",
       "      <td>0.432040</td>\n",
       "    </tr>\n",
       "    <tr>\n",
       "      <th>SWCF_CERES-EBAF</th>\n",
       "      <th>SW Cloud Forc</th>\n",
       "      <th>-47.071</th>\n",
       "      <td>True</td>\n",
       "      <td>-45.805</td>\n",
       "      <td>1.266</td>\n",
       "      <td>10.447</td>\n",
       "      <td>0.035142</td>\n",
       "    </tr>\n",
       "    <tr>\n",
       "      <th>U_200_JRA25</th>\n",
       "      <th>Zonal Wind JRA25</th>\n",
       "      <th>15.565</th>\n",
       "      <td>True</td>\n",
       "      <td>18.774</td>\n",
       "      <td>3.209</td>\n",
       "      <td>4.334</td>\n",
       "      <td>0.200831</td>\n",
       "    </tr>\n",
       "    <tr>\n",
       "      <th>Z3_500_NCEP</th>\n",
       "      <th></th>\n",
       "      <th>56.581</th>\n",
       "      <td>False</td>\n",
       "      <td>56.879</td>\n",
       "      <td>0.298</td>\n",
       "      <td>0.391</td>\n",
       "      <td>0.329932</td>\n",
       "    </tr>\n",
       "    <tr>\n",
       "      <th rowspan=\"8\" valign=\"top\">310-340</th>\n",
       "      <th>RESTOM</th>\n",
       "      <th>TOmodel net flux</th>\n",
       "      <th>0.000</th>\n",
       "      <td>True</td>\n",
       "      <td>0.327</td>\n",
       "      <td>0.327</td>\n",
       "      <td>NaN</td>\n",
       "      <td>NaN</td>\n",
       "    </tr>\n",
       "    <tr>\n",
       "      <th>CLDTOT_ISCCP</th>\n",
       "      <th>Total cloud cover</th>\n",
       "      <th>66.800</th>\n",
       "      <td>True</td>\n",
       "      <td>68.234</td>\n",
       "      <td>1.435</td>\n",
       "      <td>13.078</td>\n",
       "      <td>0.051455</td>\n",
       "    </tr>\n",
       "    <tr>\n",
       "      <th>CLDTOT_CLOUDSAT</th>\n",
       "      <th></th>\n",
       "      <th>66.824</th>\n",
       "      <td>False</td>\n",
       "      <td>68.234</td>\n",
       "      <td>1.411</td>\n",
       "      <td>10.952</td>\n",
       "      <td>0.036369</td>\n",
       "    </tr>\n",
       "    <tr>\n",
       "      <th>FLDS_ISCCP</th>\n",
       "      <th>LW down SRF</th>\n",
       "      <th>343.347</th>\n",
       "      <td>True</td>\n",
       "      <td>354.846</td>\n",
       "      <td>11.499</td>\n",
       "      <td>17.664</td>\n",
       "      <td>0.099944</td>\n",
       "    </tr>\n",
       "    <tr>\n",
       "      <th>PREH2O_ERAI</th>\n",
       "      <th></th>\n",
       "      <th>24.247</th>\n",
       "      <td>False</td>\n",
       "      <td>28.385</td>\n",
       "      <td>4.138</td>\n",
       "      <td>5.118</td>\n",
       "      <td>0.515546</td>\n",
       "    </tr>\n",
       "    <tr>\n",
       "      <th>SWCF_CERES-EBAF</th>\n",
       "      <th>SW Cloud Forc</th>\n",
       "      <th>-47.071</th>\n",
       "      <td>True</td>\n",
       "      <td>-45.605</td>\n",
       "      <td>1.466</td>\n",
       "      <td>10.563</td>\n",
       "      <td>0.046636</td>\n",
       "    </tr>\n",
       "    <tr>\n",
       "      <th>U_200_JRA25</th>\n",
       "      <th>Zonal Wind JRA25</th>\n",
       "      <th>15.565</th>\n",
       "      <td>True</td>\n",
       "      <td>18.783</td>\n",
       "      <td>3.218</td>\n",
       "      <td>4.348</td>\n",
       "      <td>0.204710</td>\n",
       "    </tr>\n",
       "    <tr>\n",
       "      <th>Z3_500_NCEP</th>\n",
       "      <th></th>\n",
       "      <th>56.581</th>\n",
       "      <td>False</td>\n",
       "      <td>56.917</td>\n",
       "      <td>0.336</td>\n",
       "      <td>0.424</td>\n",
       "      <td>0.442177</td>\n",
       "    </tr>\n",
       "    <tr>\n",
       "      <th rowspan=\"8\" valign=\"top\">80-110</th>\n",
       "      <th>RESTOM</th>\n",
       "      <th>TOmodel net flux</th>\n",
       "      <th>0.000</th>\n",
       "      <td>True</td>\n",
       "      <td>0.647</td>\n",
       "      <td>0.647</td>\n",
       "      <td>NaN</td>\n",
       "      <td>NaN</td>\n",
       "    </tr>\n",
       "    <tr>\n",
       "      <th>CLDTOT_ISCCP</th>\n",
       "      <th>Total cloud cover</th>\n",
       "      <th>66.800</th>\n",
       "      <td>True</td>\n",
       "      <td>68.956</td>\n",
       "      <td>2.157</td>\n",
       "      <td>12.869</td>\n",
       "      <td>0.034652</td>\n",
       "    </tr>\n",
       "    <tr>\n",
       "      <th>CLDTOT_CLOUDSAT</th>\n",
       "      <th></th>\n",
       "      <th>66.824</th>\n",
       "      <td>False</td>\n",
       "      <td>68.956</td>\n",
       "      <td>2.133</td>\n",
       "      <td>10.894</td>\n",
       "      <td>0.030880</td>\n",
       "    </tr>\n",
       "    <tr>\n",
       "      <th>FLDS_ISCCP</th>\n",
       "      <th>LW down SRF</th>\n",
       "      <th>343.347</th>\n",
       "      <td>True</td>\n",
       "      <td>348.508</td>\n",
       "      <td>5.162</td>\n",
       "      <td>16.720</td>\n",
       "      <td>0.041161</td>\n",
       "    </tr>\n",
       "    <tr>\n",
       "      <th>PREH2O_ERAI</th>\n",
       "      <th></th>\n",
       "      <th>24.247</th>\n",
       "      <td>False</td>\n",
       "      <td>26.871</td>\n",
       "      <td>2.624</td>\n",
       "      <td>3.909</td>\n",
       "      <td>0.157536</td>\n",
       "    </tr>\n",
       "    <tr>\n",
       "      <th>SWCF_CERES-EBAF</th>\n",
       "      <th>SW Cloud Forc</th>\n",
       "      <th>-47.071</th>\n",
       "      <td>True</td>\n",
       "      <td>-45.988</td>\n",
       "      <td>1.083</td>\n",
       "      <td>10.393</td>\n",
       "      <td>0.029792</td>\n",
       "    </tr>\n",
       "    <tr>\n",
       "      <th>U_200_JRA25</th>\n",
       "      <th>Zonal Wind JRA25</th>\n",
       "      <th>15.565</th>\n",
       "      <td>True</td>\n",
       "      <td>18.905</td>\n",
       "      <td>3.340</td>\n",
       "      <td>4.335</td>\n",
       "      <td>0.201108</td>\n",
       "    </tr>\n",
       "    <tr>\n",
       "      <th>Z3_500_NCEP</th>\n",
       "      <th></th>\n",
       "      <th>56.581</th>\n",
       "      <td>False</td>\n",
       "      <td>56.714</td>\n",
       "      <td>0.133</td>\n",
       "      <td>0.327</td>\n",
       "      <td>0.112245</td>\n",
       "    </tr>\n",
       "    <tr>\n",
       "      <th rowspan=\"8\" valign=\"top\">Run4</th>\n",
       "      <th rowspan=\"8\" valign=\"top\">90-120</th>\n",
       "      <th>RESTOM</th>\n",
       "      <th>TOmodel net flux</th>\n",
       "      <th>0.000</th>\n",
       "      <td>True</td>\n",
       "      <td>-0.075</td>\n",
       "      <td>-0.075</td>\n",
       "      <td>NaN</td>\n",
       "      <td>NaN</td>\n",
       "    </tr>\n",
       "    <tr>\n",
       "      <th>CLDTOT_ISCCP</th>\n",
       "      <th>Total cloud cover</th>\n",
       "      <th>66.800</th>\n",
       "      <td>True</td>\n",
       "      <td>70.747</td>\n",
       "      <td>3.947</td>\n",
       "      <td>12.485</td>\n",
       "      <td>0.003779</td>\n",
       "    </tr>\n",
       "    <tr>\n",
       "      <th>CLDTOT_CLOUDSAT</th>\n",
       "      <th></th>\n",
       "      <th>66.824</th>\n",
       "      <td>False</td>\n",
       "      <td>70.747</td>\n",
       "      <td>3.923</td>\n",
       "      <td>10.561</td>\n",
       "      <td>-0.000631</td>\n",
       "    </tr>\n",
       "    <tr>\n",
       "      <th>FLDS_ISCCP</th>\n",
       "      <th>LW down SRF</th>\n",
       "      <th>343.347</th>\n",
       "      <td>True</td>\n",
       "      <td>347.854</td>\n",
       "      <td>4.507</td>\n",
       "      <td>15.278</td>\n",
       "      <td>-0.048633</td>\n",
       "    </tr>\n",
       "    <tr>\n",
       "      <th>PREH2O_ERAI</th>\n",
       "      <th></th>\n",
       "      <th>24.247</th>\n",
       "      <td>False</td>\n",
       "      <td>25.733</td>\n",
       "      <td>1.486</td>\n",
       "      <td>2.674</td>\n",
       "      <td>-0.208173</td>\n",
       "    </tr>\n",
       "    <tr>\n",
       "      <th>SWCF_CERES-EBAF</th>\n",
       "      <th>SW Cloud Forc</th>\n",
       "      <th>-47.071</th>\n",
       "      <td>True</td>\n",
       "      <td>-48.959</td>\n",
       "      <td>-1.888</td>\n",
       "      <td>9.973</td>\n",
       "      <td>-0.011824</td>\n",
       "    </tr>\n",
       "    <tr>\n",
       "      <th>U_200_JRA25</th>\n",
       "      <th>Zonal Wind JRA25</th>\n",
       "      <th>15.565</th>\n",
       "      <td>True</td>\n",
       "      <td>17.869</td>\n",
       "      <td>2.304</td>\n",
       "      <td>3.342</td>\n",
       "      <td>-0.074024</td>\n",
       "    </tr>\n",
       "    <tr>\n",
       "      <th>Z3_500_NCEP</th>\n",
       "      <th></th>\n",
       "      <th>56.581</th>\n",
       "      <td>False</td>\n",
       "      <td>56.586</td>\n",
       "      <td>0.005</td>\n",
       "      <td>0.187</td>\n",
       "      <td>-0.363946</td>\n",
       "    </tr>\n",
       "  </tbody>\n",
       "</table>\n",
       "</div>"
      ],
      "text/plain": [
       "                                                          Flag    Model  \\\n",
       "Run  Years   Variable        Description       Obs                        \n",
       "Run1 71-100  RESTOM          TOmodel net flux   0.000     True   -0.489   \n",
       "             CLDTOT_ISCCP    Total cloud cover  66.800    True   63.621   \n",
       "             CLDTOT_CLOUDSAT                    66.824   False   63.621   \n",
       "             FLDS_ISCCP      LW down SRF        343.347   True  338.280   \n",
       "             PREH2O_ERAI                        24.247   False   23.974   \n",
       "             SWCF_CERES-EBAF SW Cloud Forc     -47.071    True  -48.323   \n",
       "             U_200_JRA25     Zonal Wind JRA25   15.565    True   16.571   \n",
       "             Z3_500_NCEP                        56.581   False   56.347   \n",
       "Run2 1-20    RESTOM          TOmodel net flux   0.000     True    0.987   \n",
       "             CLDTOT_ISCCP    Total cloud cover  66.800    True   68.586   \n",
       "             CLDTOT_CLOUDSAT                    66.824   False   68.586   \n",
       "             FLDS_ISCCP      LW down SRF        343.347   True  341.547   \n",
       "             PREH2O_ERAI                        24.247   False   24.437   \n",
       "             SWCF_CERES-EBAF SW Cloud Forc     -47.071    True  -45.297   \n",
       "             U_200_JRA25     Zonal Wind JRA25   15.565    True   17.390   \n",
       "             Z3_500_NCEP                        56.581   False   56.511   \n",
       "Run3 185-215 RESTOM          TOmodel net flux   0.000     True    0.468   \n",
       "             CLDTOT_ISCCP    Total cloud cover  66.800    True   68.543   \n",
       "             CLDTOT_CLOUDSAT                    66.824   False   68.543   \n",
       "             FLDS_ISCCP      LW down SRF        343.347   True  353.861   \n",
       "             PREH2O_ERAI                        24.247   False   28.091   \n",
       "             SWCF_CERES-EBAF SW Cloud Forc     -47.071    True  -45.805   \n",
       "             U_200_JRA25     Zonal Wind JRA25   15.565    True   18.774   \n",
       "             Z3_500_NCEP                        56.581   False   56.879   \n",
       "     310-340 RESTOM          TOmodel net flux   0.000     True    0.327   \n",
       "             CLDTOT_ISCCP    Total cloud cover  66.800    True   68.234   \n",
       "             CLDTOT_CLOUDSAT                    66.824   False   68.234   \n",
       "             FLDS_ISCCP      LW down SRF        343.347   True  354.846   \n",
       "             PREH2O_ERAI                        24.247   False   28.385   \n",
       "             SWCF_CERES-EBAF SW Cloud Forc     -47.071    True  -45.605   \n",
       "             U_200_JRA25     Zonal Wind JRA25   15.565    True   18.783   \n",
       "             Z3_500_NCEP                        56.581   False   56.917   \n",
       "     80-110  RESTOM          TOmodel net flux   0.000     True    0.647   \n",
       "             CLDTOT_ISCCP    Total cloud cover  66.800    True   68.956   \n",
       "             CLDTOT_CLOUDSAT                    66.824   False   68.956   \n",
       "             FLDS_ISCCP      LW down SRF        343.347   True  348.508   \n",
       "             PREH2O_ERAI                        24.247   False   26.871   \n",
       "             SWCF_CERES-EBAF SW Cloud Forc     -47.071    True  -45.988   \n",
       "             U_200_JRA25     Zonal Wind JRA25   15.565    True   18.905   \n",
       "             Z3_500_NCEP                        56.581   False   56.714   \n",
       "Run4 90-120  RESTOM          TOmodel net flux   0.000     True   -0.075   \n",
       "             CLDTOT_ISCCP    Total cloud cover  66.800    True   70.747   \n",
       "             CLDTOT_CLOUDSAT                    66.824   False   70.747   \n",
       "             FLDS_ISCCP      LW down SRF        343.347   True  347.854   \n",
       "             PREH2O_ERAI                        24.247   False   25.733   \n",
       "             SWCF_CERES-EBAF SW Cloud Forc     -47.071    True  -48.959   \n",
       "             U_200_JRA25     Zonal Wind JRA25   15.565    True   17.869   \n",
       "             Z3_500_NCEP                        56.581   False   56.586   \n",
       "\n",
       "                                                           Bias    RMSE  \\\n",
       "Run  Years   Variable        Description       Obs                        \n",
       "Run1 71-100  RESTOM          TOmodel net flux   0.000    -0.489     NaN   \n",
       "             CLDTOT_ISCCP    Total cloud cover  66.800   -3.179  11.323   \n",
       "             CLDTOT_CLOUDSAT                    66.824   -3.203   9.731   \n",
       "             FLDS_ISCCP      LW down SRF        343.347  -5.066  14.450   \n",
       "             PREH2O_ERAI                        24.247   -0.273   1.887   \n",
       "             SWCF_CERES-EBAF SW Cloud Forc     -47.071   -1.252  10.324   \n",
       "             U_200_JRA25     Zonal Wind JRA25   15.565    1.006   2.444   \n",
       "             Z3_500_NCEP                        56.581   -0.234   0.263   \n",
       "Run2 1-20    RESTOM          TOmodel net flux   0.000     0.987     NaN   \n",
       "             CLDTOT_ISCCP    Total cloud cover  66.800    1.786  11.881   \n",
       "             CLDTOT_CLOUDSAT                    66.824    1.762  10.382   \n",
       "             FLDS_ISCCP      LW down SRF        343.347  -1.799  15.351   \n",
       "             PREH2O_ERAI                        24.247    0.191   1.838   \n",
       "             SWCF_CERES-EBAF SW Cloud Forc     -47.071    1.774   8.854   \n",
       "             U_200_JRA25     Zonal Wind JRA25   15.565    1.825   2.852   \n",
       "             Z3_500_NCEP                        56.581   -0.070   0.172   \n",
       "Run3 185-215 RESTOM          TOmodel net flux   0.000     0.468     NaN   \n",
       "             CLDTOT_ISCCP    Total cloud cover  66.800    1.744  12.992   \n",
       "             CLDTOT_CLOUDSAT                    66.824    1.720  10.886   \n",
       "             FLDS_ISCCP      LW down SRF        343.347  10.514  16.891   \n",
       "             PREH2O_ERAI                        24.247    3.844   4.836   \n",
       "             SWCF_CERES-EBAF SW Cloud Forc     -47.071    1.266  10.447   \n",
       "             U_200_JRA25     Zonal Wind JRA25   15.565    3.209   4.334   \n",
       "             Z3_500_NCEP                        56.581    0.298   0.391   \n",
       "     310-340 RESTOM          TOmodel net flux   0.000     0.327     NaN   \n",
       "             CLDTOT_ISCCP    Total cloud cover  66.800    1.435  13.078   \n",
       "             CLDTOT_CLOUDSAT                    66.824    1.411  10.952   \n",
       "             FLDS_ISCCP      LW down SRF        343.347  11.499  17.664   \n",
       "             PREH2O_ERAI                        24.247    4.138   5.118   \n",
       "             SWCF_CERES-EBAF SW Cloud Forc     -47.071    1.466  10.563   \n",
       "             U_200_JRA25     Zonal Wind JRA25   15.565    3.218   4.348   \n",
       "             Z3_500_NCEP                        56.581    0.336   0.424   \n",
       "     80-110  RESTOM          TOmodel net flux   0.000     0.647     NaN   \n",
       "             CLDTOT_ISCCP    Total cloud cover  66.800    2.157  12.869   \n",
       "             CLDTOT_CLOUDSAT                    66.824    2.133  10.894   \n",
       "             FLDS_ISCCP      LW down SRF        343.347   5.162  16.720   \n",
       "             PREH2O_ERAI                        24.247    2.624   3.909   \n",
       "             SWCF_CERES-EBAF SW Cloud Forc     -47.071    1.083  10.393   \n",
       "             U_200_JRA25     Zonal Wind JRA25   15.565    3.340   4.335   \n",
       "             Z3_500_NCEP                        56.581    0.133   0.327   \n",
       "Run4 90-120  RESTOM          TOmodel net flux   0.000    -0.075     NaN   \n",
       "             CLDTOT_ISCCP    Total cloud cover  66.800    3.947  12.485   \n",
       "             CLDTOT_CLOUDSAT                    66.824    3.923  10.561   \n",
       "             FLDS_ISCCP      LW down SRF        343.347   4.507  15.278   \n",
       "             PREH2O_ERAI                        24.247    1.486   2.674   \n",
       "             SWCF_CERES-EBAF SW Cloud Forc     -47.071   -1.888   9.973   \n",
       "             U_200_JRA25     Zonal Wind JRA25   15.565    2.304   3.342   \n",
       "             Z3_500_NCEP                        56.581    0.005   0.187   \n",
       "\n",
       "                                                         RMSE_ERR  \n",
       "Run  Years   Variable        Description       Obs                 \n",
       "Run1 71-100  RESTOM          TOmodel net flux   0.000         NaN  \n",
       "             CLDTOT_ISCCP    Total cloud cover  66.800  -0.089645  \n",
       "             CLDTOT_CLOUDSAT                    66.824  -0.079172  \n",
       "             FLDS_ISCCP      LW down SRF        343.347 -0.100193  \n",
       "             PREH2O_ERAI                        24.247  -0.441220  \n",
       "             SWCF_CERES-EBAF SW Cloud Forc     -47.071   0.022955  \n",
       "             U_200_JRA25     Zonal Wind JRA25   15.565  -0.322835  \n",
       "             Z3_500_NCEP                        56.581  -0.105442  \n",
       "Run2 1-20    RESTOM          TOmodel net flux   0.000         NaN  \n",
       "             CLDTOT_ISCCP    Total cloud cover  66.800  -0.044782  \n",
       "             CLDTOT_CLOUDSAT                    66.824  -0.017569  \n",
       "             FLDS_ISCCP      LW down SRF        343.347 -0.044087  \n",
       "             PREH2O_ERAI                        24.247  -0.455730  \n",
       "             SWCF_CERES-EBAF SW Cloud Forc     -47.071  -0.122700  \n",
       "             U_200_JRA25     Zonal Wind JRA25   15.565  -0.209790  \n",
       "             Z3_500_NCEP                        56.581  -0.414966  \n",
       "Run3 185-215 RESTOM          TOmodel net flux   0.000         NaN  \n",
       "             CLDTOT_ISCCP    Total cloud cover  66.800   0.044541  \n",
       "             CLDTOT_CLOUDSAT                    66.824   0.030123  \n",
       "             FLDS_ISCCP      LW down SRF        343.347  0.051809  \n",
       "             PREH2O_ERAI                        24.247   0.432040  \n",
       "             SWCF_CERES-EBAF SW Cloud Forc     -47.071   0.035142  \n",
       "             U_200_JRA25     Zonal Wind JRA25   15.565   0.200831  \n",
       "             Z3_500_NCEP                        56.581   0.329932  \n",
       "     310-340 RESTOM          TOmodel net flux   0.000         NaN  \n",
       "             CLDTOT_ISCCP    Total cloud cover  66.800   0.051455  \n",
       "             CLDTOT_CLOUDSAT                    66.824   0.036369  \n",
       "             FLDS_ISCCP      LW down SRF        343.347  0.099944  \n",
       "             PREH2O_ERAI                        24.247   0.515546  \n",
       "             SWCF_CERES-EBAF SW Cloud Forc     -47.071   0.046636  \n",
       "             U_200_JRA25     Zonal Wind JRA25   15.565   0.204710  \n",
       "             Z3_500_NCEP                        56.581   0.442177  \n",
       "     80-110  RESTOM          TOmodel net flux   0.000         NaN  \n",
       "             CLDTOT_ISCCP    Total cloud cover  66.800   0.034652  \n",
       "             CLDTOT_CLOUDSAT                    66.824   0.030880  \n",
       "             FLDS_ISCCP      LW down SRF        343.347  0.041161  \n",
       "             PREH2O_ERAI                        24.247   0.157536  \n",
       "             SWCF_CERES-EBAF SW Cloud Forc     -47.071   0.029792  \n",
       "             U_200_JRA25     Zonal Wind JRA25   15.565   0.201108  \n",
       "             Z3_500_NCEP                        56.581   0.112245  \n",
       "Run4 90-120  RESTOM          TOmodel net flux   0.000         NaN  \n",
       "             CLDTOT_ISCCP    Total cloud cover  66.800   0.003779  \n",
       "             CLDTOT_CLOUDSAT                    66.824  -0.000631  \n",
       "             FLDS_ISCCP      LW down SRF        343.347 -0.048633  \n",
       "             PREH2O_ERAI                        24.247  -0.208173  \n",
       "             SWCF_CERES-EBAF SW Cloud Forc     -47.071  -0.011824  \n",
       "             U_200_JRA25     Zonal Wind JRA25   15.565  -0.074024  \n",
       "             Z3_500_NCEP                        56.581  -0.363946  "
      ]
     },
     "execution_count": 24,
     "metadata": {},
     "output_type": "execute_result"
    }
   ],
   "source": [
    "selection[\"RMSE_ERR\"] = stacked\n",
    "selection"
   ]
  },
  {
   "cell_type": "markdown",
   "metadata": {
    "extensions": {
     "jupyter_dashboards": {
      "version": 1,
      "views": {
       "grid_default": {
        "col": 0,
        "height": 8,
        "hidden": false,
        "row": 306,
        "width": 12
       },
       "report_default": {
        "hidden": false
       }
      }
     }
    }
   },
   "source": [
    "### 6. Conditional formatting of tables (Dataframes) (VISUALISE)\n",
    "\n",
    "This section illustrates, how we can perform conditional formatting of the color tables. As discussed above, we can apply background colour gradients to the data. In the example above we had a multiindex data type specifying model run, year-range and variable in stacked format (long table) and the four data columns specifying results from model and observation as well as bias and RMSE. \n",
    "\n",
    "Now, in the following we illustrate how we can apply this colour highlighting for the two unstacked tables that we just created and that contain Bias and relative error. \n",
    "\n",
    "Starting with the Bias data, we show an example that does not work for our purposes (since it only allows for conditional formatting of either rows or columns."
   ]
  },
  {
   "cell_type": "code",
   "execution_count": 25,
   "metadata": {
    "extensions": {
     "jupyter_dashboards": {
      "version": 1,
      "views": {
       "grid_default": {
        "col": 0,
        "height": 16,
        "hidden": false,
        "row": 339,
        "width": 7
       },
       "report_default": {
        "hidden": false
       }
      }
     }
    }
   },
   "outputs": [
    {
     "data": {
      "text/html": [
       "<div>\n",
       "<style scoped>\n",
       "    .dataframe tbody tr th:only-of-type {\n",
       "        vertical-align: middle;\n",
       "    }\n",
       "\n",
       "    .dataframe tbody tr th {\n",
       "        vertical-align: top;\n",
       "    }\n",
       "\n",
       "    .dataframe thead tr th {\n",
       "        text-align: left;\n",
       "    }\n",
       "\n",
       "    .dataframe thead tr:last-of-type th {\n",
       "        text-align: right;\n",
       "    }\n",
       "</style>\n",
       "<table border=\"1\" class=\"dataframe\">\n",
       "  <thead>\n",
       "    <tr>\n",
       "      <th></th>\n",
       "      <th></th>\n",
       "      <th>Run</th>\n",
       "      <th>Run1</th>\n",
       "      <th>Run2</th>\n",
       "      <th colspan=\"3\" halign=\"left\">Run3</th>\n",
       "      <th>Run4</th>\n",
       "    </tr>\n",
       "    <tr>\n",
       "      <th></th>\n",
       "      <th></th>\n",
       "      <th>Years</th>\n",
       "      <th>71-100</th>\n",
       "      <th>1-20</th>\n",
       "      <th>185-215</th>\n",
       "      <th>310-340</th>\n",
       "      <th>80-110</th>\n",
       "      <th>90-120</th>\n",
       "    </tr>\n",
       "    <tr>\n",
       "      <th>Variable</th>\n",
       "      <th>Description</th>\n",
       "      <th>Obs</th>\n",
       "      <th></th>\n",
       "      <th></th>\n",
       "      <th></th>\n",
       "      <th></th>\n",
       "      <th></th>\n",
       "      <th></th>\n",
       "    </tr>\n",
       "  </thead>\n",
       "  <tbody>\n",
       "    <tr>\n",
       "      <th>CLDTOT_CLOUDSAT</th>\n",
       "      <th></th>\n",
       "      <th>66.824</th>\n",
       "      <td>-3.203</td>\n",
       "      <td>1.762</td>\n",
       "      <td>1.720</td>\n",
       "      <td>1.411</td>\n",
       "      <td>2.133</td>\n",
       "      <td>3.923</td>\n",
       "    </tr>\n",
       "    <tr>\n",
       "      <th>CLDTOT_ISCCP</th>\n",
       "      <th>Total cloud cover</th>\n",
       "      <th>66.800</th>\n",
       "      <td>-3.179</td>\n",
       "      <td>1.786</td>\n",
       "      <td>1.744</td>\n",
       "      <td>1.435</td>\n",
       "      <td>2.157</td>\n",
       "      <td>3.947</td>\n",
       "    </tr>\n",
       "    <tr>\n",
       "      <th>FLDS_ISCCP</th>\n",
       "      <th>LW down SRF</th>\n",
       "      <th>343.347</th>\n",
       "      <td>-5.066</td>\n",
       "      <td>-1.799</td>\n",
       "      <td>10.514</td>\n",
       "      <td>11.499</td>\n",
       "      <td>5.162</td>\n",
       "      <td>4.507</td>\n",
       "    </tr>\n",
       "    <tr>\n",
       "      <th>PREH2O_ERAI</th>\n",
       "      <th></th>\n",
       "      <th>24.247</th>\n",
       "      <td>-0.273</td>\n",
       "      <td>0.191</td>\n",
       "      <td>3.844</td>\n",
       "      <td>4.138</td>\n",
       "      <td>2.624</td>\n",
       "      <td>1.486</td>\n",
       "    </tr>\n",
       "    <tr>\n",
       "      <th>RESTOM</th>\n",
       "      <th>TOmodel net flux</th>\n",
       "      <th>0.000</th>\n",
       "      <td>-0.489</td>\n",
       "      <td>0.987</td>\n",
       "      <td>0.468</td>\n",
       "      <td>0.327</td>\n",
       "      <td>0.647</td>\n",
       "      <td>-0.075</td>\n",
       "    </tr>\n",
       "    <tr>\n",
       "      <th>SWCF_CERES-EBAF</th>\n",
       "      <th>SW Cloud Forc</th>\n",
       "      <th>-47.071</th>\n",
       "      <td>-1.252</td>\n",
       "      <td>1.774</td>\n",
       "      <td>1.266</td>\n",
       "      <td>1.466</td>\n",
       "      <td>1.083</td>\n",
       "      <td>-1.888</td>\n",
       "    </tr>\n",
       "    <tr>\n",
       "      <th>U_200_JRA25</th>\n",
       "      <th>Zonal Wind JRA25</th>\n",
       "      <th>15.565</th>\n",
       "      <td>1.006</td>\n",
       "      <td>1.825</td>\n",
       "      <td>3.209</td>\n",
       "      <td>3.218</td>\n",
       "      <td>3.340</td>\n",
       "      <td>2.304</td>\n",
       "    </tr>\n",
       "    <tr>\n",
       "      <th>Z3_500_NCEP</th>\n",
       "      <th></th>\n",
       "      <th>56.581</th>\n",
       "      <td>-0.234</td>\n",
       "      <td>-0.070</td>\n",
       "      <td>0.298</td>\n",
       "      <td>0.336</td>\n",
       "      <td>0.133</td>\n",
       "      <td>0.005</td>\n",
       "    </tr>\n",
       "  </tbody>\n",
       "</table>\n",
       "</div>"
      ],
      "text/plain": [
       "Run                                          Run1   Run2    Run3          \\\n",
       "Years                                      71-100   1-20 185-215 310-340   \n",
       "Variable        Description       Obs                                      \n",
       "CLDTOT_CLOUDSAT                    66.824  -3.203  1.762   1.720   1.411   \n",
       "CLDTOT_ISCCP    Total cloud cover  66.800  -3.179  1.786   1.744   1.435   \n",
       "FLDS_ISCCP      LW down SRF        343.347 -5.066 -1.799  10.514  11.499   \n",
       "PREH2O_ERAI                        24.247  -0.273  0.191   3.844   4.138   \n",
       "RESTOM          TOmodel net flux   0.000   -0.489  0.987   0.468   0.327   \n",
       "SWCF_CERES-EBAF SW Cloud Forc     -47.071  -1.252  1.774   1.266   1.466   \n",
       "U_200_JRA25     Zonal Wind JRA25   15.565   1.006  1.825   3.209   3.218   \n",
       "Z3_500_NCEP                        56.581  -0.234 -0.070   0.298   0.336   \n",
       "\n",
       "Run                                                 Run4  \n",
       "Years                                      80-110 90-120  \n",
       "Variable        Description       Obs                     \n",
       "CLDTOT_CLOUDSAT                    66.824   2.133  3.923  \n",
       "CLDTOT_ISCCP    Total cloud cover  66.800   2.157  3.947  \n",
       "FLDS_ISCCP      LW down SRF        343.347  5.162  4.507  \n",
       "PREH2O_ERAI                        24.247   2.624  1.486  \n",
       "RESTOM          TOmodel net flux   0.000    0.647 -0.075  \n",
       "SWCF_CERES-EBAF SW Cloud Forc     -47.071   1.083 -1.888  \n",
       "U_200_JRA25     Zonal Wind JRA25   15.565   3.340  2.304  \n",
       "Z3_500_NCEP                        56.581   0.133  0.005  "
      ]
     },
     "execution_count": 25,
     "metadata": {},
     "output_type": "execute_result"
    }
   ],
   "source": [
    "bias"
   ]
  },
  {
   "cell_type": "markdown",
   "metadata": {
    "extensions": {
     "jupyter_dashboards": {
      "version": 1,
      "views": {
       "grid_default": {
        "col": 0,
        "height": 8,
        "hidden": false,
        "row": 355,
        "width": 12
       },
       "report_default": {
        "hidden": false
       }
      }
     }
    }
   },
   "source": [
    "Now, this worked nicely but there are mainly two problems with this representation:\n",
    "\n",
    "1. As mentioned above, one problem here is that the colour coding can only be performed row or column wise using the input parameter `axis` (and not based on the values of the whole table, see [here](https://pandas.pydata.org/pandas-docs/stable/style.html#Building-Styles-Summary) for details)\n",
    "2. If we use the symmetric colormap as is (i.e. center colour is white), then, the color white will be mapped to the midpoint value of the considered value range (e.g. min=-2, max=4 => (4 - -2)/2 = 3 => 1 == white). However, what we want is a *shifter diverging colormap* that ensures that the value 0 is mapped white, even if min != -max.\n",
    "3. Further, we might wish to have control over the number of significant digits that are displayed in the table\n",
    "\n",
    "All these problems will be solved in the following."
   ]
  },
  {
   "cell_type": "markdown",
   "metadata": {
    "extensions": {
     "jupyter_dashboards": {
      "version": 1,
      "views": {
       "grid_default": {
        "col": 0,
        "height": 5,
        "hidden": false,
        "row": 363,
        "width": 12
       },
       "report_default": {
        "hidden": false
       }
      }
     }
    }
   },
   "source": [
    "#### 6.2 How we want it (VIS_RIGHT)\n",
    "\n",
    "In the following, we use a custom display method `my_table_display` (that is defined in [helper_funcs.py](https://github.com/jgliss/my_py3_scripts/blob/master/notebooks/helper_funcs.py)) in order to perform colour formatting considering all rows and columns at the same time and furthermore, using a diverging colour map that is dynamically shifted such that value 0 corresponds to the colour white (method `shifted_color_map`) also if `-vmin != vmax` (like usually)."
   ]
  },
  {
   "cell_type": "code",
   "execution_count": 26,
   "metadata": {
    "extensions": {
     "jupyter_dashboards": {
      "version": 1,
      "views": {
       "grid_default": {
        "col": 0,
        "height": 16,
        "hidden": false,
        "row": 368,
        "width": 7
       },
       "report_default": {
        "hidden": false
       }
      }
     }
    }
   },
   "outputs": [
    {
     "data": {
      "text/html": [
       "<style  type=\"text/css\" >\n",
       "    #T_a97c32bc_6028_11e8_bc88_80ce6220aa9erow0_col0 {\n",
       "            background-color:  #c2c2ff;\n",
       "            : ;\n",
       "        }    #T_a97c32bc_6028_11e8_bc88_80ce6220aa9erow0_col1 {\n",
       "            background-color:  #ffe8e8;\n",
       "            : ;\n",
       "        }    #T_a97c32bc_6028_11e8_bc88_80ce6220aa9erow0_col2 {\n",
       "            background-color:  #ffe8e8;\n",
       "            : ;\n",
       "        }    #T_a97c32bc_6028_11e8_bc88_80ce6220aa9erow0_col3 {\n",
       "            background-color:  #ffebeb;\n",
       "            : ;\n",
       "        }    #T_a97c32bc_6028_11e8_bc88_80ce6220aa9erow0_col4 {\n",
       "            background-color:  #ffe3e3;\n",
       "            : ;\n",
       "        }    #T_a97c32bc_6028_11e8_bc88_80ce6220aa9erow0_col5 {\n",
       "            background-color:  #ffcbcb;\n",
       "            : ;\n",
       "        }    #T_a97c32bc_6028_11e8_bc88_80ce6220aa9erow1_col0 {\n",
       "            background-color:  #c2c2ff;\n",
       "            : ;\n",
       "        }    #T_a97c32bc_6028_11e8_bc88_80ce6220aa9erow1_col1 {\n",
       "            background-color:  #ffe8e8;\n",
       "            : ;\n",
       "        }    #T_a97c32bc_6028_11e8_bc88_80ce6220aa9erow1_col2 {\n",
       "            background-color:  #ffe8e8;\n",
       "            : ;\n",
       "        }    #T_a97c32bc_6028_11e8_bc88_80ce6220aa9erow1_col3 {\n",
       "            background-color:  #ffebeb;\n",
       "            : ;\n",
       "        }    #T_a97c32bc_6028_11e8_bc88_80ce6220aa9erow1_col4 {\n",
       "            background-color:  #ffe3e3;\n",
       "            : ;\n",
       "        }    #T_a97c32bc_6028_11e8_bc88_80ce6220aa9erow1_col5 {\n",
       "            background-color:  #ffcbcb;\n",
       "            : ;\n",
       "        }    #T_a97c32bc_6028_11e8_bc88_80ce6220aa9erow2_col0 {\n",
       "            background-color:  #9f9fff;\n",
       "            : ;\n",
       "        }    #T_a97c32bc_6028_11e8_bc88_80ce6220aa9erow2_col1 {\n",
       "            background-color:  #dedeff;\n",
       "            : ;\n",
       "        }    #T_a97c32bc_6028_11e8_bc88_80ce6220aa9erow2_col2 {\n",
       "            background-color:  #ff7575;\n",
       "            : ;\n",
       "        }    #T_a97c32bc_6028_11e8_bc88_80ce6220aa9erow2_col3 {\n",
       "            background-color:  #ff6868;\n",
       "            : ;\n",
       "        }    #T_a97c32bc_6028_11e8_bc88_80ce6220aa9erow2_col4 {\n",
       "            background-color:  #ffbaba;\n",
       "            : ;\n",
       "        }    #T_a97c32bc_6028_11e8_bc88_80ce6220aa9erow2_col5 {\n",
       "            background-color:  #ffc4c4;\n",
       "            : ;\n",
       "        }    #T_a97c32bc_6028_11e8_bc88_80ce6220aa9erow3_col0 {\n",
       "            background-color:  #fcfcff;\n",
       "            : ;\n",
       "        }    #T_a97c32bc_6028_11e8_bc88_80ce6220aa9erow3_col1 {\n",
       "            background-color:  #fffcfc;\n",
       "            : ;\n",
       "        }    #T_a97c32bc_6028_11e8_bc88_80ce6220aa9erow3_col2 {\n",
       "            background-color:  #ffcdcd;\n",
       "            : ;\n",
       "        }    #T_a97c32bc_6028_11e8_bc88_80ce6220aa9erow3_col3 {\n",
       "            background-color:  #ffc8c8;\n",
       "            : ;\n",
       "        }    #T_a97c32bc_6028_11e8_bc88_80ce6220aa9erow3_col4 {\n",
       "            background-color:  #ffdcdc;\n",
       "            : ;\n",
       "        }    #T_a97c32bc_6028_11e8_bc88_80ce6220aa9erow3_col5 {\n",
       "            background-color:  #ffebeb;\n",
       "            : ;\n",
       "        }    #T_a97c32bc_6028_11e8_bc88_80ce6220aa9erow4_col0 {\n",
       "            background-color:  #f7f7ff;\n",
       "            : ;\n",
       "        }    #T_a97c32bc_6028_11e8_bc88_80ce6220aa9erow4_col1 {\n",
       "            background-color:  #fff2f2;\n",
       "            : ;\n",
       "        }    #T_a97c32bc_6028_11e8_bc88_80ce6220aa9erow4_col2 {\n",
       "            background-color:  #fff9f9;\n",
       "            : ;\n",
       "        }    #T_a97c32bc_6028_11e8_bc88_80ce6220aa9erow4_col3 {\n",
       "            background-color:  #fffafa;\n",
       "            : ;\n",
       "        }    #T_a97c32bc_6028_11e8_bc88_80ce6220aa9erow4_col4 {\n",
       "            background-color:  #fff5f5;\n",
       "            : ;\n",
       "        }    #T_a97c32bc_6028_11e8_bc88_80ce6220aa9erow4_col5 {\n",
       "            background-color:  #fefeff;\n",
       "            : ;\n",
       "        }    #T_a97c32bc_6028_11e8_bc88_80ce6220aa9erow5_col0 {\n",
       "            background-color:  #e8e8ff;\n",
       "            : ;\n",
       "        }    #T_a97c32bc_6028_11e8_bc88_80ce6220aa9erow5_col1 {\n",
       "            background-color:  #ffe8e8;\n",
       "            : ;\n",
       "        }    #T_a97c32bc_6028_11e8_bc88_80ce6220aa9erow5_col2 {\n",
       "            background-color:  #ffeeee;\n",
       "            : ;\n",
       "        }    #T_a97c32bc_6028_11e8_bc88_80ce6220aa9erow5_col3 {\n",
       "            background-color:  #ffebeb;\n",
       "            : ;\n",
       "        }    #T_a97c32bc_6028_11e8_bc88_80ce6220aa9erow5_col4 {\n",
       "            background-color:  #fff0f0;\n",
       "            : ;\n",
       "        }    #T_a97c32bc_6028_11e8_bc88_80ce6220aa9erow5_col5 {\n",
       "            background-color:  #dbdbff;\n",
       "            : ;\n",
       "        }    #T_a97c32bc_6028_11e8_bc88_80ce6220aa9erow6_col0 {\n",
       "            background-color:  #fff2f2;\n",
       "            : ;\n",
       "        }    #T_a97c32bc_6028_11e8_bc88_80ce6220aa9erow6_col1 {\n",
       "            background-color:  #ffe6e6;\n",
       "            : ;\n",
       "        }    #T_a97c32bc_6028_11e8_bc88_80ce6220aa9erow6_col2 {\n",
       "            background-color:  #ffd5d5;\n",
       "            : ;\n",
       "        }    #T_a97c32bc_6028_11e8_bc88_80ce6220aa9erow6_col3 {\n",
       "            background-color:  #ffd4d4;\n",
       "            : ;\n",
       "        }    #T_a97c32bc_6028_11e8_bc88_80ce6220aa9erow6_col4 {\n",
       "            background-color:  #ffd4d4;\n",
       "            : ;\n",
       "        }    #T_a97c32bc_6028_11e8_bc88_80ce6220aa9erow6_col5 {\n",
       "            background-color:  #ffe1e1;\n",
       "            : ;\n",
       "        }    #T_a97c32bc_6028_11e8_bc88_80ce6220aa9erow7_col0 {\n",
       "            background-color:  #fcfcff;\n",
       "            : ;\n",
       "        }    #T_a97c32bc_6028_11e8_bc88_80ce6220aa9erow7_col1 {\n",
       "            background-color:  #fefeff;\n",
       "            : ;\n",
       "        }    #T_a97c32bc_6028_11e8_bc88_80ce6220aa9erow7_col2 {\n",
       "            background-color:  #fffafa;\n",
       "            : ;\n",
       "        }    #T_a97c32bc_6028_11e8_bc88_80ce6220aa9erow7_col3 {\n",
       "            background-color:  #fffafa;\n",
       "            : ;\n",
       "        }    #T_a97c32bc_6028_11e8_bc88_80ce6220aa9erow7_col4 {\n",
       "            background-color:  #fffcfc;\n",
       "            : ;\n",
       "        }    #T_a97c32bc_6028_11e8_bc88_80ce6220aa9erow7_col5 {\n",
       "            background-color:  #fffefe;\n",
       "            : ;\n",
       "        }</style>  \n",
       "<table id=\"T_a97c32bc_6028_11e8_bc88_80ce6220aa9e\" > \n",
       "<thead>    <tr> \n",
       "        <th class=\"blank\" ></th> \n",
       "        <th class=\"blank\" ></th> \n",
       "        <th class=\"index_name level0\" >Run</th> \n",
       "        <th class=\"col_heading level0 col0\" >Run1</th> \n",
       "        <th class=\"col_heading level0 col1\" >Run2</th> \n",
       "        <th class=\"col_heading level0 col2\" colspan=3>Run3</th> \n",
       "        <th class=\"col_heading level0 col5\" >Run4</th> \n",
       "    </tr>    <tr> \n",
       "        <th class=\"blank\" ></th> \n",
       "        <th class=\"blank\" ></th> \n",
       "        <th class=\"index_name level1\" >Years</th> \n",
       "        <th class=\"col_heading level1 col0\" >71-100</th> \n",
       "        <th class=\"col_heading level1 col1\" >1-20</th> \n",
       "        <th class=\"col_heading level1 col2\" >185-215</th> \n",
       "        <th class=\"col_heading level1 col3\" >310-340</th> \n",
       "        <th class=\"col_heading level1 col4\" >80-110</th> \n",
       "        <th class=\"col_heading level1 col5\" >90-120</th> \n",
       "    </tr>    <tr> \n",
       "        <th class=\"index_name level0\" >Variable</th> \n",
       "        <th class=\"index_name level1\" >Description</th> \n",
       "        <th class=\"index_name level2\" >Obs</th> \n",
       "        <th class=\"blank\" ></th> \n",
       "        <th class=\"blank\" ></th> \n",
       "        <th class=\"blank\" ></th> \n",
       "        <th class=\"blank\" ></th> \n",
       "        <th class=\"blank\" ></th> \n",
       "        <th class=\"blank\" ></th> \n",
       "    </tr></thead> \n",
       "<tbody>    <tr> \n",
       "        <th id=\"T_a97c32bc_6028_11e8_bc88_80ce6220aa9elevel0_row0\" class=\"row_heading level0 row0\" >CLDTOT_CLOUDSAT</th> \n",
       "        <th id=\"T_a97c32bc_6028_11e8_bc88_80ce6220aa9elevel1_row0\" class=\"row_heading level1 row0\" ></th> \n",
       "        <th id=\"T_a97c32bc_6028_11e8_bc88_80ce6220aa9elevel2_row0\" class=\"row_heading level2 row0\" >66.824</th> \n",
       "        <td id=\"T_a97c32bc_6028_11e8_bc88_80ce6220aa9erow0_col0\" class=\"data row0 col0\" >-3.20</td> \n",
       "        <td id=\"T_a97c32bc_6028_11e8_bc88_80ce6220aa9erow0_col1\" class=\"data row0 col1\" >1.76</td> \n",
       "        <td id=\"T_a97c32bc_6028_11e8_bc88_80ce6220aa9erow0_col2\" class=\"data row0 col2\" >1.72</td> \n",
       "        <td id=\"T_a97c32bc_6028_11e8_bc88_80ce6220aa9erow0_col3\" class=\"data row0 col3\" >1.41</td> \n",
       "        <td id=\"T_a97c32bc_6028_11e8_bc88_80ce6220aa9erow0_col4\" class=\"data row0 col4\" >2.13</td> \n",
       "        <td id=\"T_a97c32bc_6028_11e8_bc88_80ce6220aa9erow0_col5\" class=\"data row0 col5\" >3.92</td> \n",
       "    </tr>    <tr> \n",
       "        <th id=\"T_a97c32bc_6028_11e8_bc88_80ce6220aa9elevel0_row1\" class=\"row_heading level0 row1\" >CLDTOT_ISCCP</th> \n",
       "        <th id=\"T_a97c32bc_6028_11e8_bc88_80ce6220aa9elevel1_row1\" class=\"row_heading level1 row1\" >Total cloud cover</th> \n",
       "        <th id=\"T_a97c32bc_6028_11e8_bc88_80ce6220aa9elevel2_row1\" class=\"row_heading level2 row1\" >66.8</th> \n",
       "        <td id=\"T_a97c32bc_6028_11e8_bc88_80ce6220aa9erow1_col0\" class=\"data row1 col0\" >-3.18</td> \n",
       "        <td id=\"T_a97c32bc_6028_11e8_bc88_80ce6220aa9erow1_col1\" class=\"data row1 col1\" >1.79</td> \n",
       "        <td id=\"T_a97c32bc_6028_11e8_bc88_80ce6220aa9erow1_col2\" class=\"data row1 col2\" >1.74</td> \n",
       "        <td id=\"T_a97c32bc_6028_11e8_bc88_80ce6220aa9erow1_col3\" class=\"data row1 col3\" >1.44</td> \n",
       "        <td id=\"T_a97c32bc_6028_11e8_bc88_80ce6220aa9erow1_col4\" class=\"data row1 col4\" >2.16</td> \n",
       "        <td id=\"T_a97c32bc_6028_11e8_bc88_80ce6220aa9erow1_col5\" class=\"data row1 col5\" >3.95</td> \n",
       "    </tr>    <tr> \n",
       "        <th id=\"T_a97c32bc_6028_11e8_bc88_80ce6220aa9elevel0_row2\" class=\"row_heading level0 row2\" >FLDS_ISCCP</th> \n",
       "        <th id=\"T_a97c32bc_6028_11e8_bc88_80ce6220aa9elevel1_row2\" class=\"row_heading level1 row2\" >LW down SRF</th> \n",
       "        <th id=\"T_a97c32bc_6028_11e8_bc88_80ce6220aa9elevel2_row2\" class=\"row_heading level2 row2\" >343.347</th> \n",
       "        <td id=\"T_a97c32bc_6028_11e8_bc88_80ce6220aa9erow2_col0\" class=\"data row2 col0\" >-5.07</td> \n",
       "        <td id=\"T_a97c32bc_6028_11e8_bc88_80ce6220aa9erow2_col1\" class=\"data row2 col1\" >-1.80</td> \n",
       "        <td id=\"T_a97c32bc_6028_11e8_bc88_80ce6220aa9erow2_col2\" class=\"data row2 col2\" >10.51</td> \n",
       "        <td id=\"T_a97c32bc_6028_11e8_bc88_80ce6220aa9erow2_col3\" class=\"data row2 col3\" >11.50</td> \n",
       "        <td id=\"T_a97c32bc_6028_11e8_bc88_80ce6220aa9erow2_col4\" class=\"data row2 col4\" >5.16</td> \n",
       "        <td id=\"T_a97c32bc_6028_11e8_bc88_80ce6220aa9erow2_col5\" class=\"data row2 col5\" >4.51</td> \n",
       "    </tr>    <tr> \n",
       "        <th id=\"T_a97c32bc_6028_11e8_bc88_80ce6220aa9elevel0_row3\" class=\"row_heading level0 row3\" >PREH2O_ERAI</th> \n",
       "        <th id=\"T_a97c32bc_6028_11e8_bc88_80ce6220aa9elevel1_row3\" class=\"row_heading level1 row3\" ></th> \n",
       "        <th id=\"T_a97c32bc_6028_11e8_bc88_80ce6220aa9elevel2_row3\" class=\"row_heading level2 row3\" >24.247</th> \n",
       "        <td id=\"T_a97c32bc_6028_11e8_bc88_80ce6220aa9erow3_col0\" class=\"data row3 col0\" >-0.27</td> \n",
       "        <td id=\"T_a97c32bc_6028_11e8_bc88_80ce6220aa9erow3_col1\" class=\"data row3 col1\" >0.19</td> \n",
       "        <td id=\"T_a97c32bc_6028_11e8_bc88_80ce6220aa9erow3_col2\" class=\"data row3 col2\" >3.84</td> \n",
       "        <td id=\"T_a97c32bc_6028_11e8_bc88_80ce6220aa9erow3_col3\" class=\"data row3 col3\" >4.14</td> \n",
       "        <td id=\"T_a97c32bc_6028_11e8_bc88_80ce6220aa9erow3_col4\" class=\"data row3 col4\" >2.62</td> \n",
       "        <td id=\"T_a97c32bc_6028_11e8_bc88_80ce6220aa9erow3_col5\" class=\"data row3 col5\" >1.49</td> \n",
       "    </tr>    <tr> \n",
       "        <th id=\"T_a97c32bc_6028_11e8_bc88_80ce6220aa9elevel0_row4\" class=\"row_heading level0 row4\" >RESTOM</th> \n",
       "        <th id=\"T_a97c32bc_6028_11e8_bc88_80ce6220aa9elevel1_row4\" class=\"row_heading level1 row4\" >TOmodel net flux</th> \n",
       "        <th id=\"T_a97c32bc_6028_11e8_bc88_80ce6220aa9elevel2_row4\" class=\"row_heading level2 row4\" >0.0</th> \n",
       "        <td id=\"T_a97c32bc_6028_11e8_bc88_80ce6220aa9erow4_col0\" class=\"data row4 col0\" >-0.49</td> \n",
       "        <td id=\"T_a97c32bc_6028_11e8_bc88_80ce6220aa9erow4_col1\" class=\"data row4 col1\" >0.99</td> \n",
       "        <td id=\"T_a97c32bc_6028_11e8_bc88_80ce6220aa9erow4_col2\" class=\"data row4 col2\" >0.47</td> \n",
       "        <td id=\"T_a97c32bc_6028_11e8_bc88_80ce6220aa9erow4_col3\" class=\"data row4 col3\" >0.33</td> \n",
       "        <td id=\"T_a97c32bc_6028_11e8_bc88_80ce6220aa9erow4_col4\" class=\"data row4 col4\" >0.65</td> \n",
       "        <td id=\"T_a97c32bc_6028_11e8_bc88_80ce6220aa9erow4_col5\" class=\"data row4 col5\" >-0.07</td> \n",
       "    </tr>    <tr> \n",
       "        <th id=\"T_a97c32bc_6028_11e8_bc88_80ce6220aa9elevel0_row5\" class=\"row_heading level0 row5\" >SWCF_CERES-EBAF</th> \n",
       "        <th id=\"T_a97c32bc_6028_11e8_bc88_80ce6220aa9elevel1_row5\" class=\"row_heading level1 row5\" >SW Cloud Forc</th> \n",
       "        <th id=\"T_a97c32bc_6028_11e8_bc88_80ce6220aa9elevel2_row5\" class=\"row_heading level2 row5\" >-47.071</th> \n",
       "        <td id=\"T_a97c32bc_6028_11e8_bc88_80ce6220aa9erow5_col0\" class=\"data row5 col0\" >-1.25</td> \n",
       "        <td id=\"T_a97c32bc_6028_11e8_bc88_80ce6220aa9erow5_col1\" class=\"data row5 col1\" >1.77</td> \n",
       "        <td id=\"T_a97c32bc_6028_11e8_bc88_80ce6220aa9erow5_col2\" class=\"data row5 col2\" >1.27</td> \n",
       "        <td id=\"T_a97c32bc_6028_11e8_bc88_80ce6220aa9erow5_col3\" class=\"data row5 col3\" >1.47</td> \n",
       "        <td id=\"T_a97c32bc_6028_11e8_bc88_80ce6220aa9erow5_col4\" class=\"data row5 col4\" >1.08</td> \n",
       "        <td id=\"T_a97c32bc_6028_11e8_bc88_80ce6220aa9erow5_col5\" class=\"data row5 col5\" >-1.89</td> \n",
       "    </tr>    <tr> \n",
       "        <th id=\"T_a97c32bc_6028_11e8_bc88_80ce6220aa9elevel0_row6\" class=\"row_heading level0 row6\" >U_200_JRA25</th> \n",
       "        <th id=\"T_a97c32bc_6028_11e8_bc88_80ce6220aa9elevel1_row6\" class=\"row_heading level1 row6\" >Zonal Wind JRA25</th> \n",
       "        <th id=\"T_a97c32bc_6028_11e8_bc88_80ce6220aa9elevel2_row6\" class=\"row_heading level2 row6\" >15.565</th> \n",
       "        <td id=\"T_a97c32bc_6028_11e8_bc88_80ce6220aa9erow6_col0\" class=\"data row6 col0\" >1.01</td> \n",
       "        <td id=\"T_a97c32bc_6028_11e8_bc88_80ce6220aa9erow6_col1\" class=\"data row6 col1\" >1.82</td> \n",
       "        <td id=\"T_a97c32bc_6028_11e8_bc88_80ce6220aa9erow6_col2\" class=\"data row6 col2\" >3.21</td> \n",
       "        <td id=\"T_a97c32bc_6028_11e8_bc88_80ce6220aa9erow6_col3\" class=\"data row6 col3\" >3.22</td> \n",
       "        <td id=\"T_a97c32bc_6028_11e8_bc88_80ce6220aa9erow6_col4\" class=\"data row6 col4\" >3.34</td> \n",
       "        <td id=\"T_a97c32bc_6028_11e8_bc88_80ce6220aa9erow6_col5\" class=\"data row6 col5\" >2.30</td> \n",
       "    </tr>    <tr> \n",
       "        <th id=\"T_a97c32bc_6028_11e8_bc88_80ce6220aa9elevel0_row7\" class=\"row_heading level0 row7\" >Z3_500_NCEP</th> \n",
       "        <th id=\"T_a97c32bc_6028_11e8_bc88_80ce6220aa9elevel1_row7\" class=\"row_heading level1 row7\" ></th> \n",
       "        <th id=\"T_a97c32bc_6028_11e8_bc88_80ce6220aa9elevel2_row7\" class=\"row_heading level2 row7\" >56.581</th> \n",
       "        <td id=\"T_a97c32bc_6028_11e8_bc88_80ce6220aa9erow7_col0\" class=\"data row7 col0\" >-0.23</td> \n",
       "        <td id=\"T_a97c32bc_6028_11e8_bc88_80ce6220aa9erow7_col1\" class=\"data row7 col1\" >-0.07</td> \n",
       "        <td id=\"T_a97c32bc_6028_11e8_bc88_80ce6220aa9erow7_col2\" class=\"data row7 col2\" >0.30</td> \n",
       "        <td id=\"T_a97c32bc_6028_11e8_bc88_80ce6220aa9erow7_col3\" class=\"data row7 col3\" >0.34</td> \n",
       "        <td id=\"T_a97c32bc_6028_11e8_bc88_80ce6220aa9erow7_col4\" class=\"data row7 col4\" >0.13</td> \n",
       "        <td id=\"T_a97c32bc_6028_11e8_bc88_80ce6220aa9erow7_col5\" class=\"data row7 col5\" >0.01</td> \n",
       "    </tr></tbody> \n",
       "</table> "
      ],
      "text/plain": [
       "<pandas.io.formats.style.Styler at 0x7fd9995c8f60>"
      ]
     },
     "execution_count": 26,
     "metadata": {},
     "output_type": "execute_result"
    }
   ],
   "source": [
    "from helper_funcs import my_table_display\n",
    "my_table_display(bias)"
   ]
  },
  {
   "cell_type": "code",
   "execution_count": 27,
   "metadata": {
    "extensions": {
     "jupyter_dashboards": {
      "version": 1,
      "views": {
       "grid_default": {
        "col": 0,
        "height": 16,
        "hidden": false,
        "row": 368,
        "width": 7
       },
       "report_default": {
        "hidden": false
       }
      }
     }
    }
   },
   "outputs": [
    {
     "data": {
      "image/png": "[encoded data removed]",
      "text/plain": [
       "<matplotlib.figure.Figure at 0x7fd99239ec18>"
      ]
     },
     "metadata": {},
     "output_type": "display_data"
    }
   ],
   "source": [
    "from helper_funcs import df_to_heatmap\n",
    "\n",
    "ax = df_to_heatmap(bias, figsize=(14,8))\n",
    "ax.set_xlabel(\"Variable\", weight=\"bold\")\n",
    "ax.set_ylabel(\"Run\", weight=\"bold\")\n",
    "ax.figure.tight_layout()\n",
    "ax.figure.savefig(os.path.join(output_dir, \"bias_table.png\"))"
   ]
  },
  {
   "cell_type": "markdown",
   "metadata": {
    "extensions": {
     "jupyter_dashboards": {
      "version": 1,
      "views": {
       "grid_default": {
        "col": 7,
        "height": 4,
        "hidden": false,
        "row": 94,
        "width": 4
       },
       "report_default": {
        "hidden": false
       }
      }
     }
    }
   },
   "source": [
    "Now for the typical RMSE error"
   ]
  },
  {
   "cell_type": "code",
   "execution_count": 28,
   "metadata": {
    "extensions": {
     "jupyter_dashboards": {
      "version": 1,
      "views": {
       "grid_default": {
        "col": 0,
        "height": 16,
        "hidden": false,
        "row": 384,
        "width": 7
       },
       "report_default": {
        "hidden": false
       }
      }
     }
    }
   },
   "outputs": [
    {
     "name": "stderr",
     "output_type": "stream",
     "text": [
      "/home/jonasg/anaconda3/lib/python3.6/site-packages/matplotlib/colors.py:489: RuntimeWarning: invalid value encountered in less\n",
      "  np.copyto(xa, -1, where=xa < 0.0)\n"
     ]
    },
    {
     "data": {
      "text/html": [
       "<style  type=\"text/css\" >\n",
       "    #T_a9ef6c96_6028_11e8_bc88_80ce6220aa9erow0_col0 {\n",
       "            background-color:  #eaeaff;\n",
       "            : ;\n",
       "        }    #T_a9ef6c96_6028_11e8_bc88_80ce6220aa9erow0_col1 {\n",
       "            background-color:  #fbfbff;\n",
       "            : ;\n",
       "        }    #T_a9ef6c96_6028_11e8_bc88_80ce6220aa9erow0_col2 {\n",
       "            background-color:  #fff5f5;\n",
       "            : ;\n",
       "        }    #T_a9ef6c96_6028_11e8_bc88_80ce6220aa9erow0_col3 {\n",
       "            background-color:  #fff5f5;\n",
       "            : ;\n",
       "        }    #T_a9ef6c96_6028_11e8_bc88_80ce6220aa9erow0_col4 {\n",
       "            background-color:  #fff5f5;\n",
       "            : ;\n",
       "        }    #T_a9ef6c96_6028_11e8_bc88_80ce6220aa9erow0_col5 {\n",
       "            background-color:  #fefeff;\n",
       "            : ;\n",
       "        }    #T_a9ef6c96_6028_11e8_bc88_80ce6220aa9erow1_col0 {\n",
       "            background-color:  #e8e8ff;\n",
       "            : ;\n",
       "        }    #T_a9ef6c96_6028_11e8_bc88_80ce6220aa9erow1_col1 {\n",
       "            background-color:  #f4f4ff;\n",
       "            : ;\n",
       "        }    #T_a9ef6c96_6028_11e8_bc88_80ce6220aa9erow1_col2 {\n",
       "            background-color:  #fff3f3;\n",
       "            : ;\n",
       "        }    #T_a9ef6c96_6028_11e8_bc88_80ce6220aa9erow1_col3 {\n",
       "            background-color:  #fff1f1;\n",
       "            : ;\n",
       "        }    #T_a9ef6c96_6028_11e8_bc88_80ce6220aa9erow1_col4 {\n",
       "            background-color:  #fff5f5;\n",
       "            : ;\n",
       "        }    #T_a9ef6c96_6028_11e8_bc88_80ce6220aa9erow1_col5 {\n",
       "            background-color:  #fffdfd;\n",
       "            : ;\n",
       "        }    #T_a9ef6c96_6028_11e8_bc88_80ce6220aa9erow2_col0 {\n",
       "            background-color:  #e4e4ff;\n",
       "            : ;\n",
       "        }    #T_a9ef6c96_6028_11e8_bc88_80ce6220aa9erow2_col1 {\n",
       "            background-color:  #f4f4ff;\n",
       "            : ;\n",
       "        }    #T_a9ef6c96_6028_11e8_bc88_80ce6220aa9erow2_col2 {\n",
       "            background-color:  #fff1f1;\n",
       "            : ;\n",
       "        }    #T_a9ef6c96_6028_11e8_bc88_80ce6220aa9erow2_col3 {\n",
       "            background-color:  #ffe4e4;\n",
       "            : ;\n",
       "        }    #T_a9ef6c96_6028_11e8_bc88_80ce6220aa9erow2_col4 {\n",
       "            background-color:  #fff3f3;\n",
       "            : ;\n",
       "        }    #T_a9ef6c96_6028_11e8_bc88_80ce6220aa9erow2_col5 {\n",
       "            background-color:  #f2f2ff;\n",
       "            : ;\n",
       "        }    #T_a9ef6c96_6028_11e8_bc88_80ce6220aa9erow3_col0 {\n",
       "            background-color:  #8787ff;\n",
       "            : ;\n",
       "        }    #T_a9ef6c96_6028_11e8_bc88_80ce6220aa9erow3_col1 {\n",
       "            background-color:  #8383ff;\n",
       "            : ;\n",
       "        }    #T_a9ef6c96_6028_11e8_bc88_80ce6220aa9erow3_col2 {\n",
       "            background-color:  #ff9090;\n",
       "            : ;\n",
       "        }    #T_a9ef6c96_6028_11e8_bc88_80ce6220aa9erow3_col3 {\n",
       "            background-color:  #ff7979;\n",
       "            : ;\n",
       "        }    #T_a9ef6c96_6028_11e8_bc88_80ce6220aa9erow3_col4 {\n",
       "            background-color:  #ffd6d6;\n",
       "            : ;\n",
       "        }    #T_a9ef6c96_6028_11e8_bc88_80ce6220aa9erow3_col5 {\n",
       "            background-color:  #c7c7ff;\n",
       "            : ;\n",
       "        }    #T_a9ef6c96_6028_11e8_bc88_80ce6220aa9erow4_col0 {\n",
       "            background-color:  #0000ff;\n",
       "            background-color:  white;\n",
       "        }    #T_a9ef6c96_6028_11e8_bc88_80ce6220aa9erow4_col1 {\n",
       "            background-color:  #0000ff;\n",
       "            background-color:  white;\n",
       "        }    #T_a9ef6c96_6028_11e8_bc88_80ce6220aa9erow4_col2 {\n",
       "            background-color:  #0000ff;\n",
       "            background-color:  white;\n",
       "        }    #T_a9ef6c96_6028_11e8_bc88_80ce6220aa9erow4_col3 {\n",
       "            background-color:  #0000ff;\n",
       "            background-color:  white;\n",
       "        }    #T_a9ef6c96_6028_11e8_bc88_80ce6220aa9erow4_col4 {\n",
       "            background-color:  #0000ff;\n",
       "            background-color:  white;\n",
       "        }    #T_a9ef6c96_6028_11e8_bc88_80ce6220aa9erow4_col5 {\n",
       "            background-color:  #0000ff;\n",
       "            background-color:  white;\n",
       "        }    #T_a9ef6c96_6028_11e8_bc88_80ce6220aa9erow5_col0 {\n",
       "            background-color:  #fff7f7;\n",
       "            : ;\n",
       "        }    #T_a9ef6c96_6028_11e8_bc88_80ce6220aa9erow5_col1 {\n",
       "            background-color:  #dedeff;\n",
       "            : ;\n",
       "        }    #T_a9ef6c96_6028_11e8_bc88_80ce6220aa9erow5_col2 {\n",
       "            background-color:  #fff5f5;\n",
       "            : ;\n",
       "        }    #T_a9ef6c96_6028_11e8_bc88_80ce6220aa9erow5_col3 {\n",
       "            background-color:  #fff1f1;\n",
       "            : ;\n",
       "        }    #T_a9ef6c96_6028_11e8_bc88_80ce6220aa9erow5_col4 {\n",
       "            background-color:  #fff7f7;\n",
       "            : ;\n",
       "        }    #T_a9ef6c96_6028_11e8_bc88_80ce6220aa9erow5_col5 {\n",
       "            background-color:  #fdfdff;\n",
       "            : ;\n",
       "        }    #T_a9ef6c96_6028_11e8_bc88_80ce6220aa9erow6_col0 {\n",
       "            background-color:  #a8a8ff;\n",
       "            : ;\n",
       "        }    #T_a9ef6c96_6028_11e8_bc88_80ce6220aa9erow6_col1 {\n",
       "            background-color:  #c7c7ff;\n",
       "            : ;\n",
       "        }    #T_a9ef6c96_6028_11e8_bc88_80ce6220aa9erow6_col2 {\n",
       "            background-color:  #ffcbcb;\n",
       "            : ;\n",
       "        }    #T_a9ef6c96_6028_11e8_bc88_80ce6220aa9erow6_col3 {\n",
       "            background-color:  #ffc9c9;\n",
       "            : ;\n",
       "        }    #T_a9ef6c96_6028_11e8_bc88_80ce6220aa9erow6_col4 {\n",
       "            background-color:  #ffcbcb;\n",
       "            : ;\n",
       "        }    #T_a9ef6c96_6028_11e8_bc88_80ce6220aa9erow6_col5 {\n",
       "            background-color:  #ececff;\n",
       "            : ;\n",
       "        }    #T_a9ef6c96_6028_11e8_bc88_80ce6220aa9erow7_col0 {\n",
       "            background-color:  #e4e4ff;\n",
       "            : ;\n",
       "        }    #T_a9ef6c96_6028_11e8_bc88_80ce6220aa9erow7_col1 {\n",
       "            background-color:  #8f8fff;\n",
       "            : ;\n",
       "        }    #T_a9ef6c96_6028_11e8_bc88_80ce6220aa9erow7_col2 {\n",
       "            background-color:  #ffa9a9;\n",
       "            : ;\n",
       "        }    #T_a9ef6c96_6028_11e8_bc88_80ce6220aa9erow7_col3 {\n",
       "            background-color:  #ff8c8c;\n",
       "            : ;\n",
       "        }    #T_a9ef6c96_6028_11e8_bc88_80ce6220aa9erow7_col4 {\n",
       "            background-color:  #ffe2e2;\n",
       "            : ;\n",
       "        }    #T_a9ef6c96_6028_11e8_bc88_80ce6220aa9erow7_col5 {\n",
       "            background-color:  #9d9dff;\n",
       "            : ;\n",
       "        }</style>  \n",
       "<table id=\"T_a9ef6c96_6028_11e8_bc88_80ce6220aa9e\" > \n",
       "<thead>    <tr> \n",
       "        <th class=\"blank\" ></th> \n",
       "        <th class=\"blank\" ></th> \n",
       "        <th class=\"index_name level0\" >Run</th> \n",
       "        <th class=\"col_heading level0 col0\" >Run1</th> \n",
       "        <th class=\"col_heading level0 col1\" >Run2</th> \n",
       "        <th class=\"col_heading level0 col2\" colspan=3>Run3</th> \n",
       "        <th class=\"col_heading level0 col5\" >Run4</th> \n",
       "    </tr>    <tr> \n",
       "        <th class=\"blank\" ></th> \n",
       "        <th class=\"blank\" ></th> \n",
       "        <th class=\"index_name level1\" >Years</th> \n",
       "        <th class=\"col_heading level1 col0\" >71-100</th> \n",
       "        <th class=\"col_heading level1 col1\" >1-20</th> \n",
       "        <th class=\"col_heading level1 col2\" >185-215</th> \n",
       "        <th class=\"col_heading level1 col3\" >310-340</th> \n",
       "        <th class=\"col_heading level1 col4\" >80-110</th> \n",
       "        <th class=\"col_heading level1 col5\" >90-120</th> \n",
       "    </tr>    <tr> \n",
       "        <th class=\"index_name level0\" >Variable</th> \n",
       "        <th class=\"index_name level1\" >Description</th> \n",
       "        <th class=\"index_name level2\" >Obs</th> \n",
       "        <th class=\"blank\" ></th> \n",
       "        <th class=\"blank\" ></th> \n",
       "        <th class=\"blank\" ></th> \n",
       "        <th class=\"blank\" ></th> \n",
       "        <th class=\"blank\" ></th> \n",
       "        <th class=\"blank\" ></th> \n",
       "    </tr></thead> \n",
       "<tbody>    <tr> \n",
       "        <th id=\"T_a9ef6c96_6028_11e8_bc88_80ce6220aa9elevel0_row0\" class=\"row_heading level0 row0\" >CLDTOT_CLOUDSAT</th> \n",
       "        <th id=\"T_a9ef6c96_6028_11e8_bc88_80ce6220aa9elevel1_row0\" class=\"row_heading level1 row0\" ></th> \n",
       "        <th id=\"T_a9ef6c96_6028_11e8_bc88_80ce6220aa9elevel2_row0\" class=\"row_heading level2 row0\" >66.824</th> \n",
       "        <td id=\"T_a9ef6c96_6028_11e8_bc88_80ce6220aa9erow0_col0\" class=\"data row0 col0\" >-0.08</td> \n",
       "        <td id=\"T_a9ef6c96_6028_11e8_bc88_80ce6220aa9erow0_col1\" class=\"data row0 col1\" >-0.02</td> \n",
       "        <td id=\"T_a9ef6c96_6028_11e8_bc88_80ce6220aa9erow0_col2\" class=\"data row0 col2\" >0.03</td> \n",
       "        <td id=\"T_a9ef6c96_6028_11e8_bc88_80ce6220aa9erow0_col3\" class=\"data row0 col3\" >0.04</td> \n",
       "        <td id=\"T_a9ef6c96_6028_11e8_bc88_80ce6220aa9erow0_col4\" class=\"data row0 col4\" >0.03</td> \n",
       "        <td id=\"T_a9ef6c96_6028_11e8_bc88_80ce6220aa9erow0_col5\" class=\"data row0 col5\" >-0.00</td> \n",
       "    </tr>    <tr> \n",
       "        <th id=\"T_a9ef6c96_6028_11e8_bc88_80ce6220aa9elevel0_row1\" class=\"row_heading level0 row1\" >CLDTOT_ISCCP</th> \n",
       "        <th id=\"T_a9ef6c96_6028_11e8_bc88_80ce6220aa9elevel1_row1\" class=\"row_heading level1 row1\" >Total cloud cover</th> \n",
       "        <th id=\"T_a9ef6c96_6028_11e8_bc88_80ce6220aa9elevel2_row1\" class=\"row_heading level2 row1\" >66.8</th> \n",
       "        <td id=\"T_a9ef6c96_6028_11e8_bc88_80ce6220aa9erow1_col0\" class=\"data row1 col0\" >-0.09</td> \n",
       "        <td id=\"T_a9ef6c96_6028_11e8_bc88_80ce6220aa9erow1_col1\" class=\"data row1 col1\" >-0.04</td> \n",
       "        <td id=\"T_a9ef6c96_6028_11e8_bc88_80ce6220aa9erow1_col2\" class=\"data row1 col2\" >0.04</td> \n",
       "        <td id=\"T_a9ef6c96_6028_11e8_bc88_80ce6220aa9erow1_col3\" class=\"data row1 col3\" >0.05</td> \n",
       "        <td id=\"T_a9ef6c96_6028_11e8_bc88_80ce6220aa9erow1_col4\" class=\"data row1 col4\" >0.03</td> \n",
       "        <td id=\"T_a9ef6c96_6028_11e8_bc88_80ce6220aa9erow1_col5\" class=\"data row1 col5\" >0.00</td> \n",
       "    </tr>    <tr> \n",
       "        <th id=\"T_a9ef6c96_6028_11e8_bc88_80ce6220aa9elevel0_row2\" class=\"row_heading level0 row2\" >FLDS_ISCCP</th> \n",
       "        <th id=\"T_a9ef6c96_6028_11e8_bc88_80ce6220aa9elevel1_row2\" class=\"row_heading level1 row2\" >LW down SRF</th> \n",
       "        <th id=\"T_a9ef6c96_6028_11e8_bc88_80ce6220aa9elevel2_row2\" class=\"row_heading level2 row2\" >343.347</th> \n",
       "        <td id=\"T_a9ef6c96_6028_11e8_bc88_80ce6220aa9erow2_col0\" class=\"data row2 col0\" >-0.10</td> \n",
       "        <td id=\"T_a9ef6c96_6028_11e8_bc88_80ce6220aa9erow2_col1\" class=\"data row2 col1\" >-0.04</td> \n",
       "        <td id=\"T_a9ef6c96_6028_11e8_bc88_80ce6220aa9erow2_col2\" class=\"data row2 col2\" >0.05</td> \n",
       "        <td id=\"T_a9ef6c96_6028_11e8_bc88_80ce6220aa9erow2_col3\" class=\"data row2 col3\" >0.10</td> \n",
       "        <td id=\"T_a9ef6c96_6028_11e8_bc88_80ce6220aa9erow2_col4\" class=\"data row2 col4\" >0.04</td> \n",
       "        <td id=\"T_a9ef6c96_6028_11e8_bc88_80ce6220aa9erow2_col5\" class=\"data row2 col5\" >-0.05</td> \n",
       "    </tr>    <tr> \n",
       "        <th id=\"T_a9ef6c96_6028_11e8_bc88_80ce6220aa9elevel0_row3\" class=\"row_heading level0 row3\" >PREH2O_ERAI</th> \n",
       "        <th id=\"T_a9ef6c96_6028_11e8_bc88_80ce6220aa9elevel1_row3\" class=\"row_heading level1 row3\" ></th> \n",
       "        <th id=\"T_a9ef6c96_6028_11e8_bc88_80ce6220aa9elevel2_row3\" class=\"row_heading level2 row3\" >24.247</th> \n",
       "        <td id=\"T_a9ef6c96_6028_11e8_bc88_80ce6220aa9erow3_col0\" class=\"data row3 col0\" >-0.44</td> \n",
       "        <td id=\"T_a9ef6c96_6028_11e8_bc88_80ce6220aa9erow3_col1\" class=\"data row3 col1\" >-0.46</td> \n",
       "        <td id=\"T_a9ef6c96_6028_11e8_bc88_80ce6220aa9erow3_col2\" class=\"data row3 col2\" >0.43</td> \n",
       "        <td id=\"T_a9ef6c96_6028_11e8_bc88_80ce6220aa9erow3_col3\" class=\"data row3 col3\" >0.52</td> \n",
       "        <td id=\"T_a9ef6c96_6028_11e8_bc88_80ce6220aa9erow3_col4\" class=\"data row3 col4\" >0.16</td> \n",
       "        <td id=\"T_a9ef6c96_6028_11e8_bc88_80ce6220aa9erow3_col5\" class=\"data row3 col5\" >-0.21</td> \n",
       "    </tr>    <tr> \n",
       "        <th id=\"T_a9ef6c96_6028_11e8_bc88_80ce6220aa9elevel0_row4\" class=\"row_heading level0 row4\" >RESTOM</th> \n",
       "        <th id=\"T_a9ef6c96_6028_11e8_bc88_80ce6220aa9elevel1_row4\" class=\"row_heading level1 row4\" >TOmodel net flux</th> \n",
       "        <th id=\"T_a9ef6c96_6028_11e8_bc88_80ce6220aa9elevel2_row4\" class=\"row_heading level2 row4\" >0.0</th> \n",
       "        <td id=\"T_a9ef6c96_6028_11e8_bc88_80ce6220aa9erow4_col0\" class=\"data row4 col0\" >nan</td> \n",
       "        <td id=\"T_a9ef6c96_6028_11e8_bc88_80ce6220aa9erow4_col1\" class=\"data row4 col1\" >nan</td> \n",
       "        <td id=\"T_a9ef6c96_6028_11e8_bc88_80ce6220aa9erow4_col2\" class=\"data row4 col2\" >nan</td> \n",
       "        <td id=\"T_a9ef6c96_6028_11e8_bc88_80ce6220aa9erow4_col3\" class=\"data row4 col3\" >nan</td> \n",
       "        <td id=\"T_a9ef6c96_6028_11e8_bc88_80ce6220aa9erow4_col4\" class=\"data row4 col4\" >nan</td> \n",
       "        <td id=\"T_a9ef6c96_6028_11e8_bc88_80ce6220aa9erow4_col5\" class=\"data row4 col5\" >nan</td> \n",
       "    </tr>    <tr> \n",
       "        <th id=\"T_a9ef6c96_6028_11e8_bc88_80ce6220aa9elevel0_row5\" class=\"row_heading level0 row5\" >SWCF_CERES-EBAF</th> \n",
       "        <th id=\"T_a9ef6c96_6028_11e8_bc88_80ce6220aa9elevel1_row5\" class=\"row_heading level1 row5\" >SW Cloud Forc</th> \n",
       "        <th id=\"T_a9ef6c96_6028_11e8_bc88_80ce6220aa9elevel2_row5\" class=\"row_heading level2 row5\" >-47.071</th> \n",
       "        <td id=\"T_a9ef6c96_6028_11e8_bc88_80ce6220aa9erow5_col0\" class=\"data row5 col0\" >0.02</td> \n",
       "        <td id=\"T_a9ef6c96_6028_11e8_bc88_80ce6220aa9erow5_col1\" class=\"data row5 col1\" >-0.12</td> \n",
       "        <td id=\"T_a9ef6c96_6028_11e8_bc88_80ce6220aa9erow5_col2\" class=\"data row5 col2\" >0.04</td> \n",
       "        <td id=\"T_a9ef6c96_6028_11e8_bc88_80ce6220aa9erow5_col3\" class=\"data row5 col3\" >0.05</td> \n",
       "        <td id=\"T_a9ef6c96_6028_11e8_bc88_80ce6220aa9erow5_col4\" class=\"data row5 col4\" >0.03</td> \n",
       "        <td id=\"T_a9ef6c96_6028_11e8_bc88_80ce6220aa9erow5_col5\" class=\"data row5 col5\" >-0.01</td> \n",
       "    </tr>    <tr> \n",
       "        <th id=\"T_a9ef6c96_6028_11e8_bc88_80ce6220aa9elevel0_row6\" class=\"row_heading level0 row6\" >U_200_JRA25</th> \n",
       "        <th id=\"T_a9ef6c96_6028_11e8_bc88_80ce6220aa9elevel1_row6\" class=\"row_heading level1 row6\" >Zonal Wind JRA25</th> \n",
       "        <th id=\"T_a9ef6c96_6028_11e8_bc88_80ce6220aa9elevel2_row6\" class=\"row_heading level2 row6\" >15.565</th> \n",
       "        <td id=\"T_a9ef6c96_6028_11e8_bc88_80ce6220aa9erow6_col0\" class=\"data row6 col0\" >-0.32</td> \n",
       "        <td id=\"T_a9ef6c96_6028_11e8_bc88_80ce6220aa9erow6_col1\" class=\"data row6 col1\" >-0.21</td> \n",
       "        <td id=\"T_a9ef6c96_6028_11e8_bc88_80ce6220aa9erow6_col2\" class=\"data row6 col2\" >0.20</td> \n",
       "        <td id=\"T_a9ef6c96_6028_11e8_bc88_80ce6220aa9erow6_col3\" class=\"data row6 col3\" >0.20</td> \n",
       "        <td id=\"T_a9ef6c96_6028_11e8_bc88_80ce6220aa9erow6_col4\" class=\"data row6 col4\" >0.20</td> \n",
       "        <td id=\"T_a9ef6c96_6028_11e8_bc88_80ce6220aa9erow6_col5\" class=\"data row6 col5\" >-0.07</td> \n",
       "    </tr>    <tr> \n",
       "        <th id=\"T_a9ef6c96_6028_11e8_bc88_80ce6220aa9elevel0_row7\" class=\"row_heading level0 row7\" >Z3_500_NCEP</th> \n",
       "        <th id=\"T_a9ef6c96_6028_11e8_bc88_80ce6220aa9elevel1_row7\" class=\"row_heading level1 row7\" ></th> \n",
       "        <th id=\"T_a9ef6c96_6028_11e8_bc88_80ce6220aa9elevel2_row7\" class=\"row_heading level2 row7\" >56.581</th> \n",
       "        <td id=\"T_a9ef6c96_6028_11e8_bc88_80ce6220aa9erow7_col0\" class=\"data row7 col0\" >-0.11</td> \n",
       "        <td id=\"T_a9ef6c96_6028_11e8_bc88_80ce6220aa9erow7_col1\" class=\"data row7 col1\" >-0.41</td> \n",
       "        <td id=\"T_a9ef6c96_6028_11e8_bc88_80ce6220aa9erow7_col2\" class=\"data row7 col2\" >0.33</td> \n",
       "        <td id=\"T_a9ef6c96_6028_11e8_bc88_80ce6220aa9erow7_col3\" class=\"data row7 col3\" >0.44</td> \n",
       "        <td id=\"T_a9ef6c96_6028_11e8_bc88_80ce6220aa9erow7_col4\" class=\"data row7 col4\" >0.11</td> \n",
       "        <td id=\"T_a9ef6c96_6028_11e8_bc88_80ce6220aa9erow7_col5\" class=\"data row7 col5\" >-0.36</td> \n",
       "    </tr></tbody> \n",
       "</table> "
      ],
      "text/plain": [
       "<pandas.io.formats.style.Styler at 0x7fd9998d2da0>"
      ]
     },
     "execution_count": 28,
     "metadata": {},
     "output_type": "execute_result"
    }
   ],
   "source": [
    "my_table_display(rmse_err_rel)"
   ]
  },
  {
   "cell_type": "code",
   "execution_count": 29,
   "metadata": {},
   "outputs": [
    {
     "data": {
      "text/plain": [
       "<matplotlib.axes._subplots.AxesSubplot at 0x7fd98ed049b0>"
      ]
     },
     "execution_count": 29,
     "metadata": {},
     "output_type": "execute_result"
    },
    {
     "data": {
      "image/png": "[encoded data removed]",
      "text/plain": [
       "<matplotlib.figure.Figure at 0x7fd9923a7908>"
      ]
     },
     "metadata": {},
     "output_type": "display_data"
    }
   ],
   "source": [
    "rmse_err_rel.plot(kind=\"bar\")"
   ]
  },
  {
   "cell_type": "markdown",
   "metadata": {
    "extensions": {
     "jupyter_dashboards": {
      "version": 1,
      "views": {
       "grid_default": {
        "col": 0,
        "height": 4,
        "hidden": false,
        "row": 400,
        "width": 12
       },
       "report_default": {
        "hidden": false
       }
      }
     }
    }
   },
   "source": [
    "### 7. Concatenate and save results (Bias and typical RMSE) as table (EXPORT)\n",
    "\n",
    "In the following, the two result tables ``bias_table`` and ``typical_rmse`` are merged into one result table and then saved both as excel table and as csv file."
   ]
  },
  {
   "cell_type": "code",
   "execution_count": 30,
   "metadata": {
    "extensions": {
     "jupyter_dashboards": {
      "version": 1,
      "views": {
       "grid_default": {
        "col": 0,
        "height": 17,
        "hidden": false,
        "row": 404,
        "width": 11
       },
       "report_default": {
        "hidden": false
       }
      }
     }
    }
   },
   "outputs": [
    {
     "data": {
      "text/html": [
       "<div>\n",
       "<style scoped>\n",
       "    .dataframe tbody tr th:only-of-type {\n",
       "        vertical-align: middle;\n",
       "    }\n",
       "\n",
       "    .dataframe tbody tr th {\n",
       "        vertical-align: top;\n",
       "    }\n",
       "\n",
       "    .dataframe thead tr th {\n",
       "        text-align: left;\n",
       "    }\n",
       "\n",
       "    .dataframe thead tr:last-of-type th {\n",
       "        text-align: right;\n",
       "    }\n",
       "</style>\n",
       "<table border=\"1\" class=\"dataframe\">\n",
       "  <thead>\n",
       "    <tr>\n",
       "      <th></th>\n",
       "      <th></th>\n",
       "      <th></th>\n",
       "      <th colspan=\"6\" halign=\"left\">Bias</th>\n",
       "      <th colspan=\"6\" halign=\"left\">RMSE relative Error</th>\n",
       "    </tr>\n",
       "    <tr>\n",
       "      <th></th>\n",
       "      <th></th>\n",
       "      <th>Run</th>\n",
       "      <th>Run1</th>\n",
       "      <th>Run2</th>\n",
       "      <th colspan=\"3\" halign=\"left\">Run3</th>\n",
       "      <th>Run4</th>\n",
       "      <th>Run1</th>\n",
       "      <th>Run2</th>\n",
       "      <th colspan=\"3\" halign=\"left\">Run3</th>\n",
       "      <th>Run4</th>\n",
       "    </tr>\n",
       "    <tr>\n",
       "      <th></th>\n",
       "      <th></th>\n",
       "      <th>Years</th>\n",
       "      <th>71-100</th>\n",
       "      <th>1-20</th>\n",
       "      <th>185-215</th>\n",
       "      <th>310-340</th>\n",
       "      <th>80-110</th>\n",
       "      <th>90-120</th>\n",
       "      <th>71-100</th>\n",
       "      <th>1-20</th>\n",
       "      <th>185-215</th>\n",
       "      <th>310-340</th>\n",
       "      <th>80-110</th>\n",
       "      <th>90-120</th>\n",
       "    </tr>\n",
       "    <tr>\n",
       "      <th>Variable</th>\n",
       "      <th>Description</th>\n",
       "      <th>Obs</th>\n",
       "      <th></th>\n",
       "      <th></th>\n",
       "      <th></th>\n",
       "      <th></th>\n",
       "      <th></th>\n",
       "      <th></th>\n",
       "      <th></th>\n",
       "      <th></th>\n",
       "      <th></th>\n",
       "      <th></th>\n",
       "      <th></th>\n",
       "      <th></th>\n",
       "    </tr>\n",
       "  </thead>\n",
       "  <tbody>\n",
       "    <tr>\n",
       "      <th>CLDTOT_CLOUDSAT</th>\n",
       "      <th></th>\n",
       "      <th>66.824</th>\n",
       "      <td>-3.203</td>\n",
       "      <td>1.762</td>\n",
       "      <td>1.720</td>\n",
       "      <td>1.411</td>\n",
       "      <td>2.133</td>\n",
       "      <td>3.923</td>\n",
       "      <td>-0.079172</td>\n",
       "      <td>-0.017569</td>\n",
       "      <td>0.030123</td>\n",
       "      <td>0.036369</td>\n",
       "      <td>0.030880</td>\n",
       "      <td>-0.000631</td>\n",
       "    </tr>\n",
       "    <tr>\n",
       "      <th>CLDTOT_ISCCP</th>\n",
       "      <th>Total cloud cover</th>\n",
       "      <th>66.800</th>\n",
       "      <td>-3.179</td>\n",
       "      <td>1.786</td>\n",
       "      <td>1.744</td>\n",
       "      <td>1.435</td>\n",
       "      <td>2.157</td>\n",
       "      <td>3.947</td>\n",
       "      <td>-0.089645</td>\n",
       "      <td>-0.044782</td>\n",
       "      <td>0.044541</td>\n",
       "      <td>0.051455</td>\n",
       "      <td>0.034652</td>\n",
       "      <td>0.003779</td>\n",
       "    </tr>\n",
       "    <tr>\n",
       "      <th>FLDS_ISCCP</th>\n",
       "      <th>LW down SRF</th>\n",
       "      <th>343.347</th>\n",
       "      <td>-5.066</td>\n",
       "      <td>-1.799</td>\n",
       "      <td>10.514</td>\n",
       "      <td>11.499</td>\n",
       "      <td>5.162</td>\n",
       "      <td>4.507</td>\n",
       "      <td>-0.100193</td>\n",
       "      <td>-0.044087</td>\n",
       "      <td>0.051809</td>\n",
       "      <td>0.099944</td>\n",
       "      <td>0.041161</td>\n",
       "      <td>-0.048633</td>\n",
       "    </tr>\n",
       "    <tr>\n",
       "      <th>PREH2O_ERAI</th>\n",
       "      <th></th>\n",
       "      <th>24.247</th>\n",
       "      <td>-0.273</td>\n",
       "      <td>0.191</td>\n",
       "      <td>3.844</td>\n",
       "      <td>4.138</td>\n",
       "      <td>2.624</td>\n",
       "      <td>1.486</td>\n",
       "      <td>-0.441220</td>\n",
       "      <td>-0.455730</td>\n",
       "      <td>0.432040</td>\n",
       "      <td>0.515546</td>\n",
       "      <td>0.157536</td>\n",
       "      <td>-0.208173</td>\n",
       "    </tr>\n",
       "    <tr>\n",
       "      <th>RESTOM</th>\n",
       "      <th>TOmodel net flux</th>\n",
       "      <th>0.000</th>\n",
       "      <td>-0.489</td>\n",
       "      <td>0.987</td>\n",
       "      <td>0.468</td>\n",
       "      <td>0.327</td>\n",
       "      <td>0.647</td>\n",
       "      <td>-0.075</td>\n",
       "      <td>NaN</td>\n",
       "      <td>NaN</td>\n",
       "      <td>NaN</td>\n",
       "      <td>NaN</td>\n",
       "      <td>NaN</td>\n",
       "      <td>NaN</td>\n",
       "    </tr>\n",
       "    <tr>\n",
       "      <th>SWCF_CERES-EBAF</th>\n",
       "      <th>SW Cloud Forc</th>\n",
       "      <th>-47.071</th>\n",
       "      <td>-1.252</td>\n",
       "      <td>1.774</td>\n",
       "      <td>1.266</td>\n",
       "      <td>1.466</td>\n",
       "      <td>1.083</td>\n",
       "      <td>-1.888</td>\n",
       "      <td>0.022955</td>\n",
       "      <td>-0.122700</td>\n",
       "      <td>0.035142</td>\n",
       "      <td>0.046636</td>\n",
       "      <td>0.029792</td>\n",
       "      <td>-0.011824</td>\n",
       "    </tr>\n",
       "    <tr>\n",
       "      <th>U_200_JRA25</th>\n",
       "      <th>Zonal Wind JRA25</th>\n",
       "      <th>15.565</th>\n",
       "      <td>1.006</td>\n",
       "      <td>1.825</td>\n",
       "      <td>3.209</td>\n",
       "      <td>3.218</td>\n",
       "      <td>3.340</td>\n",
       "      <td>2.304</td>\n",
       "      <td>-0.322835</td>\n",
       "      <td>-0.209790</td>\n",
       "      <td>0.200831</td>\n",
       "      <td>0.204710</td>\n",
       "      <td>0.201108</td>\n",
       "      <td>-0.074024</td>\n",
       "    </tr>\n",
       "    <tr>\n",
       "      <th>Z3_500_NCEP</th>\n",
       "      <th></th>\n",
       "      <th>56.581</th>\n",
       "      <td>-0.234</td>\n",
       "      <td>-0.070</td>\n",
       "      <td>0.298</td>\n",
       "      <td>0.336</td>\n",
       "      <td>0.133</td>\n",
       "      <td>0.005</td>\n",
       "      <td>-0.105442</td>\n",
       "      <td>-0.414966</td>\n",
       "      <td>0.329932</td>\n",
       "      <td>0.442177</td>\n",
       "      <td>0.112245</td>\n",
       "      <td>-0.363946</td>\n",
       "    </tr>\n",
       "  </tbody>\n",
       "</table>\n",
       "</div>"
      ],
      "text/plain": [
       "                                             Bias                         \\\n",
       "Run                                          Run1   Run2    Run3           \n",
       "Years                                      71-100   1-20 185-215 310-340   \n",
       "Variable        Description       Obs                                      \n",
       "CLDTOT_CLOUDSAT                    66.824  -3.203  1.762   1.720   1.411   \n",
       "CLDTOT_ISCCP    Total cloud cover  66.800  -3.179  1.786   1.744   1.435   \n",
       "FLDS_ISCCP      LW down SRF        343.347 -5.066 -1.799  10.514  11.499   \n",
       "PREH2O_ERAI                        24.247  -0.273  0.191   3.844   4.138   \n",
       "RESTOM          TOmodel net flux   0.000   -0.489  0.987   0.468   0.327   \n",
       "SWCF_CERES-EBAF SW Cloud Forc     -47.071  -1.252  1.774   1.266   1.466   \n",
       "U_200_JRA25     Zonal Wind JRA25   15.565   1.006  1.825   3.209   3.218   \n",
       "Z3_500_NCEP                        56.581  -0.234 -0.070   0.298   0.336   \n",
       "\n",
       "                                                         RMSE relative Error  \\\n",
       "Run                                                 Run4                Run1   \n",
       "Years                                      80-110 90-120              71-100   \n",
       "Variable        Description       Obs                                          \n",
       "CLDTOT_CLOUDSAT                    66.824   2.133  3.923           -0.079172   \n",
       "CLDTOT_ISCCP    Total cloud cover  66.800   2.157  3.947           -0.089645   \n",
       "FLDS_ISCCP      LW down SRF        343.347  5.162  4.507           -0.100193   \n",
       "PREH2O_ERAI                        24.247   2.624  1.486           -0.441220   \n",
       "RESTOM          TOmodel net flux   0.000    0.647 -0.075                 NaN   \n",
       "SWCF_CERES-EBAF SW Cloud Forc     -47.071   1.083 -1.888            0.022955   \n",
       "U_200_JRA25     Zonal Wind JRA25   15.565   3.340  2.304           -0.322835   \n",
       "Z3_500_NCEP                        56.581   0.133  0.005           -0.105442   \n",
       "\n",
       "                                                                          \\\n",
       "Run                                             Run2      Run3             \n",
       "Years                                           1-20   185-215   310-340   \n",
       "Variable        Description       Obs                                      \n",
       "CLDTOT_CLOUDSAT                    66.824  -0.017569  0.030123  0.036369   \n",
       "CLDTOT_ISCCP    Total cloud cover  66.800  -0.044782  0.044541  0.051455   \n",
       "FLDS_ISCCP      LW down SRF        343.347 -0.044087  0.051809  0.099944   \n",
       "PREH2O_ERAI                        24.247  -0.455730  0.432040  0.515546   \n",
       "RESTOM          TOmodel net flux   0.000         NaN       NaN       NaN   \n",
       "SWCF_CERES-EBAF SW Cloud Forc     -47.071  -0.122700  0.035142  0.046636   \n",
       "U_200_JRA25     Zonal Wind JRA25   15.565  -0.209790  0.200831  0.204710   \n",
       "Z3_500_NCEP                        56.581  -0.414966  0.329932  0.442177   \n",
       "\n",
       "                                                                \n",
       "Run                                                       Run4  \n",
       "Years                                         80-110    90-120  \n",
       "Variable        Description       Obs                           \n",
       "CLDTOT_CLOUDSAT                    66.824   0.030880 -0.000631  \n",
       "CLDTOT_ISCCP    Total cloud cover  66.800   0.034652  0.003779  \n",
       "FLDS_ISCCP      LW down SRF        343.347  0.041161 -0.048633  \n",
       "PREH2O_ERAI                        24.247   0.157536 -0.208173  \n",
       "RESTOM          TOmodel net flux   0.000         NaN       NaN  \n",
       "SWCF_CERES-EBAF SW Cloud Forc     -47.071   0.029792 -0.011824  \n",
       "U_200_JRA25     Zonal Wind JRA25   15.565   0.201108 -0.074024  \n",
       "Z3_500_NCEP                        56.581   0.112245 -0.363946  "
      ]
     },
     "execution_count": 30,
     "metadata": {},
     "output_type": "execute_result"
    }
   ],
   "source": [
    "result = pd.concat([bias, rmse_err_rel],axis=1, keys=[\"Bias\", \"RMSE relative Error\"])\n",
    "result"
   ]
  },
  {
   "cell_type": "markdown",
   "metadata": {
    "extensions": {
     "jupyter_dashboards": {
      "version": 1,
      "views": {
       "grid_default": {
        "col": 7,
        "height": 4,
        "hidden": false,
        "row": 98,
        "width": 4
       },
       "report_default": {
        "hidden": false
       }
      }
     }
    }
   },
   "source": [
    "Now save both tables as excel file."
   ]
  },
  {
   "cell_type": "code",
   "execution_count": 31,
   "metadata": {
    "extensions": {
     "jupyter_dashboards": {
      "version": 1,
      "views": {
       "grid_default": {
        "hidden": true
       },
       "report_default": {
        "hidden": true
       }
      }
     }
    }
   },
   "outputs": [],
   "source": [
    "writer = pd.ExcelWriter('{}/result.xlsx'.format(output_dir))\n",
    "result.to_excel(writer)\n",
    "writer.save()\n",
    "writer.close()"
   ]
  }
 ],
 "metadata": {
  "extensions": {
   "jupyter_dashboards": {
    "activeView": "grid_default",
    "version": 1,
    "views": {
     "grid_default": {
      "cellMargin": 10,
      "defaultCellHeight": 20,
      "maxColumns": 12,
      "name": "grid",
      "type": "grid"
     },
     "report_default": {
      "name": "report",
      "type": "report"
     }
    }
   }
  },
  "kernelspec": {
   "display_name": "Python 3",
   "language": "python",
   "name": "python3"
  },
  "language_info": {
   "codemirror_mode": {
    "name": "ipython",
    "version": 3
   },
   "file_extension": ".py",
   "mimetype": "text/x-python",
   "name": "python",
   "nbconvert_exporter": "python",
   "pygments_lexer": "ipython3",
   "version": "3.6.4"
  }
 },
 "nbformat": 4,
 "nbformat_minor": 2
}
