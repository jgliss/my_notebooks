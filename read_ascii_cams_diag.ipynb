{
 "cells": [
  {
   "cell_type": "markdown",
   "metadata": {
    "extensions": {
     "jupyter_dashboards": {
      "version": 1,
      "views": {
       "grid_default": {
        "col": 0,
        "height": 4,
        "hidden": false,
        "row": 8,
        "width": 4
       },
       "report_default": {
        "hidden": false
       }
      }
     }
    }
   },
   "source": [
    "## Reading of ASCII files created for cam diagnostics tool"
   ]
  },
  {
   "cell_type": "code",
   "execution_count": 1,
   "metadata": {
    "extensions": {
     "jupyter_dashboards": {
      "version": 1,
      "views": {
       "grid_default": {
        "hidden": true
       },
       "report_default": {
        "hidden": true
       }
      }
     }
    }
   },
   "outputs": [],
   "source": [
    "%matplotlib inline\n",
    "%load_ext autoreload\n",
    "%autoreload 2\n",
    "import pandas as pd\n",
    "from glob import glob\n",
    "import os\n",
    "import helper_funcs as helpers\n",
    "import ipywidgets as ipw"
   ]
  },
  {
   "cell_type": "markdown",
   "metadata": {
    "extensions": {
     "jupyter_dashboards": {
      "version": 1,
      "views": {
       "grid_default": {
        "col": 4,
        "height": 4,
        "hidden": false,
        "row": 0,
        "width": 4
       },
       "report_default": {
        "hidden": false
       }
      }
     }
    }
   },
   "source": [
    "### 1. Paths and global settings (GLOB)  \n",
    "\n",
    "Please change accordingly if you execute this notebook on your local machine."
   ]
  },
  {
   "cell_type": "markdown",
   "metadata": {
    "extensions": {
     "jupyter_dashboards": {
      "version": 1,
      "views": {
       "grid_default": {
        "col": 8,
        "height": 4,
        "hidden": false,
        "row": 0,
        "width": 4
       },
       "report_default": {
        "hidden": false
       }
      }
     }
    }
   },
   "source": [
    "#### 1.1. Paths (PATHS)\n",
    "\n",
    "Here you can specify your paths."
   ]
  },
  {
   "cell_type": "code",
   "execution_count": 2,
   "metadata": {
    "extensions": {
     "jupyter_dashboards": {
      "version": 1,
      "views": {
       "grid_default": {
        "hidden": true
       },
       "report_default": {
        "hidden": true
       }
      }
     }
    }
   },
   "outputs": [],
   "source": [
    "#folder with ascii files\n",
    "data_dir = \"./data/michael_ascii_read/\"\n",
    "file_type = \"webarchive\"\n",
    "\n",
    "# file containing additional information about variables (long names, can be interactively updated below)\n",
    "varinfo_csv = \"./data/var_info.csv\"\n",
    "\n",
    "# Config file for different groups\n",
    "vargroups_cfg = \"./data/varconfig.ini\"\n",
    "\n",
    "#directy to store results\n",
    "output_dir = \"./output/\""
   ]
  },
  {
   "cell_type": "markdown",
   "metadata": {
    "extensions": {
     "jupyter_dashboards": {
      "version": 1,
      "views": {
       "grid_default": {
        "col": 0,
        "height": 4,
        "hidden": false,
        "row": 12,
        "width": 4
       },
       "report_default": {
        "hidden": false
       }
      }
     }
    }
   },
   "source": [
    "#### Global settings (SETUP)\n",
    "\n",
    "In the following cells you can specify global default settings."
   ]
  },
  {
   "cell_type": "markdown",
   "metadata": {
    "extensions": {
     "jupyter_dashboards": {
      "version": 1,
      "views": {
       "grid_default": {
        "col": 0,
        "height": 4,
        "hidden": false,
        "row": 16,
        "width": 12
       },
       "report_default": {
        "hidden": false
       }
      }
     }
    }
   },
   "source": [
    "##### Define group of variables that you are interested in\n",
    "\n",
    "Default group of variables. Variable groups can be defined in [varconfig.ini](https://github.com/jgliss/my_notebooks/blob/master/data/varconfig.ini). Use ``[group_name]`` to define a new group and add below all variables that should belong to the group in the desired display order (should be self-explanatory when looking at the file, I hope)."
   ]
  },
  {
   "cell_type": "code",
   "execution_count": 3,
   "metadata": {
    "extensions": {
     "jupyter_dashboards": {
      "version": 1,
      "views": {
       "grid_default": {
        "hidden": true
       },
       "report_default": {
        "hidden": true
       }
      }
     }
    }
   },
   "outputs": [],
   "source": [
    "var_group = \"test\" #group_name (AS STRING, e.g. \"test\") from varconfig.ini (use None, if you want to use all)"
   ]
  },
  {
   "cell_type": "markdown",
   "metadata": {
    "extensions": {
     "jupyter_dashboards": {
      "version": 1,
      "views": {
       "grid_default": {
        "col": 0,
        "height": 4,
        "hidden": false,
        "row": 20,
        "width": 12
       },
       "report_default": {
        "hidden": false
       }
      }
     }
    }
   },
   "source": [
    "##### Add data columns to index\n",
    "\n",
    "Use the following list to specify table columns that should be added to the multiindex (Ada, here is where you can add \"Obs\")."
   ]
  },
  {
   "cell_type": "code",
   "execution_count": 4,
   "metadata": {
    "extensions": {
     "jupyter_dashboards": {
      "version": 1,
      "views": {
       "grid_default": {
        "hidden": true
       },
       "report_default": {
        "hidden": true
       }
      }
     }
    }
   },
   "outputs": [],
   "source": [
    "add_to_index = [\"Obs\"] #NEEDS TO BE A LIST, EVEN FOR ONLY ONE ITEM"
   ]
  },
  {
   "cell_type": "markdown",
   "metadata": {
    "extensions": {
     "jupyter_dashboards": {
      "version": 1,
      "views": {
       "grid_default": {
        "col": 0,
        "height": 5,
        "hidden": false,
        "row": 24,
        "width": 12
       },
       "report_default": {
        "hidden": false
       }
      }
     }
    }
   },
   "source": [
    "##### Define which parts of index should be unstacked\n",
    "\n",
    "The following list can be used to specify how the final lists are displayed. The items in the list need to be names of sub-indices in the the Multiindex of the originally loaded file (i.e. \"Run\", \"Years\", \"Variable\", \"Description\") or data columns that were added to index (previous option). \n",
    "\n",
    "All values specified here will be unstacked, i.e. put from the original row into a column index representation (makes table view wider)."
   ]
  },
  {
   "cell_type": "code",
   "execution_count": 5,
   "metadata": {
    "extensions": {
     "jupyter_dashboards": {
      "version": 1,
      "views": {
       "grid_default": {
        "hidden": true
       },
       "report_default": {
        "hidden": true
       }
      }
     }
    }
   },
   "outputs": [],
   "source": [
    "unstack_indices = [\"Run\", \"Years\"]"
   ]
  },
  {
   "cell_type": "markdown",
   "metadata": {
    "extensions": {
     "jupyter_dashboards": {
      "version": 1,
      "views": {
       "grid_default": {
        "col": 0,
        "height": 6,
        "hidden": false,
        "row": 29,
        "width": 12
       },
       "report_default": {
        "hidden": false
       }
      }
     }
    }
   },
   "source": [
    "### 2. Importing and editing supplementary information\n",
    "\n",
    "Let's begin with reading additional variable information from the file ``varinfo_csv``. Note that this is not strictly required but helps us below to display the results in a more intuitive manner, when analysing the data.\n",
    "\n",
    "Note that the following method makes sure the CSV file exists, i.e. if it has not been created before, the information is loaded from Michaels Excel table and then saved at ``varinfo_csv``."
   ]
  },
  {
   "cell_type": "code",
   "execution_count": 6,
   "metadata": {
    "extensions": {
     "jupyter_dashboards": {
      "version": 1,
      "views": {
       "grid_default": {
        "hidden": true
       },
       "report_default": {
        "hidden": true
       }
      }
     }
    }
   },
   "outputs": [],
   "source": [
    "var_info_dict = helpers.load_varinfo(varinfo_csv)"
   ]
  },
  {
   "cell_type": "markdown",
   "metadata": {
    "extensions": {
     "jupyter_dashboards": {
      "version": 1,
      "views": {
       "grid_default": {
        "col": 4,
        "height": 4,
        "hidden": false,
        "row": 4,
        "width": 4
       },
       "report_default": {
        "hidden": false
       }
      }
     }
    }
   },
   "source": [
    "The following cell opens an interactive widget that can be used to edit the information available for each variable (stored in file ``varinfo_csv``, see previous cell)."
   ]
  },
  {
   "cell_type": "code",
   "execution_count": 7,
   "metadata": {
    "extensions": {
     "jupyter_dashboards": {
      "version": 1,
      "views": {
       "grid_default": {
        "col": 0,
        "height": 5,
        "hidden": false,
        "row": 35,
        "width": 4
       },
       "report_default": {
        "hidden": false
       }
      }
     }
    }
   },
   "outputs": [
    {
     "data": {
      "application/vnd.jupyter.widget-view+json": {
       "model_id": "6c124fda0290405c94641ba769730f06",
       "version_major": 2,
       "version_minor": 0
      },
      "text/plain": [
       "HBox(children=(VBox(children=(HBox(children=(Label(value='RESTOM'), Text(value='TOmodel net flux', placeholder…"
      ]
     },
     "metadata": {},
     "output_type": "display_data"
    }
   ],
   "source": [
    "from my_widgets import EditDictCSV\n",
    "\n",
    "edit_config = EditDictCSV(varinfo_csv)\n",
    "#show\n",
    "edit_config()"
   ]
  },
  {
   "cell_type": "markdown",
   "metadata": {
    "extensions": {
     "jupyter_dashboards": {
      "version": 1,
      "views": {
       "grid_default": {
        "col": 8,
        "height": 4,
        "hidden": false,
        "row": 4,
        "width": 4
       },
       "report_default": {
        "hidden": false
       }
      }
     }
    }
   },
   "source": [
    "Now update to the current selection (run everything below if you change the previous cell)."
   ]
  },
  {
   "cell_type": "code",
   "execution_count": 8,
   "metadata": {
    "extensions": {
     "jupyter_dashboards": {
      "version": 1,
      "views": {
       "grid_default": {
        "hidden": true
       },
       "report_default": {
        "hidden": true
       }
      }
     }
    }
   },
   "outputs": [],
   "source": [
    "var_info_dict = edit_config.var_dict"
   ]
  },
  {
   "cell_type": "markdown",
   "metadata": {
    "extensions": {
     "jupyter_dashboards": {
      "version": 1,
      "views": {
       "grid_default": {
        "col": 0,
        "height": 4,
        "hidden": false,
        "row": 40,
        "width": 12
       },
       "report_default": {
        "hidden": false
       }
      }
     }
    }
   },
   "source": [
    "### 3. Search and load ASCII files, either using .asc or .webarchive file type (GET_FILES)\n",
    "\n",
    "The following cell finds all files in folder ``data_dir``."
   ]
  },
  {
   "cell_type": "code",
   "execution_count": 9,
   "metadata": {
    "extensions": {
     "jupyter_dashboards": {
      "version": 1,
      "views": {
       "grid_default": {
        "col": 0,
        "height": 8,
        "hidden": false,
        "row": 0,
        "width": 4
       },
       "report_default": {
        "hidden": false
       }
      }
     }
    }
   },
   "outputs": [
    {
     "name": "stdout",
     "output_type": "stream",
     "text": [
      "./data/michael_ascii_read/N1850C53CLM45L32_f09_tn11_191017 (yrs 71-100).webarchive\n",
      "./data/michael_ascii_read/N1850_f09_tn14_230218 (yrs 1-20).webarchive\n",
      "./data/michael_ascii_read/N1850_f19_tn14_r227_ctrl (yrs 185-215).webarchive\n",
      "./data/michael_ascii_read/N1850_f19_tn14_r227_ctrl (yrs 310-340).webarchive\n",
      "./data/michael_ascii_read/N1850_f19_tn14_r227_ctrl (yrs 80-110).webarchive\n",
      "./data/michael_ascii_read/N1850_f19_tn14_r265_ctrl_20180411 (yrs 90-120).webarchive\n"
     ]
    }
   ],
   "source": [
    "files = sorted(glob(data_dir + \"*.{}\".format(file_type)))\n",
    "for file in files:\n",
    "    print(file)    "
   ]
  },
  {
   "cell_type": "markdown",
   "metadata": {
    "extensions": {
     "jupyter_dashboards": {
      "version": 1,
      "views": {
       "grid_default": {
        "col": 0,
        "height": 4,
        "hidden": false,
        "row": 52,
        "width": 12
       },
       "report_default": {
        "hidden": false
       }
      }
     }
    }
   },
   "source": [
    "##### 3.1 Shortcuts for Run IDs (optional may also be changed interactively below)\n",
    "\n",
    "Define list of shortnames for model runs or define a prefix. If undefined (i.e. empty list and ``None``), the original names are used."
   ]
  },
  {
   "cell_type": "code",
   "execution_count": 10,
   "metadata": {
    "extensions": {
     "jupyter_dashboards": {
      "version": 1,
      "views": {
       "grid_default": {
        "hidden": true
       },
       "report_default": {
        "hidden": true
       }
      }
     }
    }
   },
   "outputs": [],
   "source": [
    "#either\n",
    "run_ids = list(\"ABCD\") #renames the first 4 runs\n",
    "#or\n",
    "run_id_prefix = \"Run\""
   ]
  },
  {
   "cell_type": "markdown",
   "metadata": {
    "extensions": {
     "jupyter_dashboards": {
      "version": 1,
      "views": {
       "grid_default": {
        "col": 0,
        "height": 5,
        "hidden": false,
        "row": 56,
        "width": 12
       },
       "report_default": {
        "hidden": false
       }
      }
     }
    }
   },
   "source": [
    "\n",
    "### 4. Importing multiple result files and concatenating them into one Dataframe (LOAD_FILES)\n",
    "\n",
    "In the following, we load all files into one `Dataframe`. \n",
    "\n",
    "To do this, a custom method `read_and_merge_all` was defined in [helper_funcs.py](https://github.com/jgliss/my_py3_scripts/blob/master/notebooks/helper_funcs.py). The method basically loops over all files and calls the method ``read_file_custom``, which you can also find in [helper_funcs.py](https://github.com/jgliss/my_py3_scripts/blob/master/notebooks/helper_funcs.py). "
   ]
  },
  {
   "cell_type": "code",
   "execution_count": 11,
   "metadata": {
    "extensions": {
     "jupyter_dashboards": {
      "version": 1,
      "views": {
       "grid_default": {
        "col": 0,
        "height": 12,
        "hidden": false,
        "row": 61,
        "width": 7
       },
       "report_default": {
        "hidden": false
       }
      }
     }
    }
   },
   "outputs": [
    {
     "name": "stderr",
     "output_type": "stream",
     "text": [
      "/home/jonasg/github/my_notebooks/helper_funcs.py:152: UserWarning: Pandas doesn't allow columns to be created via a new attribute name - see https://pandas.pydata.org/pandas-docs/stable/indexing.html#attribute-access\n",
      "  df.test_case = pd.Series(mapping)\n"
     ]
    },
    {
     "data": {
      "text/html": [
       "<div>\n",
       "<style scoped>\n",
       "    .dataframe tbody tr th:only-of-type {\n",
       "        vertical-align: middle;\n",
       "    }\n",
       "\n",
       "    .dataframe tbody tr th {\n",
       "        vertical-align: top;\n",
       "    }\n",
       "\n",
       "    .dataframe thead th {\n",
       "        text-align: right;\n",
       "    }\n",
       "</style>\n",
       "<table border=\"1\" class=\"dataframe\">\n",
       "  <thead>\n",
       "    <tr style=\"text-align: right;\">\n",
       "      <th></th>\n",
       "      <th></th>\n",
       "      <th></th>\n",
       "      <th></th>\n",
       "      <th>Flag</th>\n",
       "      <th>Model</th>\n",
       "      <th>Obs</th>\n",
       "      <th>Bias</th>\n",
       "      <th>RMSE</th>\n",
       "    </tr>\n",
       "    <tr>\n",
       "      <th>Run</th>\n",
       "      <th>Years</th>\n",
       "      <th>Variable</th>\n",
       "      <th>Description</th>\n",
       "      <th></th>\n",
       "      <th></th>\n",
       "      <th></th>\n",
       "      <th></th>\n",
       "      <th></th>\n",
       "    </tr>\n",
       "  </thead>\n",
       "  <tbody>\n",
       "    <tr>\n",
       "      <th rowspan=\"30\" valign=\"top\">Run1</th>\n",
       "      <th rowspan=\"30\" valign=\"top\">71-100</th>\n",
       "      <th>RESTOM</th>\n",
       "      <th>TOmodel net flux</th>\n",
       "      <td>1.0</td>\n",
       "      <td>-0.489</td>\n",
       "      <td>0.000</td>\n",
       "      <td>-0.489</td>\n",
       "      <td>NaN</td>\n",
       "    </tr>\n",
       "    <tr>\n",
       "      <th>RESSURF</th>\n",
       "      <th>SRF net flux</th>\n",
       "      <td>1.0</td>\n",
       "      <td>-0.489</td>\n",
       "      <td>0.000</td>\n",
       "      <td>-0.489</td>\n",
       "      <td>NaN</td>\n",
       "    </tr>\n",
       "    <tr>\n",
       "      <th>RESTOA_CERES-EBAF</th>\n",
       "      <th>TOA  net flux</th>\n",
       "      <td>1.0</td>\n",
       "      <td>1.529</td>\n",
       "      <td>0.992</td>\n",
       "      <td>0.537</td>\n",
       "      <td>8.842</td>\n",
       "    </tr>\n",
       "    <tr>\n",
       "      <th>RESTOA_ERBE</th>\n",
       "      <th></th>\n",
       "      <td>0.0</td>\n",
       "      <td>1.529</td>\n",
       "      <td>0.059</td>\n",
       "      <td>1.470</td>\n",
       "      <td>8.992</td>\n",
       "    </tr>\n",
       "    <tr>\n",
       "      <th>SOLIN_CERES-EBAF</th>\n",
       "      <th></th>\n",
       "      <td>0.0</td>\n",
       "      <td>340.206</td>\n",
       "      <td>340.054</td>\n",
       "      <td>0.152</td>\n",
       "      <td>0.167</td>\n",
       "    </tr>\n",
       "    <tr>\n",
       "      <th>SOLIN_CERES</th>\n",
       "      <th></th>\n",
       "      <td>0.0</td>\n",
       "      <td>340.206</td>\n",
       "      <td>341.479</td>\n",
       "      <td>-1.273</td>\n",
       "      <td>1.226</td>\n",
       "    </tr>\n",
       "    <tr>\n",
       "      <th>CLDTOT_ISCCP</th>\n",
       "      <th>Total cloud cover</th>\n",
       "      <td>1.0</td>\n",
       "      <td>63.621</td>\n",
       "      <td>66.800</td>\n",
       "      <td>-3.179</td>\n",
       "      <td>11.323</td>\n",
       "    </tr>\n",
       "    <tr>\n",
       "      <th>CLDTOT_CLOUDSAT</th>\n",
       "      <th></th>\n",
       "      <td>0.0</td>\n",
       "      <td>63.621</td>\n",
       "      <td>66.824</td>\n",
       "      <td>-3.203</td>\n",
       "      <td>9.731</td>\n",
       "    </tr>\n",
       "    <tr>\n",
       "      <th>FLDS_ISCCP</th>\n",
       "      <th>LW down SRF</th>\n",
       "      <td>1.0</td>\n",
       "      <td>338.280</td>\n",
       "      <td>343.347</td>\n",
       "      <td>-5.066</td>\n",
       "      <td>14.450</td>\n",
       "    </tr>\n",
       "    <tr>\n",
       "      <th>FLNS_ISCCP</th>\n",
       "      <th>LW net SRF</th>\n",
       "      <td>1.0</td>\n",
       "      <td>55.819</td>\n",
       "      <td>49.425</td>\n",
       "      <td>6.394</td>\n",
       "      <td>11.967</td>\n",
       "    </tr>\n",
       "    <tr>\n",
       "      <th>FLUT_CERES-EBAF</th>\n",
       "      <th>LW up Top</th>\n",
       "      <td>1.0</td>\n",
       "      <td>238.148</td>\n",
       "      <td>239.574</td>\n",
       "      <td>-1.426</td>\n",
       "      <td>6.855</td>\n",
       "    </tr>\n",
       "    <tr>\n",
       "      <th>FLUT_CERES</th>\n",
       "      <th></th>\n",
       "      <td>0.0</td>\n",
       "      <td>238.148</td>\n",
       "      <td>238.963</td>\n",
       "      <td>-0.815</td>\n",
       "      <td>6.770</td>\n",
       "    </tr>\n",
       "    <tr>\n",
       "      <th>FLUT_ERBE</th>\n",
       "      <th></th>\n",
       "      <td>0.0</td>\n",
       "      <td>238.148</td>\n",
       "      <td>233.946</td>\n",
       "      <td>4.202</td>\n",
       "      <td>7.887</td>\n",
       "    </tr>\n",
       "    <tr>\n",
       "      <th>FLUTC_CERES-EBAF</th>\n",
       "      <th>LW up Top Clearsky</th>\n",
       "      <td>1.0</td>\n",
       "      <td>261.783</td>\n",
       "      <td>266.051</td>\n",
       "      <td>-4.268</td>\n",
       "      <td>6.042</td>\n",
       "    </tr>\n",
       "    <tr>\n",
       "      <th>FLUTC_CERES</th>\n",
       "      <th></th>\n",
       "      <td>0.0</td>\n",
       "      <td>261.783</td>\n",
       "      <td>266.878</td>\n",
       "      <td>-5.096</td>\n",
       "      <td>8.384</td>\n",
       "    </tr>\n",
       "    <tr>\n",
       "      <th>FLUTC_ERBE</th>\n",
       "      <th></th>\n",
       "      <td>0.0</td>\n",
       "      <td>261.783</td>\n",
       "      <td>264.429</td>\n",
       "      <td>-2.646</td>\n",
       "      <td>5.725</td>\n",
       "    </tr>\n",
       "    <tr>\n",
       "      <th>FLNT_CAM</th>\n",
       "      <th></th>\n",
       "      <td>0.0</td>\n",
       "      <td>236.838</td>\n",
       "      <td>NaN</td>\n",
       "      <td>NaN</td>\n",
       "      <td>NaN</td>\n",
       "    </tr>\n",
       "    <tr>\n",
       "      <th>FSDS_ISCCP</th>\n",
       "      <th>SW down SRF</th>\n",
       "      <td>1.0</td>\n",
       "      <td>187.801</td>\n",
       "      <td>189.390</td>\n",
       "      <td>-1.589</td>\n",
       "      <td>13.380</td>\n",
       "    </tr>\n",
       "    <tr>\n",
       "      <th>FSNS_ISCCP</th>\n",
       "      <th>SW net SRF</th>\n",
       "      <td>1.0</td>\n",
       "      <td>163.679</td>\n",
       "      <td>165.893</td>\n",
       "      <td>-2.214</td>\n",
       "      <td>12.711</td>\n",
       "    </tr>\n",
       "    <tr>\n",
       "      <th>FSNS_LARYEA</th>\n",
       "      <th></th>\n",
       "      <td>0.0</td>\n",
       "      <td>163.679</td>\n",
       "      <td>154.089</td>\n",
       "      <td>9.590</td>\n",
       "      <td>36.124</td>\n",
       "    </tr>\n",
       "    <tr>\n",
       "      <th>FSNTOA_CERES-EBAF</th>\n",
       "      <th></th>\n",
       "      <td>0.0</td>\n",
       "      <td>239.677</td>\n",
       "      <td>240.566</td>\n",
       "      <td>-0.890</td>\n",
       "      <td>10.530</td>\n",
       "    </tr>\n",
       "    <tr>\n",
       "      <th>FSNTOA_CERES</th>\n",
       "      <th>SW net TOA</th>\n",
       "      <td>1.0</td>\n",
       "      <td>239.677</td>\n",
       "      <td>244.691</td>\n",
       "      <td>-5.015</td>\n",
       "      <td>12.307</td>\n",
       "    </tr>\n",
       "    <tr>\n",
       "      <th>FSNTOA_ERBE</th>\n",
       "      <th></th>\n",
       "      <td>0.0</td>\n",
       "      <td>239.677</td>\n",
       "      <td>234.004</td>\n",
       "      <td>5.672</td>\n",
       "      <td>12.491</td>\n",
       "    </tr>\n",
       "    <tr>\n",
       "      <th>FSNTOAC_CERES-EBAF</th>\n",
       "      <th></th>\n",
       "      <td>0.0</td>\n",
       "      <td>287.999</td>\n",
       "      <td>287.638</td>\n",
       "      <td>0.362</td>\n",
       "      <td>7.845</td>\n",
       "    </tr>\n",
       "    <tr>\n",
       "      <th>FSNTOAC_CERES</th>\n",
       "      <th>SW net TOA clearsky</th>\n",
       "      <td>1.0</td>\n",
       "      <td>287.999</td>\n",
       "      <td>294.702</td>\n",
       "      <td>-6.703</td>\n",
       "      <td>18.458</td>\n",
       "    </tr>\n",
       "    <tr>\n",
       "      <th>FSNTOAC_ERBE</th>\n",
       "      <th></th>\n",
       "      <td>0.0</td>\n",
       "      <td>287.999</td>\n",
       "      <td>289.329</td>\n",
       "      <td>-1.329</td>\n",
       "      <td>15.441</td>\n",
       "    </tr>\n",
       "    <tr>\n",
       "      <th>FSNT_CAM</th>\n",
       "      <th></th>\n",
       "      <td>0.0</td>\n",
       "      <td>236.348</td>\n",
       "      <td>NaN</td>\n",
       "      <td>NaN</td>\n",
       "      <td>NaN</td>\n",
       "    </tr>\n",
       "    <tr>\n",
       "      <th>LHFLX_JRA25</th>\n",
       "      <th>Lat Heat Flux</th>\n",
       "      <td>1.0</td>\n",
       "      <td>87.904</td>\n",
       "      <td>87.935</td>\n",
       "      <td>-0.031</td>\n",
       "      <td>17.176</td>\n",
       "    </tr>\n",
       "    <tr>\n",
       "      <th>LHFLX_ERA40</th>\n",
       "      <th></th>\n",
       "      <td>0.0</td>\n",
       "      <td>87.904</td>\n",
       "      <td>82.367</td>\n",
       "      <td>5.537</td>\n",
       "      <td>19.019</td>\n",
       "    </tr>\n",
       "    <tr>\n",
       "      <th>LHFLX_WHOI</th>\n",
       "      <th></th>\n",
       "      <td>0.0</td>\n",
       "      <td>87.904</td>\n",
       "      <td>89.083</td>\n",
       "      <td>-1.179</td>\n",
       "      <td>30.655</td>\n",
       "    </tr>\n",
       "    <tr>\n",
       "      <th>...</th>\n",
       "      <th>...</th>\n",
       "      <th>...</th>\n",
       "      <th>...</th>\n",
       "      <td>...</td>\n",
       "      <td>...</td>\n",
       "      <td>...</td>\n",
       "      <td>...</td>\n",
       "      <td>...</td>\n",
       "    </tr>\n",
       "    <tr>\n",
       "      <th rowspan=\"30\" valign=\"top\">Run4</th>\n",
       "      <th rowspan=\"30\" valign=\"top\">90-120</th>\n",
       "      <th>PRECT_GPCP</th>\n",
       "      <th>Precipitation</th>\n",
       "      <td>1.0</td>\n",
       "      <td>2.918</td>\n",
       "      <td>2.674</td>\n",
       "      <td>0.244</td>\n",
       "      <td>0.975</td>\n",
       "    </tr>\n",
       "    <tr>\n",
       "      <th>PREH2O_NVAP</th>\n",
       "      <th></th>\n",
       "      <td>0.0</td>\n",
       "      <td>25.733</td>\n",
       "      <td>24.597</td>\n",
       "      <td>1.136</td>\n",
       "      <td>2.867</td>\n",
       "    </tr>\n",
       "    <tr>\n",
       "      <th>PREH2O_AIRS</th>\n",
       "      <th></th>\n",
       "      <td>0.0</td>\n",
       "      <td>25.733</td>\n",
       "      <td>20.425</td>\n",
       "      <td>5.308</td>\n",
       "      <td>6.216</td>\n",
       "    </tr>\n",
       "    <tr>\n",
       "      <th>PREH2O_JRA25</th>\n",
       "      <th></th>\n",
       "      <td>0.0</td>\n",
       "      <td>25.733</td>\n",
       "      <td>20.425</td>\n",
       "      <td>5.308</td>\n",
       "      <td>6.216</td>\n",
       "    </tr>\n",
       "    <tr>\n",
       "      <th>PREH2O_ERAI</th>\n",
       "      <th></th>\n",
       "      <td>0.0</td>\n",
       "      <td>25.733</td>\n",
       "      <td>24.247</td>\n",
       "      <td>1.486</td>\n",
       "      <td>2.674</td>\n",
       "    </tr>\n",
       "    <tr>\n",
       "      <th>PREH2O_ERA40</th>\n",
       "      <th>Precipitable water</th>\n",
       "      <td>1.0</td>\n",
       "      <td>25.733</td>\n",
       "      <td>24.948</td>\n",
       "      <td>0.785</td>\n",
       "      <td>2.373</td>\n",
       "    </tr>\n",
       "    <tr>\n",
       "      <th>PSL_JRA25</th>\n",
       "      <th>SeaLev pressure</th>\n",
       "      <td>1.0</td>\n",
       "      <td>1011.614</td>\n",
       "      <td>1011.280</td>\n",
       "      <td>0.335</td>\n",
       "      <td>1.695</td>\n",
       "    </tr>\n",
       "    <tr>\n",
       "      <th>PSL_ERAI</th>\n",
       "      <th></th>\n",
       "      <td>0.0</td>\n",
       "      <td>1011.614</td>\n",
       "      <td>1011.362</td>\n",
       "      <td>0.252</td>\n",
       "      <td>1.669</td>\n",
       "    </tr>\n",
       "    <tr>\n",
       "      <th>SHFLX_JRA25</th>\n",
       "      <th>Sens Heat Flux</th>\n",
       "      <td>1.0</td>\n",
       "      <td>22.229</td>\n",
       "      <td>19.372</td>\n",
       "      <td>2.857</td>\n",
       "      <td>11.202</td>\n",
       "    </tr>\n",
       "    <tr>\n",
       "      <th>SHFLX_NCEP</th>\n",
       "      <th></th>\n",
       "      <td>0.0</td>\n",
       "      <td>22.229</td>\n",
       "      <td>15.795</td>\n",
       "      <td>6.434</td>\n",
       "      <td>14.963</td>\n",
       "    </tr>\n",
       "    <tr>\n",
       "      <th>SHFLX_LARYEA</th>\n",
       "      <th></th>\n",
       "      <td>0.0</td>\n",
       "      <td>22.229</td>\n",
       "      <td>13.236</td>\n",
       "      <td>8.993</td>\n",
       "      <td>12.064</td>\n",
       "    </tr>\n",
       "    <tr>\n",
       "      <th>STRESS_MAG_ERS</th>\n",
       "      <th></th>\n",
       "      <td>0.0</td>\n",
       "      <td>0.063</td>\n",
       "      <td>0.064</td>\n",
       "      <td>-0.001</td>\n",
       "      <td>0.018</td>\n",
       "    </tr>\n",
       "    <tr>\n",
       "      <th>STRESS_MAG_LARYEA</th>\n",
       "      <th></th>\n",
       "      <td>0.0</td>\n",
       "      <td>0.063</td>\n",
       "      <td>0.071</td>\n",
       "      <td>-0.008</td>\n",
       "      <td>0.019</td>\n",
       "    </tr>\n",
       "    <tr>\n",
       "      <th>STRESS_MAG_JRA25</th>\n",
       "      <th></th>\n",
       "      <td>0.0</td>\n",
       "      <td>0.063</td>\n",
       "      <td>0.080</td>\n",
       "      <td>-0.017</td>\n",
       "      <td>0.021</td>\n",
       "    </tr>\n",
       "    <tr>\n",
       "      <th>SWCF_CERES-EBAF</th>\n",
       "      <th>SW Cloud Forc</th>\n",
       "      <td>1.0</td>\n",
       "      <td>-48.959</td>\n",
       "      <td>-47.071</td>\n",
       "      <td>-1.888</td>\n",
       "      <td>9.973</td>\n",
       "    </tr>\n",
       "    <tr>\n",
       "      <th>SWCF_CERES</th>\n",
       "      <th></th>\n",
       "      <td>0.0</td>\n",
       "      <td>-48.959</td>\n",
       "      <td>-48.586</td>\n",
       "      <td>-0.373</td>\n",
       "      <td>15.210</td>\n",
       "    </tr>\n",
       "    <tr>\n",
       "      <th>SWCF_ERBE</th>\n",
       "      <th></th>\n",
       "      <td>0.0</td>\n",
       "      <td>-48.959</td>\n",
       "      <td>-54.163</td>\n",
       "      <td>5.204</td>\n",
       "      <td>14.753</td>\n",
       "    </tr>\n",
       "    <tr>\n",
       "      <th>AODVIS</th>\n",
       "      <th></th>\n",
       "      <td>0.0</td>\n",
       "      <td>NaN</td>\n",
       "      <td>NaN</td>\n",
       "      <td>NaN</td>\n",
       "      <td>NaN</td>\n",
       "    </tr>\n",
       "    <tr>\n",
       "      <th>AODDUST</th>\n",
       "      <th></th>\n",
       "      <td>0.0</td>\n",
       "      <td>NaN</td>\n",
       "      <td>NaN</td>\n",
       "      <td>NaN</td>\n",
       "      <td>NaN</td>\n",
       "    </tr>\n",
       "    <tr>\n",
       "      <th>SST_HADISST</th>\n",
       "      <th></th>\n",
       "      <td>0.0</td>\n",
       "      <td>21.405</td>\n",
       "      <td>20.393</td>\n",
       "      <td>1.012</td>\n",
       "      <td>1.430</td>\n",
       "    </tr>\n",
       "    <tr>\n",
       "      <th>SST_HADISST_PI</th>\n",
       "      <th>SST preindustrial</th>\n",
       "      <td>1.0</td>\n",
       "      <td>21.726</td>\n",
       "      <td>20.368</td>\n",
       "      <td>1.358</td>\n",
       "      <td>1.732</td>\n",
       "    </tr>\n",
       "    <tr>\n",
       "      <th>SST_HADISST_PD</th>\n",
       "      <th></th>\n",
       "      <td>0.0</td>\n",
       "      <td>21.396</td>\n",
       "      <td>20.497</td>\n",
       "      <td>0.899</td>\n",
       "      <td>1.411</td>\n",
       "    </tr>\n",
       "    <tr>\n",
       "      <th>TREFHT_LEGATES</th>\n",
       "      <th></th>\n",
       "      <td>0.0</td>\n",
       "      <td>287.949</td>\n",
       "      <td>287.645</td>\n",
       "      <td>0.304</td>\n",
       "      <td>3.436</td>\n",
       "    </tr>\n",
       "    <tr>\n",
       "      <th>TREFHT_JRA25</th>\n",
       "      <th>2m Temp</th>\n",
       "      <td>1.0</td>\n",
       "      <td>287.949</td>\n",
       "      <td>287.605</td>\n",
       "      <td>0.344</td>\n",
       "      <td>2.147</td>\n",
       "    </tr>\n",
       "    <tr>\n",
       "      <th>TS_NCEP</th>\n",
       "      <th>2m Temp</th>\n",
       "      <td>1.0</td>\n",
       "      <td>289.201</td>\n",
       "      <td>287.683</td>\n",
       "      <td>1.518</td>\n",
       "      <td>2.663</td>\n",
       "    </tr>\n",
       "    <tr>\n",
       "      <th>TS_LAND_NCEP</th>\n",
       "      <th>2m Temp land</th>\n",
       "      <td>1.0</td>\n",
       "      <td>283.308</td>\n",
       "      <td>281.155</td>\n",
       "      <td>2.153</td>\n",
       "      <td>3.944</td>\n",
       "    </tr>\n",
       "    <tr>\n",
       "      <th>U_200_JRA25</th>\n",
       "      <th>Zonal Wind JRA25</th>\n",
       "      <td>1.0</td>\n",
       "      <td>17.869</td>\n",
       "      <td>15.565</td>\n",
       "      <td>2.304</td>\n",
       "      <td>3.342</td>\n",
       "    </tr>\n",
       "    <tr>\n",
       "      <th>U_200_NCEP</th>\n",
       "      <th></th>\n",
       "      <td>0.0</td>\n",
       "      <td>17.869</td>\n",
       "      <td>15.297</td>\n",
       "      <td>2.573</td>\n",
       "      <td>3.542</td>\n",
       "    </tr>\n",
       "    <tr>\n",
       "      <th>Z3_500_JRA25</th>\n",
       "      <th>Geop Height  JRA25</th>\n",
       "      <td>1.0</td>\n",
       "      <td>56.586</td>\n",
       "      <td>56.601</td>\n",
       "      <td>-0.014</td>\n",
       "      <td>0.199</td>\n",
       "    </tr>\n",
       "    <tr>\n",
       "      <th>Z3_500_NCEP</th>\n",
       "      <th></th>\n",
       "      <td>0.0</td>\n",
       "      <td>56.586</td>\n",
       "      <td>56.581</td>\n",
       "      <td>0.005</td>\n",
       "      <td>0.187</td>\n",
       "    </tr>\n",
       "  </tbody>\n",
       "</table>\n",
       "<p>378 rows × 5 columns</p>\n",
       "</div>"
      ],
      "text/plain": [
       "                                                    Flag     Model       Obs  \\\n",
       "Run  Years  Variable           Description                                     \n",
       "Run1 71-100 RESTOM             TOmodel net flux      1.0    -0.489     0.000   \n",
       "            RESSURF            SRF net flux          1.0    -0.489     0.000   \n",
       "            RESTOA_CERES-EBAF  TOA  net flux         1.0     1.529     0.992   \n",
       "            RESTOA_ERBE                              0.0     1.529     0.059   \n",
       "            SOLIN_CERES-EBAF                         0.0   340.206   340.054   \n",
       "            SOLIN_CERES                              0.0   340.206   341.479   \n",
       "            CLDTOT_ISCCP       Total cloud cover     1.0    63.621    66.800   \n",
       "            CLDTOT_CLOUDSAT                          0.0    63.621    66.824   \n",
       "            FLDS_ISCCP         LW down SRF           1.0   338.280   343.347   \n",
       "            FLNS_ISCCP         LW net SRF            1.0    55.819    49.425   \n",
       "            FLUT_CERES-EBAF    LW up Top             1.0   238.148   239.574   \n",
       "            FLUT_CERES                               0.0   238.148   238.963   \n",
       "            FLUT_ERBE                                0.0   238.148   233.946   \n",
       "            FLUTC_CERES-EBAF   LW up Top Clearsky    1.0   261.783   266.051   \n",
       "            FLUTC_CERES                              0.0   261.783   266.878   \n",
       "            FLUTC_ERBE                               0.0   261.783   264.429   \n",
       "            FLNT_CAM                                 0.0   236.838       NaN   \n",
       "            FSDS_ISCCP         SW down SRF           1.0   187.801   189.390   \n",
       "            FSNS_ISCCP         SW net SRF            1.0   163.679   165.893   \n",
       "            FSNS_LARYEA                              0.0   163.679   154.089   \n",
       "            FSNTOA_CERES-EBAF                        0.0   239.677   240.566   \n",
       "            FSNTOA_CERES       SW net TOA            1.0   239.677   244.691   \n",
       "            FSNTOA_ERBE                              0.0   239.677   234.004   \n",
       "            FSNTOAC_CERES-EBAF                       0.0   287.999   287.638   \n",
       "            FSNTOAC_CERES      SW net TOA clearsky   1.0   287.999   294.702   \n",
       "            FSNTOAC_ERBE                             0.0   287.999   289.329   \n",
       "            FSNT_CAM                                 0.0   236.348       NaN   \n",
       "            LHFLX_JRA25        Lat Heat Flux         1.0    87.904    87.935   \n",
       "            LHFLX_ERA40                              0.0    87.904    82.367   \n",
       "            LHFLX_WHOI                               0.0    87.904    89.083   \n",
       "...                                                  ...       ...       ...   \n",
       "Run4 90-120 PRECT_GPCP         Precipitation         1.0     2.918     2.674   \n",
       "            PREH2O_NVAP                              0.0    25.733    24.597   \n",
       "            PREH2O_AIRS                              0.0    25.733    20.425   \n",
       "            PREH2O_JRA25                             0.0    25.733    20.425   \n",
       "            PREH2O_ERAI                              0.0    25.733    24.247   \n",
       "            PREH2O_ERA40       Precipitable water    1.0    25.733    24.948   \n",
       "            PSL_JRA25          SeaLev pressure       1.0  1011.614  1011.280   \n",
       "            PSL_ERAI                                 0.0  1011.614  1011.362   \n",
       "            SHFLX_JRA25        Sens Heat Flux        1.0    22.229    19.372   \n",
       "            SHFLX_NCEP                               0.0    22.229    15.795   \n",
       "            SHFLX_LARYEA                             0.0    22.229    13.236   \n",
       "            STRESS_MAG_ERS                           0.0     0.063     0.064   \n",
       "            STRESS_MAG_LARYEA                        0.0     0.063     0.071   \n",
       "            STRESS_MAG_JRA25                         0.0     0.063     0.080   \n",
       "            SWCF_CERES-EBAF    SW Cloud Forc         1.0   -48.959   -47.071   \n",
       "            SWCF_CERES                               0.0   -48.959   -48.586   \n",
       "            SWCF_ERBE                                0.0   -48.959   -54.163   \n",
       "            AODVIS                                   0.0       NaN       NaN   \n",
       "            AODDUST                                  0.0       NaN       NaN   \n",
       "            SST_HADISST                              0.0    21.405    20.393   \n",
       "            SST_HADISST_PI     SST preindustrial     1.0    21.726    20.368   \n",
       "            SST_HADISST_PD                           0.0    21.396    20.497   \n",
       "            TREFHT_LEGATES                           0.0   287.949   287.645   \n",
       "            TREFHT_JRA25       2m Temp               1.0   287.949   287.605   \n",
       "            TS_NCEP            2m Temp               1.0   289.201   287.683   \n",
       "            TS_LAND_NCEP       2m Temp land          1.0   283.308   281.155   \n",
       "            U_200_JRA25        Zonal Wind JRA25      1.0    17.869    15.565   \n",
       "            U_200_NCEP                               0.0    17.869    15.297   \n",
       "            Z3_500_JRA25       Geop Height  JRA25    1.0    56.586    56.601   \n",
       "            Z3_500_NCEP                              0.0    56.586    56.581   \n",
       "\n",
       "                                                     Bias    RMSE  \n",
       "Run  Years  Variable           Description                         \n",
       "Run1 71-100 RESTOM             TOmodel net flux    -0.489     NaN  \n",
       "            RESSURF            SRF net flux        -0.489     NaN  \n",
       "            RESTOA_CERES-EBAF  TOA  net flux        0.537   8.842  \n",
       "            RESTOA_ERBE                             1.470   8.992  \n",
       "            SOLIN_CERES-EBAF                        0.152   0.167  \n",
       "            SOLIN_CERES                            -1.273   1.226  \n",
       "            CLDTOT_ISCCP       Total cloud cover   -3.179  11.323  \n",
       "            CLDTOT_CLOUDSAT                        -3.203   9.731  \n",
       "            FLDS_ISCCP         LW down SRF         -5.066  14.450  \n",
       "            FLNS_ISCCP         LW net SRF           6.394  11.967  \n",
       "            FLUT_CERES-EBAF    LW up Top           -1.426   6.855  \n",
       "            FLUT_CERES                             -0.815   6.770  \n",
       "            FLUT_ERBE                               4.202   7.887  \n",
       "            FLUTC_CERES-EBAF   LW up Top Clearsky  -4.268   6.042  \n",
       "            FLUTC_CERES                            -5.096   8.384  \n",
       "            FLUTC_ERBE                             -2.646   5.725  \n",
       "            FLNT_CAM                                  NaN     NaN  \n",
       "            FSDS_ISCCP         SW down SRF         -1.589  13.380  \n",
       "            FSNS_ISCCP         SW net SRF          -2.214  12.711  \n",
       "            FSNS_LARYEA                             9.590  36.124  \n",
       "            FSNTOA_CERES-EBAF                      -0.890  10.530  \n",
       "            FSNTOA_CERES       SW net TOA          -5.015  12.307  \n",
       "            FSNTOA_ERBE                             5.672  12.491  \n",
       "            FSNTOAC_CERES-EBAF                      0.362   7.845  \n",
       "            FSNTOAC_CERES      SW net TOA clearsky -6.703  18.458  \n",
       "            FSNTOAC_ERBE                           -1.329  15.441  \n",
       "            FSNT_CAM                                  NaN     NaN  \n",
       "            LHFLX_JRA25        Lat Heat Flux       -0.031  17.176  \n",
       "            LHFLX_ERA40                             5.537  19.019  \n",
       "            LHFLX_WHOI                             -1.179  30.655  \n",
       "...                                                   ...     ...  \n",
       "Run4 90-120 PRECT_GPCP         Precipitation        0.244   0.975  \n",
       "            PREH2O_NVAP                             1.136   2.867  \n",
       "            PREH2O_AIRS                             5.308   6.216  \n",
       "            PREH2O_JRA25                            5.308   6.216  \n",
       "            PREH2O_ERAI                             1.486   2.674  \n",
       "            PREH2O_ERA40       Precipitable water   0.785   2.373  \n",
       "            PSL_JRA25          SeaLev pressure      0.335   1.695  \n",
       "            PSL_ERAI                                0.252   1.669  \n",
       "            SHFLX_JRA25        Sens Heat Flux       2.857  11.202  \n",
       "            SHFLX_NCEP                              6.434  14.963  \n",
       "            SHFLX_LARYEA                            8.993  12.064  \n",
       "            STRESS_MAG_ERS                         -0.001   0.018  \n",
       "            STRESS_MAG_LARYEA                      -0.008   0.019  \n",
       "            STRESS_MAG_JRA25                       -0.017   0.021  \n",
       "            SWCF_CERES-EBAF    SW Cloud Forc       -1.888   9.973  \n",
       "            SWCF_CERES                             -0.373  15.210  \n",
       "            SWCF_ERBE                               5.204  14.753  \n",
       "            AODVIS                                    NaN     NaN  \n",
       "            AODDUST                                   NaN     NaN  \n",
       "            SST_HADISST                             1.012   1.430  \n",
       "            SST_HADISST_PI     SST preindustrial    1.358   1.732  \n",
       "            SST_HADISST_PD                          0.899   1.411  \n",
       "            TREFHT_LEGATES                          0.304   3.436  \n",
       "            TREFHT_JRA25       2m Temp              0.344   2.147  \n",
       "            TS_NCEP            2m Temp              1.518   2.663  \n",
       "            TS_LAND_NCEP       2m Temp land         2.153   3.944  \n",
       "            U_200_JRA25        Zonal Wind JRA25     2.304   3.342  \n",
       "            U_200_NCEP                              2.573   3.542  \n",
       "            Z3_500_JRA25       Geop Height  JRA25  -0.014   0.199  \n",
       "            Z3_500_NCEP                             0.005   0.187  \n",
       "\n",
       "[378 rows x 5 columns]"
      ]
     },
     "execution_count": 11,
     "metadata": {},
     "output_type": "execute_result"
    }
   ],
   "source": [
    "merged = helpers.read_and_merge_all(file_list=files, var_info_dict=var_info_dict, replace_runid_prefix=run_id_prefix)\n",
    "merged"
   ]
  },
  {
   "cell_type": "markdown",
   "metadata": {
    "extensions": {
     "jupyter_dashboards": {
      "version": 1,
      "views": {
       "grid_default": {
        "col": 0,
        "height": 4,
        "hidden": false,
        "row": 73,
        "width": 12
       },
       "report_default": {
        "hidden": false
       }
      }
     }
    }
   },
   "source": [
    "### 5. Rearranging and restructuring of the imported data (REARRANGE)"
   ]
  },
  {
   "cell_type": "markdown",
   "metadata": {
    "extensions": {
     "jupyter_dashboards": {
      "version": 1,
      "views": {
       "grid_default": {
        "col": 11,
        "height": 6,
        "hidden": false,
        "row": 61,
        "width": null
       },
       "report_default": {
        "hidden": false
       }
      }
     }
    }
   },
   "source": [
    "#### 5.1 Computing RMSE relative error (GET_RMSE_REL)\n",
    "\n",
    "In the following we extract the subset containing the *RSME* information of the flagged variables for all runs in order to compute the relative error for each run based on the average *RMSE* of all runs:\n",
    "\n",
    "$$\\frac{RMSE_{Run}\\,-\\,\\overline{RMSE_{All\\,Runs}}}{\\overline{RMSE_{All\\,Runs}}}$$\n"
   ]
  },
  {
   "cell_type": "code",
   "execution_count": 12,
   "metadata": {
    "extensions": {
     "jupyter_dashboards": {
      "version": 1,
      "views": {
       "grid_default": {
        "col": 0,
        "height": 12,
        "hidden": false,
        "row": 61,
        "width": 7
       },
       "report_default": {
        "hidden": false
       }
      }
     }
    }
   },
   "outputs": [
    {
     "data": {
      "text/html": [
       "<div>\n",
       "<style scoped>\n",
       "    .dataframe tbody tr th:only-of-type {\n",
       "        vertical-align: middle;\n",
       "    }\n",
       "\n",
       "    .dataframe tbody tr th {\n",
       "        vertical-align: top;\n",
       "    }\n",
       "\n",
       "    .dataframe thead th {\n",
       "        text-align: right;\n",
       "    }\n",
       "</style>\n",
       "<table border=\"1\" class=\"dataframe\">\n",
       "  <thead>\n",
       "    <tr style=\"text-align: right;\">\n",
       "      <th></th>\n",
       "      <th></th>\n",
       "      <th></th>\n",
       "      <th></th>\n",
       "      <th>Flag</th>\n",
       "      <th>Model</th>\n",
       "      <th>Obs</th>\n",
       "      <th>Bias</th>\n",
       "      <th>RMSE</th>\n",
       "      <th>RMSE_ERR</th>\n",
       "    </tr>\n",
       "    <tr>\n",
       "      <th>Run</th>\n",
       "      <th>Years</th>\n",
       "      <th>Variable</th>\n",
       "      <th>Description</th>\n",
       "      <th></th>\n",
       "      <th></th>\n",
       "      <th></th>\n",
       "      <th></th>\n",
       "      <th></th>\n",
       "      <th></th>\n",
       "    </tr>\n",
       "  </thead>\n",
       "  <tbody>\n",
       "    <tr>\n",
       "      <th rowspan=\"30\" valign=\"top\">Run1</th>\n",
       "      <th rowspan=\"30\" valign=\"top\">71-100</th>\n",
       "      <th>RESTOM</th>\n",
       "      <th>TOmodel net flux</th>\n",
       "      <td>1.0</td>\n",
       "      <td>-0.489</td>\n",
       "      <td>0.000</td>\n",
       "      <td>-0.489</td>\n",
       "      <td>NaN</td>\n",
       "      <td>NaN</td>\n",
       "    </tr>\n",
       "    <tr>\n",
       "      <th>RESSURF</th>\n",
       "      <th>SRF net flux</th>\n",
       "      <td>1.0</td>\n",
       "      <td>-0.489</td>\n",
       "      <td>0.000</td>\n",
       "      <td>-0.489</td>\n",
       "      <td>NaN</td>\n",
       "      <td>NaN</td>\n",
       "    </tr>\n",
       "    <tr>\n",
       "      <th>RESTOA_CERES-EBAF</th>\n",
       "      <th>TOA  net flux</th>\n",
       "      <td>1.0</td>\n",
       "      <td>1.529</td>\n",
       "      <td>0.992</td>\n",
       "      <td>0.537</td>\n",
       "      <td>8.842</td>\n",
       "      <td>-0.014764</td>\n",
       "    </tr>\n",
       "    <tr>\n",
       "      <th>RESTOA_ERBE</th>\n",
       "      <th></th>\n",
       "      <td>0.0</td>\n",
       "      <td>1.529</td>\n",
       "      <td>0.059</td>\n",
       "      <td>1.470</td>\n",
       "      <td>8.992</td>\n",
       "      <td>0.007827</td>\n",
       "    </tr>\n",
       "    <tr>\n",
       "      <th>SOLIN_CERES-EBAF</th>\n",
       "      <th></th>\n",
       "      <td>0.0</td>\n",
       "      <td>340.206</td>\n",
       "      <td>340.054</td>\n",
       "      <td>0.152</td>\n",
       "      <td>0.167</td>\n",
       "      <td>-0.552279</td>\n",
       "    </tr>\n",
       "    <tr>\n",
       "      <th>SOLIN_CERES</th>\n",
       "      <th></th>\n",
       "      <td>0.0</td>\n",
       "      <td>340.206</td>\n",
       "      <td>341.479</td>\n",
       "      <td>-1.273</td>\n",
       "      <td>1.226</td>\n",
       "      <td>-0.044551</td>\n",
       "    </tr>\n",
       "    <tr>\n",
       "      <th>CLDTOT_ISCCP</th>\n",
       "      <th>Total cloud cover</th>\n",
       "      <td>1.0</td>\n",
       "      <td>63.621</td>\n",
       "      <td>66.800</td>\n",
       "      <td>-3.179</td>\n",
       "      <td>11.323</td>\n",
       "      <td>-0.089645</td>\n",
       "    </tr>\n",
       "    <tr>\n",
       "      <th>CLDTOT_CLOUDSAT</th>\n",
       "      <th></th>\n",
       "      <td>0.0</td>\n",
       "      <td>63.621</td>\n",
       "      <td>66.824</td>\n",
       "      <td>-3.203</td>\n",
       "      <td>9.731</td>\n",
       "      <td>-0.079172</td>\n",
       "    </tr>\n",
       "    <tr>\n",
       "      <th>FLDS_ISCCP</th>\n",
       "      <th>LW down SRF</th>\n",
       "      <td>1.0</td>\n",
       "      <td>338.280</td>\n",
       "      <td>343.347</td>\n",
       "      <td>-5.066</td>\n",
       "      <td>14.450</td>\n",
       "      <td>-0.100193</td>\n",
       "    </tr>\n",
       "    <tr>\n",
       "      <th>FLNS_ISCCP</th>\n",
       "      <th>LW net SRF</th>\n",
       "      <td>1.0</td>\n",
       "      <td>55.819</td>\n",
       "      <td>49.425</td>\n",
       "      <td>6.394</td>\n",
       "      <td>11.967</td>\n",
       "      <td>-0.142110</td>\n",
       "    </tr>\n",
       "    <tr>\n",
       "      <th>FLUT_CERES-EBAF</th>\n",
       "      <th>LW up Top</th>\n",
       "      <td>1.0</td>\n",
       "      <td>238.148</td>\n",
       "      <td>239.574</td>\n",
       "      <td>-1.426</td>\n",
       "      <td>6.855</td>\n",
       "      <td>-0.015463</td>\n",
       "    </tr>\n",
       "    <tr>\n",
       "      <th>FLUT_CERES</th>\n",
       "      <th></th>\n",
       "      <td>0.0</td>\n",
       "      <td>238.148</td>\n",
       "      <td>238.963</td>\n",
       "      <td>-0.815</td>\n",
       "      <td>6.770</td>\n",
       "      <td>-0.040691</td>\n",
       "    </tr>\n",
       "    <tr>\n",
       "      <th>FLUT_ERBE</th>\n",
       "      <th></th>\n",
       "      <td>0.0</td>\n",
       "      <td>238.148</td>\n",
       "      <td>233.946</td>\n",
       "      <td>4.202</td>\n",
       "      <td>7.887</td>\n",
       "      <td>-0.165029</td>\n",
       "    </tr>\n",
       "    <tr>\n",
       "      <th>FLUTC_CERES-EBAF</th>\n",
       "      <th>LW up Top Clearsky</th>\n",
       "      <td>1.0</td>\n",
       "      <td>261.783</td>\n",
       "      <td>266.051</td>\n",
       "      <td>-4.268</td>\n",
       "      <td>6.042</td>\n",
       "      <td>0.182079</td>\n",
       "    </tr>\n",
       "    <tr>\n",
       "      <th>FLUTC_CERES</th>\n",
       "      <th></th>\n",
       "      <td>0.0</td>\n",
       "      <td>261.783</td>\n",
       "      <td>266.878</td>\n",
       "      <td>-5.096</td>\n",
       "      <td>8.384</td>\n",
       "      <td>0.216483</td>\n",
       "    </tr>\n",
       "    <tr>\n",
       "      <th>FLUTC_ERBE</th>\n",
       "      <th></th>\n",
       "      <td>0.0</td>\n",
       "      <td>261.783</td>\n",
       "      <td>264.429</td>\n",
       "      <td>-2.646</td>\n",
       "      <td>5.725</td>\n",
       "      <td>0.040090</td>\n",
       "    </tr>\n",
       "    <tr>\n",
       "      <th>FLNT_CAM</th>\n",
       "      <th></th>\n",
       "      <td>0.0</td>\n",
       "      <td>236.838</td>\n",
       "      <td>NaN</td>\n",
       "      <td>NaN</td>\n",
       "      <td>NaN</td>\n",
       "      <td>NaN</td>\n",
       "    </tr>\n",
       "    <tr>\n",
       "      <th>FSDS_ISCCP</th>\n",
       "      <th>SW down SRF</th>\n",
       "      <td>1.0</td>\n",
       "      <td>187.801</td>\n",
       "      <td>189.390</td>\n",
       "      <td>-1.589</td>\n",
       "      <td>13.380</td>\n",
       "      <td>-0.126774</td>\n",
       "    </tr>\n",
       "    <tr>\n",
       "      <th>FSNS_ISCCP</th>\n",
       "      <th>SW net SRF</th>\n",
       "      <td>1.0</td>\n",
       "      <td>163.679</td>\n",
       "      <td>165.893</td>\n",
       "      <td>-2.214</td>\n",
       "      <td>12.711</td>\n",
       "      <td>-0.039834</td>\n",
       "    </tr>\n",
       "    <tr>\n",
       "      <th>FSNS_LARYEA</th>\n",
       "      <th></th>\n",
       "      <td>0.0</td>\n",
       "      <td>163.679</td>\n",
       "      <td>154.089</td>\n",
       "      <td>9.590</td>\n",
       "      <td>36.124</td>\n",
       "      <td>-0.068945</td>\n",
       "    </tr>\n",
       "    <tr>\n",
       "      <th>FSNTOA_CERES-EBAF</th>\n",
       "      <th></th>\n",
       "      <td>0.0</td>\n",
       "      <td>239.677</td>\n",
       "      <td>240.566</td>\n",
       "      <td>-0.890</td>\n",
       "      <td>10.530</td>\n",
       "      <td>-0.074394</td>\n",
       "    </tr>\n",
       "    <tr>\n",
       "      <th>FSNTOA_CERES</th>\n",
       "      <th>SW net TOA</th>\n",
       "      <td>1.0</td>\n",
       "      <td>239.677</td>\n",
       "      <td>244.691</td>\n",
       "      <td>-5.015</td>\n",
       "      <td>12.307</td>\n",
       "      <td>0.020650</td>\n",
       "    </tr>\n",
       "    <tr>\n",
       "      <th>FSNTOA_ERBE</th>\n",
       "      <th></th>\n",
       "      <td>0.0</td>\n",
       "      <td>239.677</td>\n",
       "      <td>234.004</td>\n",
       "      <td>5.672</td>\n",
       "      <td>12.491</td>\n",
       "      <td>-0.136079</td>\n",
       "    </tr>\n",
       "    <tr>\n",
       "      <th>FSNTOAC_CERES-EBAF</th>\n",
       "      <th></th>\n",
       "      <td>0.0</td>\n",
       "      <td>287.999</td>\n",
       "      <td>287.638</td>\n",
       "      <td>0.362</td>\n",
       "      <td>7.845</td>\n",
       "      <td>0.031445</td>\n",
       "    </tr>\n",
       "    <tr>\n",
       "      <th>FSNTOAC_CERES</th>\n",
       "      <th>SW net TOA clearsky</th>\n",
       "      <td>1.0</td>\n",
       "      <td>287.999</td>\n",
       "      <td>294.702</td>\n",
       "      <td>-6.703</td>\n",
       "      <td>18.458</td>\n",
       "      <td>0.068048</td>\n",
       "    </tr>\n",
       "    <tr>\n",
       "      <th>FSNTOAC_ERBE</th>\n",
       "      <th></th>\n",
       "      <td>0.0</td>\n",
       "      <td>287.999</td>\n",
       "      <td>289.329</td>\n",
       "      <td>-1.329</td>\n",
       "      <td>15.441</td>\n",
       "      <td>0.062296</td>\n",
       "    </tr>\n",
       "    <tr>\n",
       "      <th>FSNT_CAM</th>\n",
       "      <th></th>\n",
       "      <td>0.0</td>\n",
       "      <td>236.348</td>\n",
       "      <td>NaN</td>\n",
       "      <td>NaN</td>\n",
       "      <td>NaN</td>\n",
       "      <td>NaN</td>\n",
       "    </tr>\n",
       "    <tr>\n",
       "      <th>LHFLX_JRA25</th>\n",
       "      <th>Lat Heat Flux</th>\n",
       "      <td>1.0</td>\n",
       "      <td>87.904</td>\n",
       "      <td>87.935</td>\n",
       "      <td>-0.031</td>\n",
       "      <td>17.176</td>\n",
       "      <td>0.113433</td>\n",
       "    </tr>\n",
       "    <tr>\n",
       "      <th>LHFLX_ERA40</th>\n",
       "      <th></th>\n",
       "      <td>0.0</td>\n",
       "      <td>87.904</td>\n",
       "      <td>82.367</td>\n",
       "      <td>5.537</td>\n",
       "      <td>19.019</td>\n",
       "      <td>0.118863</td>\n",
       "    </tr>\n",
       "    <tr>\n",
       "      <th>LHFLX_WHOI</th>\n",
       "      <th></th>\n",
       "      <td>0.0</td>\n",
       "      <td>87.904</td>\n",
       "      <td>89.083</td>\n",
       "      <td>-1.179</td>\n",
       "      <td>30.655</td>\n",
       "      <td>0.112482</td>\n",
       "    </tr>\n",
       "    <tr>\n",
       "      <th>...</th>\n",
       "      <th>...</th>\n",
       "      <th>...</th>\n",
       "      <th>...</th>\n",
       "      <td>...</td>\n",
       "      <td>...</td>\n",
       "      <td>...</td>\n",
       "      <td>...</td>\n",
       "      <td>...</td>\n",
       "      <td>...</td>\n",
       "    </tr>\n",
       "    <tr>\n",
       "      <th rowspan=\"30\" valign=\"top\">Run4</th>\n",
       "      <th rowspan=\"30\" valign=\"top\">90-120</th>\n",
       "      <th>PRECT_GPCP</th>\n",
       "      <th>Precipitation</th>\n",
       "      <td>1.0</td>\n",
       "      <td>2.918</td>\n",
       "      <td>2.674</td>\n",
       "      <td>0.244</td>\n",
       "      <td>0.975</td>\n",
       "      <td>-0.055690</td>\n",
       "    </tr>\n",
       "    <tr>\n",
       "      <th>PREH2O_NVAP</th>\n",
       "      <th></th>\n",
       "      <td>0.0</td>\n",
       "      <td>25.733</td>\n",
       "      <td>24.597</td>\n",
       "      <td>1.136</td>\n",
       "      <td>2.867</td>\n",
       "      <td>-0.207938</td>\n",
       "    </tr>\n",
       "    <tr>\n",
       "      <th>PREH2O_AIRS</th>\n",
       "      <th></th>\n",
       "      <td>0.0</td>\n",
       "      <td>25.733</td>\n",
       "      <td>20.425</td>\n",
       "      <td>5.308</td>\n",
       "      <td>6.216</td>\n",
       "      <td>-0.100673</td>\n",
       "    </tr>\n",
       "    <tr>\n",
       "      <th>PREH2O_JRA25</th>\n",
       "      <th></th>\n",
       "      <td>0.0</td>\n",
       "      <td>25.733</td>\n",
       "      <td>20.425</td>\n",
       "      <td>5.308</td>\n",
       "      <td>6.216</td>\n",
       "      <td>-0.100673</td>\n",
       "    </tr>\n",
       "    <tr>\n",
       "      <th>PREH2O_ERAI</th>\n",
       "      <th></th>\n",
       "      <td>0.0</td>\n",
       "      <td>25.733</td>\n",
       "      <td>24.247</td>\n",
       "      <td>1.486</td>\n",
       "      <td>2.674</td>\n",
       "      <td>-0.208173</td>\n",
       "    </tr>\n",
       "    <tr>\n",
       "      <th>PREH2O_ERA40</th>\n",
       "      <th>Precipitable water</th>\n",
       "      <td>1.0</td>\n",
       "      <td>25.733</td>\n",
       "      <td>24.948</td>\n",
       "      <td>0.785</td>\n",
       "      <td>2.373</td>\n",
       "      <td>-0.225101</td>\n",
       "    </tr>\n",
       "    <tr>\n",
       "      <th>PSL_JRA25</th>\n",
       "      <th>SeaLev pressure</th>\n",
       "      <td>1.0</td>\n",
       "      <td>1011.614</td>\n",
       "      <td>1011.280</td>\n",
       "      <td>0.335</td>\n",
       "      <td>1.695</td>\n",
       "      <td>-0.007224</td>\n",
       "    </tr>\n",
       "    <tr>\n",
       "      <th>PSL_ERAI</th>\n",
       "      <th></th>\n",
       "      <td>0.0</td>\n",
       "      <td>1011.614</td>\n",
       "      <td>1011.362</td>\n",
       "      <td>0.252</td>\n",
       "      <td>1.669</td>\n",
       "      <td>-0.062711</td>\n",
       "    </tr>\n",
       "    <tr>\n",
       "      <th>SHFLX_JRA25</th>\n",
       "      <th>Sens Heat Flux</th>\n",
       "      <td>1.0</td>\n",
       "      <td>22.229</td>\n",
       "      <td>19.372</td>\n",
       "      <td>2.857</td>\n",
       "      <td>11.202</td>\n",
       "      <td>-0.020647</td>\n",
       "    </tr>\n",
       "    <tr>\n",
       "      <th>SHFLX_NCEP</th>\n",
       "      <th></th>\n",
       "      <td>0.0</td>\n",
       "      <td>22.229</td>\n",
       "      <td>15.795</td>\n",
       "      <td>6.434</td>\n",
       "      <td>14.963</td>\n",
       "      <td>-0.025836</td>\n",
       "    </tr>\n",
       "    <tr>\n",
       "      <th>SHFLX_LARYEA</th>\n",
       "      <th></th>\n",
       "      <td>0.0</td>\n",
       "      <td>22.229</td>\n",
       "      <td>13.236</td>\n",
       "      <td>8.993</td>\n",
       "      <td>12.064</td>\n",
       "      <td>-0.036640</td>\n",
       "    </tr>\n",
       "    <tr>\n",
       "      <th>STRESS_MAG_ERS</th>\n",
       "      <th></th>\n",
       "      <td>0.0</td>\n",
       "      <td>0.063</td>\n",
       "      <td>0.064</td>\n",
       "      <td>-0.001</td>\n",
       "      <td>0.018</td>\n",
       "      <td>-0.076923</td>\n",
       "    </tr>\n",
       "    <tr>\n",
       "      <th>STRESS_MAG_LARYEA</th>\n",
       "      <th></th>\n",
       "      <td>0.0</td>\n",
       "      <td>0.063</td>\n",
       "      <td>0.071</td>\n",
       "      <td>-0.008</td>\n",
       "      <td>0.019</td>\n",
       "      <td>-0.042017</td>\n",
       "    </tr>\n",
       "    <tr>\n",
       "      <th>STRESS_MAG_JRA25</th>\n",
       "      <th></th>\n",
       "      <td>0.0</td>\n",
       "      <td>0.063</td>\n",
       "      <td>0.080</td>\n",
       "      <td>-0.017</td>\n",
       "      <td>0.021</td>\n",
       "      <td>-0.015625</td>\n",
       "    </tr>\n",
       "    <tr>\n",
       "      <th>SWCF_CERES-EBAF</th>\n",
       "      <th>SW Cloud Forc</th>\n",
       "      <td>1.0</td>\n",
       "      <td>-48.959</td>\n",
       "      <td>-47.071</td>\n",
       "      <td>-1.888</td>\n",
       "      <td>9.973</td>\n",
       "      <td>-0.011824</td>\n",
       "    </tr>\n",
       "    <tr>\n",
       "      <th>SWCF_CERES</th>\n",
       "      <th></th>\n",
       "      <td>0.0</td>\n",
       "      <td>-48.959</td>\n",
       "      <td>-48.586</td>\n",
       "      <td>-0.373</td>\n",
       "      <td>15.210</td>\n",
       "      <td>0.034858</td>\n",
       "    </tr>\n",
       "    <tr>\n",
       "      <th>SWCF_ERBE</th>\n",
       "      <th></th>\n",
       "      <td>0.0</td>\n",
       "      <td>-48.959</td>\n",
       "      <td>-54.163</td>\n",
       "      <td>5.204</td>\n",
       "      <td>14.753</td>\n",
       "      <td>-0.061594</td>\n",
       "    </tr>\n",
       "    <tr>\n",
       "      <th>AODVIS</th>\n",
       "      <th></th>\n",
       "      <td>0.0</td>\n",
       "      <td>NaN</td>\n",
       "      <td>NaN</td>\n",
       "      <td>NaN</td>\n",
       "      <td>NaN</td>\n",
       "      <td>NaN</td>\n",
       "    </tr>\n",
       "    <tr>\n",
       "      <th>AODDUST</th>\n",
       "      <th></th>\n",
       "      <td>0.0</td>\n",
       "      <td>NaN</td>\n",
       "      <td>NaN</td>\n",
       "      <td>NaN</td>\n",
       "      <td>NaN</td>\n",
       "      <td>NaN</td>\n",
       "    </tr>\n",
       "    <tr>\n",
       "      <th>SST_HADISST</th>\n",
       "      <th></th>\n",
       "      <td>0.0</td>\n",
       "      <td>21.405</td>\n",
       "      <td>20.393</td>\n",
       "      <td>1.012</td>\n",
       "      <td>1.430</td>\n",
       "      <td>-0.110604</td>\n",
       "    </tr>\n",
       "    <tr>\n",
       "      <th>SST_HADISST_PI</th>\n",
       "      <th>SST preindustrial</th>\n",
       "      <td>1.0</td>\n",
       "      <td>21.726</td>\n",
       "      <td>20.368</td>\n",
       "      <td>1.358</td>\n",
       "      <td>1.732</td>\n",
       "      <td>-0.073219</td>\n",
       "    </tr>\n",
       "    <tr>\n",
       "      <th>SST_HADISST_PD</th>\n",
       "      <th></th>\n",
       "      <td>0.0</td>\n",
       "      <td>21.396</td>\n",
       "      <td>20.497</td>\n",
       "      <td>0.899</td>\n",
       "      <td>1.411</td>\n",
       "      <td>-0.117941</td>\n",
       "    </tr>\n",
       "    <tr>\n",
       "      <th>TREFHT_LEGATES</th>\n",
       "      <th></th>\n",
       "      <td>0.0</td>\n",
       "      <td>287.949</td>\n",
       "      <td>287.645</td>\n",
       "      <td>0.304</td>\n",
       "      <td>3.436</td>\n",
       "      <td>-0.054572</td>\n",
       "    </tr>\n",
       "    <tr>\n",
       "      <th>TREFHT_JRA25</th>\n",
       "      <th>2m Temp</th>\n",
       "      <td>1.0</td>\n",
       "      <td>287.949</td>\n",
       "      <td>287.605</td>\n",
       "      <td>0.344</td>\n",
       "      <td>2.147</td>\n",
       "      <td>-0.096317</td>\n",
       "    </tr>\n",
       "    <tr>\n",
       "      <th>TS_NCEP</th>\n",
       "      <th>2m Temp</th>\n",
       "      <td>1.0</td>\n",
       "      <td>289.201</td>\n",
       "      <td>287.683</td>\n",
       "      <td>1.518</td>\n",
       "      <td>2.663</td>\n",
       "      <td>-0.053884</td>\n",
       "    </tr>\n",
       "    <tr>\n",
       "      <th>TS_LAND_NCEP</th>\n",
       "      <th>2m Temp land</th>\n",
       "      <td>1.0</td>\n",
       "      <td>283.308</td>\n",
       "      <td>281.155</td>\n",
       "      <td>2.153</td>\n",
       "      <td>3.944</td>\n",
       "      <td>-0.026333</td>\n",
       "    </tr>\n",
       "    <tr>\n",
       "      <th>U_200_JRA25</th>\n",
       "      <th>Zonal Wind JRA25</th>\n",
       "      <td>1.0</td>\n",
       "      <td>17.869</td>\n",
       "      <td>15.565</td>\n",
       "      <td>2.304</td>\n",
       "      <td>3.342</td>\n",
       "      <td>-0.074024</td>\n",
       "    </tr>\n",
       "    <tr>\n",
       "      <th>U_200_NCEP</th>\n",
       "      <th></th>\n",
       "      <td>0.0</td>\n",
       "      <td>17.869</td>\n",
       "      <td>15.297</td>\n",
       "      <td>2.573</td>\n",
       "      <td>3.542</td>\n",
       "      <td>-0.061888</td>\n",
       "    </tr>\n",
       "    <tr>\n",
       "      <th>Z3_500_JRA25</th>\n",
       "      <th>Geop Height  JRA25</th>\n",
       "      <td>1.0</td>\n",
       "      <td>56.586</td>\n",
       "      <td>56.601</td>\n",
       "      <td>-0.014</td>\n",
       "      <td>0.199</td>\n",
       "      <td>-0.343956</td>\n",
       "    </tr>\n",
       "    <tr>\n",
       "      <th>Z3_500_NCEP</th>\n",
       "      <th></th>\n",
       "      <td>0.0</td>\n",
       "      <td>56.586</td>\n",
       "      <td>56.581</td>\n",
       "      <td>0.005</td>\n",
       "      <td>0.187</td>\n",
       "      <td>-0.363946</td>\n",
       "    </tr>\n",
       "  </tbody>\n",
       "</table>\n",
       "<p>378 rows × 6 columns</p>\n",
       "</div>"
      ],
      "text/plain": [
       "                                                    Flag     Model       Obs  \\\n",
       "Run  Years  Variable           Description                                     \n",
       "Run1 71-100 RESTOM             TOmodel net flux      1.0    -0.489     0.000   \n",
       "            RESSURF            SRF net flux          1.0    -0.489     0.000   \n",
       "            RESTOA_CERES-EBAF  TOA  net flux         1.0     1.529     0.992   \n",
       "            RESTOA_ERBE                              0.0     1.529     0.059   \n",
       "            SOLIN_CERES-EBAF                         0.0   340.206   340.054   \n",
       "            SOLIN_CERES                              0.0   340.206   341.479   \n",
       "            CLDTOT_ISCCP       Total cloud cover     1.0    63.621    66.800   \n",
       "            CLDTOT_CLOUDSAT                          0.0    63.621    66.824   \n",
       "            FLDS_ISCCP         LW down SRF           1.0   338.280   343.347   \n",
       "            FLNS_ISCCP         LW net SRF            1.0    55.819    49.425   \n",
       "            FLUT_CERES-EBAF    LW up Top             1.0   238.148   239.574   \n",
       "            FLUT_CERES                               0.0   238.148   238.963   \n",
       "            FLUT_ERBE                                0.0   238.148   233.946   \n",
       "            FLUTC_CERES-EBAF   LW up Top Clearsky    1.0   261.783   266.051   \n",
       "            FLUTC_CERES                              0.0   261.783   266.878   \n",
       "            FLUTC_ERBE                               0.0   261.783   264.429   \n",
       "            FLNT_CAM                                 0.0   236.838       NaN   \n",
       "            FSDS_ISCCP         SW down SRF           1.0   187.801   189.390   \n",
       "            FSNS_ISCCP         SW net SRF            1.0   163.679   165.893   \n",
       "            FSNS_LARYEA                              0.0   163.679   154.089   \n",
       "            FSNTOA_CERES-EBAF                        0.0   239.677   240.566   \n",
       "            FSNTOA_CERES       SW net TOA            1.0   239.677   244.691   \n",
       "            FSNTOA_ERBE                              0.0   239.677   234.004   \n",
       "            FSNTOAC_CERES-EBAF                       0.0   287.999   287.638   \n",
       "            FSNTOAC_CERES      SW net TOA clearsky   1.0   287.999   294.702   \n",
       "            FSNTOAC_ERBE                             0.0   287.999   289.329   \n",
       "            FSNT_CAM                                 0.0   236.348       NaN   \n",
       "            LHFLX_JRA25        Lat Heat Flux         1.0    87.904    87.935   \n",
       "            LHFLX_ERA40                              0.0    87.904    82.367   \n",
       "            LHFLX_WHOI                               0.0    87.904    89.083   \n",
       "...                                                  ...       ...       ...   \n",
       "Run4 90-120 PRECT_GPCP         Precipitation         1.0     2.918     2.674   \n",
       "            PREH2O_NVAP                              0.0    25.733    24.597   \n",
       "            PREH2O_AIRS                              0.0    25.733    20.425   \n",
       "            PREH2O_JRA25                             0.0    25.733    20.425   \n",
       "            PREH2O_ERAI                              0.0    25.733    24.247   \n",
       "            PREH2O_ERA40       Precipitable water    1.0    25.733    24.948   \n",
       "            PSL_JRA25          SeaLev pressure       1.0  1011.614  1011.280   \n",
       "            PSL_ERAI                                 0.0  1011.614  1011.362   \n",
       "            SHFLX_JRA25        Sens Heat Flux        1.0    22.229    19.372   \n",
       "            SHFLX_NCEP                               0.0    22.229    15.795   \n",
       "            SHFLX_LARYEA                             0.0    22.229    13.236   \n",
       "            STRESS_MAG_ERS                           0.0     0.063     0.064   \n",
       "            STRESS_MAG_LARYEA                        0.0     0.063     0.071   \n",
       "            STRESS_MAG_JRA25                         0.0     0.063     0.080   \n",
       "            SWCF_CERES-EBAF    SW Cloud Forc         1.0   -48.959   -47.071   \n",
       "            SWCF_CERES                               0.0   -48.959   -48.586   \n",
       "            SWCF_ERBE                                0.0   -48.959   -54.163   \n",
       "            AODVIS                                   0.0       NaN       NaN   \n",
       "            AODDUST                                  0.0       NaN       NaN   \n",
       "            SST_HADISST                              0.0    21.405    20.393   \n",
       "            SST_HADISST_PI     SST preindustrial     1.0    21.726    20.368   \n",
       "            SST_HADISST_PD                           0.0    21.396    20.497   \n",
       "            TREFHT_LEGATES                           0.0   287.949   287.645   \n",
       "            TREFHT_JRA25       2m Temp               1.0   287.949   287.605   \n",
       "            TS_NCEP            2m Temp               1.0   289.201   287.683   \n",
       "            TS_LAND_NCEP       2m Temp land          1.0   283.308   281.155   \n",
       "            U_200_JRA25        Zonal Wind JRA25      1.0    17.869    15.565   \n",
       "            U_200_NCEP                               0.0    17.869    15.297   \n",
       "            Z3_500_JRA25       Geop Height  JRA25    1.0    56.586    56.601   \n",
       "            Z3_500_NCEP                              0.0    56.586    56.581   \n",
       "\n",
       "                                                     Bias    RMSE  RMSE_ERR  \n",
       "Run  Years  Variable           Description                                   \n",
       "Run1 71-100 RESTOM             TOmodel net flux    -0.489     NaN       NaN  \n",
       "            RESSURF            SRF net flux        -0.489     NaN       NaN  \n",
       "            RESTOA_CERES-EBAF  TOA  net flux        0.537   8.842 -0.014764  \n",
       "            RESTOA_ERBE                             1.470   8.992  0.007827  \n",
       "            SOLIN_CERES-EBAF                        0.152   0.167 -0.552279  \n",
       "            SOLIN_CERES                            -1.273   1.226 -0.044551  \n",
       "            CLDTOT_ISCCP       Total cloud cover   -3.179  11.323 -0.089645  \n",
       "            CLDTOT_CLOUDSAT                        -3.203   9.731 -0.079172  \n",
       "            FLDS_ISCCP         LW down SRF         -5.066  14.450 -0.100193  \n",
       "            FLNS_ISCCP         LW net SRF           6.394  11.967 -0.142110  \n",
       "            FLUT_CERES-EBAF    LW up Top           -1.426   6.855 -0.015463  \n",
       "            FLUT_CERES                             -0.815   6.770 -0.040691  \n",
       "            FLUT_ERBE                               4.202   7.887 -0.165029  \n",
       "            FLUTC_CERES-EBAF   LW up Top Clearsky  -4.268   6.042  0.182079  \n",
       "            FLUTC_CERES                            -5.096   8.384  0.216483  \n",
       "            FLUTC_ERBE                             -2.646   5.725  0.040090  \n",
       "            FLNT_CAM                                  NaN     NaN       NaN  \n",
       "            FSDS_ISCCP         SW down SRF         -1.589  13.380 -0.126774  \n",
       "            FSNS_ISCCP         SW net SRF          -2.214  12.711 -0.039834  \n",
       "            FSNS_LARYEA                             9.590  36.124 -0.068945  \n",
       "            FSNTOA_CERES-EBAF                      -0.890  10.530 -0.074394  \n",
       "            FSNTOA_CERES       SW net TOA          -5.015  12.307  0.020650  \n",
       "            FSNTOA_ERBE                             5.672  12.491 -0.136079  \n",
       "            FSNTOAC_CERES-EBAF                      0.362   7.845  0.031445  \n",
       "            FSNTOAC_CERES      SW net TOA clearsky -6.703  18.458  0.068048  \n",
       "            FSNTOAC_ERBE                           -1.329  15.441  0.062296  \n",
       "            FSNT_CAM                                  NaN     NaN       NaN  \n",
       "            LHFLX_JRA25        Lat Heat Flux       -0.031  17.176  0.113433  \n",
       "            LHFLX_ERA40                             5.537  19.019  0.118863  \n",
       "            LHFLX_WHOI                             -1.179  30.655  0.112482  \n",
       "...                                                   ...     ...       ...  \n",
       "Run4 90-120 PRECT_GPCP         Precipitation        0.244   0.975 -0.055690  \n",
       "            PREH2O_NVAP                             1.136   2.867 -0.207938  \n",
       "            PREH2O_AIRS                             5.308   6.216 -0.100673  \n",
       "            PREH2O_JRA25                            5.308   6.216 -0.100673  \n",
       "            PREH2O_ERAI                             1.486   2.674 -0.208173  \n",
       "            PREH2O_ERA40       Precipitable water   0.785   2.373 -0.225101  \n",
       "            PSL_JRA25          SeaLev pressure      0.335   1.695 -0.007224  \n",
       "            PSL_ERAI                                0.252   1.669 -0.062711  \n",
       "            SHFLX_JRA25        Sens Heat Flux       2.857  11.202 -0.020647  \n",
       "            SHFLX_NCEP                              6.434  14.963 -0.025836  \n",
       "            SHFLX_LARYEA                            8.993  12.064 -0.036640  \n",
       "            STRESS_MAG_ERS                         -0.001   0.018 -0.076923  \n",
       "            STRESS_MAG_LARYEA                      -0.008   0.019 -0.042017  \n",
       "            STRESS_MAG_JRA25                       -0.017   0.021 -0.015625  \n",
       "            SWCF_CERES-EBAF    SW Cloud Forc       -1.888   9.973 -0.011824  \n",
       "            SWCF_CERES                             -0.373  15.210  0.034858  \n",
       "            SWCF_ERBE                               5.204  14.753 -0.061594  \n",
       "            AODVIS                                    NaN     NaN       NaN  \n",
       "            AODDUST                                   NaN     NaN       NaN  \n",
       "            SST_HADISST                             1.012   1.430 -0.110604  \n",
       "            SST_HADISST_PI     SST preindustrial    1.358   1.732 -0.073219  \n",
       "            SST_HADISST_PD                          0.899   1.411 -0.117941  \n",
       "            TREFHT_LEGATES                          0.304   3.436 -0.054572  \n",
       "            TREFHT_JRA25       2m Temp              0.344   2.147 -0.096317  \n",
       "            TS_NCEP            2m Temp              1.518   2.663 -0.053884  \n",
       "            TS_LAND_NCEP       2m Temp land         2.153   3.944 -0.026333  \n",
       "            U_200_JRA25        Zonal Wind JRA25     2.304   3.342 -0.074024  \n",
       "            U_200_NCEP                              2.573   3.542 -0.061888  \n",
       "            Z3_500_JRA25       Geop Height  JRA25  -0.014   0.199 -0.343956  \n",
       "            Z3_500_NCEP                             0.005   0.187 -0.363946  \n",
       "\n",
       "[378 rows x 6 columns]"
      ]
     },
     "execution_count": 12,
     "metadata": {},
     "output_type": "execute_result"
    }
   ],
   "source": [
    "merged = helpers.calc_and_add_relerror(merged, colname=\"RMSE\", unstack_indices=unstack_indices)\n",
    "merged"
   ]
  },
  {
   "cell_type": "markdown",
   "metadata": {
    "extensions": {
     "jupyter_dashboards": {
      "version": 1,
      "views": {
       "grid_default": {
        "col": 4,
        "height": 4,
        "hidden": false,
        "row": 35,
        "width": 4
       },
       "report_default": {
        "hidden": false
       }
      }
     }
    }
   },
   "source": [
    "#### 5.2 Interactive manipulation of Dataframe (DF_EDIT)\n",
    "\n",
    "The following table widget uses the loaded Dataframes and applies all settings that were defined above.  "
   ]
  },
  {
   "cell_type": "code",
   "execution_count": 13,
   "metadata": {
    "extensions": {
     "jupyter_dashboards": {
      "version": 1,
      "views": {
       "grid_default": {
        "col": 8,
        "height": 5,
        "hidden": false,
        "row": 35,
        "width": 4
       },
       "report_default": {
        "hidden": false
       }
      }
     }
    }
   },
   "outputs": [
    {
     "data": {
      "application/vnd.jupyter.widget-view+json": {
       "model_id": "17f0229caf564790a0b2f7d5368a1163",
       "version_major": 2,
       "version_minor": 0
      },
      "text/plain": [
       "VBox(children=(Tab(children=(HBox(children=(VBox(children=(HBox(children=(Label(value='Run1', layout=Layout(wi…"
      ]
     },
     "metadata": {},
     "output_type": "display_data"
    }
   ],
   "source": [
    "from my_widgets import TableEditor\n",
    "edit = TableEditor(df=merged, \n",
    "                   save_dir=output_dir, #defined above\n",
    "                   preconfig_file=vargroups_cfg, #defined above\n",
    "                   default_group=var_group,\n",
    "                   new_run_names=run_ids,\n",
    "                   add_to_index_vars=add_to_index,\n",
    "                   unstack_indices=unstack_indices)\n",
    "                   \n",
    "edit()"
   ]
  },
  {
   "cell_type": "markdown",
   "metadata": {
    "extensions": {
     "jupyter_dashboards": {
      "version": 1,
      "views": {
       "grid_default": {
        "col": 4,
        "height": 4,
        "hidden": false,
        "row": 44,
        "width": 4
       },
       "report_default": {
        "hidden": false
       }
      }
     }
    }
   },
   "source": [
    "Now access the current selection and continue."
   ]
  },
  {
   "cell_type": "code",
   "execution_count": 14,
   "metadata": {
    "extensions": {
     "jupyter_dashboards": {
      "version": 1,
      "views": {
       "grid_default": {
        "col": 0,
        "height": 70,
        "hidden": false,
        "row": 77,
        "width": 7
       },
       "report_default": {
        "hidden": false
       }
      }
     }
    }
   },
   "outputs": [
    {
     "data": {
      "text/plain": [
       "FrozenList(['Run', 'Years'])"
      ]
     },
     "execution_count": 14,
     "metadata": {},
     "output_type": "execute_result"
    }
   ],
   "source": [
    "selection = edit.df_edit\n",
    "selection[\"Bias\"].columns.names"
   ]
  },
  {
   "cell_type": "code",
   "execution_count": 15,
   "metadata": {},
   "outputs": [
    {
     "data": {
      "text/plain": [
       "5"
      ]
     },
     "execution_count": 15,
     "metadata": {},
     "output_type": "execute_result"
    }
   ],
   "source": [
    "len(selection.columns.levels[0])"
   ]
  },
  {
   "cell_type": "markdown",
   "metadata": {
    "extensions": {
     "jupyter_dashboards": {
      "version": 1,
      "views": {
       "grid_default": {
        "col": 0,
        "height": 5,
        "hidden": false,
        "row": 169,
        "width": 12
       },
       "report_default": {
        "hidden": false
       }
      }
     }
    }
   },
   "source": [
    "#### 5.3 Extracting the Bias of each model run relative to the observations (GET_BIAS)\n",
    "\n",
    "Retrieving a table that illustrates the Bias of each run for each flagged variable is straight forward. We just extract the `Bias` column from our flagged frame:"
   ]
  },
  {
   "cell_type": "code",
   "execution_count": 16,
   "metadata": {
    "extensions": {
     "jupyter_dashboards": {
      "version": 1,
      "views": {
       "grid_default": {
        "col": 0,
        "height": 16,
        "hidden": false,
        "row": 174,
        "width": 7
       },
       "report_default": {
        "hidden": false
       }
      }
     }
    }
   },
   "outputs": [
    {
     "data": {
      "text/html": [
       "<div>\n",
       "<style scoped>\n",
       "    .dataframe tbody tr th:only-of-type {\n",
       "        vertical-align: middle;\n",
       "    }\n",
       "\n",
       "    .dataframe tbody tr th {\n",
       "        vertical-align: top;\n",
       "    }\n",
       "\n",
       "    .dataframe thead tr th {\n",
       "        text-align: left;\n",
       "    }\n",
       "\n",
       "    .dataframe thead tr:last-of-type th {\n",
       "        text-align: right;\n",
       "    }\n",
       "</style>\n",
       "<table border=\"1\" class=\"dataframe\">\n",
       "  <thead>\n",
       "    <tr>\n",
       "      <th></th>\n",
       "      <th></th>\n",
       "      <th>Run</th>\n",
       "      <th>A</th>\n",
       "      <th>B</th>\n",
       "      <th colspan=\"3\" halign=\"left\">C</th>\n",
       "      <th>D</th>\n",
       "    </tr>\n",
       "    <tr>\n",
       "      <th></th>\n",
       "      <th></th>\n",
       "      <th>Years</th>\n",
       "      <th>71-100</th>\n",
       "      <th>1-20</th>\n",
       "      <th>185-215</th>\n",
       "      <th>310-340</th>\n",
       "      <th>80-110</th>\n",
       "      <th>90-120</th>\n",
       "    </tr>\n",
       "    <tr>\n",
       "      <th>Variable</th>\n",
       "      <th>Description</th>\n",
       "      <th>Obs</th>\n",
       "      <th></th>\n",
       "      <th></th>\n",
       "      <th></th>\n",
       "      <th></th>\n",
       "      <th></th>\n",
       "      <th></th>\n",
       "    </tr>\n",
       "  </thead>\n",
       "  <tbody>\n",
       "    <tr>\n",
       "      <th>CLDTOT_CLOUDSAT</th>\n",
       "      <th></th>\n",
       "      <th>66.824</th>\n",
       "      <td>-3.203</td>\n",
       "      <td>1.762</td>\n",
       "      <td>1.720</td>\n",
       "      <td>1.411</td>\n",
       "      <td>2.133</td>\n",
       "      <td>3.923</td>\n",
       "    </tr>\n",
       "    <tr>\n",
       "      <th>CLDTOT_ISCCP</th>\n",
       "      <th>Total cloud cover</th>\n",
       "      <th>66.800</th>\n",
       "      <td>-3.179</td>\n",
       "      <td>1.786</td>\n",
       "      <td>1.744</td>\n",
       "      <td>1.435</td>\n",
       "      <td>2.157</td>\n",
       "      <td>3.947</td>\n",
       "    </tr>\n",
       "    <tr>\n",
       "      <th>FLDS_ISCCP</th>\n",
       "      <th>LW down SRF</th>\n",
       "      <th>343.347</th>\n",
       "      <td>-5.066</td>\n",
       "      <td>-1.799</td>\n",
       "      <td>10.514</td>\n",
       "      <td>11.499</td>\n",
       "      <td>5.162</td>\n",
       "      <td>4.507</td>\n",
       "    </tr>\n",
       "    <tr>\n",
       "      <th>PREH2O_ERAI</th>\n",
       "      <th></th>\n",
       "      <th>24.247</th>\n",
       "      <td>-0.273</td>\n",
       "      <td>0.191</td>\n",
       "      <td>3.844</td>\n",
       "      <td>4.138</td>\n",
       "      <td>2.624</td>\n",
       "      <td>1.486</td>\n",
       "    </tr>\n",
       "    <tr>\n",
       "      <th>RESTOM</th>\n",
       "      <th>TOmodel net flux</th>\n",
       "      <th>0.000</th>\n",
       "      <td>-0.489</td>\n",
       "      <td>0.987</td>\n",
       "      <td>0.468</td>\n",
       "      <td>0.327</td>\n",
       "      <td>0.647</td>\n",
       "      <td>-0.075</td>\n",
       "    </tr>\n",
       "    <tr>\n",
       "      <th>SWCF_CERES-EBAF</th>\n",
       "      <th>SW Cloud Forc</th>\n",
       "      <th>-47.071</th>\n",
       "      <td>-1.252</td>\n",
       "      <td>1.774</td>\n",
       "      <td>1.266</td>\n",
       "      <td>1.466</td>\n",
       "      <td>1.083</td>\n",
       "      <td>-1.888</td>\n",
       "    </tr>\n",
       "    <tr>\n",
       "      <th>U_200_JRA25</th>\n",
       "      <th>Zonal Wind JRA25</th>\n",
       "      <th>15.565</th>\n",
       "      <td>1.006</td>\n",
       "      <td>1.825</td>\n",
       "      <td>3.209</td>\n",
       "      <td>3.218</td>\n",
       "      <td>3.340</td>\n",
       "      <td>2.304</td>\n",
       "    </tr>\n",
       "    <tr>\n",
       "      <th>Z3_500_NCEP</th>\n",
       "      <th></th>\n",
       "      <th>56.581</th>\n",
       "      <td>-0.234</td>\n",
       "      <td>-0.070</td>\n",
       "      <td>0.298</td>\n",
       "      <td>0.336</td>\n",
       "      <td>0.133</td>\n",
       "      <td>0.005</td>\n",
       "    </tr>\n",
       "  </tbody>\n",
       "</table>\n",
       "</div>"
      ],
      "text/plain": [
       "Run                                             A      B       C          \\\n",
       "Years                                      71-100   1-20 185-215 310-340   \n",
       "Variable        Description       Obs                                      \n",
       "CLDTOT_CLOUDSAT                    66.824  -3.203  1.762   1.720   1.411   \n",
       "CLDTOT_ISCCP    Total cloud cover  66.800  -3.179  1.786   1.744   1.435   \n",
       "FLDS_ISCCP      LW down SRF        343.347 -5.066 -1.799  10.514  11.499   \n",
       "PREH2O_ERAI                        24.247  -0.273  0.191   3.844   4.138   \n",
       "RESTOM          TOmodel net flux   0.000   -0.489  0.987   0.468   0.327   \n",
       "SWCF_CERES-EBAF SW Cloud Forc     -47.071  -1.252  1.774   1.266   1.466   \n",
       "U_200_JRA25     Zonal Wind JRA25   15.565   1.006  1.825   3.209   3.218   \n",
       "Z3_500_NCEP                        56.581  -0.234 -0.070   0.298   0.336   \n",
       "\n",
       "Run                                                    D  \n",
       "Years                                      80-110 90-120  \n",
       "Variable        Description       Obs                     \n",
       "CLDTOT_CLOUDSAT                    66.824   2.133  3.923  \n",
       "CLDTOT_ISCCP    Total cloud cover  66.800   2.157  3.947  \n",
       "FLDS_ISCCP      LW down SRF        343.347  5.162  4.507  \n",
       "PREH2O_ERAI                        24.247   2.624  1.486  \n",
       "RESTOM          TOmodel net flux   0.000    0.647 -0.075  \n",
       "SWCF_CERES-EBAF SW Cloud Forc     -47.071   1.083 -1.888  \n",
       "U_200_JRA25     Zonal Wind JRA25   15.565   3.340  2.304  \n",
       "Z3_500_NCEP                        56.581   0.133  0.005  "
      ]
     },
     "execution_count": 16,
     "metadata": {},
     "output_type": "execute_result"
    }
   ],
   "source": [
    "bias = selection[\"Bias\"]\n",
    "bias"
   ]
  },
  {
   "cell_type": "markdown",
   "metadata": {},
   "source": [
    "#### 5.4 Extracting the RMSE error of each model run relative to the observations (GET_RMSE_ERR)\n",
    "\n",
    "In section 5.1 we computed and added the relative RMSE error as a new column to the original table. These data can now be accessed as simply as the ``Bias`` table:"
   ]
  },
  {
   "cell_type": "code",
   "execution_count": 17,
   "metadata": {
    "extensions": {
     "jupyter_dashboards": {
      "version": 1,
      "views": {
       "grid_default": {
        "col": 0,
        "height": 16,
        "hidden": false,
        "row": 214,
        "width": 8
       },
       "report_default": {
        "hidden": false
       }
      }
     }
    }
   },
   "outputs": [
    {
     "data": {
      "text/html": [
       "<div>\n",
       "<style scoped>\n",
       "    .dataframe tbody tr th:only-of-type {\n",
       "        vertical-align: middle;\n",
       "    }\n",
       "\n",
       "    .dataframe tbody tr th {\n",
       "        vertical-align: top;\n",
       "    }\n",
       "\n",
       "    .dataframe thead tr th {\n",
       "        text-align: left;\n",
       "    }\n",
       "\n",
       "    .dataframe thead tr:last-of-type th {\n",
       "        text-align: right;\n",
       "    }\n",
       "</style>\n",
       "<table border=\"1\" class=\"dataframe\">\n",
       "  <thead>\n",
       "    <tr>\n",
       "      <th></th>\n",
       "      <th></th>\n",
       "      <th>Run</th>\n",
       "      <th>A</th>\n",
       "      <th>B</th>\n",
       "      <th colspan=\"3\" halign=\"left\">C</th>\n",
       "      <th>D</th>\n",
       "    </tr>\n",
       "    <tr>\n",
       "      <th></th>\n",
       "      <th></th>\n",
       "      <th>Years</th>\n",
       "      <th>71-100</th>\n",
       "      <th>1-20</th>\n",
       "      <th>185-215</th>\n",
       "      <th>310-340</th>\n",
       "      <th>80-110</th>\n",
       "      <th>90-120</th>\n",
       "    </tr>\n",
       "    <tr>\n",
       "      <th>Variable</th>\n",
       "      <th>Description</th>\n",
       "      <th>Obs</th>\n",
       "      <th></th>\n",
       "      <th></th>\n",
       "      <th></th>\n",
       "      <th></th>\n",
       "      <th></th>\n",
       "      <th></th>\n",
       "    </tr>\n",
       "  </thead>\n",
       "  <tbody>\n",
       "    <tr>\n",
       "      <th>CLDTOT_CLOUDSAT</th>\n",
       "      <th></th>\n",
       "      <th>66.824</th>\n",
       "      <td>-0.079172</td>\n",
       "      <td>-0.017569</td>\n",
       "      <td>0.030123</td>\n",
       "      <td>0.036369</td>\n",
       "      <td>0.030880</td>\n",
       "      <td>-0.000631</td>\n",
       "    </tr>\n",
       "    <tr>\n",
       "      <th>CLDTOT_ISCCP</th>\n",
       "      <th>Total cloud cover</th>\n",
       "      <th>66.800</th>\n",
       "      <td>-0.089645</td>\n",
       "      <td>-0.044782</td>\n",
       "      <td>0.044541</td>\n",
       "      <td>0.051455</td>\n",
       "      <td>0.034652</td>\n",
       "      <td>0.003779</td>\n",
       "    </tr>\n",
       "    <tr>\n",
       "      <th>FLDS_ISCCP</th>\n",
       "      <th>LW down SRF</th>\n",
       "      <th>343.347</th>\n",
       "      <td>-0.100193</td>\n",
       "      <td>-0.044087</td>\n",
       "      <td>0.051809</td>\n",
       "      <td>0.099944</td>\n",
       "      <td>0.041161</td>\n",
       "      <td>-0.048633</td>\n",
       "    </tr>\n",
       "    <tr>\n",
       "      <th>PREH2O_ERAI</th>\n",
       "      <th></th>\n",
       "      <th>24.247</th>\n",
       "      <td>-0.441220</td>\n",
       "      <td>-0.455730</td>\n",
       "      <td>0.432040</td>\n",
       "      <td>0.515546</td>\n",
       "      <td>0.157536</td>\n",
       "      <td>-0.208173</td>\n",
       "    </tr>\n",
       "    <tr>\n",
       "      <th>RESTOM</th>\n",
       "      <th>TOmodel net flux</th>\n",
       "      <th>0.000</th>\n",
       "      <td>NaN</td>\n",
       "      <td>NaN</td>\n",
       "      <td>NaN</td>\n",
       "      <td>NaN</td>\n",
       "      <td>NaN</td>\n",
       "      <td>NaN</td>\n",
       "    </tr>\n",
       "    <tr>\n",
       "      <th>SWCF_CERES-EBAF</th>\n",
       "      <th>SW Cloud Forc</th>\n",
       "      <th>-47.071</th>\n",
       "      <td>0.022955</td>\n",
       "      <td>-0.122700</td>\n",
       "      <td>0.035142</td>\n",
       "      <td>0.046636</td>\n",
       "      <td>0.029792</td>\n",
       "      <td>-0.011824</td>\n",
       "    </tr>\n",
       "    <tr>\n",
       "      <th>U_200_JRA25</th>\n",
       "      <th>Zonal Wind JRA25</th>\n",
       "      <th>15.565</th>\n",
       "      <td>-0.322835</td>\n",
       "      <td>-0.209790</td>\n",
       "      <td>0.200831</td>\n",
       "      <td>0.204710</td>\n",
       "      <td>0.201108</td>\n",
       "      <td>-0.074024</td>\n",
       "    </tr>\n",
       "    <tr>\n",
       "      <th>Z3_500_NCEP</th>\n",
       "      <th></th>\n",
       "      <th>56.581</th>\n",
       "      <td>-0.105442</td>\n",
       "      <td>-0.414966</td>\n",
       "      <td>0.329932</td>\n",
       "      <td>0.442177</td>\n",
       "      <td>0.112245</td>\n",
       "      <td>-0.363946</td>\n",
       "    </tr>\n",
       "  </tbody>\n",
       "</table>\n",
       "</div>"
      ],
      "text/plain": [
       "Run                                                A         B         C  \\\n",
       "Years                                         71-100      1-20   185-215   \n",
       "Variable        Description       Obs                                      \n",
       "CLDTOT_CLOUDSAT                    66.824  -0.079172 -0.017569  0.030123   \n",
       "CLDTOT_ISCCP    Total cloud cover  66.800  -0.089645 -0.044782  0.044541   \n",
       "FLDS_ISCCP      LW down SRF        343.347 -0.100193 -0.044087  0.051809   \n",
       "PREH2O_ERAI                        24.247  -0.441220 -0.455730  0.432040   \n",
       "RESTOM          TOmodel net flux   0.000         NaN       NaN       NaN   \n",
       "SWCF_CERES-EBAF SW Cloud Forc     -47.071   0.022955 -0.122700  0.035142   \n",
       "U_200_JRA25     Zonal Wind JRA25   15.565  -0.322835 -0.209790  0.200831   \n",
       "Z3_500_NCEP                        56.581  -0.105442 -0.414966  0.329932   \n",
       "\n",
       "Run                                                                    D  \n",
       "Years                                        310-340    80-110    90-120  \n",
       "Variable        Description       Obs                                     \n",
       "CLDTOT_CLOUDSAT                    66.824   0.036369  0.030880 -0.000631  \n",
       "CLDTOT_ISCCP    Total cloud cover  66.800   0.051455  0.034652  0.003779  \n",
       "FLDS_ISCCP      LW down SRF        343.347  0.099944  0.041161 -0.048633  \n",
       "PREH2O_ERAI                        24.247   0.515546  0.157536 -0.208173  \n",
       "RESTOM          TOmodel net flux   0.000         NaN       NaN       NaN  \n",
       "SWCF_CERES-EBAF SW Cloud Forc     -47.071   0.046636  0.029792 -0.011824  \n",
       "U_200_JRA25     Zonal Wind JRA25   15.565   0.204710  0.201108 -0.074024  \n",
       "Z3_500_NCEP                        56.581   0.442177  0.112245 -0.363946  "
      ]
     },
     "execution_count": 17,
     "metadata": {},
     "output_type": "execute_result"
    }
   ],
   "source": [
    "rmse_err_rel = selection[\"RMSE_ERR\"]\n",
    "rmse_err_rel"
   ]
  },
  {
   "cell_type": "markdown",
   "metadata": {
    "extensions": {
     "jupyter_dashboards": {
      "version": 1,
      "views": {
       "grid_default": {
        "col": 0,
        "height": 8,
        "hidden": false,
        "row": 306,
        "width": 12
       },
       "report_default": {
        "hidden": false
       }
      }
     }
    }
   },
   "source": [
    "### 6. Conditional formatting of tables (Dataframes) (VISUALISE)\n",
    "\n",
    "This section illustrates, how we can perform conditional formatting of the color tables. As discussed above, we can apply background colour gradients to the data. In the example above we had a multiindex data type specifying model run, year-range and variable in stacked format (long table) and the four data columns specifying results from model and observation as well as bias and RMSE. \n",
    "\n",
    "Now, in the following we illustrate how we can apply this colour highlighting for the two unstacked tables that we just created and that contain Bias and relative error. "
   ]
  },
  {
   "cell_type": "code",
   "execution_count": 18,
   "metadata": {
    "extensions": {
     "jupyter_dashboards": {
      "version": 1,
      "views": {
       "grid_default": {
        "col": 0,
        "height": 16,
        "hidden": false,
        "row": 339,
        "width": 7
       },
       "report_default": {
        "hidden": false
       }
      }
     }
    }
   },
   "outputs": [
    {
     "data": {
      "text/html": [
       "<div>\n",
       "<style scoped>\n",
       "    .dataframe tbody tr th:only-of-type {\n",
       "        vertical-align: middle;\n",
       "    }\n",
       "\n",
       "    .dataframe tbody tr th {\n",
       "        vertical-align: top;\n",
       "    }\n",
       "\n",
       "    .dataframe thead tr th {\n",
       "        text-align: left;\n",
       "    }\n",
       "\n",
       "    .dataframe thead tr:last-of-type th {\n",
       "        text-align: right;\n",
       "    }\n",
       "</style>\n",
       "<table border=\"1\" class=\"dataframe\">\n",
       "  <thead>\n",
       "    <tr>\n",
       "      <th></th>\n",
       "      <th></th>\n",
       "      <th>Run</th>\n",
       "      <th>A</th>\n",
       "      <th>B</th>\n",
       "      <th colspan=\"3\" halign=\"left\">C</th>\n",
       "      <th>D</th>\n",
       "    </tr>\n",
       "    <tr>\n",
       "      <th></th>\n",
       "      <th></th>\n",
       "      <th>Years</th>\n",
       "      <th>71-100</th>\n",
       "      <th>1-20</th>\n",
       "      <th>185-215</th>\n",
       "      <th>310-340</th>\n",
       "      <th>80-110</th>\n",
       "      <th>90-120</th>\n",
       "    </tr>\n",
       "    <tr>\n",
       "      <th>Variable</th>\n",
       "      <th>Description</th>\n",
       "      <th>Obs</th>\n",
       "      <th></th>\n",
       "      <th></th>\n",
       "      <th></th>\n",
       "      <th></th>\n",
       "      <th></th>\n",
       "      <th></th>\n",
       "    </tr>\n",
       "  </thead>\n",
       "  <tbody>\n",
       "    <tr>\n",
       "      <th>CLDTOT_CLOUDSAT</th>\n",
       "      <th></th>\n",
       "      <th>66.824</th>\n",
       "      <td>-3.203</td>\n",
       "      <td>1.762</td>\n",
       "      <td>1.720</td>\n",
       "      <td>1.411</td>\n",
       "      <td>2.133</td>\n",
       "      <td>3.923</td>\n",
       "    </tr>\n",
       "    <tr>\n",
       "      <th>CLDTOT_ISCCP</th>\n",
       "      <th>Total cloud cover</th>\n",
       "      <th>66.800</th>\n",
       "      <td>-3.179</td>\n",
       "      <td>1.786</td>\n",
       "      <td>1.744</td>\n",
       "      <td>1.435</td>\n",
       "      <td>2.157</td>\n",
       "      <td>3.947</td>\n",
       "    </tr>\n",
       "    <tr>\n",
       "      <th>FLDS_ISCCP</th>\n",
       "      <th>LW down SRF</th>\n",
       "      <th>343.347</th>\n",
       "      <td>-5.066</td>\n",
       "      <td>-1.799</td>\n",
       "      <td>10.514</td>\n",
       "      <td>11.499</td>\n",
       "      <td>5.162</td>\n",
       "      <td>4.507</td>\n",
       "    </tr>\n",
       "    <tr>\n",
       "      <th>PREH2O_ERAI</th>\n",
       "      <th></th>\n",
       "      <th>24.247</th>\n",
       "      <td>-0.273</td>\n",
       "      <td>0.191</td>\n",
       "      <td>3.844</td>\n",
       "      <td>4.138</td>\n",
       "      <td>2.624</td>\n",
       "      <td>1.486</td>\n",
       "    </tr>\n",
       "    <tr>\n",
       "      <th>RESTOM</th>\n",
       "      <th>TOmodel net flux</th>\n",
       "      <th>0.000</th>\n",
       "      <td>-0.489</td>\n",
       "      <td>0.987</td>\n",
       "      <td>0.468</td>\n",
       "      <td>0.327</td>\n",
       "      <td>0.647</td>\n",
       "      <td>-0.075</td>\n",
       "    </tr>\n",
       "    <tr>\n",
       "      <th>SWCF_CERES-EBAF</th>\n",
       "      <th>SW Cloud Forc</th>\n",
       "      <th>-47.071</th>\n",
       "      <td>-1.252</td>\n",
       "      <td>1.774</td>\n",
       "      <td>1.266</td>\n",
       "      <td>1.466</td>\n",
       "      <td>1.083</td>\n",
       "      <td>-1.888</td>\n",
       "    </tr>\n",
       "    <tr>\n",
       "      <th>U_200_JRA25</th>\n",
       "      <th>Zonal Wind JRA25</th>\n",
       "      <th>15.565</th>\n",
       "      <td>1.006</td>\n",
       "      <td>1.825</td>\n",
       "      <td>3.209</td>\n",
       "      <td>3.218</td>\n",
       "      <td>3.340</td>\n",
       "      <td>2.304</td>\n",
       "    </tr>\n",
       "    <tr>\n",
       "      <th>Z3_500_NCEP</th>\n",
       "      <th></th>\n",
       "      <th>56.581</th>\n",
       "      <td>-0.234</td>\n",
       "      <td>-0.070</td>\n",
       "      <td>0.298</td>\n",
       "      <td>0.336</td>\n",
       "      <td>0.133</td>\n",
       "      <td>0.005</td>\n",
       "    </tr>\n",
       "  </tbody>\n",
       "</table>\n",
       "</div>"
      ],
      "text/plain": [
       "Run                                             A      B       C          \\\n",
       "Years                                      71-100   1-20 185-215 310-340   \n",
       "Variable        Description       Obs                                      \n",
       "CLDTOT_CLOUDSAT                    66.824  -3.203  1.762   1.720   1.411   \n",
       "CLDTOT_ISCCP    Total cloud cover  66.800  -3.179  1.786   1.744   1.435   \n",
       "FLDS_ISCCP      LW down SRF        343.347 -5.066 -1.799  10.514  11.499   \n",
       "PREH2O_ERAI                        24.247  -0.273  0.191   3.844   4.138   \n",
       "RESTOM          TOmodel net flux   0.000   -0.489  0.987   0.468   0.327   \n",
       "SWCF_CERES-EBAF SW Cloud Forc     -47.071  -1.252  1.774   1.266   1.466   \n",
       "U_200_JRA25     Zonal Wind JRA25   15.565   1.006  1.825   3.209   3.218   \n",
       "Z3_500_NCEP                        56.581  -0.234 -0.070   0.298   0.336   \n",
       "\n",
       "Run                                                    D  \n",
       "Years                                      80-110 90-120  \n",
       "Variable        Description       Obs                     \n",
       "CLDTOT_CLOUDSAT                    66.824   2.133  3.923  \n",
       "CLDTOT_ISCCP    Total cloud cover  66.800   2.157  3.947  \n",
       "FLDS_ISCCP      LW down SRF        343.347  5.162  4.507  \n",
       "PREH2O_ERAI                        24.247   2.624  1.486  \n",
       "RESTOM          TOmodel net flux   0.000    0.647 -0.075  \n",
       "SWCF_CERES-EBAF SW Cloud Forc     -47.071   1.083 -1.888  \n",
       "U_200_JRA25     Zonal Wind JRA25   15.565   3.340  2.304  \n",
       "Z3_500_NCEP                        56.581   0.133  0.005  "
      ]
     },
     "execution_count": 18,
     "metadata": {},
     "output_type": "execute_result"
    }
   ],
   "source": [
    "bias"
   ]
  },
  {
   "cell_type": "markdown",
   "metadata": {
    "extensions": {
     "jupyter_dashboards": {
      "version": 1,
      "views": {
       "grid_default": {
        "col": 0,
        "height": 5,
        "hidden": false,
        "row": 363,
        "width": 12
       },
       "report_default": {
        "hidden": false
       }
      }
     }
    }
   },
   "source": [
    "#### 6.2 How we want it (VIS_RIGHT)\n",
    "\n",
    "In the following, we use a custom display method `my_table_display` (that is defined in [helper_funcs.py](https://github.com/jgliss/my_py3_scripts/blob/master/notebooks/helper_funcs.py)) in order to perform colour formatting considering all rows and columns at the same time and furthermore, using a diverging colour map that is dynamically shifted such that value 0 corresponds to the colour white (method `shifted_color_map`) also if `-vmin != vmax` (like usually)."
   ]
  },
  {
   "cell_type": "code",
   "execution_count": 19,
   "metadata": {
    "extensions": {
     "jupyter_dashboards": {
      "version": 1,
      "views": {
       "grid_default": {
        "col": 0,
        "height": 16,
        "hidden": false,
        "row": 368,
        "width": 7
       },
       "report_default": {
        "hidden": false
       }
      }
     }
    }
   },
   "outputs": [
    {
     "data": {
      "text/html": [
       "<style  type=\"text/css\" >\n",
       "    #T_71e375ce_6283_11e8_a34b_80ce6220aa9erow0_col0 {\n",
       "            background-color:  #c2c2ff;\n",
       "            : ;\n",
       "        }    #T_71e375ce_6283_11e8_a34b_80ce6220aa9erow0_col1 {\n",
       "            background-color:  #ffe8e8;\n",
       "            : ;\n",
       "        }    #T_71e375ce_6283_11e8_a34b_80ce6220aa9erow0_col2 {\n",
       "            background-color:  #ffe8e8;\n",
       "            : ;\n",
       "        }    #T_71e375ce_6283_11e8_a34b_80ce6220aa9erow0_col3 {\n",
       "            background-color:  #ffebeb;\n",
       "            : ;\n",
       "        }    #T_71e375ce_6283_11e8_a34b_80ce6220aa9erow0_col4 {\n",
       "            background-color:  #ffe3e3;\n",
       "            : ;\n",
       "        }    #T_71e375ce_6283_11e8_a34b_80ce6220aa9erow0_col5 {\n",
       "            background-color:  #ffcbcb;\n",
       "            : ;\n",
       "        }    #T_71e375ce_6283_11e8_a34b_80ce6220aa9erow1_col0 {\n",
       "            background-color:  #c2c2ff;\n",
       "            : ;\n",
       "        }    #T_71e375ce_6283_11e8_a34b_80ce6220aa9erow1_col1 {\n",
       "            background-color:  #ffe8e8;\n",
       "            : ;\n",
       "        }    #T_71e375ce_6283_11e8_a34b_80ce6220aa9erow1_col2 {\n",
       "            background-color:  #ffe8e8;\n",
       "            : ;\n",
       "        }    #T_71e375ce_6283_11e8_a34b_80ce6220aa9erow1_col3 {\n",
       "            background-color:  #ffebeb;\n",
       "            : ;\n",
       "        }    #T_71e375ce_6283_11e8_a34b_80ce6220aa9erow1_col4 {\n",
       "            background-color:  #ffe3e3;\n",
       "            : ;\n",
       "        }    #T_71e375ce_6283_11e8_a34b_80ce6220aa9erow1_col5 {\n",
       "            background-color:  #ffcbcb;\n",
       "            : ;\n",
       "        }    #T_71e375ce_6283_11e8_a34b_80ce6220aa9erow2_col0 {\n",
       "            background-color:  #9f9fff;\n",
       "            : ;\n",
       "        }    #T_71e375ce_6283_11e8_a34b_80ce6220aa9erow2_col1 {\n",
       "            background-color:  #dedeff;\n",
       "            : ;\n",
       "        }    #T_71e375ce_6283_11e8_a34b_80ce6220aa9erow2_col2 {\n",
       "            background-color:  #ff7575;\n",
       "            : ;\n",
       "        }    #T_71e375ce_6283_11e8_a34b_80ce6220aa9erow2_col3 {\n",
       "            background-color:  #ff6868;\n",
       "            : ;\n",
       "        }    #T_71e375ce_6283_11e8_a34b_80ce6220aa9erow2_col4 {\n",
       "            background-color:  #ffbaba;\n",
       "            : ;\n",
       "        }    #T_71e375ce_6283_11e8_a34b_80ce6220aa9erow2_col5 {\n",
       "            background-color:  #ffc4c4;\n",
       "            : ;\n",
       "        }    #T_71e375ce_6283_11e8_a34b_80ce6220aa9erow3_col0 {\n",
       "            background-color:  #fcfcff;\n",
       "            : ;\n",
       "        }    #T_71e375ce_6283_11e8_a34b_80ce6220aa9erow3_col1 {\n",
       "            background-color:  #fffcfc;\n",
       "            : ;\n",
       "        }    #T_71e375ce_6283_11e8_a34b_80ce6220aa9erow3_col2 {\n",
       "            background-color:  #ffcdcd;\n",
       "            : ;\n",
       "        }    #T_71e375ce_6283_11e8_a34b_80ce6220aa9erow3_col3 {\n",
       "            background-color:  #ffc8c8;\n",
       "            : ;\n",
       "        }    #T_71e375ce_6283_11e8_a34b_80ce6220aa9erow3_col4 {\n",
       "            background-color:  #ffdcdc;\n",
       "            : ;\n",
       "        }    #T_71e375ce_6283_11e8_a34b_80ce6220aa9erow3_col5 {\n",
       "            background-color:  #ffebeb;\n",
       "            : ;\n",
       "        }    #T_71e375ce_6283_11e8_a34b_80ce6220aa9erow4_col0 {\n",
       "            background-color:  #f7f7ff;\n",
       "            : ;\n",
       "        }    #T_71e375ce_6283_11e8_a34b_80ce6220aa9erow4_col1 {\n",
       "            background-color:  #fff2f2;\n",
       "            : ;\n",
       "        }    #T_71e375ce_6283_11e8_a34b_80ce6220aa9erow4_col2 {\n",
       "            background-color:  #fff9f9;\n",
       "            : ;\n",
       "        }    #T_71e375ce_6283_11e8_a34b_80ce6220aa9erow4_col3 {\n",
       "            background-color:  #fffafa;\n",
       "            : ;\n",
       "        }    #T_71e375ce_6283_11e8_a34b_80ce6220aa9erow4_col4 {\n",
       "            background-color:  #fff5f5;\n",
       "            : ;\n",
       "        }    #T_71e375ce_6283_11e8_a34b_80ce6220aa9erow4_col5 {\n",
       "            background-color:  #fefeff;\n",
       "            : ;\n",
       "        }    #T_71e375ce_6283_11e8_a34b_80ce6220aa9erow5_col0 {\n",
       "            background-color:  #e8e8ff;\n",
       "            : ;\n",
       "        }    #T_71e375ce_6283_11e8_a34b_80ce6220aa9erow5_col1 {\n",
       "            background-color:  #ffe8e8;\n",
       "            : ;\n",
       "        }    #T_71e375ce_6283_11e8_a34b_80ce6220aa9erow5_col2 {\n",
       "            background-color:  #ffeeee;\n",
       "            : ;\n",
       "        }    #T_71e375ce_6283_11e8_a34b_80ce6220aa9erow5_col3 {\n",
       "            background-color:  #ffebeb;\n",
       "            : ;\n",
       "        }    #T_71e375ce_6283_11e8_a34b_80ce6220aa9erow5_col4 {\n",
       "            background-color:  #fff0f0;\n",
       "            : ;\n",
       "        }    #T_71e375ce_6283_11e8_a34b_80ce6220aa9erow5_col5 {\n",
       "            background-color:  #dbdbff;\n",
       "            : ;\n",
       "        }    #T_71e375ce_6283_11e8_a34b_80ce6220aa9erow6_col0 {\n",
       "            background-color:  #fff2f2;\n",
       "            : ;\n",
       "        }    #T_71e375ce_6283_11e8_a34b_80ce6220aa9erow6_col1 {\n",
       "            background-color:  #ffe6e6;\n",
       "            : ;\n",
       "        }    #T_71e375ce_6283_11e8_a34b_80ce6220aa9erow6_col2 {\n",
       "            background-color:  #ffd5d5;\n",
       "            : ;\n",
       "        }    #T_71e375ce_6283_11e8_a34b_80ce6220aa9erow6_col3 {\n",
       "            background-color:  #ffd4d4;\n",
       "            : ;\n",
       "        }    #T_71e375ce_6283_11e8_a34b_80ce6220aa9erow6_col4 {\n",
       "            background-color:  #ffd4d4;\n",
       "            : ;\n",
       "        }    #T_71e375ce_6283_11e8_a34b_80ce6220aa9erow6_col5 {\n",
       "            background-color:  #ffe1e1;\n",
       "            : ;\n",
       "        }    #T_71e375ce_6283_11e8_a34b_80ce6220aa9erow7_col0 {\n",
       "            background-color:  #fcfcff;\n",
       "            : ;\n",
       "        }    #T_71e375ce_6283_11e8_a34b_80ce6220aa9erow7_col1 {\n",
       "            background-color:  #fefeff;\n",
       "            : ;\n",
       "        }    #T_71e375ce_6283_11e8_a34b_80ce6220aa9erow7_col2 {\n",
       "            background-color:  #fffafa;\n",
       "            : ;\n",
       "        }    #T_71e375ce_6283_11e8_a34b_80ce6220aa9erow7_col3 {\n",
       "            background-color:  #fffafa;\n",
       "            : ;\n",
       "        }    #T_71e375ce_6283_11e8_a34b_80ce6220aa9erow7_col4 {\n",
       "            background-color:  #fffcfc;\n",
       "            : ;\n",
       "        }    #T_71e375ce_6283_11e8_a34b_80ce6220aa9erow7_col5 {\n",
       "            background-color:  #fffefe;\n",
       "            : ;\n",
       "        }</style>  \n",
       "<table id=\"T_71e375ce_6283_11e8_a34b_80ce6220aa9e\" > \n",
       "<thead>    <tr> \n",
       "        <th class=\"blank\" ></th> \n",
       "        <th class=\"blank\" ></th> \n",
       "        <th class=\"index_name level0\" >Run</th> \n",
       "        <th class=\"col_heading level0 col0\" >A</th> \n",
       "        <th class=\"col_heading level0 col1\" >B</th> \n",
       "        <th class=\"col_heading level0 col2\" colspan=3>C</th> \n",
       "        <th class=\"col_heading level0 col5\" >D</th> \n",
       "    </tr>    <tr> \n",
       "        <th class=\"blank\" ></th> \n",
       "        <th class=\"blank\" ></th> \n",
       "        <th class=\"index_name level1\" >Years</th> \n",
       "        <th class=\"col_heading level1 col0\" >71-100</th> \n",
       "        <th class=\"col_heading level1 col1\" >1-20</th> \n",
       "        <th class=\"col_heading level1 col2\" >185-215</th> \n",
       "        <th class=\"col_heading level1 col3\" >310-340</th> \n",
       "        <th class=\"col_heading level1 col4\" >80-110</th> \n",
       "        <th class=\"col_heading level1 col5\" >90-120</th> \n",
       "    </tr>    <tr> \n",
       "        <th class=\"index_name level0\" >Variable</th> \n",
       "        <th class=\"index_name level1\" >Description</th> \n",
       "        <th class=\"index_name level2\" >Obs</th> \n",
       "        <th class=\"blank\" ></th> \n",
       "        <th class=\"blank\" ></th> \n",
       "        <th class=\"blank\" ></th> \n",
       "        <th class=\"blank\" ></th> \n",
       "        <th class=\"blank\" ></th> \n",
       "        <th class=\"blank\" ></th> \n",
       "    </tr></thead> \n",
       "<tbody>    <tr> \n",
       "        <th id=\"T_71e375ce_6283_11e8_a34b_80ce6220aa9elevel0_row0\" class=\"row_heading level0 row0\" >CLDTOT_CLOUDSAT</th> \n",
       "        <th id=\"T_71e375ce_6283_11e8_a34b_80ce6220aa9elevel1_row0\" class=\"row_heading level1 row0\" ></th> \n",
       "        <th id=\"T_71e375ce_6283_11e8_a34b_80ce6220aa9elevel2_row0\" class=\"row_heading level2 row0\" >66.824</th> \n",
       "        <td id=\"T_71e375ce_6283_11e8_a34b_80ce6220aa9erow0_col0\" class=\"data row0 col0\" >-3.20</td> \n",
       "        <td id=\"T_71e375ce_6283_11e8_a34b_80ce6220aa9erow0_col1\" class=\"data row0 col1\" >1.76</td> \n",
       "        <td id=\"T_71e375ce_6283_11e8_a34b_80ce6220aa9erow0_col2\" class=\"data row0 col2\" >1.72</td> \n",
       "        <td id=\"T_71e375ce_6283_11e8_a34b_80ce6220aa9erow0_col3\" class=\"data row0 col3\" >1.41</td> \n",
       "        <td id=\"T_71e375ce_6283_11e8_a34b_80ce6220aa9erow0_col4\" class=\"data row0 col4\" >2.13</td> \n",
       "        <td id=\"T_71e375ce_6283_11e8_a34b_80ce6220aa9erow0_col5\" class=\"data row0 col5\" >3.92</td> \n",
       "    </tr>    <tr> \n",
       "        <th id=\"T_71e375ce_6283_11e8_a34b_80ce6220aa9elevel0_row1\" class=\"row_heading level0 row1\" >CLDTOT_ISCCP</th> \n",
       "        <th id=\"T_71e375ce_6283_11e8_a34b_80ce6220aa9elevel1_row1\" class=\"row_heading level1 row1\" >Total cloud cover</th> \n",
       "        <th id=\"T_71e375ce_6283_11e8_a34b_80ce6220aa9elevel2_row1\" class=\"row_heading level2 row1\" >66.8</th> \n",
       "        <td id=\"T_71e375ce_6283_11e8_a34b_80ce6220aa9erow1_col0\" class=\"data row1 col0\" >-3.18</td> \n",
       "        <td id=\"T_71e375ce_6283_11e8_a34b_80ce6220aa9erow1_col1\" class=\"data row1 col1\" >1.79</td> \n",
       "        <td id=\"T_71e375ce_6283_11e8_a34b_80ce6220aa9erow1_col2\" class=\"data row1 col2\" >1.74</td> \n",
       "        <td id=\"T_71e375ce_6283_11e8_a34b_80ce6220aa9erow1_col3\" class=\"data row1 col3\" >1.44</td> \n",
       "        <td id=\"T_71e375ce_6283_11e8_a34b_80ce6220aa9erow1_col4\" class=\"data row1 col4\" >2.16</td> \n",
       "        <td id=\"T_71e375ce_6283_11e8_a34b_80ce6220aa9erow1_col5\" class=\"data row1 col5\" >3.95</td> \n",
       "    </tr>    <tr> \n",
       "        <th id=\"T_71e375ce_6283_11e8_a34b_80ce6220aa9elevel0_row2\" class=\"row_heading level0 row2\" >FLDS_ISCCP</th> \n",
       "        <th id=\"T_71e375ce_6283_11e8_a34b_80ce6220aa9elevel1_row2\" class=\"row_heading level1 row2\" >LW down SRF</th> \n",
       "        <th id=\"T_71e375ce_6283_11e8_a34b_80ce6220aa9elevel2_row2\" class=\"row_heading level2 row2\" >343.347</th> \n",
       "        <td id=\"T_71e375ce_6283_11e8_a34b_80ce6220aa9erow2_col0\" class=\"data row2 col0\" >-5.07</td> \n",
       "        <td id=\"T_71e375ce_6283_11e8_a34b_80ce6220aa9erow2_col1\" class=\"data row2 col1\" >-1.80</td> \n",
       "        <td id=\"T_71e375ce_6283_11e8_a34b_80ce6220aa9erow2_col2\" class=\"data row2 col2\" >10.51</td> \n",
       "        <td id=\"T_71e375ce_6283_11e8_a34b_80ce6220aa9erow2_col3\" class=\"data row2 col3\" >11.50</td> \n",
       "        <td id=\"T_71e375ce_6283_11e8_a34b_80ce6220aa9erow2_col4\" class=\"data row2 col4\" >5.16</td> \n",
       "        <td id=\"T_71e375ce_6283_11e8_a34b_80ce6220aa9erow2_col5\" class=\"data row2 col5\" >4.51</td> \n",
       "    </tr>    <tr> \n",
       "        <th id=\"T_71e375ce_6283_11e8_a34b_80ce6220aa9elevel0_row3\" class=\"row_heading level0 row3\" >PREH2O_ERAI</th> \n",
       "        <th id=\"T_71e375ce_6283_11e8_a34b_80ce6220aa9elevel1_row3\" class=\"row_heading level1 row3\" ></th> \n",
       "        <th id=\"T_71e375ce_6283_11e8_a34b_80ce6220aa9elevel2_row3\" class=\"row_heading level2 row3\" >24.247</th> \n",
       "        <td id=\"T_71e375ce_6283_11e8_a34b_80ce6220aa9erow3_col0\" class=\"data row3 col0\" >-0.27</td> \n",
       "        <td id=\"T_71e375ce_6283_11e8_a34b_80ce6220aa9erow3_col1\" class=\"data row3 col1\" >0.19</td> \n",
       "        <td id=\"T_71e375ce_6283_11e8_a34b_80ce6220aa9erow3_col2\" class=\"data row3 col2\" >3.84</td> \n",
       "        <td id=\"T_71e375ce_6283_11e8_a34b_80ce6220aa9erow3_col3\" class=\"data row3 col3\" >4.14</td> \n",
       "        <td id=\"T_71e375ce_6283_11e8_a34b_80ce6220aa9erow3_col4\" class=\"data row3 col4\" >2.62</td> \n",
       "        <td id=\"T_71e375ce_6283_11e8_a34b_80ce6220aa9erow3_col5\" class=\"data row3 col5\" >1.49</td> \n",
       "    </tr>    <tr> \n",
       "        <th id=\"T_71e375ce_6283_11e8_a34b_80ce6220aa9elevel0_row4\" class=\"row_heading level0 row4\" >RESTOM</th> \n",
       "        <th id=\"T_71e375ce_6283_11e8_a34b_80ce6220aa9elevel1_row4\" class=\"row_heading level1 row4\" >TOmodel net flux</th> \n",
       "        <th id=\"T_71e375ce_6283_11e8_a34b_80ce6220aa9elevel2_row4\" class=\"row_heading level2 row4\" >0.0</th> \n",
       "        <td id=\"T_71e375ce_6283_11e8_a34b_80ce6220aa9erow4_col0\" class=\"data row4 col0\" >-0.49</td> \n",
       "        <td id=\"T_71e375ce_6283_11e8_a34b_80ce6220aa9erow4_col1\" class=\"data row4 col1\" >0.99</td> \n",
       "        <td id=\"T_71e375ce_6283_11e8_a34b_80ce6220aa9erow4_col2\" class=\"data row4 col2\" >0.47</td> \n",
       "        <td id=\"T_71e375ce_6283_11e8_a34b_80ce6220aa9erow4_col3\" class=\"data row4 col3\" >0.33</td> \n",
       "        <td id=\"T_71e375ce_6283_11e8_a34b_80ce6220aa9erow4_col4\" class=\"data row4 col4\" >0.65</td> \n",
       "        <td id=\"T_71e375ce_6283_11e8_a34b_80ce6220aa9erow4_col5\" class=\"data row4 col5\" >-0.07</td> \n",
       "    </tr>    <tr> \n",
       "        <th id=\"T_71e375ce_6283_11e8_a34b_80ce6220aa9elevel0_row5\" class=\"row_heading level0 row5\" >SWCF_CERES-EBAF</th> \n",
       "        <th id=\"T_71e375ce_6283_11e8_a34b_80ce6220aa9elevel1_row5\" class=\"row_heading level1 row5\" >SW Cloud Forc</th> \n",
       "        <th id=\"T_71e375ce_6283_11e8_a34b_80ce6220aa9elevel2_row5\" class=\"row_heading level2 row5\" >-47.071</th> \n",
       "        <td id=\"T_71e375ce_6283_11e8_a34b_80ce6220aa9erow5_col0\" class=\"data row5 col0\" >-1.25</td> \n",
       "        <td id=\"T_71e375ce_6283_11e8_a34b_80ce6220aa9erow5_col1\" class=\"data row5 col1\" >1.77</td> \n",
       "        <td id=\"T_71e375ce_6283_11e8_a34b_80ce6220aa9erow5_col2\" class=\"data row5 col2\" >1.27</td> \n",
       "        <td id=\"T_71e375ce_6283_11e8_a34b_80ce6220aa9erow5_col3\" class=\"data row5 col3\" >1.47</td> \n",
       "        <td id=\"T_71e375ce_6283_11e8_a34b_80ce6220aa9erow5_col4\" class=\"data row5 col4\" >1.08</td> \n",
       "        <td id=\"T_71e375ce_6283_11e8_a34b_80ce6220aa9erow5_col5\" class=\"data row5 col5\" >-1.89</td> \n",
       "    </tr>    <tr> \n",
       "        <th id=\"T_71e375ce_6283_11e8_a34b_80ce6220aa9elevel0_row6\" class=\"row_heading level0 row6\" >U_200_JRA25</th> \n",
       "        <th id=\"T_71e375ce_6283_11e8_a34b_80ce6220aa9elevel1_row6\" class=\"row_heading level1 row6\" >Zonal Wind JRA25</th> \n",
       "        <th id=\"T_71e375ce_6283_11e8_a34b_80ce6220aa9elevel2_row6\" class=\"row_heading level2 row6\" >15.565</th> \n",
       "        <td id=\"T_71e375ce_6283_11e8_a34b_80ce6220aa9erow6_col0\" class=\"data row6 col0\" >1.01</td> \n",
       "        <td id=\"T_71e375ce_6283_11e8_a34b_80ce6220aa9erow6_col1\" class=\"data row6 col1\" >1.82</td> \n",
       "        <td id=\"T_71e375ce_6283_11e8_a34b_80ce6220aa9erow6_col2\" class=\"data row6 col2\" >3.21</td> \n",
       "        <td id=\"T_71e375ce_6283_11e8_a34b_80ce6220aa9erow6_col3\" class=\"data row6 col3\" >3.22</td> \n",
       "        <td id=\"T_71e375ce_6283_11e8_a34b_80ce6220aa9erow6_col4\" class=\"data row6 col4\" >3.34</td> \n",
       "        <td id=\"T_71e375ce_6283_11e8_a34b_80ce6220aa9erow6_col5\" class=\"data row6 col5\" >2.30</td> \n",
       "    </tr>    <tr> \n",
       "        <th id=\"T_71e375ce_6283_11e8_a34b_80ce6220aa9elevel0_row7\" class=\"row_heading level0 row7\" >Z3_500_NCEP</th> \n",
       "        <th id=\"T_71e375ce_6283_11e8_a34b_80ce6220aa9elevel1_row7\" class=\"row_heading level1 row7\" ></th> \n",
       "        <th id=\"T_71e375ce_6283_11e8_a34b_80ce6220aa9elevel2_row7\" class=\"row_heading level2 row7\" >56.581</th> \n",
       "        <td id=\"T_71e375ce_6283_11e8_a34b_80ce6220aa9erow7_col0\" class=\"data row7 col0\" >-0.23</td> \n",
       "        <td id=\"T_71e375ce_6283_11e8_a34b_80ce6220aa9erow7_col1\" class=\"data row7 col1\" >-0.07</td> \n",
       "        <td id=\"T_71e375ce_6283_11e8_a34b_80ce6220aa9erow7_col2\" class=\"data row7 col2\" >0.30</td> \n",
       "        <td id=\"T_71e375ce_6283_11e8_a34b_80ce6220aa9erow7_col3\" class=\"data row7 col3\" >0.34</td> \n",
       "        <td id=\"T_71e375ce_6283_11e8_a34b_80ce6220aa9erow7_col4\" class=\"data row7 col4\" >0.13</td> \n",
       "        <td id=\"T_71e375ce_6283_11e8_a34b_80ce6220aa9erow7_col5\" class=\"data row7 col5\" >0.01</td> \n",
       "    </tr></tbody> \n",
       "</table> "
      ],
      "text/plain": [
       "<pandas.io.formats.style.Styler at 0x7f8c381145f8>"
      ]
     },
     "execution_count": 19,
     "metadata": {},
     "output_type": "execute_result"
    }
   ],
   "source": [
    "from helper_funcs import my_table_display\n",
    "my_table_display(bias)"
   ]
  },
  {
   "cell_type": "code",
   "execution_count": 20,
   "metadata": {
    "extensions": {
     "jupyter_dashboards": {
      "version": 1,
      "views": {
       "grid_default": {
        "col": 0,
        "height": 16,
        "hidden": false,
        "row": 368,
        "width": 7
       },
       "report_default": {
        "hidden": false
       }
      }
     }
    }
   },
   "outputs": [
    {
     "data": {
      "image/png": "[encoded data removed]",
      "text/plain": [
       "<matplotlib.figure.Figure at 0x7f8c38090240>"
      ]
     },
     "metadata": {},
     "output_type": "display_data"
    }
   ],
   "source": [
    "from helper_funcs import df_to_heatmap\n",
    "\n",
    "ax = df_to_heatmap(bias, figsize=(12,6))\n",
    "ax.set_xlabel(\"Variable\", weight=\"bold\")\n",
    "ax.set_ylabel(\"Run\", weight=\"bold\")\n",
    "ax.figure.tight_layout()\n",
    "ax.figure.savefig(os.path.join(output_dir, \"bias_table.png\"))"
   ]
  },
  {
   "cell_type": "markdown",
   "metadata": {
    "extensions": {
     "jupyter_dashboards": {
      "version": 1,
      "views": {
       "grid_default": {
        "col": 7,
        "height": 4,
        "hidden": false,
        "row": 94,
        "width": 4
       },
       "report_default": {
        "hidden": false
       }
      }
     }
    }
   },
   "source": [
    "Now for the typical RMSE error"
   ]
  },
  {
   "cell_type": "code",
   "execution_count": 21,
   "metadata": {
    "extensions": {
     "jupyter_dashboards": {
      "version": 1,
      "views": {
       "grid_default": {
        "col": 0,
        "height": 16,
        "hidden": false,
        "row": 384,
        "width": 7
       },
       "report_default": {
        "hidden": false
       }
      }
     }
    }
   },
   "outputs": [
    {
     "name": "stderr",
     "output_type": "stream",
     "text": [
      "/home/jonasg/anaconda3/lib/python3.6/site-packages/matplotlib/colors.py:489: RuntimeWarning: invalid value encountered in less\n",
      "  np.copyto(xa, -1, where=xa < 0.0)\n"
     ]
    },
    {
     "data": {
      "text/html": [
       "<style  type=\"text/css\" >\n",
       "    #T_725a9384_6283_11e8_a34b_80ce6220aa9erow0_col0 {\n",
       "            background-color:  #eaeaff;\n",
       "            : ;\n",
       "        }    #T_725a9384_6283_11e8_a34b_80ce6220aa9erow0_col1 {\n",
       "            background-color:  #fbfbff;\n",
       "            : ;\n",
       "        }    #T_725a9384_6283_11e8_a34b_80ce6220aa9erow0_col2 {\n",
       "            background-color:  #fff5f5;\n",
       "            : ;\n",
       "        }    #T_725a9384_6283_11e8_a34b_80ce6220aa9erow0_col3 {\n",
       "            background-color:  #fff5f5;\n",
       "            : ;\n",
       "        }    #T_725a9384_6283_11e8_a34b_80ce6220aa9erow0_col4 {\n",
       "            background-color:  #fff5f5;\n",
       "            : ;\n",
       "        }    #T_725a9384_6283_11e8_a34b_80ce6220aa9erow0_col5 {\n",
       "            background-color:  #fefeff;\n",
       "            : ;\n",
       "        }    #T_725a9384_6283_11e8_a34b_80ce6220aa9erow1_col0 {\n",
       "            background-color:  #e8e8ff;\n",
       "            : ;\n",
       "        }    #T_725a9384_6283_11e8_a34b_80ce6220aa9erow1_col1 {\n",
       "            background-color:  #f4f4ff;\n",
       "            : ;\n",
       "        }    #T_725a9384_6283_11e8_a34b_80ce6220aa9erow1_col2 {\n",
       "            background-color:  #fff3f3;\n",
       "            : ;\n",
       "        }    #T_725a9384_6283_11e8_a34b_80ce6220aa9erow1_col3 {\n",
       "            background-color:  #fff1f1;\n",
       "            : ;\n",
       "        }    #T_725a9384_6283_11e8_a34b_80ce6220aa9erow1_col4 {\n",
       "            background-color:  #fff5f5;\n",
       "            : ;\n",
       "        }    #T_725a9384_6283_11e8_a34b_80ce6220aa9erow1_col5 {\n",
       "            background-color:  #fffdfd;\n",
       "            : ;\n",
       "        }    #T_725a9384_6283_11e8_a34b_80ce6220aa9erow2_col0 {\n",
       "            background-color:  #e4e4ff;\n",
       "            : ;\n",
       "        }    #T_725a9384_6283_11e8_a34b_80ce6220aa9erow2_col1 {\n",
       "            background-color:  #f4f4ff;\n",
       "            : ;\n",
       "        }    #T_725a9384_6283_11e8_a34b_80ce6220aa9erow2_col2 {\n",
       "            background-color:  #fff1f1;\n",
       "            : ;\n",
       "        }    #T_725a9384_6283_11e8_a34b_80ce6220aa9erow2_col3 {\n",
       "            background-color:  #ffe4e4;\n",
       "            : ;\n",
       "        }    #T_725a9384_6283_11e8_a34b_80ce6220aa9erow2_col4 {\n",
       "            background-color:  #fff3f3;\n",
       "            : ;\n",
       "        }    #T_725a9384_6283_11e8_a34b_80ce6220aa9erow2_col5 {\n",
       "            background-color:  #f2f2ff;\n",
       "            : ;\n",
       "        }    #T_725a9384_6283_11e8_a34b_80ce6220aa9erow3_col0 {\n",
       "            background-color:  #8787ff;\n",
       "            : ;\n",
       "        }    #T_725a9384_6283_11e8_a34b_80ce6220aa9erow3_col1 {\n",
       "            background-color:  #8383ff;\n",
       "            : ;\n",
       "        }    #T_725a9384_6283_11e8_a34b_80ce6220aa9erow3_col2 {\n",
       "            background-color:  #ff9090;\n",
       "            : ;\n",
       "        }    #T_725a9384_6283_11e8_a34b_80ce6220aa9erow3_col3 {\n",
       "            background-color:  #ff7979;\n",
       "            : ;\n",
       "        }    #T_725a9384_6283_11e8_a34b_80ce6220aa9erow3_col4 {\n",
       "            background-color:  #ffd6d6;\n",
       "            : ;\n",
       "        }    #T_725a9384_6283_11e8_a34b_80ce6220aa9erow3_col5 {\n",
       "            background-color:  #c7c7ff;\n",
       "            : ;\n",
       "        }    #T_725a9384_6283_11e8_a34b_80ce6220aa9erow4_col0 {\n",
       "            background-color:  #0000ff;\n",
       "            background-color:  white;\n",
       "        }    #T_725a9384_6283_11e8_a34b_80ce6220aa9erow4_col1 {\n",
       "            background-color:  #0000ff;\n",
       "            background-color:  white;\n",
       "        }    #T_725a9384_6283_11e8_a34b_80ce6220aa9erow4_col2 {\n",
       "            background-color:  #0000ff;\n",
       "            background-color:  white;\n",
       "        }    #T_725a9384_6283_11e8_a34b_80ce6220aa9erow4_col3 {\n",
       "            background-color:  #0000ff;\n",
       "            background-color:  white;\n",
       "        }    #T_725a9384_6283_11e8_a34b_80ce6220aa9erow4_col4 {\n",
       "            background-color:  #0000ff;\n",
       "            background-color:  white;\n",
       "        }    #T_725a9384_6283_11e8_a34b_80ce6220aa9erow4_col5 {\n",
       "            background-color:  #0000ff;\n",
       "            background-color:  white;\n",
       "        }    #T_725a9384_6283_11e8_a34b_80ce6220aa9erow5_col0 {\n",
       "            background-color:  #fff7f7;\n",
       "            : ;\n",
       "        }    #T_725a9384_6283_11e8_a34b_80ce6220aa9erow5_col1 {\n",
       "            background-color:  #dedeff;\n",
       "            : ;\n",
       "        }    #T_725a9384_6283_11e8_a34b_80ce6220aa9erow5_col2 {\n",
       "            background-color:  #fff5f5;\n",
       "            : ;\n",
       "        }    #T_725a9384_6283_11e8_a34b_80ce6220aa9erow5_col3 {\n",
       "            background-color:  #fff1f1;\n",
       "            : ;\n",
       "        }    #T_725a9384_6283_11e8_a34b_80ce6220aa9erow5_col4 {\n",
       "            background-color:  #fff7f7;\n",
       "            : ;\n",
       "        }    #T_725a9384_6283_11e8_a34b_80ce6220aa9erow5_col5 {\n",
       "            background-color:  #fdfdff;\n",
       "            : ;\n",
       "        }    #T_725a9384_6283_11e8_a34b_80ce6220aa9erow6_col0 {\n",
       "            background-color:  #a8a8ff;\n",
       "            : ;\n",
       "        }    #T_725a9384_6283_11e8_a34b_80ce6220aa9erow6_col1 {\n",
       "            background-color:  #c7c7ff;\n",
       "            : ;\n",
       "        }    #T_725a9384_6283_11e8_a34b_80ce6220aa9erow6_col2 {\n",
       "            background-color:  #ffcbcb;\n",
       "            : ;\n",
       "        }    #T_725a9384_6283_11e8_a34b_80ce6220aa9erow6_col3 {\n",
       "            background-color:  #ffc9c9;\n",
       "            : ;\n",
       "        }    #T_725a9384_6283_11e8_a34b_80ce6220aa9erow6_col4 {\n",
       "            background-color:  #ffcbcb;\n",
       "            : ;\n",
       "        }    #T_725a9384_6283_11e8_a34b_80ce6220aa9erow6_col5 {\n",
       "            background-color:  #ececff;\n",
       "            : ;\n",
       "        }    #T_725a9384_6283_11e8_a34b_80ce6220aa9erow7_col0 {\n",
       "            background-color:  #e4e4ff;\n",
       "            : ;\n",
       "        }    #T_725a9384_6283_11e8_a34b_80ce6220aa9erow7_col1 {\n",
       "            background-color:  #8f8fff;\n",
       "            : ;\n",
       "        }    #T_725a9384_6283_11e8_a34b_80ce6220aa9erow7_col2 {\n",
       "            background-color:  #ffa9a9;\n",
       "            : ;\n",
       "        }    #T_725a9384_6283_11e8_a34b_80ce6220aa9erow7_col3 {\n",
       "            background-color:  #ff8c8c;\n",
       "            : ;\n",
       "        }    #T_725a9384_6283_11e8_a34b_80ce6220aa9erow7_col4 {\n",
       "            background-color:  #ffe2e2;\n",
       "            : ;\n",
       "        }    #T_725a9384_6283_11e8_a34b_80ce6220aa9erow7_col5 {\n",
       "            background-color:  #9d9dff;\n",
       "            : ;\n",
       "        }</style>  \n",
       "<table id=\"T_725a9384_6283_11e8_a34b_80ce6220aa9e\" > \n",
       "<thead>    <tr> \n",
       "        <th class=\"blank\" ></th> \n",
       "        <th class=\"blank\" ></th> \n",
       "        <th class=\"index_name level0\" >Run</th> \n",
       "        <th class=\"col_heading level0 col0\" >A</th> \n",
       "        <th class=\"col_heading level0 col1\" >B</th> \n",
       "        <th class=\"col_heading level0 col2\" colspan=3>C</th> \n",
       "        <th class=\"col_heading level0 col5\" >D</th> \n",
       "    </tr>    <tr> \n",
       "        <th class=\"blank\" ></th> \n",
       "        <th class=\"blank\" ></th> \n",
       "        <th class=\"index_name level1\" >Years</th> \n",
       "        <th class=\"col_heading level1 col0\" >71-100</th> \n",
       "        <th class=\"col_heading level1 col1\" >1-20</th> \n",
       "        <th class=\"col_heading level1 col2\" >185-215</th> \n",
       "        <th class=\"col_heading level1 col3\" >310-340</th> \n",
       "        <th class=\"col_heading level1 col4\" >80-110</th> \n",
       "        <th class=\"col_heading level1 col5\" >90-120</th> \n",
       "    </tr>    <tr> \n",
       "        <th class=\"index_name level0\" >Variable</th> \n",
       "        <th class=\"index_name level1\" >Description</th> \n",
       "        <th class=\"index_name level2\" >Obs</th> \n",
       "        <th class=\"blank\" ></th> \n",
       "        <th class=\"blank\" ></th> \n",
       "        <th class=\"blank\" ></th> \n",
       "        <th class=\"blank\" ></th> \n",
       "        <th class=\"blank\" ></th> \n",
       "        <th class=\"blank\" ></th> \n",
       "    </tr></thead> \n",
       "<tbody>    <tr> \n",
       "        <th id=\"T_725a9384_6283_11e8_a34b_80ce6220aa9elevel0_row0\" class=\"row_heading level0 row0\" >CLDTOT_CLOUDSAT</th> \n",
       "        <th id=\"T_725a9384_6283_11e8_a34b_80ce6220aa9elevel1_row0\" class=\"row_heading level1 row0\" ></th> \n",
       "        <th id=\"T_725a9384_6283_11e8_a34b_80ce6220aa9elevel2_row0\" class=\"row_heading level2 row0\" >66.824</th> \n",
       "        <td id=\"T_725a9384_6283_11e8_a34b_80ce6220aa9erow0_col0\" class=\"data row0 col0\" >-0.08</td> \n",
       "        <td id=\"T_725a9384_6283_11e8_a34b_80ce6220aa9erow0_col1\" class=\"data row0 col1\" >-0.02</td> \n",
       "        <td id=\"T_725a9384_6283_11e8_a34b_80ce6220aa9erow0_col2\" class=\"data row0 col2\" >0.03</td> \n",
       "        <td id=\"T_725a9384_6283_11e8_a34b_80ce6220aa9erow0_col3\" class=\"data row0 col3\" >0.04</td> \n",
       "        <td id=\"T_725a9384_6283_11e8_a34b_80ce6220aa9erow0_col4\" class=\"data row0 col4\" >0.03</td> \n",
       "        <td id=\"T_725a9384_6283_11e8_a34b_80ce6220aa9erow0_col5\" class=\"data row0 col5\" >-0.00</td> \n",
       "    </tr>    <tr> \n",
       "        <th id=\"T_725a9384_6283_11e8_a34b_80ce6220aa9elevel0_row1\" class=\"row_heading level0 row1\" >CLDTOT_ISCCP</th> \n",
       "        <th id=\"T_725a9384_6283_11e8_a34b_80ce6220aa9elevel1_row1\" class=\"row_heading level1 row1\" >Total cloud cover</th> \n",
       "        <th id=\"T_725a9384_6283_11e8_a34b_80ce6220aa9elevel2_row1\" class=\"row_heading level2 row1\" >66.8</th> \n",
       "        <td id=\"T_725a9384_6283_11e8_a34b_80ce6220aa9erow1_col0\" class=\"data row1 col0\" >-0.09</td> \n",
       "        <td id=\"T_725a9384_6283_11e8_a34b_80ce6220aa9erow1_col1\" class=\"data row1 col1\" >-0.04</td> \n",
       "        <td id=\"T_725a9384_6283_11e8_a34b_80ce6220aa9erow1_col2\" class=\"data row1 col2\" >0.04</td> \n",
       "        <td id=\"T_725a9384_6283_11e8_a34b_80ce6220aa9erow1_col3\" class=\"data row1 col3\" >0.05</td> \n",
       "        <td id=\"T_725a9384_6283_11e8_a34b_80ce6220aa9erow1_col4\" class=\"data row1 col4\" >0.03</td> \n",
       "        <td id=\"T_725a9384_6283_11e8_a34b_80ce6220aa9erow1_col5\" class=\"data row1 col5\" >0.00</td> \n",
       "    </tr>    <tr> \n",
       "        <th id=\"T_725a9384_6283_11e8_a34b_80ce6220aa9elevel0_row2\" class=\"row_heading level0 row2\" >FLDS_ISCCP</th> \n",
       "        <th id=\"T_725a9384_6283_11e8_a34b_80ce6220aa9elevel1_row2\" class=\"row_heading level1 row2\" >LW down SRF</th> \n",
       "        <th id=\"T_725a9384_6283_11e8_a34b_80ce6220aa9elevel2_row2\" class=\"row_heading level2 row2\" >343.347</th> \n",
       "        <td id=\"T_725a9384_6283_11e8_a34b_80ce6220aa9erow2_col0\" class=\"data row2 col0\" >-0.10</td> \n",
       "        <td id=\"T_725a9384_6283_11e8_a34b_80ce6220aa9erow2_col1\" class=\"data row2 col1\" >-0.04</td> \n",
       "        <td id=\"T_725a9384_6283_11e8_a34b_80ce6220aa9erow2_col2\" class=\"data row2 col2\" >0.05</td> \n",
       "        <td id=\"T_725a9384_6283_11e8_a34b_80ce6220aa9erow2_col3\" class=\"data row2 col3\" >0.10</td> \n",
       "        <td id=\"T_725a9384_6283_11e8_a34b_80ce6220aa9erow2_col4\" class=\"data row2 col4\" >0.04</td> \n",
       "        <td id=\"T_725a9384_6283_11e8_a34b_80ce6220aa9erow2_col5\" class=\"data row2 col5\" >-0.05</td> \n",
       "    </tr>    <tr> \n",
       "        <th id=\"T_725a9384_6283_11e8_a34b_80ce6220aa9elevel0_row3\" class=\"row_heading level0 row3\" >PREH2O_ERAI</th> \n",
       "        <th id=\"T_725a9384_6283_11e8_a34b_80ce6220aa9elevel1_row3\" class=\"row_heading level1 row3\" ></th> \n",
       "        <th id=\"T_725a9384_6283_11e8_a34b_80ce6220aa9elevel2_row3\" class=\"row_heading level2 row3\" >24.247</th> \n",
       "        <td id=\"T_725a9384_6283_11e8_a34b_80ce6220aa9erow3_col0\" class=\"data row3 col0\" >-0.44</td> \n",
       "        <td id=\"T_725a9384_6283_11e8_a34b_80ce6220aa9erow3_col1\" class=\"data row3 col1\" >-0.46</td> \n",
       "        <td id=\"T_725a9384_6283_11e8_a34b_80ce6220aa9erow3_col2\" class=\"data row3 col2\" >0.43</td> \n",
       "        <td id=\"T_725a9384_6283_11e8_a34b_80ce6220aa9erow3_col3\" class=\"data row3 col3\" >0.52</td> \n",
       "        <td id=\"T_725a9384_6283_11e8_a34b_80ce6220aa9erow3_col4\" class=\"data row3 col4\" >0.16</td> \n",
       "        <td id=\"T_725a9384_6283_11e8_a34b_80ce6220aa9erow3_col5\" class=\"data row3 col5\" >-0.21</td> \n",
       "    </tr>    <tr> \n",
       "        <th id=\"T_725a9384_6283_11e8_a34b_80ce6220aa9elevel0_row4\" class=\"row_heading level0 row4\" >RESTOM</th> \n",
       "        <th id=\"T_725a9384_6283_11e8_a34b_80ce6220aa9elevel1_row4\" class=\"row_heading level1 row4\" >TOmodel net flux</th> \n",
       "        <th id=\"T_725a9384_6283_11e8_a34b_80ce6220aa9elevel2_row4\" class=\"row_heading level2 row4\" >0.0</th> \n",
       "        <td id=\"T_725a9384_6283_11e8_a34b_80ce6220aa9erow4_col0\" class=\"data row4 col0\" >nan</td> \n",
       "        <td id=\"T_725a9384_6283_11e8_a34b_80ce6220aa9erow4_col1\" class=\"data row4 col1\" >nan</td> \n",
       "        <td id=\"T_725a9384_6283_11e8_a34b_80ce6220aa9erow4_col2\" class=\"data row4 col2\" >nan</td> \n",
       "        <td id=\"T_725a9384_6283_11e8_a34b_80ce6220aa9erow4_col3\" class=\"data row4 col3\" >nan</td> \n",
       "        <td id=\"T_725a9384_6283_11e8_a34b_80ce6220aa9erow4_col4\" class=\"data row4 col4\" >nan</td> \n",
       "        <td id=\"T_725a9384_6283_11e8_a34b_80ce6220aa9erow4_col5\" class=\"data row4 col5\" >nan</td> \n",
       "    </tr>    <tr> \n",
       "        <th id=\"T_725a9384_6283_11e8_a34b_80ce6220aa9elevel0_row5\" class=\"row_heading level0 row5\" >SWCF_CERES-EBAF</th> \n",
       "        <th id=\"T_725a9384_6283_11e8_a34b_80ce6220aa9elevel1_row5\" class=\"row_heading level1 row5\" >SW Cloud Forc</th> \n",
       "        <th id=\"T_725a9384_6283_11e8_a34b_80ce6220aa9elevel2_row5\" class=\"row_heading level2 row5\" >-47.071</th> \n",
       "        <td id=\"T_725a9384_6283_11e8_a34b_80ce6220aa9erow5_col0\" class=\"data row5 col0\" >0.02</td> \n",
       "        <td id=\"T_725a9384_6283_11e8_a34b_80ce6220aa9erow5_col1\" class=\"data row5 col1\" >-0.12</td> \n",
       "        <td id=\"T_725a9384_6283_11e8_a34b_80ce6220aa9erow5_col2\" class=\"data row5 col2\" >0.04</td> \n",
       "        <td id=\"T_725a9384_6283_11e8_a34b_80ce6220aa9erow5_col3\" class=\"data row5 col3\" >0.05</td> \n",
       "        <td id=\"T_725a9384_6283_11e8_a34b_80ce6220aa9erow5_col4\" class=\"data row5 col4\" >0.03</td> \n",
       "        <td id=\"T_725a9384_6283_11e8_a34b_80ce6220aa9erow5_col5\" class=\"data row5 col5\" >-0.01</td> \n",
       "    </tr>    <tr> \n",
       "        <th id=\"T_725a9384_6283_11e8_a34b_80ce6220aa9elevel0_row6\" class=\"row_heading level0 row6\" >U_200_JRA25</th> \n",
       "        <th id=\"T_725a9384_6283_11e8_a34b_80ce6220aa9elevel1_row6\" class=\"row_heading level1 row6\" >Zonal Wind JRA25</th> \n",
       "        <th id=\"T_725a9384_6283_11e8_a34b_80ce6220aa9elevel2_row6\" class=\"row_heading level2 row6\" >15.565</th> \n",
       "        <td id=\"T_725a9384_6283_11e8_a34b_80ce6220aa9erow6_col0\" class=\"data row6 col0\" >-0.32</td> \n",
       "        <td id=\"T_725a9384_6283_11e8_a34b_80ce6220aa9erow6_col1\" class=\"data row6 col1\" >-0.21</td> \n",
       "        <td id=\"T_725a9384_6283_11e8_a34b_80ce6220aa9erow6_col2\" class=\"data row6 col2\" >0.20</td> \n",
       "        <td id=\"T_725a9384_6283_11e8_a34b_80ce6220aa9erow6_col3\" class=\"data row6 col3\" >0.20</td> \n",
       "        <td id=\"T_725a9384_6283_11e8_a34b_80ce6220aa9erow6_col4\" class=\"data row6 col4\" >0.20</td> \n",
       "        <td id=\"T_725a9384_6283_11e8_a34b_80ce6220aa9erow6_col5\" class=\"data row6 col5\" >-0.07</td> \n",
       "    </tr>    <tr> \n",
       "        <th id=\"T_725a9384_6283_11e8_a34b_80ce6220aa9elevel0_row7\" class=\"row_heading level0 row7\" >Z3_500_NCEP</th> \n",
       "        <th id=\"T_725a9384_6283_11e8_a34b_80ce6220aa9elevel1_row7\" class=\"row_heading level1 row7\" ></th> \n",
       "        <th id=\"T_725a9384_6283_11e8_a34b_80ce6220aa9elevel2_row7\" class=\"row_heading level2 row7\" >56.581</th> \n",
       "        <td id=\"T_725a9384_6283_11e8_a34b_80ce6220aa9erow7_col0\" class=\"data row7 col0\" >-0.11</td> \n",
       "        <td id=\"T_725a9384_6283_11e8_a34b_80ce6220aa9erow7_col1\" class=\"data row7 col1\" >-0.41</td> \n",
       "        <td id=\"T_725a9384_6283_11e8_a34b_80ce6220aa9erow7_col2\" class=\"data row7 col2\" >0.33</td> \n",
       "        <td id=\"T_725a9384_6283_11e8_a34b_80ce6220aa9erow7_col3\" class=\"data row7 col3\" >0.44</td> \n",
       "        <td id=\"T_725a9384_6283_11e8_a34b_80ce6220aa9erow7_col4\" class=\"data row7 col4\" >0.11</td> \n",
       "        <td id=\"T_725a9384_6283_11e8_a34b_80ce6220aa9erow7_col5\" class=\"data row7 col5\" >-0.36</td> \n",
       "    </tr></tbody> \n",
       "</table> "
      ],
      "text/plain": [
       "<pandas.io.formats.style.Styler at 0x7f8c3810c358>"
      ]
     },
     "execution_count": 21,
     "metadata": {},
     "output_type": "execute_result"
    }
   ],
   "source": [
    "my_table_display(rmse_err_rel)"
   ]
  },
  {
   "cell_type": "markdown",
   "metadata": {
    "extensions": {
     "jupyter_dashboards": {
      "version": 1,
      "views": {
       "grid_default": {
        "col": 0,
        "height": 4,
        "hidden": false,
        "row": 400,
        "width": 12
       },
       "report_default": {
        "hidden": false
       }
      }
     }
    }
   },
   "source": [
    "### 7. Concatenate and save results (Bias and typical RMSE) as table (EXPORT)\n",
    "\n",
    "In the following, the two result tables ``bias_table`` and ``typical_rmse`` are merged into one result table and then saved both as excel table and as csv file."
   ]
  },
  {
   "cell_type": "code",
   "execution_count": 22,
   "metadata": {
    "extensions": {
     "jupyter_dashboards": {
      "version": 1,
      "views": {
       "grid_default": {
        "col": 0,
        "height": 17,
        "hidden": false,
        "row": 404,
        "width": 11
       },
       "report_default": {
        "hidden": false
       }
      }
     }
    }
   },
   "outputs": [
    {
     "data": {
      "text/html": [
       "<div>\n",
       "<style scoped>\n",
       "    .dataframe tbody tr th:only-of-type {\n",
       "        vertical-align: middle;\n",
       "    }\n",
       "\n",
       "    .dataframe tbody tr th {\n",
       "        vertical-align: top;\n",
       "    }\n",
       "\n",
       "    .dataframe thead tr th {\n",
       "        text-align: left;\n",
       "    }\n",
       "\n",
       "    .dataframe thead tr:last-of-type th {\n",
       "        text-align: right;\n",
       "    }\n",
       "</style>\n",
       "<table border=\"1\" class=\"dataframe\">\n",
       "  <thead>\n",
       "    <tr>\n",
       "      <th></th>\n",
       "      <th></th>\n",
       "      <th></th>\n",
       "      <th colspan=\"6\" halign=\"left\">Bias</th>\n",
       "      <th colspan=\"6\" halign=\"left\">RMSE relative Error</th>\n",
       "    </tr>\n",
       "    <tr>\n",
       "      <th></th>\n",
       "      <th></th>\n",
       "      <th>Run</th>\n",
       "      <th>A</th>\n",
       "      <th>B</th>\n",
       "      <th colspan=\"3\" halign=\"left\">C</th>\n",
       "      <th>D</th>\n",
       "      <th>A</th>\n",
       "      <th>B</th>\n",
       "      <th colspan=\"3\" halign=\"left\">C</th>\n",
       "      <th>D</th>\n",
       "    </tr>\n",
       "    <tr>\n",
       "      <th></th>\n",
       "      <th></th>\n",
       "      <th>Years</th>\n",
       "      <th>71-100</th>\n",
       "      <th>1-20</th>\n",
       "      <th>185-215</th>\n",
       "      <th>310-340</th>\n",
       "      <th>80-110</th>\n",
       "      <th>90-120</th>\n",
       "      <th>71-100</th>\n",
       "      <th>1-20</th>\n",
       "      <th>185-215</th>\n",
       "      <th>310-340</th>\n",
       "      <th>80-110</th>\n",
       "      <th>90-120</th>\n",
       "    </tr>\n",
       "    <tr>\n",
       "      <th>Variable</th>\n",
       "      <th>Description</th>\n",
       "      <th>Obs</th>\n",
       "      <th></th>\n",
       "      <th></th>\n",
       "      <th></th>\n",
       "      <th></th>\n",
       "      <th></th>\n",
       "      <th></th>\n",
       "      <th></th>\n",
       "      <th></th>\n",
       "      <th></th>\n",
       "      <th></th>\n",
       "      <th></th>\n",
       "      <th></th>\n",
       "    </tr>\n",
       "  </thead>\n",
       "  <tbody>\n",
       "    <tr>\n",
       "      <th>CLDTOT_CLOUDSAT</th>\n",
       "      <th></th>\n",
       "      <th>66.824</th>\n",
       "      <td>-3.203</td>\n",
       "      <td>1.762</td>\n",
       "      <td>1.720</td>\n",
       "      <td>1.411</td>\n",
       "      <td>2.133</td>\n",
       "      <td>3.923</td>\n",
       "      <td>-0.079172</td>\n",
       "      <td>-0.017569</td>\n",
       "      <td>0.030123</td>\n",
       "      <td>0.036369</td>\n",
       "      <td>0.030880</td>\n",
       "      <td>-0.000631</td>\n",
       "    </tr>\n",
       "    <tr>\n",
       "      <th>CLDTOT_ISCCP</th>\n",
       "      <th>Total cloud cover</th>\n",
       "      <th>66.800</th>\n",
       "      <td>-3.179</td>\n",
       "      <td>1.786</td>\n",
       "      <td>1.744</td>\n",
       "      <td>1.435</td>\n",
       "      <td>2.157</td>\n",
       "      <td>3.947</td>\n",
       "      <td>-0.089645</td>\n",
       "      <td>-0.044782</td>\n",
       "      <td>0.044541</td>\n",
       "      <td>0.051455</td>\n",
       "      <td>0.034652</td>\n",
       "      <td>0.003779</td>\n",
       "    </tr>\n",
       "    <tr>\n",
       "      <th>FLDS_ISCCP</th>\n",
       "      <th>LW down SRF</th>\n",
       "      <th>343.347</th>\n",
       "      <td>-5.066</td>\n",
       "      <td>-1.799</td>\n",
       "      <td>10.514</td>\n",
       "      <td>11.499</td>\n",
       "      <td>5.162</td>\n",
       "      <td>4.507</td>\n",
       "      <td>-0.100193</td>\n",
       "      <td>-0.044087</td>\n",
       "      <td>0.051809</td>\n",
       "      <td>0.099944</td>\n",
       "      <td>0.041161</td>\n",
       "      <td>-0.048633</td>\n",
       "    </tr>\n",
       "    <tr>\n",
       "      <th>PREH2O_ERAI</th>\n",
       "      <th></th>\n",
       "      <th>24.247</th>\n",
       "      <td>-0.273</td>\n",
       "      <td>0.191</td>\n",
       "      <td>3.844</td>\n",
       "      <td>4.138</td>\n",
       "      <td>2.624</td>\n",
       "      <td>1.486</td>\n",
       "      <td>-0.441220</td>\n",
       "      <td>-0.455730</td>\n",
       "      <td>0.432040</td>\n",
       "      <td>0.515546</td>\n",
       "      <td>0.157536</td>\n",
       "      <td>-0.208173</td>\n",
       "    </tr>\n",
       "    <tr>\n",
       "      <th>RESTOM</th>\n",
       "      <th>TOmodel net flux</th>\n",
       "      <th>0.000</th>\n",
       "      <td>-0.489</td>\n",
       "      <td>0.987</td>\n",
       "      <td>0.468</td>\n",
       "      <td>0.327</td>\n",
       "      <td>0.647</td>\n",
       "      <td>-0.075</td>\n",
       "      <td>NaN</td>\n",
       "      <td>NaN</td>\n",
       "      <td>NaN</td>\n",
       "      <td>NaN</td>\n",
       "      <td>NaN</td>\n",
       "      <td>NaN</td>\n",
       "    </tr>\n",
       "    <tr>\n",
       "      <th>SWCF_CERES-EBAF</th>\n",
       "      <th>SW Cloud Forc</th>\n",
       "      <th>-47.071</th>\n",
       "      <td>-1.252</td>\n",
       "      <td>1.774</td>\n",
       "      <td>1.266</td>\n",
       "      <td>1.466</td>\n",
       "      <td>1.083</td>\n",
       "      <td>-1.888</td>\n",
       "      <td>0.022955</td>\n",
       "      <td>-0.122700</td>\n",
       "      <td>0.035142</td>\n",
       "      <td>0.046636</td>\n",
       "      <td>0.029792</td>\n",
       "      <td>-0.011824</td>\n",
       "    </tr>\n",
       "    <tr>\n",
       "      <th>U_200_JRA25</th>\n",
       "      <th>Zonal Wind JRA25</th>\n",
       "      <th>15.565</th>\n",
       "      <td>1.006</td>\n",
       "      <td>1.825</td>\n",
       "      <td>3.209</td>\n",
       "      <td>3.218</td>\n",
       "      <td>3.340</td>\n",
       "      <td>2.304</td>\n",
       "      <td>-0.322835</td>\n",
       "      <td>-0.209790</td>\n",
       "      <td>0.200831</td>\n",
       "      <td>0.204710</td>\n",
       "      <td>0.201108</td>\n",
       "      <td>-0.074024</td>\n",
       "    </tr>\n",
       "    <tr>\n",
       "      <th>Z3_500_NCEP</th>\n",
       "      <th></th>\n",
       "      <th>56.581</th>\n",
       "      <td>-0.234</td>\n",
       "      <td>-0.070</td>\n",
       "      <td>0.298</td>\n",
       "      <td>0.336</td>\n",
       "      <td>0.133</td>\n",
       "      <td>0.005</td>\n",
       "      <td>-0.105442</td>\n",
       "      <td>-0.414966</td>\n",
       "      <td>0.329932</td>\n",
       "      <td>0.442177</td>\n",
       "      <td>0.112245</td>\n",
       "      <td>-0.363946</td>\n",
       "    </tr>\n",
       "  </tbody>\n",
       "</table>\n",
       "</div>"
      ],
      "text/plain": [
       "                                             Bias                         \\\n",
       "Run                                             A      B       C           \n",
       "Years                                      71-100   1-20 185-215 310-340   \n",
       "Variable        Description       Obs                                      \n",
       "CLDTOT_CLOUDSAT                    66.824  -3.203  1.762   1.720   1.411   \n",
       "CLDTOT_ISCCP    Total cloud cover  66.800  -3.179  1.786   1.744   1.435   \n",
       "FLDS_ISCCP      LW down SRF        343.347 -5.066 -1.799  10.514  11.499   \n",
       "PREH2O_ERAI                        24.247  -0.273  0.191   3.844   4.138   \n",
       "RESTOM          TOmodel net flux   0.000   -0.489  0.987   0.468   0.327   \n",
       "SWCF_CERES-EBAF SW Cloud Forc     -47.071  -1.252  1.774   1.266   1.466   \n",
       "U_200_JRA25     Zonal Wind JRA25   15.565   1.006  1.825   3.209   3.218   \n",
       "Z3_500_NCEP                        56.581  -0.234 -0.070   0.298   0.336   \n",
       "\n",
       "                                                         RMSE relative Error  \\\n",
       "Run                                                    D                   A   \n",
       "Years                                      80-110 90-120              71-100   \n",
       "Variable        Description       Obs                                          \n",
       "CLDTOT_CLOUDSAT                    66.824   2.133  3.923           -0.079172   \n",
       "CLDTOT_ISCCP    Total cloud cover  66.800   2.157  3.947           -0.089645   \n",
       "FLDS_ISCCP      LW down SRF        343.347  5.162  4.507           -0.100193   \n",
       "PREH2O_ERAI                        24.247   2.624  1.486           -0.441220   \n",
       "RESTOM          TOmodel net flux   0.000    0.647 -0.075                 NaN   \n",
       "SWCF_CERES-EBAF SW Cloud Forc     -47.071   1.083 -1.888            0.022955   \n",
       "U_200_JRA25     Zonal Wind JRA25   15.565   3.340  2.304           -0.322835   \n",
       "Z3_500_NCEP                        56.581   0.133  0.005           -0.105442   \n",
       "\n",
       "                                                                          \\\n",
       "Run                                                B         C             \n",
       "Years                                           1-20   185-215   310-340   \n",
       "Variable        Description       Obs                                      \n",
       "CLDTOT_CLOUDSAT                    66.824  -0.017569  0.030123  0.036369   \n",
       "CLDTOT_ISCCP    Total cloud cover  66.800  -0.044782  0.044541  0.051455   \n",
       "FLDS_ISCCP      LW down SRF        343.347 -0.044087  0.051809  0.099944   \n",
       "PREH2O_ERAI                        24.247  -0.455730  0.432040  0.515546   \n",
       "RESTOM          TOmodel net flux   0.000         NaN       NaN       NaN   \n",
       "SWCF_CERES-EBAF SW Cloud Forc     -47.071  -0.122700  0.035142  0.046636   \n",
       "U_200_JRA25     Zonal Wind JRA25   15.565  -0.209790  0.200831  0.204710   \n",
       "Z3_500_NCEP                        56.581  -0.414966  0.329932  0.442177   \n",
       "\n",
       "                                                                \n",
       "Run                                                          D  \n",
       "Years                                         80-110    90-120  \n",
       "Variable        Description       Obs                           \n",
       "CLDTOT_CLOUDSAT                    66.824   0.030880 -0.000631  \n",
       "CLDTOT_ISCCP    Total cloud cover  66.800   0.034652  0.003779  \n",
       "FLDS_ISCCP      LW down SRF        343.347  0.041161 -0.048633  \n",
       "PREH2O_ERAI                        24.247   0.157536 -0.208173  \n",
       "RESTOM          TOmodel net flux   0.000         NaN       NaN  \n",
       "SWCF_CERES-EBAF SW Cloud Forc     -47.071   0.029792 -0.011824  \n",
       "U_200_JRA25     Zonal Wind JRA25   15.565   0.201108 -0.074024  \n",
       "Z3_500_NCEP                        56.581   0.112245 -0.363946  "
      ]
     },
     "execution_count": 22,
     "metadata": {},
     "output_type": "execute_result"
    }
   ],
   "source": [
    "result = pd.concat([bias, rmse_err_rel],axis=1, keys=[\"Bias\", \"RMSE relative Error\"])\n",
    "result"
   ]
  },
  {
   "cell_type": "markdown",
   "metadata": {
    "extensions": {
     "jupyter_dashboards": {
      "version": 1,
      "views": {
       "grid_default": {
        "col": 7,
        "height": 4,
        "hidden": false,
        "row": 98,
        "width": 4
       },
       "report_default": {
        "hidden": false
       }
      }
     }
    }
   },
   "source": [
    "Now save both tables as excel file."
   ]
  },
  {
   "cell_type": "code",
   "execution_count": 23,
   "metadata": {
    "extensions": {
     "jupyter_dashboards": {
      "version": 1,
      "views": {
       "grid_default": {
        "hidden": true
       },
       "report_default": {
        "hidden": true
       }
      }
     }
    }
   },
   "outputs": [],
   "source": [
    "writer = pd.ExcelWriter('{}/result.xlsx'.format(output_dir))\n",
    "result.to_excel(writer)\n",
    "writer.save()\n",
    "writer.close()"
   ]
  }
 ],
 "metadata": {
  "extensions": {
   "jupyter_dashboards": {
    "activeView": "grid_default",
    "version": 1,
    "views": {
     "grid_default": {
      "cellMargin": 10,
      "defaultCellHeight": 20,
      "maxColumns": 12,
      "name": "grid",
      "type": "grid"
     },
     "report_default": {
      "name": "report",
      "type": "report"
     }
    }
   }
  },
  "kernelspec": {
   "display_name": "Python 3",
   "language": "python",
   "name": "python3"
  },
  "language_info": {
   "codemirror_mode": {
    "name": "ipython",
    "version": 3
   },
   "file_extension": ".py",
   "mimetype": "text/x-python",
   "name": "python",
   "nbconvert_exporter": "python",
   "pygments_lexer": "ipython3",
   "version": "3.6.4"
  }
 },
 "nbformat": 4,
 "nbformat_minor": 2
}
